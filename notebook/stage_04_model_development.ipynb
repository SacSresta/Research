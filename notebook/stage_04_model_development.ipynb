{
 "cells": [
  {
   "cell_type": "code",
   "execution_count": 1,
   "metadata": {},
   "outputs": [],
   "source": [
    "import pandas as pd\n",
    "import numpy as np\n",
    "import matplotlib.pyplot as plt\n",
    "import seaborn as sns\n",
    "import plotly.graph_objects as go\n",
    "import statsmodels.api as sm\n",
    "from statsmodels.formula.api import ols\n",
    "np.NaN = np.nan\n",
    "import pandas_ta as ta\n",
    "from data_pipeline.stage_01.historical_data import supertrend"
   ]
  },
  {
   "cell_type": "code",
   "execution_count": 2,
   "metadata": {},
   "outputs": [],
   "source": [
    "df = pd.read_csv('/home/sacsresta/Documents/RESEARCH/Project/sentiment_categorical/merged_data_AAPL_from_2015-01-01_to_2025-03-01.csv')"
   ]
  },
  {
   "cell_type": "code",
   "execution_count": null,
   "metadata": {},
   "outputs": [],
   "source": []
  },
  {
   "cell_type": "code",
   "execution_count": 3,
   "metadata": {},
   "outputs": [],
   "source": [
    "df.drop(columns=['Ticker','headline'], inplace = True)"
   ]
  },
  {
   "cell_type": "code",
   "execution_count": 5,
   "metadata": {},
   "outputs": [],
   "source": [
    "df = supertrend(df)"
   ]
  },
  {
   "cell_type": "code",
   "execution_count": 31,
   "metadata": {},
   "outputs": [],
   "source": [
    "df['shifted_direction'] = df.Direction.shift(-1)\n",
    "df.dropna(subset=['shifted_direction'],inplace = True)\n",
    "df['shifted_direction'] =df['shifted_direction'].astype(int)"
   ]
  },
  {
   "cell_type": "code",
   "execution_count": 32,
   "metadata": {},
   "outputs": [
    {
     "data": {
      "text/plain": [
       "Index(['Date', 'Adj Close', 'Close', 'High', 'Low', 'Open', 'Volume',\n",
       "       'sentiment_score', 'sentiment_class', 'Supertrend', 'Direction',\n",
       "       'UpperBand', 'LowerBand', 'Uptrend', 'Downtrend', 'shifted_direction'],\n",
       "      dtype='object')"
      ]
     },
     "execution_count": 32,
     "metadata": {},
     "output_type": "execute_result"
    }
   ],
   "source": [
    "df.columns"
   ]
  },
  {
   "cell_type": "code",
   "execution_count": 93,
   "metadata": {},
   "outputs": [],
   "source": [
    "data = df[['Date', 'Close', 'High', 'Low', 'Open', 'Volume',\n",
    "       'sentiment_score', 'Supertrend','Direction','shifted_direction','Uptrend', 'Downtrend',]]"
   ]
  },
  {
   "cell_type": "markdown",
   "metadata": {},
   "source": [
    "# Lets backtest before building model to check"
   ]
  },
  {
   "cell_type": "code",
   "execution_count": null,
   "metadata": {},
   "outputs": [],
   "source": []
  },
  {
   "cell_type": "code",
   "execution_count": 40,
   "metadata": {},
   "outputs": [],
   "source": [
    "def get_direction_values():\n",
    "    return data.Direction.values\n"
   ]
  },
  {
   "cell_type": "code",
   "execution_count": 41,
   "metadata": {},
   "outputs": [
    {
     "data": {
      "text/plain": [
       "array([0, 1, 1, ..., 1, 1, 1])"
      ]
     },
     "execution_count": 41,
     "metadata": {},
     "output_type": "execute_result"
    }
   ],
   "source": [
    "get_direction_values()"
   ]
  },
  {
   "cell_type": "code",
   "execution_count": 94,
   "metadata": {},
   "outputs": [
    {
     "data": {
      "text/html": [
       "<div>\n",
       "<style scoped>\n",
       "    .dataframe tbody tr th:only-of-type {\n",
       "        vertical-align: middle;\n",
       "    }\n",
       "\n",
       "    .dataframe tbody tr th {\n",
       "        vertical-align: top;\n",
       "    }\n",
       "\n",
       "    .dataframe thead th {\n",
       "        text-align: right;\n",
       "    }\n",
       "</style>\n",
       "<table border=\"1\" class=\"dataframe\">\n",
       "  <thead>\n",
       "    <tr style=\"text-align: right;\">\n",
       "      <th></th>\n",
       "      <th>Date</th>\n",
       "      <th>Close</th>\n",
       "      <th>High</th>\n",
       "      <th>Low</th>\n",
       "      <th>Open</th>\n",
       "      <th>Volume</th>\n",
       "      <th>sentiment_score</th>\n",
       "      <th>Supertrend</th>\n",
       "      <th>Direction</th>\n",
       "      <th>shifted_direction</th>\n",
       "      <th>Uptrend</th>\n",
       "      <th>Downtrend</th>\n",
       "    </tr>\n",
       "  </thead>\n",
       "  <tbody>\n",
       "    <tr>\n",
       "      <th>0</th>\n",
       "      <td>2015-01-02</td>\n",
       "      <td>27.332500</td>\n",
       "      <td>27.860001</td>\n",
       "      <td>26.837500</td>\n",
       "      <td>27.847500</td>\n",
       "      <td>212818400</td>\n",
       "      <td>-0.357845</td>\n",
       "      <td>0.000000</td>\n",
       "      <td>0</td>\n",
       "      <td>1</td>\n",
       "      <td>NaN</td>\n",
       "      <td>NaN</td>\n",
       "    </tr>\n",
       "    <tr>\n",
       "      <th>1</th>\n",
       "      <td>2015-01-05</td>\n",
       "      <td>26.562500</td>\n",
       "      <td>27.162500</td>\n",
       "      <td>26.352501</td>\n",
       "      <td>27.072500</td>\n",
       "      <td>257142000</td>\n",
       "      <td>-0.017792</td>\n",
       "      <td>0.000000</td>\n",
       "      <td>1</td>\n",
       "      <td>1</td>\n",
       "      <td>0.000000</td>\n",
       "      <td>NaN</td>\n",
       "    </tr>\n",
       "    <tr>\n",
       "      <th>2</th>\n",
       "      <td>2015-01-06</td>\n",
       "      <td>26.565001</td>\n",
       "      <td>26.857500</td>\n",
       "      <td>26.157499</td>\n",
       "      <td>26.635000</td>\n",
       "      <td>263188400</td>\n",
       "      <td>0.773892</td>\n",
       "      <td>0.000000</td>\n",
       "      <td>1</td>\n",
       "      <td>1</td>\n",
       "      <td>0.000000</td>\n",
       "      <td>NaN</td>\n",
       "    </tr>\n",
       "    <tr>\n",
       "      <th>3</th>\n",
       "      <td>2015-01-07</td>\n",
       "      <td>26.937500</td>\n",
       "      <td>27.049999</td>\n",
       "      <td>26.674999</td>\n",
       "      <td>26.799999</td>\n",
       "      <td>160423600</td>\n",
       "      <td>0.227357</td>\n",
       "      <td>0.000000</td>\n",
       "      <td>1</td>\n",
       "      <td>1</td>\n",
       "      <td>0.000000</td>\n",
       "      <td>NaN</td>\n",
       "    </tr>\n",
       "    <tr>\n",
       "      <th>4</th>\n",
       "      <td>2015-01-08</td>\n",
       "      <td>27.972500</td>\n",
       "      <td>28.037500</td>\n",
       "      <td>27.174999</td>\n",
       "      <td>27.307501</td>\n",
       "      <td>237458000</td>\n",
       "      <td>0.402678</td>\n",
       "      <td>0.000000</td>\n",
       "      <td>1</td>\n",
       "      <td>1</td>\n",
       "      <td>0.000000</td>\n",
       "      <td>NaN</td>\n",
       "    </tr>\n",
       "    <tr>\n",
       "      <th>...</th>\n",
       "      <td>...</td>\n",
       "      <td>...</td>\n",
       "      <td>...</td>\n",
       "      <td>...</td>\n",
       "      <td>...</td>\n",
       "      <td>...</td>\n",
       "      <td>...</td>\n",
       "      <td>...</td>\n",
       "      <td>...</td>\n",
       "      <td>...</td>\n",
       "      <td>...</td>\n",
       "      <td>...</td>\n",
       "    </tr>\n",
       "    <tr>\n",
       "      <th>2531</th>\n",
       "      <td>2025-02-20</td>\n",
       "      <td>245.830002</td>\n",
       "      <td>246.779999</td>\n",
       "      <td>244.289993</td>\n",
       "      <td>244.940002</td>\n",
       "      <td>32316900</td>\n",
       "      <td>-0.400959</td>\n",
       "      <td>231.323993</td>\n",
       "      <td>1</td>\n",
       "      <td>1</td>\n",
       "      <td>231.323993</td>\n",
       "      <td>NaN</td>\n",
       "    </tr>\n",
       "    <tr>\n",
       "      <th>2532</th>\n",
       "      <td>2025-02-21</td>\n",
       "      <td>245.550003</td>\n",
       "      <td>248.690002</td>\n",
       "      <td>245.220001</td>\n",
       "      <td>245.949997</td>\n",
       "      <td>53197400</td>\n",
       "      <td>0.060861</td>\n",
       "      <td>232.714001</td>\n",
       "      <td>1</td>\n",
       "      <td>1</td>\n",
       "      <td>232.714001</td>\n",
       "      <td>NaN</td>\n",
       "    </tr>\n",
       "    <tr>\n",
       "      <th>2533</th>\n",
       "      <td>2025-02-24</td>\n",
       "      <td>247.100006</td>\n",
       "      <td>248.860001</td>\n",
       "      <td>244.419998</td>\n",
       "      <td>244.929993</td>\n",
       "      <td>51326400</td>\n",
       "      <td>-0.528224</td>\n",
       "      <td>233.089000</td>\n",
       "      <td>1</td>\n",
       "      <td>1</td>\n",
       "      <td>233.089000</td>\n",
       "      <td>NaN</td>\n",
       "    </tr>\n",
       "    <tr>\n",
       "      <th>2534</th>\n",
       "      <td>2025-02-25</td>\n",
       "      <td>247.039993</td>\n",
       "      <td>250.000000</td>\n",
       "      <td>244.910004</td>\n",
       "      <td>248.000000</td>\n",
       "      <td>48013300</td>\n",
       "      <td>-0.234334</td>\n",
       "      <td>233.394003</td>\n",
       "      <td>1</td>\n",
       "      <td>1</td>\n",
       "      <td>233.394003</td>\n",
       "      <td>NaN</td>\n",
       "    </tr>\n",
       "    <tr>\n",
       "      <th>2535</th>\n",
       "      <td>2025-02-26</td>\n",
       "      <td>240.360001</td>\n",
       "      <td>244.979996</td>\n",
       "      <td>239.130005</td>\n",
       "      <td>244.330002</td>\n",
       "      <td>44433600</td>\n",
       "      <td>0.336853</td>\n",
       "      <td>233.394003</td>\n",
       "      <td>1</td>\n",
       "      <td>1</td>\n",
       "      <td>233.394003</td>\n",
       "      <td>NaN</td>\n",
       "    </tr>\n",
       "  </tbody>\n",
       "</table>\n",
       "<p>2536 rows × 12 columns</p>\n",
       "</div>"
      ],
      "text/plain": [
       "            Date       Close  ...     Uptrend  Downtrend\n",
       "0     2015-01-02   27.332500  ...         NaN        NaN\n",
       "1     2015-01-05   26.562500  ...    0.000000        NaN\n",
       "2     2015-01-06   26.565001  ...    0.000000        NaN\n",
       "3     2015-01-07   26.937500  ...    0.000000        NaN\n",
       "4     2015-01-08   27.972500  ...    0.000000        NaN\n",
       "...          ...         ...  ...         ...        ...\n",
       "2531  2025-02-20  245.830002  ...  231.323993        NaN\n",
       "2532  2025-02-21  245.550003  ...  232.714001        NaN\n",
       "2533  2025-02-24  247.100006  ...  233.089000        NaN\n",
       "2534  2025-02-25  247.039993  ...  233.394003        NaN\n",
       "2535  2025-02-26  240.360001  ...  233.394003        NaN\n",
       "\n",
       "[2536 rows x 12 columns]"
      ]
     },
     "execution_count": 94,
     "metadata": {},
     "output_type": "execute_result"
    }
   ],
   "source": [
    "data"
   ]
  },
  {
   "cell_type": "code",
   "execution_count": 43,
   "metadata": {},
   "outputs": [
    {
     "name": "stderr",
     "output_type": "stream",
     "text": [
      "/home/sacsresta/miniconda3/envs/research/lib/python3.10/site-packages/backtesting/backtesting.py:1201: FutureWarning: Index.is_numeric is deprecated. Use pandas.api.types.is_any_real_numeric_dtype instead\n",
      "  (data.index.is_numeric() and\n",
      "/tmp/ipykernel_42373/4124758977.py:31: UserWarning: Data index is not datetime. Assuming simple periods, but `pd.DateTimeIndex` is advised.\n",
      "  bt = Backtest(df, CustomStrategy, cash=100000, commission=.001)\n"
     ]
    },
    {
     "data": {
      "application/vnd.jupyter.widget-view+json": {
       "model_id": "536f142b412f4516a0987913aa4f8287",
       "version_major": 2,
       "version_minor": 0
      },
      "text/plain": [
       "Backtest.run:   0%|          | 0/2490 [00:00<?, ?it/s]"
      ]
     },
     "metadata": {},
     "output_type": "display_data"
    },
    {
     "data": {
      "text/plain": [
       "Start                                     0.0\n",
       "End                                    2535.0\n",
       "Duration                               2535.0\n",
       "Exposure Time [%]                    58.24132\n",
       "Equity Final [$]                 484153.63405\n",
       "Equity Peak [$]                  550722.84617\n",
       "Commissions [$]                   20986.23843\n",
       "Return [%]                          384.15363\n",
       "Buy & Hold Return [%]               672.17893\n",
       "Return (Ann.) [%]                         0.0\n",
       "Volatility (Ann.) [%]                     NaN\n",
       "Sharpe Ratio                              NaN\n",
       "Sortino Ratio                             NaN\n",
       "Calmar Ratio                              0.0\n",
       "Alpha [%]                           126.58974\n",
       "Beta                                  0.38318\n",
       "Max. Drawdown [%]                   -20.72275\n",
       "Avg. Drawdown [%]                    -3.31691\n",
       "Max. Drawdown Duration                  444.0\n",
       "Avg. Drawdown Duration               28.55422\n",
       "# Trades                                 39.0\n",
       "Win Rate [%]                         53.84615\n",
       "Best Trade [%]                       70.07082\n",
       "Worst Trade [%]                     -12.31538\n",
       "Avg. Trade [%]                        4.34841\n",
       "Max. Trade Duration                     134.0\n",
       "Avg. Trade Duration                  36.87179\n",
       "Profit Factor                         3.10065\n",
       "Expectancy [%]                        5.31518\n",
       "SQN                                   1.63118\n",
       "Kelly Criterion                       0.30623\n",
       "_strategy                      CustomStrategy\n",
       "_equity_curve                         Equi...\n",
       "_trades                       Size  EntryB...\n",
       "dtype: object"
      ]
     },
     "execution_count": 43,
     "metadata": {},
     "output_type": "execute_result"
    }
   ],
   "source": [
    "from backtesting import Backtest, Strategy\n",
    "from backtesting.lib import crossover\n",
    "from backtesting.test import SMA\n",
    "\n",
    "def get_direction():\n",
    "  return df.Direction.values\n",
    "\n",
    "def get_downtrend():\n",
    "  return df.Downtrend.values\n",
    "\n",
    "def get_uptrend():\n",
    "  return df.Uptrend.values\n",
    "\n",
    "class CustomStrategy(Strategy):\n",
    "    def init(self):\n",
    "        super().init()\n",
    "        self.signal = self.I(get_direction)\n",
    "        self.uptrend = self.I(get_uptrend, overlay=True, name=\"Uptrend\", color=\"green\")\n",
    "        self.downtrend = self.I(get_downtrend, overlay=True, name=\"Downtrend\", color=\"red\")\n",
    "\n",
    "    def next(self):\n",
    "      if self.signal == 1:\n",
    "        if not self.position:\n",
    "          self.buy()\n",
    "      elif self.signal == -1:\n",
    "        if self.position:\n",
    "          self.position.close()\n",
    "\n",
    "\n",
    "\n",
    "bt = Backtest(df, CustomStrategy, cash=100000, commission=.001)\n",
    "stats = bt.run()\n",
    "stats"
   ]
  },
  {
   "cell_type": "code",
   "execution_count": 44,
   "metadata": {},
   "outputs": [
    {
     "name": "stderr",
     "output_type": "stream",
     "text": [
      "/home/sacsresta/miniconda3/envs/research/lib/python3.10/site-packages/backtesting/backtesting.py:1201: FutureWarning: Index.is_numeric is deprecated. Use pandas.api.types.is_any_real_numeric_dtype instead\n",
      "  (data.index.is_numeric() and\n",
      "/tmp/ipykernel_42373/428808412.py:31: UserWarning: Data index is not datetime. Assuming simple periods, but `pd.DateTimeIndex` is advised.\n",
      "  bt = Backtest(data, CustomStrategy, cash=100000, commission=.001)\n"
     ]
    },
    {
     "data": {
      "application/vnd.jupyter.widget-view+json": {
       "model_id": "7d7761e266be46a28a94f8de7d6d189f",
       "version_major": 2,
       "version_minor": 0
      },
      "text/plain": [
       "Backtest.run:   0%|          | 0/2490 [00:00<?, ?it/s]"
      ]
     },
     "metadata": {},
     "output_type": "display_data"
    },
    {
     "data": {
      "text/plain": [
       "Start                                     0.0\n",
       "End                                    2535.0\n",
       "Duration                               2535.0\n",
       "Exposure Time [%]                    58.24132\n",
       "Equity Final [$]                1367828.73611\n",
       "Equity Peak [$]                 1455802.77172\n",
       "Commissions [$]                   43651.38521\n",
       "Return [%]                         1267.82874\n",
       "Buy & Hold Return [%]               672.17893\n",
       "Return (Ann.) [%]                         0.0\n",
       "Volatility (Ann.) [%]                     NaN\n",
       "Sharpe Ratio                              NaN\n",
       "Sortino Ratio                             NaN\n",
       "Calmar Ratio                              0.0\n",
       "Alpha [%]                          1022.35114\n",
       "Beta                                   0.3652\n",
       "Max. Drawdown [%]                   -13.09682\n",
       "Avg. Drawdown [%]                    -2.65868\n",
       "Max. Drawdown Duration                  218.0\n",
       "Avg. Drawdown Duration               18.24409\n",
       "# Trades                                 39.0\n",
       "Win Rate [%]                         58.97436\n",
       "Best Trade [%]                       81.30001\n",
       "Worst Trade [%]                      -6.54521\n",
       "Avg. Trade [%]                        7.11499\n",
       "Max. Trade Duration                     134.0\n",
       "Avg. Trade Duration                  36.87179\n",
       "Profit Factor                         7.78012\n",
       "Expectancy [%]                        8.16105\n",
       "SQN                                   2.48623\n",
       "Kelly Criterion                       0.46607\n",
       "_strategy                      CustomStrategy\n",
       "_equity_curve                        Equit...\n",
       "_trades                       Size  EntryB...\n",
       "dtype: object"
      ]
     },
     "execution_count": 44,
     "metadata": {},
     "output_type": "execute_result"
    }
   ],
   "source": [
    "from backtesting import Backtest, Strategy\n",
    "from backtesting.lib import crossover\n",
    "from backtesting.test import SMA\n",
    "\n",
    "def get_direction():\n",
    "  return data.shifted_direction.values\n",
    "\n",
    "def get_downtrend():\n",
    "  return data.Downtrend.values\n",
    "\n",
    "def get_uptrend():\n",
    "  return data.Uptrend.values\n",
    "\n",
    "class CustomStrategy(Strategy):\n",
    "    def init(self):\n",
    "        super().init()\n",
    "        self.signal = self.I(get_direction)\n",
    "        self.uptrend = self.I(get_uptrend, overlay=True, name=\"Uptrend\", color=\"green\")\n",
    "        self.downtrend = self.I(get_downtrend, overlay=True, name=\"Downtrend\", color=\"red\")\n",
    "\n",
    "    def next(self):\n",
    "      if self.signal == 1:\n",
    "        if not self.position:\n",
    "          self.buy()\n",
    "      elif self.signal == -1:\n",
    "        if self.position:\n",
    "          self.position.close()\n",
    "\n",
    "\n",
    "\n",
    "bt = Backtest(data, CustomStrategy, cash=100000, commission=.001)\n",
    "stats = bt.run()\n",
    "stats"
   ]
  },
  {
   "cell_type": "code",
   "execution_count": 95,
   "metadata": {},
   "outputs": [
    {
     "data": {
      "text/html": [
       "<div>\n",
       "<style scoped>\n",
       "    .dataframe tbody tr th:only-of-type {\n",
       "        vertical-align: middle;\n",
       "    }\n",
       "\n",
       "    .dataframe tbody tr th {\n",
       "        vertical-align: top;\n",
       "    }\n",
       "\n",
       "    .dataframe thead th {\n",
       "        text-align: right;\n",
       "    }\n",
       "</style>\n",
       "<table border=\"1\" class=\"dataframe\">\n",
       "  <thead>\n",
       "    <tr style=\"text-align: right;\">\n",
       "      <th></th>\n",
       "      <th>Date</th>\n",
       "      <th>Close</th>\n",
       "      <th>High</th>\n",
       "      <th>Low</th>\n",
       "      <th>Open</th>\n",
       "      <th>Volume</th>\n",
       "      <th>sentiment_score</th>\n",
       "      <th>Supertrend</th>\n",
       "      <th>Direction</th>\n",
       "      <th>shifted_direction</th>\n",
       "      <th>Uptrend</th>\n",
       "      <th>Downtrend</th>\n",
       "    </tr>\n",
       "  </thead>\n",
       "  <tbody>\n",
       "    <tr>\n",
       "      <th>0</th>\n",
       "      <td>2015-01-02</td>\n",
       "      <td>27.332500</td>\n",
       "      <td>27.860001</td>\n",
       "      <td>26.837500</td>\n",
       "      <td>27.847500</td>\n",
       "      <td>212818400</td>\n",
       "      <td>-0.357845</td>\n",
       "      <td>0.000000</td>\n",
       "      <td>0</td>\n",
       "      <td>1</td>\n",
       "      <td>NaN</td>\n",
       "      <td>NaN</td>\n",
       "    </tr>\n",
       "    <tr>\n",
       "      <th>1</th>\n",
       "      <td>2015-01-05</td>\n",
       "      <td>26.562500</td>\n",
       "      <td>27.162500</td>\n",
       "      <td>26.352501</td>\n",
       "      <td>27.072500</td>\n",
       "      <td>257142000</td>\n",
       "      <td>-0.017792</td>\n",
       "      <td>0.000000</td>\n",
       "      <td>1</td>\n",
       "      <td>1</td>\n",
       "      <td>0.000000</td>\n",
       "      <td>NaN</td>\n",
       "    </tr>\n",
       "    <tr>\n",
       "      <th>2</th>\n",
       "      <td>2015-01-06</td>\n",
       "      <td>26.565001</td>\n",
       "      <td>26.857500</td>\n",
       "      <td>26.157499</td>\n",
       "      <td>26.635000</td>\n",
       "      <td>263188400</td>\n",
       "      <td>0.773892</td>\n",
       "      <td>0.000000</td>\n",
       "      <td>1</td>\n",
       "      <td>1</td>\n",
       "      <td>0.000000</td>\n",
       "      <td>NaN</td>\n",
       "    </tr>\n",
       "    <tr>\n",
       "      <th>3</th>\n",
       "      <td>2015-01-07</td>\n",
       "      <td>26.937500</td>\n",
       "      <td>27.049999</td>\n",
       "      <td>26.674999</td>\n",
       "      <td>26.799999</td>\n",
       "      <td>160423600</td>\n",
       "      <td>0.227357</td>\n",
       "      <td>0.000000</td>\n",
       "      <td>1</td>\n",
       "      <td>1</td>\n",
       "      <td>0.000000</td>\n",
       "      <td>NaN</td>\n",
       "    </tr>\n",
       "    <tr>\n",
       "      <th>4</th>\n",
       "      <td>2015-01-08</td>\n",
       "      <td>27.972500</td>\n",
       "      <td>28.037500</td>\n",
       "      <td>27.174999</td>\n",
       "      <td>27.307501</td>\n",
       "      <td>237458000</td>\n",
       "      <td>0.402678</td>\n",
       "      <td>0.000000</td>\n",
       "      <td>1</td>\n",
       "      <td>1</td>\n",
       "      <td>0.000000</td>\n",
       "      <td>NaN</td>\n",
       "    </tr>\n",
       "    <tr>\n",
       "      <th>...</th>\n",
       "      <td>...</td>\n",
       "      <td>...</td>\n",
       "      <td>...</td>\n",
       "      <td>...</td>\n",
       "      <td>...</td>\n",
       "      <td>...</td>\n",
       "      <td>...</td>\n",
       "      <td>...</td>\n",
       "      <td>...</td>\n",
       "      <td>...</td>\n",
       "      <td>...</td>\n",
       "      <td>...</td>\n",
       "    </tr>\n",
       "    <tr>\n",
       "      <th>2531</th>\n",
       "      <td>2025-02-20</td>\n",
       "      <td>245.830002</td>\n",
       "      <td>246.779999</td>\n",
       "      <td>244.289993</td>\n",
       "      <td>244.940002</td>\n",
       "      <td>32316900</td>\n",
       "      <td>-0.400959</td>\n",
       "      <td>231.323993</td>\n",
       "      <td>1</td>\n",
       "      <td>1</td>\n",
       "      <td>231.323993</td>\n",
       "      <td>NaN</td>\n",
       "    </tr>\n",
       "    <tr>\n",
       "      <th>2532</th>\n",
       "      <td>2025-02-21</td>\n",
       "      <td>245.550003</td>\n",
       "      <td>248.690002</td>\n",
       "      <td>245.220001</td>\n",
       "      <td>245.949997</td>\n",
       "      <td>53197400</td>\n",
       "      <td>0.060861</td>\n",
       "      <td>232.714001</td>\n",
       "      <td>1</td>\n",
       "      <td>1</td>\n",
       "      <td>232.714001</td>\n",
       "      <td>NaN</td>\n",
       "    </tr>\n",
       "    <tr>\n",
       "      <th>2533</th>\n",
       "      <td>2025-02-24</td>\n",
       "      <td>247.100006</td>\n",
       "      <td>248.860001</td>\n",
       "      <td>244.419998</td>\n",
       "      <td>244.929993</td>\n",
       "      <td>51326400</td>\n",
       "      <td>-0.528224</td>\n",
       "      <td>233.089000</td>\n",
       "      <td>1</td>\n",
       "      <td>1</td>\n",
       "      <td>233.089000</td>\n",
       "      <td>NaN</td>\n",
       "    </tr>\n",
       "    <tr>\n",
       "      <th>2534</th>\n",
       "      <td>2025-02-25</td>\n",
       "      <td>247.039993</td>\n",
       "      <td>250.000000</td>\n",
       "      <td>244.910004</td>\n",
       "      <td>248.000000</td>\n",
       "      <td>48013300</td>\n",
       "      <td>-0.234334</td>\n",
       "      <td>233.394003</td>\n",
       "      <td>1</td>\n",
       "      <td>1</td>\n",
       "      <td>233.394003</td>\n",
       "      <td>NaN</td>\n",
       "    </tr>\n",
       "    <tr>\n",
       "      <th>2535</th>\n",
       "      <td>2025-02-26</td>\n",
       "      <td>240.360001</td>\n",
       "      <td>244.979996</td>\n",
       "      <td>239.130005</td>\n",
       "      <td>244.330002</td>\n",
       "      <td>44433600</td>\n",
       "      <td>0.336853</td>\n",
       "      <td>233.394003</td>\n",
       "      <td>1</td>\n",
       "      <td>1</td>\n",
       "      <td>233.394003</td>\n",
       "      <td>NaN</td>\n",
       "    </tr>\n",
       "  </tbody>\n",
       "</table>\n",
       "<p>2536 rows × 12 columns</p>\n",
       "</div>"
      ],
      "text/plain": [
       "            Date       Close  ...     Uptrend  Downtrend\n",
       "0     2015-01-02   27.332500  ...         NaN        NaN\n",
       "1     2015-01-05   26.562500  ...    0.000000        NaN\n",
       "2     2015-01-06   26.565001  ...    0.000000        NaN\n",
       "3     2015-01-07   26.937500  ...    0.000000        NaN\n",
       "4     2015-01-08   27.972500  ...    0.000000        NaN\n",
       "...          ...         ...  ...         ...        ...\n",
       "2531  2025-02-20  245.830002  ...  231.323993        NaN\n",
       "2532  2025-02-21  245.550003  ...  232.714001        NaN\n",
       "2533  2025-02-24  247.100006  ...  233.089000        NaN\n",
       "2534  2025-02-25  247.039993  ...  233.394003        NaN\n",
       "2535  2025-02-26  240.360001  ...  233.394003        NaN\n",
       "\n",
       "[2536 rows x 12 columns]"
      ]
     },
     "execution_count": 95,
     "metadata": {},
     "output_type": "execute_result"
    }
   ],
   "source": [
    "data"
   ]
  },
  {
   "cell_type": "markdown",
   "metadata": {},
   "source": [
    "# Lets Build a model"
   ]
  },
  {
   "cell_type": "code",
   "execution_count": 48,
   "metadata": {},
   "outputs": [
    {
     "name": "stdout",
     "output_type": "stream",
     "text": [
      "Collecting lightgbm\n",
      "  Downloading lightgbm-4.6.0-py3-none-manylinux_2_28_x86_64.whl.metadata (17 kB)\n",
      "Requirement already satisfied: numpy>=1.17.0 in /home/sacsresta/miniconda3/envs/research/lib/python3.10/site-packages (from lightgbm) (2.1.3)\n",
      "Requirement already satisfied: scipy in /home/sacsresta/miniconda3/envs/research/lib/python3.10/site-packages (from lightgbm) (1.15.2)\n",
      "Downloading lightgbm-4.6.0-py3-none-manylinux_2_28_x86_64.whl (3.6 MB)\n",
      "\u001b[2K   \u001b[38;2;114;156;31m━━━━━━━━━━━━━━━━━━━━━━━━━━━━━━━━━━━━━━━━\u001b[0m \u001b[32m3.6/3.6 MB\u001b[0m \u001b[31m11.8 MB/s\u001b[0m eta \u001b[36m0:00:00\u001b[0m MB/s\u001b[0m eta \u001b[36m0:00:01\u001b[0m\n",
      "\u001b[?25hInstalling collected packages: lightgbm\n",
      "Successfully installed lightgbm-4.6.0\n"
     ]
    }
   ],
   "source": [
    "!pip install lightgbm"
   ]
  },
  {
   "cell_type": "code",
   "execution_count": 148,
   "metadata": {},
   "outputs": [],
   "source": [
    "data = df[['Date', 'Close', 'High', 'Low', 'Open', 'Volume',\n",
    "       'sentiment_score', 'Supertrend','Direction','shifted_direction','Uptrend', 'Downtrend',]]\n",
    "\n",
    "\n",
    "data.set_index('Date',inplace=True)\n",
    "data = data[['Close','High','Low','Open','Volume','Supertrend','shifted_direction','Direction']].iloc[-1292:-38]"
   ]
  },
  {
   "cell_type": "code",
   "execution_count": 154,
   "metadata": {},
   "outputs": [
    {
     "data": {
      "text/html": [
       "<div>\n",
       "<style scoped>\n",
       "    .dataframe tbody tr th:only-of-type {\n",
       "        vertical-align: middle;\n",
       "    }\n",
       "\n",
       "    .dataframe tbody tr th {\n",
       "        vertical-align: top;\n",
       "    }\n",
       "\n",
       "    .dataframe thead th {\n",
       "        text-align: right;\n",
       "    }\n",
       "</style>\n",
       "<table border=\"1\" class=\"dataframe\">\n",
       "  <thead>\n",
       "    <tr style=\"text-align: right;\">\n",
       "      <th></th>\n",
       "      <th>Date</th>\n",
       "      <th>Adj Close</th>\n",
       "      <th>Close</th>\n",
       "      <th>High</th>\n",
       "      <th>Low</th>\n",
       "      <th>Open</th>\n",
       "      <th>Volume</th>\n",
       "      <th>sentiment_score</th>\n",
       "      <th>sentiment_class</th>\n",
       "      <th>Supertrend</th>\n",
       "      <th>Direction</th>\n",
       "      <th>UpperBand</th>\n",
       "      <th>LowerBand</th>\n",
       "      <th>Uptrend</th>\n",
       "      <th>Downtrend</th>\n",
       "      <th>shifted_direction</th>\n",
       "    </tr>\n",
       "  </thead>\n",
       "  <tbody>\n",
       "    <tr>\n",
       "      <th>0</th>\n",
       "      <td>2015-01-02</td>\n",
       "      <td>24.320433</td>\n",
       "      <td>27.332500</td>\n",
       "      <td>27.860001</td>\n",
       "      <td>26.837500</td>\n",
       "      <td>27.847500</td>\n",
       "      <td>212818400</td>\n",
       "      <td>-0.357845</td>\n",
       "      <td>positive</td>\n",
       "      <td>0.000000</td>\n",
       "      <td>0</td>\n",
       "      <td>NaN</td>\n",
       "      <td>NaN</td>\n",
       "      <td>NaN</td>\n",
       "      <td>NaN</td>\n",
       "      <td>1</td>\n",
       "    </tr>\n",
       "    <tr>\n",
       "      <th>1</th>\n",
       "      <td>2015-01-05</td>\n",
       "      <td>23.635286</td>\n",
       "      <td>26.562500</td>\n",
       "      <td>27.162500</td>\n",
       "      <td>26.352501</td>\n",
       "      <td>27.072500</td>\n",
       "      <td>257142000</td>\n",
       "      <td>-0.017792</td>\n",
       "      <td>negative</td>\n",
       "      <td>0.000000</td>\n",
       "      <td>1</td>\n",
       "      <td>NaN</td>\n",
       "      <td>NaN</td>\n",
       "      <td>0.000000</td>\n",
       "      <td>NaN</td>\n",
       "      <td>1</td>\n",
       "    </tr>\n",
       "    <tr>\n",
       "      <th>2</th>\n",
       "      <td>2015-01-06</td>\n",
       "      <td>23.637514</td>\n",
       "      <td>26.565001</td>\n",
       "      <td>26.857500</td>\n",
       "      <td>26.157499</td>\n",
       "      <td>26.635000</td>\n",
       "      <td>263188400</td>\n",
       "      <td>0.773892</td>\n",
       "      <td>neutral</td>\n",
       "      <td>0.000000</td>\n",
       "      <td>1</td>\n",
       "      <td>NaN</td>\n",
       "      <td>NaN</td>\n",
       "      <td>0.000000</td>\n",
       "      <td>NaN</td>\n",
       "      <td>1</td>\n",
       "    </tr>\n",
       "    <tr>\n",
       "      <th>3</th>\n",
       "      <td>2015-01-07</td>\n",
       "      <td>23.968966</td>\n",
       "      <td>26.937500</td>\n",
       "      <td>27.049999</td>\n",
       "      <td>26.674999</td>\n",
       "      <td>26.799999</td>\n",
       "      <td>160423600</td>\n",
       "      <td>0.227357</td>\n",
       "      <td>negative</td>\n",
       "      <td>0.000000</td>\n",
       "      <td>1</td>\n",
       "      <td>NaN</td>\n",
       "      <td>NaN</td>\n",
       "      <td>0.000000</td>\n",
       "      <td>NaN</td>\n",
       "      <td>1</td>\n",
       "    </tr>\n",
       "    <tr>\n",
       "      <th>4</th>\n",
       "      <td>2015-01-08</td>\n",
       "      <td>24.889906</td>\n",
       "      <td>27.972500</td>\n",
       "      <td>28.037500</td>\n",
       "      <td>27.174999</td>\n",
       "      <td>27.307501</td>\n",
       "      <td>237458000</td>\n",
       "      <td>0.402678</td>\n",
       "      <td>neutral</td>\n",
       "      <td>0.000000</td>\n",
       "      <td>1</td>\n",
       "      <td>NaN</td>\n",
       "      <td>NaN</td>\n",
       "      <td>0.000000</td>\n",
       "      <td>NaN</td>\n",
       "      <td>1</td>\n",
       "    </tr>\n",
       "    <tr>\n",
       "      <th>...</th>\n",
       "      <td>...</td>\n",
       "      <td>...</td>\n",
       "      <td>...</td>\n",
       "      <td>...</td>\n",
       "      <td>...</td>\n",
       "      <td>...</td>\n",
       "      <td>...</td>\n",
       "      <td>...</td>\n",
       "      <td>...</td>\n",
       "      <td>...</td>\n",
       "      <td>...</td>\n",
       "      <td>...</td>\n",
       "      <td>...</td>\n",
       "      <td>...</td>\n",
       "      <td>...</td>\n",
       "      <td>...</td>\n",
       "    </tr>\n",
       "    <tr>\n",
       "      <th>2531</th>\n",
       "      <td>2025-02-20</td>\n",
       "      <td>245.830002</td>\n",
       "      <td>245.830002</td>\n",
       "      <td>246.779999</td>\n",
       "      <td>244.289993</td>\n",
       "      <td>244.940002</td>\n",
       "      <td>32316900</td>\n",
       "      <td>-0.400959</td>\n",
       "      <td>positive</td>\n",
       "      <td>231.323993</td>\n",
       "      <td>1</td>\n",
       "      <td>259.408000</td>\n",
       "      <td>231.323993</td>\n",
       "      <td>231.323993</td>\n",
       "      <td>NaN</td>\n",
       "      <td>1</td>\n",
       "    </tr>\n",
       "    <tr>\n",
       "      <th>2532</th>\n",
       "      <td>2025-02-21</td>\n",
       "      <td>245.550003</td>\n",
       "      <td>245.550003</td>\n",
       "      <td>248.690002</td>\n",
       "      <td>245.220001</td>\n",
       "      <td>245.949997</td>\n",
       "      <td>53197400</td>\n",
       "      <td>0.060861</td>\n",
       "      <td>neutral</td>\n",
       "      <td>232.714001</td>\n",
       "      <td>1</td>\n",
       "      <td>259.408000</td>\n",
       "      <td>232.714001</td>\n",
       "      <td>232.714001</td>\n",
       "      <td>NaN</td>\n",
       "      <td>1</td>\n",
       "    </tr>\n",
       "    <tr>\n",
       "      <th>2533</th>\n",
       "      <td>2025-02-24</td>\n",
       "      <td>247.100006</td>\n",
       "      <td>247.100006</td>\n",
       "      <td>248.860001</td>\n",
       "      <td>244.419998</td>\n",
       "      <td>244.929993</td>\n",
       "      <td>51326400</td>\n",
       "      <td>-0.528224</td>\n",
       "      <td>positive</td>\n",
       "      <td>233.089000</td>\n",
       "      <td>1</td>\n",
       "      <td>259.408000</td>\n",
       "      <td>233.089000</td>\n",
       "      <td>233.089000</td>\n",
       "      <td>NaN</td>\n",
       "      <td>1</td>\n",
       "    </tr>\n",
       "    <tr>\n",
       "      <th>2534</th>\n",
       "      <td>2025-02-25</td>\n",
       "      <td>247.039993</td>\n",
       "      <td>247.039993</td>\n",
       "      <td>250.000000</td>\n",
       "      <td>244.910004</td>\n",
       "      <td>248.000000</td>\n",
       "      <td>48013300</td>\n",
       "      <td>-0.234334</td>\n",
       "      <td>negative</td>\n",
       "      <td>233.394003</td>\n",
       "      <td>1</td>\n",
       "      <td>259.408000</td>\n",
       "      <td>233.394003</td>\n",
       "      <td>233.394003</td>\n",
       "      <td>NaN</td>\n",
       "      <td>1</td>\n",
       "    </tr>\n",
       "    <tr>\n",
       "      <th>2535</th>\n",
       "      <td>2025-02-26</td>\n",
       "      <td>240.360001</td>\n",
       "      <td>240.360001</td>\n",
       "      <td>244.979996</td>\n",
       "      <td>239.130005</td>\n",
       "      <td>244.330002</td>\n",
       "      <td>44433600</td>\n",
       "      <td>0.336853</td>\n",
       "      <td>negative</td>\n",
       "      <td>233.394003</td>\n",
       "      <td>1</td>\n",
       "      <td>256.214995</td>\n",
       "      <td>233.394003</td>\n",
       "      <td>233.394003</td>\n",
       "      <td>NaN</td>\n",
       "      <td>1</td>\n",
       "    </tr>\n",
       "  </tbody>\n",
       "</table>\n",
       "<p>2536 rows × 16 columns</p>\n",
       "</div>"
      ],
      "text/plain": [
       "            Date   Adj Close  ...  Downtrend  shifted_direction\n",
       "0     2015-01-02   24.320433  ...        NaN                  1\n",
       "1     2015-01-05   23.635286  ...        NaN                  1\n",
       "2     2015-01-06   23.637514  ...        NaN                  1\n",
       "3     2015-01-07   23.968966  ...        NaN                  1\n",
       "4     2015-01-08   24.889906  ...        NaN                  1\n",
       "...          ...         ...  ...        ...                ...\n",
       "2531  2025-02-20  245.830002  ...        NaN                  1\n",
       "2532  2025-02-21  245.550003  ...        NaN                  1\n",
       "2533  2025-02-24  247.100006  ...        NaN                  1\n",
       "2534  2025-02-25  247.039993  ...        NaN                  1\n",
       "2535  2025-02-26  240.360001  ...        NaN                  1\n",
       "\n",
       "[2536 rows x 16 columns]"
      ]
     },
     "execution_count": 154,
     "metadata": {},
     "output_type": "execute_result"
    }
   ],
   "source": [
    "df"
   ]
  },
  {
   "cell_type": "code",
   "execution_count": 155,
   "metadata": {},
   "outputs": [
    {
     "data": {
      "application/vnd.plotly.v1+json": {
       "config": {
        "plotlyServerURL": "https://plot.ly"
       },
       "data": [
        {
         "close": {
          "bdata": "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",
          "dtype": "f8"
         },
         "high": {
          "bdata": "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",
          "dtype": "f8"
         },
         "low": {
          "bdata": "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",
          "dtype": "f8"
         },
         "name": "OHLC",
         "open": {
          "bdata": "AAAAwPXYO0ABAABgjxI7QAEAAGCPojpAAAAAwMzMOkAAAABguE47QAAAAEDhKjxAAQAAYGYmPEAAAAAghds7QAEAAGCPQjtAAAAAAACAO0AAAACA68E6QAAAAIDC9TpAAAAAwMw8O0AAAADgo5A7QAAAAEAzEzxAAAAAIFxvPEAAAABA4Ro8QP///99RaD1A////33oUPUAAAACgmZk9QAAAAEAzgz1AAAAAAACgPUAAAAAAAKA9QAAAAKBHAT5AAAAAoEcBPkAAAABAM6M9QAAAAEDhCj5AAAAAoEexPkABAAAA14M/QAAAAIDr0T9AAAAAIFzfP0D////fUeg/QAAAACBcD0BAAAAAANcTQEAAAADgo0BAQAAAAIAUnkBAAAAAgOtxQEAAAACgRxlAQAAAAAAAQEBAAAAAAAAoQEAAAABguB5AQAAAAEAzI0BAAAAAYI8SQEAAAADAzAxAQAAAAKBw/T9AAAAAgD2aP0AAAAAAADA/QAEAAADXkz5AAAAAoJkZP0D////fUfg+QAAAAKCZeT9AAAAAAADAP0AAAAAAABhAQAAAAAAACEBAAAAAIK7HP0AAAABguM4/QAEAAGCPoj9AAAAA4KOwPkD////feiQ/QAAAAEAzAz9AAAAAgMKFP0D////fejQ/QAAAAIDrQT9AAAAAgBQeP0AAAADA9eg/QAEAAGBmdj9AAQAAYGZ2P0AAAADAzHw/QAAAAADXC0BAAAAAAADAP0AAAACAPZo/QAAAAIDrkT9AAAAAQDNjP0D////femQ/QAAAAEAzA0BAAAAAIFy/P0AAAACgmQlAQAAAACCuT0BAAAAAgOuJQEAAAABguM5AQAAAAMAeRUBAAAAA4HoUQEABAABgZoY/QAAAAAAAMEBAAAAAwMwEQEABAAAA16M/QAAAAKBHMT9AAAAAIIWrP0AAAADA9dg/QAEAAGBmZj9AAAAAoJmJP0AAAACAPdo/QAAAAIA9IkBAAAAAACkMQEAAAACAFFZAQAAAAAAAQEBAAAAAgD1CQEAAAABAM3NAQAAAAEAzk0BAAAAAQOFKQEAAAAAghXtAQAAAACBcZ0BAAAAAwPVIQEAAAAAghTtAQAAAAMAeVUBAAAAAYI8yQEAAAAAAADBAQAAAAMDMHEBAAAAAwMysP0AAAABA4fo/QAAAAIDCJUBAAAAAgBQGQEABAABgZoY/QAAAAIDrwT9AAAAAgBTuP0AAAABguM4/QAAAAKBw7T9AAAAAIFzfP0AAAABguN4/QAAAAKBwzT9AAAAAIIUbQEAAAABA4eo/QAAAAKBwXT9A////33pkP0AAAACgmbk/QAAAACCFmz9A/////yg8P0AAAADA9Xg/QAAAAGC4Hj9AAQAAYGb2PkD/////KHw+QAAAAIDrQT9AAQAAYI+CP0AAAACAFG4/QAAAACBc7z9AAAAAYI8iQEAAAABACl9AQAAAAEAzm0BAAAAAIFx/PkAAAADAzIw/QP///996VD9AAAAAgMLFPkD////fUdg+QAAAAKCZyT5A////33qUPkABAABgZqY+QAAAAAAAYD5AAAAAQOFaPUAAAADAzDw8QAAAAIAU/jxAAAAAwB6lPEAAAACA6yE9QAEAAADXcz1AAAAAgOshPEABAABgjwI9QP///996lDxAAQAAYI8CPUAAAAAghRs9QAEAAGBmBj1AAAAAwB6FPEAAAAAghZs7QAAAACCutzdAAAAAQArHO0AAAACAwsU6QAAAAGC4DjxAAAAAQOEKPEAAAACA6wE8QAAAAKCZiTtAAAAAYLiOO0AAAAAgXB88QAAAAIAUPjtAAAAAAADwO0AAAADgo3A8QAAAAKBHkTtAAQAAYI/yO0AAAADAHiU9QAAAACCF+zxAAAAAAAAQPUAAAACAPeo8QAAAAKBwDTxAAAAAQOFqPED////fUVg8QP///99RaDxAAAAAAABQPED/////KBw9QAEAAGBmdjxAAAAAwB41PEAAAABA4Yo7QP///996RDtAAAAA4KMAO0D////fUXg7QP///99RqDtAAAAAIFzvO0D/////KIw7QAAAAAAAgDtAAAAAYLguPED////ferQ7QAEAAGCP0jtAAAAAIIW7O0AAAACA6/E7QAAAAEAzsztAAAAAgMLVO0AAAAAAAIA8QAAAAMAelTxAAAAAwMwsPUAAAADAHoU9QAAAAKCZ2TxAAAAAIIU7PUAAAADAzKw9QAAAACBcPz5AAAAAQDMzPkABAABgjzI+QP///99RyD5AAQAAYGZ2PkAAAABACkc+QAAAAKBwPT5AAAAAoJk5PUAAAAAgrhc9QAAAAOCjED1AAAAAwMzMPED////fUdg7QAAAAEDhujxAAAAA4KPwPEAAAADA9Wg9QAAAAMDMzD1AAAAAoEfRPUAAAADAHlU9QAAAAKBwzT1AAQAAYI+SPUAAAAAgXH89QAAAAAAAsD1AAAAAgMJVPUAAAABAMyM9QAEAAGCP0jxAAAAAYLi+PUAAAACgR2E9QAAAAMD1aD1AAQAAYI8CPUD/////KMw8QAAAACCFCzxA/////yj8O0D////fesQ7QAAAAKBHATxAAAAAgD06O0AAAACA69E6QAAAAKCZ2TpAAAAAoEfROkAAAAAAAEA7QAAAAIDC5TpAAAAAoHC9OkAAAADAHiU7QAAAAOCjwDpAAAAAQAqnOUAAAAAAAHA6QAEAAADXIzlAAAAAIIWrOEAAAABAM6M4QAAAAIAUvjhAAAAAQDMjOUD////fehQ5QAAAAKBwfThAAAAAwMwMOEAAAACAPZo4QAEAAGBmxjdAAQAAANdDOED////fUag4QAAAAKBHYTlAAAAAIIX7OEABAABgjwI4QAEAAGCPcjdAAQAAYI+yN0AAAACAFB44QAAAAEDh2jdAAAAAAADAN0AAAABACvc3QAAAAKBHIThA////31FIN0ABAABgj5I3QAAAAEDh+jdAAQAAYI9yN0D/////KIw3QAAAAKBHwTdAAAAAQOEqOEAAAACAwrU4QAAAAAAAADhAAQAAANcTOEAAAACgmRk4QAAAAGC4fjdAAAAAQDMDOEAAAADAzEw4QAAAAEAKNzhAAAAAoJlpOEAAAADgoyA5QAAAAMAeJTlAAAAAIK6XOUAAAADA9Zg5QAAAAIDrMTlAAQAAANdTOUAAAACAPVo5QAAAACBcjzlAAAAAgD16OUAAAACgcP05QAAAAEAKJzpAAAAAoEdhOkAAAACAwpU6QAAAACCFezpAAAAAAABQOkAAAABguJ46QAAAAIAUXjpAAAAAAACAOkAAAADA9Tg6QAAAAKCZKTtAAAAAgBRuO0AAAACA6zE7QAAAAEDhmjtAAAAA4KNgO0AAAABguI47QAAAAMDMfDtAAAAAgD06O0AAAACAFD47QAAAAIDCVTtAAAAAQDOzO0AAAAAgruc7QAAAAEAKBzxAAAAAwPU4O0D////fUfg6QAAAAMD1qDpAAAAAIIW7OkAAAADgo0A6QAAAAAAAQDpAAAAAgD36OUAAAAAAAAA4QAAAAEAKZzhAAAAAIFx/N0AAAACAFH43QAAAAMDMjDdAAAAAwMzMN0AAAAAAAIA3QAAAACCuVzdAAAAAAABAN0AAAADAHlU3QAAAAGC4XjdAAAAAgBQuN0AAAAAAAIA2QAAAAMD1GDdAAAAAQDOjN0AAAACAPYo3QAAAAMD1qDdAAAAAwPWoN0AAAAAgrvc3QAAAAIAUTjhAAAAAQOGqOEAAAAAghes4QP////8o3DhAAQAAYGbmOEAAAACgR8E4QAEAAGBmZjhAAQAAYI9yOEAAAAAgXH84QAAAAAAA0DhAAAAAoEfBOEAAAAAAAKA4QAAAAIDroThA/////yisOED////felQ4QP///996dDhAAAAAwMwcOEAAAAAgric4QAAAAAAAADhA/////yi8N0AAAAAAABA4QP////8o/DdAAAAAgD06N0AAAAAAAEA3QAAAAKCZOTdAAAAAgBR+N0D/////KJw3QAAAACBc3zdAAAAAwPXYN0ABAABgZqY3QAAAAMDM7DdAAAAAIFwfOEAAAAAAADA4QAAAAEDhSjhAAAAAgD1aOEAAAADA9Vg4QAAAAEDhujhAAAAAwMysOEABAAAA1+M4QAAAAAAAADlAAAAAwB71OEAAAADgo9A4QAAAAAAAkDhA////33o0OEAAAACgRxE6QAAAAMAetTlA/////ygMOkAAAACAPRo6QAAAAEAzgzpAAQAAANczOkAAAADAHmU6QAAAAKBHkTpAAAAAoEfhOkAAAABguA47QAAAAKBwLTtAAAAAoEchO0AAAACA6/E6QAAAAMD1CDtA////31FoO0ABAABgZkY7QAAAAGC4TjtAAAAAoEcxO0AAAABACjc7QAAAAIDCJTtA////33okO0AAAADA9dg6QAAAAIA92jpAAAAAIK6nOkAAAABAM3M6QAAAAIA9ajpAAAAAwPWIOkAAAADAzOw6QAAAAKCZ+TpAAAAAwB71OkAAAAAAANA6QAAAAMD1KDpAAAAAoJmpOUAAAADgo+A6QAAAAGC4LjtAAAAAQAp3PEAAAAAgrsc8QP////8ozDxAAAAAQDNDPEABAABgZnY8QAEAAGBmljxAAAAAQOGaPEAAAADA9eg7QAAAAAAAQDxA/////yhsPEAAAACAPUo8QAAAAKBwHTxAAAAAoHAtPEABAAAA10M8QAAAAKCZWTxAAAAAwMxsPEABAAAA15M8QAAAAKBHwTxAAAAAwMxsPUABAABgZlY9QAEAAGCPMj1A////31F4PUAAAADAHlU9QAAAACCFiz1AAAAAAABQPUAAAABACjc9QAEAAADXMz1AAQAAYGZGPUAAAADAzHw9QAEAAADXkzxAAAAAwPXYPEAAAAAgrnc8QAAAAKCZaTxAAAAAoHBdPEAAAACgmdk7QAAAAGC4vjtAAAAAwB6FO0ABAAAA15M7QP///99ReDtAAAAAgMLFO0AAAAAgrsc6QAAAAKBw7TpA////33qkOkAAAADAzKw6QAEAAADXcztAAAAAgBRuO0AAAAAgroc7QAAAAMDM/DtAAAAAQArXO0D////fUcg7QAAAACCF2ztAAAAAgOuxO0ABAABgZuY7QAAAACCulztAAAAAQOFKO0AAAAAAAIA7QAAAAAAAYDtAAAAA4KNQO0AAAABACrc7QAEAAADXEzxAAQAAYI9SPEAAAACAwnU8QAEAAGCPwjxA////31HYPEAAAACAFB49QAAAAEAz8zxAAAAAIFwvPUAAAABAMzM9QAEAAGBmFj1AAAAAoEchPUAAAACgR2E9QAAAAMDMHD1AAAAAoJkpPUAAAABAM/M8QAEAAGBm9jxAAAAAQOH6PEAAAACA6zE9QAAAAMDMfD1AAAAAoEexPUAAAAAgXK89QAAAAKCZuT1AAAAAQArHPUAAAACAwpU9QAAAAAAAAD5AAAAAoJnZPUAAAADAzBw+QAAAAAAAAD5AAAAAQDPjPUAAAABA4Ro+QAAAAEDhaj5AAAAAwPWIPkAAAAAghTs+QAAAAKCZST5AAAAAgOvBP0AAAABguP4/QAAAAIDrCUBAAAAAACkkQEAAAACgR1FAQAAAAEAza0BAAAAAwMx0QEAAAABguI5AQAAAAGCPokBAAAAAQAqvQEAAAADgo/BAQAAAAKBw9UBAAAAAQDPjQEAAAAAgXAdBQAAAAIDCDUFAAAAAACksQUAAAADAHv1AQAAAAOB6JEFAAAAAYI8iQUAAAADgejxBQAAAAAAAgEFAAAAAwPVYQUAAAAAA12tBQAAAAIDrYUFAAAAAYGZeQUAAAAAgrldBQAAAAAAAaEFAAAAAQDNbQUAAAACgmWlBQAAAAMAebUFAAAAAQAqXQUAAAAAAAKBBQAAAAMDMjEFAAAAAIIXDQUAAAABAM3tBQAAAAOBRqEFAAAAAAACwQUAAAADgemxBQAAAAMAenUFAAAAAgML1QUAAAACAFAZCQAAAAEAK90FAAAAAYLj2QUAAAAAAAOhBQAAAAEAKB0JAAAAAoEcJQkAAAAAgXPdBQAAAAEAz80FAAAAAgBTeQUAAAABAM7NBQAAAAMAevUFAAAAAIFyvQUAAAADAHq1BQAAAAAApvEFAAAAAQAqnQUAAAACAFM5BQAAAAAAA8EFAAAAAwB79QUAAAABACg9CQAAAAKBw/UFAAAAAQOECQkAAAABAMyNCQAAAAKBHcUJAAAAAQOEyQkAAAADgo1BCQP///99RWEJAAAAAwPWgQkABAAAA1ztDQAAAAAApNENAAAAAYGYOQ0AAAABgZlZDQP///99RgENAAAAAgBR+Q0AAAABAMzNDQAAAAOCj6EJAAAAAACksQ0AAAAAAAEBDQP///7/MXENAAAAAQOE6Q0AAAAAgXDdDQAAAAAAAQENAAAAAoHAtQ0AAAABACj9DQAAAAKBwJUNAAAAAYI8yQ0AAAABA4UpDQP///7/MPENAAAAA4KNgQ0AAAAAAAGhDQAAAAIAUZkNAAAAAIK43QkAAAADAHmVCQAAAAAAAcEJAAAAAgD3qQUAAAADA9fhBQAAAAMAe9UFAAQAAANdbQkAAAADgozBCQAAAAOCjOEJAAAAAACkkQkAAAACgcGVCQP///99RIEJAAAAAIK4PQkAAAABguBZCQAAAAGBmDkJAAAAAACkcQkAAAACAFPZBQAAAAOCj4EFAAAAAwMzcQUAAAAAghQNCQAAAACBcF0JAAQAAANc7QkAAAAAAADBCQAAAAEAKf0JAAAAAgD2aQkAAAABgZqZCQAAAACBcz0JAAAAAAADwQkAAAAAgrr9CQAAAAGCP0kJAAAAAoJn5QkAAAABAMytDQAAAAAAAOENAAAAA4Hq8QkD///+/zLxCQAAAAEAzo0JAAAAAwPXoQ0AAAACgmaFDQAAAAIA9gkNAAAAAgOuhQ0AAAABAM9NDQP///99R6ENA////v8z8Q0AAAABAM5NDQAAAAIA96kNAAAAAwB4VREAAAACAFD5EQAAAAOCjEERAAAAAIIW7Q0AAAAAAALBDQAAAACBcx0NAAAAAgD3iQ0AAAACAwg1EQP///7/M9ENAAAAA4HoEREAAAABAMwNEQAAAAKCZeURAAAAA4Hp0REAAAACgmZlEQAAAAAAAeERAAAAAYLhWREAAAABA4UJEQAAAACCFG0RAAAAAAAAQREAAAAAghVNEQAEAAADX+0NAAAAAIK7fQ0AAAABACs9DQAAAACCFA0RA////31HwQ0D///+/zLxDQAAAAKCZeUNAAAAAoEfxQkAAAAAgrr9CQAAAAMD1+EJAAAAAoJk5Q0AAAADgejxDQAAAAGC4JkNA////31FIQ0D////fUUBDQAAAAAApNENAAAAAgMJFQ0AAAABACl9DQAAAAIDreUNAAAAAgOuBQ0AAAABACn9DQAAAAEAzi0NAAAAAIFyXQ0D///+/zLxDQAAAAMD1+ENAAAAAoHANREAAAAAAAJhDQAAAACCFk0NAAAAA4HqcQ0AAAACgR4lDQAAAAMAenUNAAAAAIFynQ0AAAACgR+lDQAAAAOB6fERA////v8z8REABAAAA1ztFQAAAAEAz00RAAAAAAADARUABAAAA14tFQAAAAMAevUVAAAAAwB7VRUAAAAAgheNFQAAAACCF40VAAAAAAACwRUAAAACgR6FFQAAAAEAKP0VAAAAAgMJlRUAAAACgR2FFQAAAAKBHSUVAAAAAwPVYRUAAAAAghatFQAAAAKCZ4UVAAAAAoJnJRUAAAAAAKZRFQAAAAIDCTUVAAAAAYGY+RUAAAAAgXI9FQAAAAIDrIUVAAAAAAADwREAAAADA9SBFQAAAACCuT0VAAAAAYGYmRUD///+/zIRFQAAAAAAAkEVA////v8yMRUAAAAAAKbRFQAAAAAAp3EVAAAAAwPXgRUABAAAA19tFQAAAAKBwxUVAAAAAgMLVRUAAAACgmVlFQAAAAEAzQ0VAAAAAAABgRUAAAADgo1BFQAAAAMAeRUVAAAAAwPWQRUAAAACgR5FFQAAAAIAUrkVAAAAAQDPLRUAAAACgmdFFQAAAAMAepUVAAAAAQOHSRUAAAACAwgVGQP///7/MPEZA////v8wERkABAAAA12tGQAAAACCFU0ZAAAAAoJkpRkAAAACgmSlGQAAAAAAAKEZA////31HQRUAAAAAAAIBFQAAAAMAeRUVAAAAAwPWwREABAAAA19tEQAAAAKBw5URAAAAAAADAREAAAABAM+NDQAAAAGCPWkNAAAAAQOFiREAAAACgRwlEQAAAAIA9okNAAAAAAADQQ0AAAABgZj5EQAAAAKBHYURAAAAAoEc5RUAAAAAghYtFQAAAAKCZgUVAAAAAYI+aRUAAAACgmXlFQAAAAEAzC0ZAAAAAQDNjRkD////fUWhGQAAAAKBHUUZAAAAAYLjmRUAAAADAHj1GQAAAAIAU3kVAAAAAIFzvRUAAAACgR4lGQAAAAEDh0kZAAAAAgD2KRkAAAAAAAFBGQP///7/MVEZAAAAAgD0qRkAAAAAgrudFQAAAAKBH4UVAAAAAAABARUAAAADgegxFQAAAAIA9AkVAAAAAgMK1RUAAAAAAAOhEQAAAAIDr+URAAAAA4HrUREAAAADgevREQAAAAAApnERAAAAAYI+SRUAAAABACl9FQAAAAAApPEVAAAAAAACgRUAAAAAgXIdFQAAAAMAerUVAAAAAwPXYRUAAAADA9eBFQAAAACCuD0ZAAAAAgOs5RkD////fUbhFQAAAAEAzU0VAAAAAYI/aREAAAACgcLVEQAEAAADXU0RAAQAAANeDREAAAAAAAIBEQAAAAAApRERAAAAAwB7NREAAAAAgXOdFQAAAAAAp/EVAAAAAAABIRkAAAACAwiVHQAAAACCuH0dAAAAAoJlRR0AAAAAgrndHQAAAACCur0dA////31GgR0AAAADA9VhHQAAAAIA9QkdAAAAAAACAR0AAAACAFGZHQAAAAAAAgEdAAAAAACmMR0AAAABAM0tHQAAAAOCjmEdAAAAAIFyHR0AAAABAM3NHQAAAAEAKd0dAAAAAQApnR0AAAAAgrn9HQAAAAOB69EdAAAAAgD0iSEAAAAAAKTRIQAAAAOB6REhAAAAAoHDlR0AAAABAM+tHQAAAAOB67EdAAAAAoHANSEAAAACgmfFHQAAAAMD1wEdAAAAAACl8R0AAAADgeiRHQAAAAEAzS0dAAAAAAABoR0ABAAAA10NHQP///7/M7EZAAAAAIK7fRkAAAAAgXCdHQAAAAKBHSUdAAAAAgD36RkAAAACgR3lHQP///99RKEdAAAAAoHAtR0AAAABguNZHQAAAAAAAkEdAAAAAwPWwR0AAAABgj+JHQAAAAOCj8EdAAAAAAAC4R0AAAADA9fhHQAAAAIAUtkdAAAAAwPX4R0AAAACAwtVHQAAAAGBmDkhAAAAAgOshSEAAAAAghVNIQAAAACCuX0hA////v8z8R0AAAACgmclHQAAAAAAp5EhAAAAAYI8SSUAAAADA9eBJQAAAAAAAAEpAAAAAgD0qSkAAAACgmcFJQAAAAMD1MEpAAAAAIIXrSUAAAACA6ylKQAAAAMAeRUpAAAAAQAonSkAAAAAAAHhKQAAAAIAUrkpAAAAAQDNDS0AAAACgmRlLQAAAAEAzw0pA////v8zUSkAAAABAMxNLQP///7/MJEtA////31FgS0D///+/zIRLQAAAAAAA6EtA////31FQTEAAAADAHo1MQAAAACCun0xAAAAAIFxHTEAAAABAM7tLQAAAAGBmnktA////31FAS0AAAACAFB5MQAAAAOCj8EtAAAAAAAA4TED///+/zMRLQAAAAKBHOUtAAAAAAABQS0AAAAAgrodLQAAAAMD1mEtAAAAAgD0aS0AAAAAAAHhLQAAAAAAAoEtAAAAAgD36S0AAAACgRxlMQAAAAGBmfkxAAAAAAABoTEAAAACgmcFMQAAAAMD12ExAAAAAYLh+TEAAAABguMZLQAAAAOB69EtAAAAAYLguTEAAAADgo9BKQAAAAKBwjUtAAAAAwB6lS0AAAACAwl1LQAAAACCFO0tAAAAAgOtBS0AAAACgR3lLQAAAAGCP+kpAAAAAQDPTS0AAAABguDZLQP///7/M/EpAAAAAgBRmS0D///+/zGRKQAAAAAApHEtAAAAAoJlhS0AAAACgmTFKQAAAAKCZiUlAAAAAoHA9SUAAAABACr9JQAAAACBcP0pAAAAAoJmxSUAAAAAAAOBIQAAAAAAp9EdA////v8w8SEAAAADgeoxHQAAAAAAA0EdAAAAAAADAR0ABAAAA10tGQAAAACBcd0ZAAAAAgBTeRUAAAAAgrsdFQP///99RcEVAAAAAIFwXRkAAAADAHtVGQAAAAKBHiUZAAAAAYLgOR0AAAABgZp5GQP///99ReEVAAAAAIK6vRUAAAAAAAKBEQAAAAMAedUVA////v8xMRUAAAAAgrk9FQAAAAAAAIEVAAAAAYGauREAAAAAAKaxEQAAAAAAAwERA////v8wMRED///+/zIRCQAAAAKCZiUJAAAAAQOF6Q0AAAAAAALBDQAAAAMD10ENAAAAA4HpcQ0AAAAAgXP9BQAAAAMD1EEJAAAAAYGaWQkAAAACA67FCQAAAAKBH6UJAAAAAAAAQQ0AAAAAAKRxDQAAAAEAz20JAAAAA4KPIQkAAAABgjyJDQAAAAGBmRkNAAAAAAACwQ0AAAADAHo1DQP///7/MRENAAAAAIIVDQ0AAAAAgXG9DQAAAAKBHeUNAAAAAAACIQ0AAAAAAAGhEQAAAACCFw0RAAAAAYLjeREAAAADAHu1EQAAAACCFm0VA////v8zURUD///+/zIxFQAAAACCuH0VAAAAAoJlhRUAAAABAM0NFQAAAAOB6bEVAAAAAYLg2RUAAAAAAAGhFQAAAAGC4NkVAAAAAgBRmRUAAAACgmXlFQAAAAGCPckVAAAAAwB7FRUAAAABguLZFQAAAAGC4pkVAAAAAgD3KRUAAAADA9chFQAAAAIAU9kVAAAAAgBT+RUAAAACgcNVFQAEAAADXu0VAAAAAgD1KRUAAAAAgru9FQAAAAAAAgEZAAAAAAADIRkD///+/zPxGQAAAAEAzG0dAAAAAoJk5R0AAAABAM4tHQAAAACBcR0dAAAAA4KPAR0AAAABA4WpIQP///99R8EdAAAAAwB71R0AAAAAAAJhHQAAAAGBmnkdAAAAAYI+6R0AAAADgevRHQAAAAEDh4kdAAAAAAAAoSEAAAACgR1lIQAAAAGBmjkhAAAAAoHCNSEAAAACAPQpJQAAAAIDC1UhAAAAAQDMbSUAAAABgZuZIQAAAAGCP0khAAAAAYLjuSEAAAACgR/FIQAEAAADXY0lAAAAAYI9aSUAAAACAwo1JQAAAACCF60lAAAAAYI/aSUD///+/zJxJQP///7/MjElAAAAAgOthSUAAAAAAKTxKQAAAAEDhOkpAAAAA4HpcSkAAAACgR4lJQAAAAAApvElA////v8w8SUD///+/zAxJQAAAAGC4dkdAAAAAwB5NR0AAAADgo0hHQAAAAMAevUdAAAAAgMJdR0AAAADgo/BGQAAAAEAKJ0dAAAAAwB4VR0AAAACgmXlGQAAAAGBmhkZAAAAAoHBdRkAAAACgcA1GQAAAAGBmPkZAAAAAIFwHRkAAAABAM/NFQAAAAIAU7kVAAAAAwPUIR0AAAABgj+JGQP///99RUEdAAAAAgOv5R0AAAAAghVtIQAAAAGBmVkhAAAAAoJnxR0D///+/zBxIQAAAAKCZgUhAAAAAgML1SEABAAAA1wtJQAAAAKCZ2UhAAAAAoEfRSEAAAACAws1IQAAAAOCjuEhAAAAAoEcJSUAAAACAwtVIQAAAAKBwZUlAAAAAwB4tSUAAAADA9WhJQAAAAEAza0lAAAAAgOsZSUAAAABgZuZIQAAAAEAzO0lAAAAAgOtpSUAAAABgZk5JQAAAAEDhkklAAAAAoJmBSUAAAAAAAIBJQAAAAKBHuUlA////v8x0SUAAAABguA5KQAAAAKBw9UlAAAAA4HocSkAAAAAgXO9JQAAAAGC4DkpA////31EYSkAAAACgcA1LQP///7/MvEpAAAAAwPWwSUAAAAAgrr9IQAAAAIDriUhAAAAAwB5tSEAAAABgZgZJQAAAAKCZKUlAAQAAANfzSEAAAADgoyBJQAAAAMAeZUlAAAAAYLhuSUAAAADA9YhJQAEAAADXU0pAAAAAAClcSkAAAAAgrp9KQAAAAIAUpkpAAAAAgMItSkAAAAAghbtJQAAAACCF+0lAAAAAQDODSUAAAAAAABBKQAAAAMAeRUpAAAAAgMLNSUAAAADgegxKQAAAAAAAgEpAAAAAoJnBSkAAAABA4dpKQAAAACCFu0pAAAAAgD1CS0AAAACgmRlMQAAAAAAAgEtAAAAAIFw3S0AAAABguH5LQAAAAIDroUtA////31HAS0AAAAAAKaxLQAAAAGBmXktAAAAAwPWgS0AAAACgmVFLQAAAAAAAgEtAAAAAoEeRS0D///+/zJxLQAAAAIA9IkxAAAAAgOvhS0AAAACAwk1LQAAAAOB6NExAAAAA4KNITEAAAACAPTpMQAAAAMD1YExAAAAAgMJ9TEAAAABgZh5NQP///7/MXE1AAAAA4HqMTUABAAAA1ytNQAAAAEDhYk1AAAAAQOFSTUAAAADgo7BNQAAAAMAeJU5AAAAAQDNDTkD////fUZBOQAAAAMAeZU5AAAAAoHDtTkAAAABACh9PQP///99RmE5AAAAAIK7nTkAAAACgRzFPQAAAAKBHFVBAAAAAwMwQUEAAAADgUQxQQAAAAADXK1BAAAAAwMwkUEAAAADAzFhQQAAAAIAUUlBAAAAAAAB8UEAAAABA4XpQQAAAAMDMnFBAAAAAYGa+UEAAAADgo5hQQAAAAEAKe1BAAAAAoHBpUEAAAAAgXGtQQAAAAEAKr1BAAAAAoEeZUEAAAACgmalQQAAAAOBRtFBAAAAAwPUkUEAAAADAHlFQQAAAAOCjfFBAAAAAIK63UEAAAAAAAOBQQAAAAKCZyVBAAAAAwPXMUEAAAADgerxQQAAAACBc91BAAAAAAABQUUAAAADAHnlRQAAAAMDMfFFAAAAAAAB4UUAAAAAgrqNRQAAAAOB6iFFAAAAAQArLUUAAAADAHs1RQAAAAIDrMVJAAAAAIFwXUkAAAABA4R5SQAAAAADXg1JAAAAAYGaSUkAAAADgo1xSQAAAAKBwvVJAAAAAYI+SUkAAAAAA1zNTQAAAAKCZaVNAAAAAgD16U0AAAABAM8tTQAAAAKCZfVNAAAAAoHCZU0AAAADgUcRTQAAAAEAK01NAAAAAoEfpU0AAAABguN5TQAAAAAAABFRAAAAAwPVgU0AAAACgmYlTQAAAAEAzR1RAAAAA4KMIVEAAAABA4Q5UQAAAAMDMBFNAAAAAwPW0U0AAAADgUThUQAAAAMAeKVRAAAAAgOslVEAAAABA4aJTQAAAAKCZOVRAAAAAIIUXVEAAAABACkNUQAAAAADXS1RAAAAAgMK1U0AAAAAAAABUQAAAAIAUKlRAAAAAgOvpU0AAAAAAKZRSQAAAAEAzz1JAAAAA4HroUUAAAACgmZFRQAAAAAApFFBAAAAA4HqkUUAAAABguPpSQAAAAEAKh1JAAAAA4FF4UkAAAAAAAKBRQAAAAAAAfFBAAAAAgD1SUUAAAACAPVZRQAAAAIAU/k9AAAAAgD2OUEAAAABgZj5OQP///99R8E5AAAAA4KP4TUAAAADgeuxOQAAAAIDC5U5AAAAAYI+CTEAAAAAghYtNQAAAAAAAWE9AAAAA4KPQTkAAAAAAAJhPQAAAACCuV09AAAAAQDPzT0AAAAAAANBOQAAAAEDhCk5AAAAAoJlZTkD///+/zFxPQAAAAMDM7FBAAAAAANdrUEAAAABAM8tQQAAAAMD1xFBAAAAAAACAUUAAAABgZqZRQAAAAIAU9lFAAAAAQArLUUAAAABAM19RQAAAAOB6RFFAAAAAgMIZUUAAAACA6z1RQAAAAEAzU1FAAAAAwMycUUAAAAAgrstRQAAAACBcH1JAAAAAAADkUUAAAABguBJSQAAAAMD1cFJAAAAAIFzHUkAAAACAPRpTQAAAAKCZQVNAAAAAoEfdU0AAAABgZoJTQAAAAAApCFNAAAAAoJnFUkAAAABguJJTQAAAAOB6sFNAAAAAQOHKU0AAAABgj+pTQAAAAOBRvFNAAAAAAAA4VEAAAACAPcJTQAAAAOBRzFNAAAAAAADcU0AAAAAAAAxUQAAAAGCPSlRAAAAAgD1GVEAAAACgmTVUQAAAAAAApFRAAAAAgD3CVEAAAABgZr5VQAAAAMD11FVAAAAAIIWLVUAAAAAAANRUQAAAACBc91VAAAAAYGYyVkAAAABgj/ZVQAAAAIA9KlZAAAAAoHD1VUAAAAAAAMBWQAAAAAAA0FZA////PzOLVkAAAABgj8ZWQAAAAAAAFFZAAAAAoEeBVkAAAACA69FWQAAAAKCZ/VZAAAAAAAAgV0AAAABgj3ZXQAAAACCFi1dAAQAAwMwQWEAAAACgcNVXQAAAAMD1UFhAAAAAgMK1V0D///8fXL9YQAAAAAAAJFhA////PzM/WEAAAABguBpYQAAAAEAKy1hA////31EsWEABAAAA1z9YQP///z8zv1ZAAAAAoHBtV0AAAAAghZdXQAAAAAAAcFdAAAAAAACMV0ABAADgo7hZQAEAAMDMDFtAAAAA4HpIW0D/////KFhbQAAAAIDrmVtA////vx5NXEAAAABgZiZcQAAAAIAU/ltAAQAAANefW0AAAAAghZtcQP///78etVxAAAAAAAAEXUAAAABgj5ZcQAEAAEDh/lxAAAAAAADwXEABAADAzNBdQAAAAOBRFmBAAQAA4KMsX0AAAAAghYtfQP///78eyV9AAQAAwMyAX0D///+/HuVfQAAAAOBRmGBAAAAAQOEyYUAAAACAPbpfQAAAAOB6BF5AAQAAwMx8XEABAADgo1BdQAAAAEAKF15AAAAA4HqkXEAAAACAFK5cQP///78elV1AAAAAYLjOXEAAAACAFG5bQAAAAKCZmVtAAAAAYI8iWkAAAAAghStcQAEAACCu51tAAQAAQOFKWkAAAAAghRtbQAEAAOCjwFxA////PzOjXEAAAABgj3JcQAAAAMD1aF1AAAAAwPU4XEAAAACAPXpcQAEAAMDM7FxAAQAAIK6nXEAAAAAAABBdQAAAAIDr0VxAAQAAANcDXkAAAACgR1FfQAAAAAAAQF5AAAAAgBSuXUAAAACA61FeQAAAAKBw/V1AAQAAwMwMXUABAABA4SpdQAEAAMDMXF1AAAAAwPUYXUABAADgo4BcQP///x9c31xA////PzPDXEABAAAgrhdcQAEAAADXw1tAAAAAQApHW0AAAACAPWpbQAAAAMD1iFxAAQAAwMx8XUAAAADgepRdQAAAAAAAIF5A////PzPjXED/////KExdQAEAACCu511A/////yjcXUABAABA4bpdQP///z8z411AAAAAQAqnXUAAAACAwmVdQAAAAMD1qF1AAAAAIIVLXUAAAACAPXpcQP///z8z41xAAAAA4HokXUAAAACAFD5dQAEAAOCjQF5AAAAAoEeBXkAAAACgR+FeQAAAAGBmpl5AAQAAANeTXkABAAAgrhdfQAAAAIDrIV9AAAAAAAAgXkAAAAAghZteQAAAAGBmpl5AAAAAgMIVX0AAAACAPdpfQAAAAMDMHGBAAAAAYLgeYEAAAACgR0FfQAAAACCFc2BAAAAAwB6FYEAAAACAPWpgQAAAACCuv2BAAAAAoJlBYUAAAABgj/JgQAAAAGCPwmBAAAAA4KOwYEAAAADgehxgQAAAAIAU7l9AAAAAIIULYEAAAACAwo1gQAAAAIAUJmBAAAAAAAAQYEAAAADgURhgQAAAAKCZWWBAAAAAwPUYYEAAAACA6/FfQAAAAMAeFWBAAAAAoJm5YEAAAADA9QhhQAAAAIA94mFAAAAAQDPzYUAAAACAwu1hQAAAAOCjcGFAAAAAYI/6YEAAAAAAALhgQAAAACBc92BAAAAA4FH4YEAAAACgmQlhQAAAAEAzK2FAAAAAwPUAYUAAAAAA1xNhQAAAACBcD2FAAAAAwMz8YEAAAABAM8tgQAAAACCu72BAAAAAAABoYEAAAABgZiZgQAAAACCuR2BAAAAA4FEAYEABAADgo/BeQP////8oPF9AAAAAIIUrX0AAAACAwqVeQAAAAAAA8F5AAAAAwB4NYEABAAAA1zNfQAAAAAAAcF5AAAAAYLg+XkAAAAAghTteQAAAAIDrwV1A/////yhsXkAAAABgj6JeQAAAAKCZGV5AAAAAgD1aXkABAADAzGxfQP///z8zA19A////31G4XkAAAACgmfldQP///78eFV5A////vx7VXkAAAADgerReQAAAAGCP4l1AAAAAYGYWXkAAAACgmWleQAAAAEAKB15AAAAAoJlpXkAAAACAPepeQAEAACCu915AAAAAAACgX0D///+/HnVfQAAAAGBmHmBAAAAAoJk5YEAAAADgo5BgQAAAAIAUjmBAAAAAgBTeYEAAAACAPbpgQAAAAKCZyWBAAAAA4FGwYEAAAADgo+BgQAAAACCFi2BAAAAAoEehYEAAAADAHoVgQAAAAGCP2mBAAAAA4FHgYEAAAACA68lgQAAAAEAKD2FAAAAAwPV4YEAAAACgR4FgQAAAAIAUZmBAAAAAYGYmYEAAAADA9fhfQAAAAEAzW2BAAAAAwB4tYEAAAAAAAOBeQAAAAKCZ2V5A////vx4lX0AAAAAAAJBfQAAAAOB6tF9AAQAAANejX0AAAACAPcpeQAAAAGC4Tl9AAAAA4Hr0X0ABAADgo4BfQAAAAOB69F9AAAAAoHC9X0D/////KJxfQAAAAOB6ZF9A////vx5FX0AAAACA6xFfQAAAACCFK19AAAAA4HoEX0ABAABA4YpfQAAAAGBmpl9AAAAAoHDNX0AAAACgR8FfQAAAAIDroV9AAAAA4Hr0X0AAAACAFD5gQAAAAADXS2BAAAAAoJk5YEAAAABguFZgQAAAAKCZSWBAAAAAACmEYEAAAADgo7hgQAAAAGBmzmBAAAAAYLiuYEAAAADAHq1gQAAAAKCZ2WBAAAAAoHAFYUAAAABAMxNhQAAAAMDMPGFAAAAAgD2CYUAAAACgR/FhQAAAAGCPsmFAAAAAAADYYUAAAABguEZiQAAAAMD1AGJAAAAAQDODYkAAAAAgrqdiQAAAAGC4jmJAAAAAAAD4YUAAAABguO5hQAAAAMD1MGJAAAAAgBQ+YkAAAACgmXFiQAAAAOCjiGJAAAAAANejYkAAAACA6xliQAAAAIAUFmJAAAAAACkMYkAAAAAghUtiQAAAAIDrOWJAAAAA4KNoYkAAAAAgXF9iQAAAAEAzS2JAAAAAYGZGYkAAAACAFE5iQAAAAKCZQWJAAAAAgBRGYkAAAABACp9iQAAAAKBHkWJAAAAAIFzHYkAAAACgmbliQAAAAMD1IGJAAAAAgBRuYkAAAACA64liQAAAAGBmrmJAAAAAgOu5YkAAAABAM4tiQAAAACBcb2JAAAAAAACgYkAAAADAHhVjQAAAAGCPGmNAAAAAANc7Y0AAAADgUThjQAAAAEAKX2NAAAAAIFyfY0AAAAAgrm9jQAAAAAAAYGNAAAAAACnUYkAAAABAM8tiQAAAAIDrkWJAAAAAgBSOYkAAAACAPZpiQAAAAKCZ+WFAAAAAgML9YUAAAABgZg5iQAAAAMDMVGJAAAAAwB41YkAAAABACi9iQAAAAAAA6GFAAAAAQArPYUAAAADAHvVhQAAAAMDMvGFAAAAA4FG4YUAAAAAgrm9hQAAAAEAKb2FAAAAAgOvhYUAAAADA9QBiQAAAAOCjyGFAAAAAIFznYUAAAAAgrqdhQAAAACCFw2FAAAAA4KP4YUAAAABgZu5hQAAAAOBRYGJAAAAAYGaWYkAAAACA65liQAAAAIAUtmJAAAAAgMKVYkAAAABgj6piQAAAACCFq2JAAAAAgD26YkAAAABACmdiQAAAACCun2JAAAAAwB6VYkAAAADgesxiQAAAAGCP8mJAAAAA4Hr8YkAAAADAHu1iQAAAAGBmxmJAAAAA4KPAYkAAAABguJ5iQAAAAIDCjWJAAAAAANfLYkAAAACAFL5iQAAAAAAA4GJAAAAAYLg2Y0AAAADAzLRjQAAAAIDCNWRAAAAAANcjZEAAAAAAABhkQAAAAIA98mNAAAAAANfrY0AAAAAgrv9jQAAAACBc72RAAAAAIK7XY0AAAADgo4BkQAAAAKBHiWRAAAAAYI8iZUAAAAAAKYRlQAAAAMAe3WVAAAAAYLjmZUAAAAAA16NmQAAAAAAA6GVAAAAAIIXjZUAAAADA9WhmQAAAAIDCPWVAAAAAwPUIZUAAAACA63FlQAAAAKBHoWVAAAAAQDP7ZUAAAABA4SJmQP///78ehWZAAAAAYI9qZkAAAABACm9mQAAAAEDhQmZAAAAAYI86ZkAAAAAAKdRmQAAAACCFc2ZAAAAAYGaWZUAAAADgepxlQAAAAGCPImVAAAAAgD2KZUAAAAAA1wNmQAAAAMD1+GVAAAAAQOFqZUAAAADgUXBlQAAAAAAAQGVAAAAAIFzfZEAAAACgcI1kQAAAAOCjAGRAAAAAIFzfY0AAAAAAAHBkQAAAAGBmTmRAAAAAYLi2ZEAAAADAHkVlQAAAAOBRwGVAAAAAAADYZUAAAAAgXM9lQAAAAIDCdWVAAAAAIIWbZUAAAAAgXHdlQAAAAKCZAWZAAAAA4HrEZUAAAABgj4plQAAAAADX62RAAAAAQApfZUAAAABAM3tlQAAAAMD1YGVAAAAAgD06ZUAAAAAgXJ9kQAAAAKBHsWRAAAAAYI8SY0AAAABA4XpkQAAAAIDrYWRAAAAAYGaWZEAAAADgeoxkQAAAAEAKD2VAAAAAIK6PZEAAAAAghWtkQAAAAIA92mNAAAAAIFwvZEAAAABgZgZkQAAAAIDC3WNAAAAAYGbuYkAAAADAzNxiQAAAAKCZoWNAAAAAIIXTY0AAAADgURBkQAAAAOBRcGRAAAAA4FGwZEAAAAAgrv9kQAAAAIDrYWVAAAAAACm8ZUAAAACgcIVlQAAAAIAUFmZAAAAAoJlRZkAAAABA4TpmQAAAAMD1wGVAAAAAgD3SZUAAAAAAADBmQAAAACCFi2VAAAAAwB5lZUAAAADA9XhlQAAAAGC4FmVAAAAA4KMAZUAAAADgeuxkQAAAAADXU2VAAAAAoHB9ZEAAAADgo6BkQAAAAOBRGGVAAAAAwB4dZUAAAABguM5kQAAAAADXI2RAAAAAAABIZEAAAADAHn1jQAAAAAAA6GNAAAAAQOE6ZEAAAABguJZjQAAAAMDMxGNAAAAAoHD1Y0AAAABAM3tkQAAAAOBRgGNAAAAAgMJdY0AAAADgo3BjQAAAAAAAMGNAAAAA4KPYYUAAAABA4RJiQAAAAKCZMWJAAAAAIIWbYkAAAABAM1tiQAAAAAApfGFAAAAAQOFiYUAAAACgRzlhQAAAAIDrmWFAAAAAgMJNYUAAAADgeixhQAAAAOB6LGJAAAAAgD2iYkAAAADAzLxiQAAAAGCPemJAAAAAwMxcYkAAAADA9WBiQAAAAEAzC2JAAAAAYI+SYkAAAABgj2JiQAAAAMD1iGFAAAAAANebYEAAAAAAKaRgQAAAAKBHyWBAAAAAYI+CYEAAAACAPUJgQAAAAKBwrWBAAAAAoEfZYEAAAACAPRphQAAAAMDMfGFAAAAAYGbWYUAAAAAAKcRhQAAAAGC4LmFAAAAAAAAoYUAAAACgRwFhQAAAAOCjOGFAAAAAQDOrYUAAAACgR+lhQAAAAOBRKGJAAAAAoHA1YkAAAADgUThiQAAAACCu32FAAAAAYI8CYkAAAADA9bhiQAAAACCu12JAAAAAoHB9YkAAAAAA1+NiQAAAAAAAUGNAAAAA4HpsY0AAAADgUUBjQAAAAOBRCGNAAAAAYI8SY0AAAAAgXJ9jQAAAACCuJ2RAAAAA4FEgZEAAAABAMwNkQAAAAEDhGmRAAAAA4FHAZEAAAABguGZkQAAAAADXy2RAAAAA4KOAZEAAAACAwvVkQAAAAIDrQWVAAAAAgD06ZUAAAADgo3BlQAAAAMD1mGVAAAAA4KOYZUAAAAAAALhlQAAAAMD1oGVAAAAAgBQ2ZUAAAABgj+JkQAAAAIA96mRAAAAAwPUYZUAAAACAPVJlQAAAAMDMJGRAAAAAAClEZEAAAACA6wlkQAAAAOB6lGNAAAAAAAD4Y0AAAABACo9jQAAAAIA9WmNAAAAA4HpUY0AAAABACm9jQAAAAEDh8mNAAAAAwMz8Y0AAAACgR1ljQAAAAMDMVGNAAAAAYLjmYkAAAACA66liQAAAAMDMLGNAAAAAQOGqY0AAAAAAKQxjQAAAAIAU5mJAAAAAwB61YkAAAAAgrhdjQAAAAOB6dGJAAAAAQDNDYkAAAADA9ahhQAAAAGC4RmFAAAAAwPUgYkAAAACAPQJiQAAAAIDrOWJAAAAAoEfRYUAAAACgcI1hQAAAAMDMfGFAAAAAAClkYUAAAAAgrt9gQAAAAIDrCWJAAAAAgD2iYUAAAAAgri9iQAAAAIAUtmFAAAAA4KPgYUAAAAAA19thQAAAAIAUZmJAAAAAQOHCYkAAAABguN5iQAAAAIA9gmJAAAAAYGaGYkAAAADAHiVjQAAAAGCPYmNAAAAAYGaeYkAAAACA68FhQAAAAEDhwmFAAAAAIIUjYUAAAADAHo1hQAAAAAAAUGFAAAAAIK6nYUAAAACAPTpiQAAAAEAKn2JAAAAAQAoHY0AAAAAAKaRiQAAAAIDCTWJAAAAAgOsJY0AAAADAHsViQAAAAAAphGJAAAAAYGauYkAAAACA64liQAAAAOB6JGJAAAAAoEcJYkAAAADAzKxhQAAAAGC4hmJAAAAAYLg+YkAAAADgo3hiQAAAAIA9YmJAAAAAgBTGYUAAAAAghcthQAAAAEDhymFAAAAAYGbWYUAAAAAAALBiQAAAAEAzK2JAAAAAIIWjYUAAAACAFBZhQAAAACCF42BAAAAA4HpsYEAAAAAgXJ9gQAAAAEAzy2BAAAAAoHBdYEAAAAAAKWxgQAAAAKBwNWBA////H1z/X0AAAADAHg1gQAAAAMD1SGBAAAAAwPW4X0D////fUchfQAEAAOCjgF9AAAAAQApPYEAAAADgUUhgQAAAAAAAaGBAAAAAACm8YEAAAADA9YBgQAAAAGCP2mBAAAAAgD0aYUAAAABgj8JgQAAAAMD16GBAAAAAANdDYUAAAACA64lhQAAAAOB6nGFAAAAAoHDlYUAAAADAHuVhQAAAAGC4HmJAAAAAYGbWYUAAAABACv9hQAAAAMDMnGJAAAAAwPWAYkAAAACAPRJjQAAAAOB61GJAAAAAACk8Y0AAAADA9ThjQAAAAGC4rmJAAAAAYGbeYkAAAAAA1wNjQAAAACCFI2NAAAAA4FEwY0AAAABAMwtjQAAAAGBmxmJAAAAAANebYkAAAABA4cJiQAAAACCFY2JAAAAAYLh2YkAAAACgmWFiQAAAAGCPWmJAAAAAACkMYkAAAACgR4FiQAAAAKBHOWNAAAAAYGY2Y0AAAACA6xljQAAAAIDrMWNAAAAAYLjGYkAAAACA63liQAAAAMD16GJAAAAAgBTmYkAAAADAHgVjQAAAAGCPgmNAAAAAgD1iY0AAAACAPapjQAAAAKCZ6WNAAAAAYI/aY0AAAAAghdtjQAAAAIAU/mNAAAAAQAq/Y0AAAAAA1+tjQAAAAMD1MGRAAAAAgBROZEAAAADgo4hkQAAAAEAz02RAAAAAIK6XZEAAAACAwk1kQAAAAKBwLWRAAAAAQDNLZEAAAABACidkQAAAAAApNGRAAAAAQOGSZEAAAABA4aJkQAAAAEAzw2RAAAAAoJm5ZEAAAABA4cJkQAAAAKCZoWRAAAAAAACgZEAAAACAFKZkQAAAAIDrYWRAAAAAgBSmZEAAAAAgrg9lQAAAAMD1KGVAAAAAQOFCZUAAAAAAADBlQAAAAOB6nGRAAAAAIFxfZUAAAAAgXI9lQAAAAKCZoWVAAAAA4KOgZUAAAABAM7tlQAAAAADXs2VAAAAAwB6lZUAAAAAgrn9lQAAAAGC4dmVAAAAAAACgZUAAAADgegxmQAAAACBcv2VAAAAAACmkZUAAAABA4WJlQAAAAMAejWVAAAAAgD2qZUAAAABguB5mQAAAAGCPKmZAAAAAYGY2ZkAAAADA9aBmQAAAAAAp1GZAAAAAQAp/ZkAAAACAFE5mQAAAAMDMPGZAAAAAAACwZkD////fo6hmQAAAAKCZ2WZAAAAAANfrZkAAAABguP5mQP///x9cV2dA////vx4NZ0ABAADAzBxnQAEAACCu92ZAAAAAoJkxZ0AAAABgj1pnQAAAAOB6PGdAAAAAgMJ9Z0AAAABgj6JnQAAAAAAp9GdAAAAAwPU4aEAAAACAPfJnQAEAAEDhumdA////vx7tZ0ABAADgUahnQP///78epWdAAAAAgMK1Z0AAAAAAANBnQP///x9cx2dAAQAAwMz8Z0D///8/MytoQP///z8zI2hAAQAAQOFiaED///8/M0NoQP///78eLWhAAAAAYI8qaEAAAACgcDVoQP///9+jgGhAAAAAoHBVaED///9/64FoQAEAACCuh2hAAAAAoEdhaEAAAACAPfJnQP///9+jMGdAAAAAACnEZkAAAACAFHZmQAAAAADXm2ZAAAAAIFxvZkAAAACAPSpmQAAAAEAKP2ZAAAAAAClcZkAAAAAAKSRmQAAAAOB6JGZAAAAAoJmJZUAAAACAPeJlQAAAAIDrIWZAAAAA4KNQZkAAAACgcJVmQAAAAAApLGZAAAAAQOGCZkAAAABgZnZmQAAAAIAUHmdAAQAAQOF6Z0ABAAAgrq9nQAAAAMD1iGdAAQAAwMyMZ0AAAACAwuVlQAAAAEAzS2ZAAAAAgD2CZkAAAAAgrm9mQAAAAOBREGZAAAAAAADAZUAAAAAgXA9mQAAAACBcD2ZAAAAA4KMwZkAAAADgUWhmQAAAAKCZ0WVAAAAAoHDVZUAAAABgZsZlQAAAAIA92mVAAAAAANeTZUAAAABA4SplQAAAAOCjgGVAAAAAQApnZUAAAADgUYhlQAAAAEDhYmVAAAAAoEe5ZUAAAACgmbllQAAAAIDrGWZAAAAAQDNDZkAAAABgZkZmQAAAAIA9gmZAAAAAoHCtZkAAAAAAABhmQAAAAMDMFGZAAAAAYI/yZUAAAACgRwFmQAAAAIDr6WVAAAAAwB5dZUAAAACgmaFlQAAAAAApfGVAAAAAANdLZUAAAADAHt1kQAAAAOCjIGVAAAAAQDMrZUAAAAAAAGBlQAAAAOCj8GVAAAAAIK7HZUAAAAAAKQxmQAAAAIDCZWZA////PzPLZkAAAABguN5mQAAAAEAK/2ZAAAAAgD06Z0AAAABgZnZnQP///z8ze2dAAAAAgD2yZ0AAAAAAAMhnQAAAAOB6vGdA////vx7tZ0ABAAAgru9nQAAAAADX22dAAAAAoHC9Z0AAAADA9bhnQAEAAMDM3GdAAQAAQOG6Z0AAAABgj8pnQP///x9cv2dAAAAAYLjGZ0AAAABgZk5oQAAAAAApNGhAAAAAYGZGaEABAAAghSNoQAAAAGCPImhAAQAAQOFiaED////fo8BoQAAAAMD1sGhAAQAAQOGCaED///+/HoVoQAEAAMDMnGhA////PzODaEAAAACAwmVoQAEAACCFM2hAAQAAIK4PaEAAAADgekRoQAEAAMDMPGhAAQAAwMxkZ0AAAABACgdnQAEAAMDMxGZAAQAAIK6/ZkABAABA4cJmQAAAAKBw/WZA////PzMLZ0AAAACgR1FnQP///3/rQWdA////vx7FZkD////fo6hmQAEAAEDhQmdAAAAAYI+qZ0AAAACgmQloQP///9+jYGhAAAAAoHBtaEAAAABACmdoQP///9+jSGhAAQAA4FEAaEAAAACAFN5nQAAAAKBHYWdAAQAAIK7/ZkAAAAAghXtmQAEAAMDMhGdAAQAAIIVbZ0AAAADgetRnQAAAAOB6rGdAAQAAwMyUZ0AAAACgcI1nQP///9+jOGdAAAAAgD0qZ0AAAACgmfFmQAAAAKBw7WZAAAAAoEe5ZkAAAACAFL5mQP///x9c72ZAAQAA4FEgZ0ABAAAgrsdmQP///z8zo2ZAAQAA4FHQZkD////fo6hmQAAAAKCZcWZAAAAAwMwEZkAAAADgUVhlQAAAAIDrYWVAAAAAwMwkZUAAAAAAACBlQAAAAIAUnmVAAAAAwMykZUAAAADgo5hlQAAAAMAenWVAAAAAoHBlZUAAAACAPfJlQAAAAEDhymVAAAAAQAr3ZUAAAACgmSFmQAAAAOBReGVAAAAAgD1SZUAAAAAAAEBlQAAAAMAeTWVAAAAAAAB4ZUAAAACAFGZlQAAAAGCPImVAAAAAoEcZZUAAAACgR0llQAAAAEDhMmVAAAAAwPUgZUAAAABgZhZlQAAAAKCZGWVAAAAAQOEKZUAAAADgUchlQAAAACCF62VAAAAAAAB4ZUAAAAAghTNlQAAAAMD1AGVAAAAAYLjGZEAAAADgo7BkQAAAAEAzq2RAAAAAoEfRZEAAAADA9TBlQAAAAAApPGVAAAAAANerZUAAAABgj6plQAAAAGCPMmVAAAAA4FGQZUABAADAzFRnQP///z8zy2ZAAAAAYGbuZkD///8/M9tmQP///3/r0WZAAQAAwMwcZ0AAAACAFC5nQAEAAOBRcGdA////vx59Z0AAAABACs9nQAEAAOBRsGdAAAAAYI+qZ0ABAABA4eJnQP///9+jCGhA////H1zfZ0AAAACAPZpnQAEAAOBR8GdAAQAAIIWzZ0ABAADgUdhnQAAAAIAU7mdAAQAAwMwcaEAAAADgelRoQAEAAMDMbGhAAAAAgBR2aEABAADAzFRoQAEAAMDMnGhAAQAAwMw0aEAAAAAA1+tpQAEAACCu12pA////PzO7akAAAAAA16tqQAEAAEDhMmtAAAAAgMK9akAAAADgekxqQAAAAEAK92lAAQAAwMwkakAAAAAAAHBqQAAAAIAU1mpA////36P4akABAABA4YJqQAEAAMDMBGtAAAAAAACAa0ABAADAzLRrQAEAAEDhYmxAAAAAgMJ9bEAAAACgmalsQAAAAOB67GxAAAAAoHCdbED///8fXI9tQAAAAAAAYG1AAAAAYGaubEAAAADA9chsQAAAAIA9GmxAAQAA4FFgbEAAAAAA1wtsQAAAAAAAAGxAAAAAgMJda0AAAABgZlZrQAAAAGC4HmtAAAAAgBRma0AAAACAFK5rQAAAAADXC2xAAQAAwMxka0ABAABA4eJoQAAAAKCZqWlAAQAAwMzcaUABAAAghaNqQP///z8zg2pAAAAAgD0Ca0ABAADgUWBrQAAAAIA9kmtA////PzMTbEAAAACgcP1rQAAAAEAKN2xA////36M4bED////fo1BsQAAAAKBHeWxA////vx41bEABAADgUVhsQAAAAAAAQGxAAAAAoHB9bED///8/M8NsQAAAAIAUxmxAAAAAoJmRbED///+/HrVrQAAAAAAptGtAAAAAYGb+a0AAAACAPZprQAAAAKBwXWtAAAAAYLiua0AAAAAAANBrQAAAAGCP8mtAAAAAoEcRa0AAAAAAAPhqQAAAAKCZMWtAAQAAIK4fbEAAAABACr9sQAEAAEDhamxAAQAAwMyUbEAAAACAwh1sQAAAAKCZaWxAAAAAYLiObEAAAACgR8FsQP///9+jsGxAAAAA4Ho8bEAAAADgeiRsQAEAAMDMfGxAAAAAAAAQbEAAAACgmQlsQP///x9cJ2xAAAAAwPV4bEAAAACgmalsQAAAAGBmlmxAAQAAIIUzbUD///8/M/NsQAAAAIDCLW1AAAAAgMKFbUAAAABgZk5tQAAAAOB6PG1AAAAAYI9CbUD///8fXL9sQAEAACCut2xAAAAAgD0qbUD///8/MyNtQAEAACCFE21AAQAAQOGqbEAAAABACp9rQAEAACCun2tAAAAAoJm5a0ABAAAghdNrQAAAAAApFGxAAAAAoHBlbEAAAAAAACBsQAAAAKCZEWxAAQAA4FEAbED////foyBsQAEAAMDMTGxAAAAAAAAobED///8fXF9sQP///3/rgWxAAAAAACmcbED///9/64FsQAAAAGC47mxAAAAAYI8qbUAAAABACk9tQP///3/rWW1A////36OobUD///9/6/ltQAAAAADXW25AAQAAIK5/bkD///+/Hl1uQAAAAGCPOm5AAAAA4HrcbkAAAABguP5uQAAAAOB63G5AAAAAgD36bkABAAAgrv9uQAAAAGCPQm9A////vx6Fb0AAAAAAAPBuQAAAAKBHAW9A////36PYb0ABAAAgru9vQAAAAEAKI3BAAAAAoEcdcED///8fXIdvQAAAAIAUjm9AAAAAgMIdb0ABAAAghWtuQP///3/riW5A////H1xfbkAAAACgcD1uQAEAAOBRAG5AAAAAwPUwbUAAAAAAAFhtQAAAAOB6VG1A////PzOrbUAAAAAA1wNtQAAAAAAAAGxAAAAAoEd5a0ABAAAgrhdsQAAAAMD1GGxA////36MAbED///8/M9tsQAAAAADXQ21AAAAAoHDVbUAAAACAFOZuQAEAACCuv2xAAAAAAABobEAAAADA9ZBsQAAAAKBH6WxA////PzMTbUAAAACAPbJsQAAAAGBmhmxAAAAAYGbmbED///+/Hp1tQAAAAAAAKG5AAQAAwMyEbkD///+/HpVuQAAAAIAUnm5AAAAAYGa+bkAAAACAwp1uQAAAAAAAAG9AAAAAYI+KbkA=",
          "dtype": "f8"
         },
         "type": "candlestick",
         "x": {
          "bdata": "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",
          "dtype": "i2"
         },
         "xaxis": "x",
         "yaxis": "y"
        },
        {
         "line": {
          "color": "green",
          "width": 2
         },
         "mode": "lines",
         "name": "Supertrend (Uptrend)",
         "type": "scatter",
         "x": {
          "bdata": "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",
          "dtype": "i2"
         },
         "xaxis": "x",
         "y": {
          "bdata": "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",
          "dtype": "f8"
         },
         "yaxis": "y"
        },
        {
         "line": {
          "color": "red",
          "width": 2
         },
         "mode": "lines",
         "name": "Supertrend (Downtrend)",
         "type": "scatter",
         "x": {
          "bdata": "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",
          "dtype": "i2"
         },
         "xaxis": "x",
         "y": {
          "bdata": "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",
          "dtype": "f8"
         },
         "yaxis": "y"
        },
        {
         "marker": {
          "color": "rgba(0, 0, 255, 0.3)"
         },
         "name": "Volume",
         "type": "bar",
         "x": {
          "bdata": "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",
          "dtype": "i2"
         },
         "xaxis": "x2",
         "y": {
          "bdata": "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",
          "dtype": "i4"
         },
         "yaxis": "y2"
        },
        {
         "marker": {
          "color": "green",
          "line": {
           "color": "darkgreen",
           "width": 1
          },
          "size": 12,
          "symbol": "triangle-up"
         },
         "mode": "markers",
         "name": "Buy Signal",
         "type": "scatter",
         "x": {
          "bdata": "TgCGAK8AJAFdAYEBigGsAegBfQK8Ag8DNQNAA28DqQP3A08EiwQiBZ0FwAUXBkUGnwblBggHUQehB9oHcQiQCJ8I0wgMCRwJagmCCasJ3wk=",
          "dtype": "i2"
         },
         "xaxis": "x",
         "y": {
          "bdata": "FK5H8dQ6QEAghetZ5YQ/QGZmZpaHbTxAuB6FuzCpOEDXo3Ctpq03QPUoXPcxFjhACtejcD1uOUAghetZ5eA6QBWuRyH2yztAw/UolN1lQkD///8PWoJDQFK4HoXr6URA4XoUPqvURUBcj8Lt+4FFQJqZmTlXbUdAwvUoLG5vTEDXo3AVFtRDQArXo5gx/UZAHoXr+aIsSkApXI/STzRRQKRwPaqUhV1AfBSub9WzXUCF61EIB89fQB+F67knc19AKVyPAnFUYkBcj8KdE/pkQClcj1JZaGRACtejQBy7YUBcj8IV8EpiQLgehfurEGFAw/UoXI82ZkAzMzOr/CdmQI/C9bCStmVA16NwXdFdZ0BSuB4VT89kQOB6FD6rmmZAZmZmztW0a0AqXI/ST2tsQDMzM/vk32xArkfhmtsmbUA=",
          "dtype": "f8"
         },
         "yaxis": "y"
        },
        {
         "marker": {
          "color": "red",
          "line": {
           "color": "darkred",
           "width": 1
          },
          "size": 12,
          "symbol": "triangle-down"
         },
         "mode": "markers",
         "name": "Sell Signal",
         "type": "scatter",
         "x": {
          "bdata": "LQBRAI0A2wBHAXQBiQGiAc4BYwKmAgADJAM4A2EDmAOuAz0EdAT/BIMFqQX1BS0GhQbcBvUGFgd1B6kHYAh3CJkIxwjbCBEJUwl4CZoJwwk=",
          "dtype": "i2"
         },
         "xaxis": "x",
         "y": {
          "bdata": "zczMHMAPQECF61EQpT1AQDMzM4MmNj9AUbge3XEuPUAVrkeJ9P86QIXrUZjS5jdAexSu58e8OEBcj8L1KOQ6QLgehbMXujxApHA9qr2XQ0DC9SjMzh9EQPYoXEdiFkZAH4XrcQTNRUB7FK6X1J1FQPYoXIcvhkdAPgrXMzECTEB7FK7XoZNMQLgehVP+60dA7FG4PtEPSkBmZmZ2jDNTQClcj9IbRGBAUrgeLWUlXUCamZmZmWlgQClcj4q7WmBAexSuJ5USY0AfhesZfshlQB+F68H3+WRAAAAAsAxXZUApXI8KVphlQMP1KKTvfWFAuB6FKx+oZ0DsUbhWv39mQDMzM5NM2WVAFa5HgWHKZ0C3HoV7Ep9nQFK4Ht1xSmVAXI/CPYlhbECamZnpjGxrQML1KOxPc2xAW4/Chelyb0A=",
          "dtype": "f8"
         },
         "yaxis": "y"
        }
       ],
       "layout": {
        "font": {
         "color": "black",
         "size": 12
        },
        "height": 800,
        "legend": {
         "orientation": "h",
         "x": 0,
         "xanchor": "left",
         "y": 1.02,
         "yanchor": "bottom"
        },
        "paper_bgcolor": "white",
        "plot_bgcolor": "white",
        "template": {
         "data": {
          "bar": [
           {
            "error_x": {
             "color": "#2a3f5f"
            },
            "error_y": {
             "color": "#2a3f5f"
            },
            "marker": {
             "line": {
              "color": "#E5ECF6",
              "width": 0.5
             },
             "pattern": {
              "fillmode": "overlay",
              "size": 10,
              "solidity": 0.2
             }
            },
            "type": "bar"
           }
          ],
          "barpolar": [
           {
            "marker": {
             "line": {
              "color": "#E5ECF6",
              "width": 0.5
             },
             "pattern": {
              "fillmode": "overlay",
              "size": 10,
              "solidity": 0.2
             }
            },
            "type": "barpolar"
           }
          ],
          "carpet": [
           {
            "aaxis": {
             "endlinecolor": "#2a3f5f",
             "gridcolor": "white",
             "linecolor": "white",
             "minorgridcolor": "white",
             "startlinecolor": "#2a3f5f"
            },
            "baxis": {
             "endlinecolor": "#2a3f5f",
             "gridcolor": "white",
             "linecolor": "white",
             "minorgridcolor": "white",
             "startlinecolor": "#2a3f5f"
            },
            "type": "carpet"
           }
          ],
          "choropleth": [
           {
            "colorbar": {
             "outlinewidth": 0,
             "ticks": ""
            },
            "type": "choropleth"
           }
          ],
          "contour": [
           {
            "colorbar": {
             "outlinewidth": 0,
             "ticks": ""
            },
            "colorscale": [
             [
              0,
              "#0d0887"
             ],
             [
              0.1111111111111111,
              "#46039f"
             ],
             [
              0.2222222222222222,
              "#7201a8"
             ],
             [
              0.3333333333333333,
              "#9c179e"
             ],
             [
              0.4444444444444444,
              "#bd3786"
             ],
             [
              0.5555555555555556,
              "#d8576b"
             ],
             [
              0.6666666666666666,
              "#ed7953"
             ],
             [
              0.7777777777777778,
              "#fb9f3a"
             ],
             [
              0.8888888888888888,
              "#fdca26"
             ],
             [
              1,
              "#f0f921"
             ]
            ],
            "type": "contour"
           }
          ],
          "contourcarpet": [
           {
            "colorbar": {
             "outlinewidth": 0,
             "ticks": ""
            },
            "type": "contourcarpet"
           }
          ],
          "heatmap": [
           {
            "colorbar": {
             "outlinewidth": 0,
             "ticks": ""
            },
            "colorscale": [
             [
              0,
              "#0d0887"
             ],
             [
              0.1111111111111111,
              "#46039f"
             ],
             [
              0.2222222222222222,
              "#7201a8"
             ],
             [
              0.3333333333333333,
              "#9c179e"
             ],
             [
              0.4444444444444444,
              "#bd3786"
             ],
             [
              0.5555555555555556,
              "#d8576b"
             ],
             [
              0.6666666666666666,
              "#ed7953"
             ],
             [
              0.7777777777777778,
              "#fb9f3a"
             ],
             [
              0.8888888888888888,
              "#fdca26"
             ],
             [
              1,
              "#f0f921"
             ]
            ],
            "type": "heatmap"
           }
          ],
          "histogram": [
           {
            "marker": {
             "pattern": {
              "fillmode": "overlay",
              "size": 10,
              "solidity": 0.2
             }
            },
            "type": "histogram"
           }
          ],
          "histogram2d": [
           {
            "colorbar": {
             "outlinewidth": 0,
             "ticks": ""
            },
            "colorscale": [
             [
              0,
              "#0d0887"
             ],
             [
              0.1111111111111111,
              "#46039f"
             ],
             [
              0.2222222222222222,
              "#7201a8"
             ],
             [
              0.3333333333333333,
              "#9c179e"
             ],
             [
              0.4444444444444444,
              "#bd3786"
             ],
             [
              0.5555555555555556,
              "#d8576b"
             ],
             [
              0.6666666666666666,
              "#ed7953"
             ],
             [
              0.7777777777777778,
              "#fb9f3a"
             ],
             [
              0.8888888888888888,
              "#fdca26"
             ],
             [
              1,
              "#f0f921"
             ]
            ],
            "type": "histogram2d"
           }
          ],
          "histogram2dcontour": [
           {
            "colorbar": {
             "outlinewidth": 0,
             "ticks": ""
            },
            "colorscale": [
             [
              0,
              "#0d0887"
             ],
             [
              0.1111111111111111,
              "#46039f"
             ],
             [
              0.2222222222222222,
              "#7201a8"
             ],
             [
              0.3333333333333333,
              "#9c179e"
             ],
             [
              0.4444444444444444,
              "#bd3786"
             ],
             [
              0.5555555555555556,
              "#d8576b"
             ],
             [
              0.6666666666666666,
              "#ed7953"
             ],
             [
              0.7777777777777778,
              "#fb9f3a"
             ],
             [
              0.8888888888888888,
              "#fdca26"
             ],
             [
              1,
              "#f0f921"
             ]
            ],
            "type": "histogram2dcontour"
           }
          ],
          "mesh3d": [
           {
            "colorbar": {
             "outlinewidth": 0,
             "ticks": ""
            },
            "type": "mesh3d"
           }
          ],
          "parcoords": [
           {
            "line": {
             "colorbar": {
              "outlinewidth": 0,
              "ticks": ""
             }
            },
            "type": "parcoords"
           }
          ],
          "pie": [
           {
            "automargin": true,
            "type": "pie"
           }
          ],
          "scatter": [
           {
            "fillpattern": {
             "fillmode": "overlay",
             "size": 10,
             "solidity": 0.2
            },
            "type": "scatter"
           }
          ],
          "scatter3d": [
           {
            "line": {
             "colorbar": {
              "outlinewidth": 0,
              "ticks": ""
             }
            },
            "marker": {
             "colorbar": {
              "outlinewidth": 0,
              "ticks": ""
             }
            },
            "type": "scatter3d"
           }
          ],
          "scattercarpet": [
           {
            "marker": {
             "colorbar": {
              "outlinewidth": 0,
              "ticks": ""
             }
            },
            "type": "scattercarpet"
           }
          ],
          "scattergeo": [
           {
            "marker": {
             "colorbar": {
              "outlinewidth": 0,
              "ticks": ""
             }
            },
            "type": "scattergeo"
           }
          ],
          "scattergl": [
           {
            "marker": {
             "colorbar": {
              "outlinewidth": 0,
              "ticks": ""
             }
            },
            "type": "scattergl"
           }
          ],
          "scattermap": [
           {
            "marker": {
             "colorbar": {
              "outlinewidth": 0,
              "ticks": ""
             }
            },
            "type": "scattermap"
           }
          ],
          "scattermapbox": [
           {
            "marker": {
             "colorbar": {
              "outlinewidth": 0,
              "ticks": ""
             }
            },
            "type": "scattermapbox"
           }
          ],
          "scatterpolar": [
           {
            "marker": {
             "colorbar": {
              "outlinewidth": 0,
              "ticks": ""
             }
            },
            "type": "scatterpolar"
           }
          ],
          "scatterpolargl": [
           {
            "marker": {
             "colorbar": {
              "outlinewidth": 0,
              "ticks": ""
             }
            },
            "type": "scatterpolargl"
           }
          ],
          "scatterternary": [
           {
            "marker": {
             "colorbar": {
              "outlinewidth": 0,
              "ticks": ""
             }
            },
            "type": "scatterternary"
           }
          ],
          "surface": [
           {
            "colorbar": {
             "outlinewidth": 0,
             "ticks": ""
            },
            "colorscale": [
             [
              0,
              "#0d0887"
             ],
             [
              0.1111111111111111,
              "#46039f"
             ],
             [
              0.2222222222222222,
              "#7201a8"
             ],
             [
              0.3333333333333333,
              "#9c179e"
             ],
             [
              0.4444444444444444,
              "#bd3786"
             ],
             [
              0.5555555555555556,
              "#d8576b"
             ],
             [
              0.6666666666666666,
              "#ed7953"
             ],
             [
              0.7777777777777778,
              "#fb9f3a"
             ],
             [
              0.8888888888888888,
              "#fdca26"
             ],
             [
              1,
              "#f0f921"
             ]
            ],
            "type": "surface"
           }
          ],
          "table": [
           {
            "cells": {
             "fill": {
              "color": "#EBF0F8"
             },
             "line": {
              "color": "white"
             }
            },
            "header": {
             "fill": {
              "color": "#C8D4E3"
             },
             "line": {
              "color": "white"
             }
            },
            "type": "table"
           }
          ]
         },
         "layout": {
          "annotationdefaults": {
           "arrowcolor": "#2a3f5f",
           "arrowhead": 0,
           "arrowwidth": 1
          },
          "autotypenumbers": "strict",
          "coloraxis": {
           "colorbar": {
            "outlinewidth": 0,
            "ticks": ""
           }
          },
          "colorscale": {
           "diverging": [
            [
             0,
             "#8e0152"
            ],
            [
             0.1,
             "#c51b7d"
            ],
            [
             0.2,
             "#de77ae"
            ],
            [
             0.3,
             "#f1b6da"
            ],
            [
             0.4,
             "#fde0ef"
            ],
            [
             0.5,
             "#f7f7f7"
            ],
            [
             0.6,
             "#e6f5d0"
            ],
            [
             0.7,
             "#b8e186"
            ],
            [
             0.8,
             "#7fbc41"
            ],
            [
             0.9,
             "#4d9221"
            ],
            [
             1,
             "#276419"
            ]
           ],
           "sequential": [
            [
             0,
             "#0d0887"
            ],
            [
             0.1111111111111111,
             "#46039f"
            ],
            [
             0.2222222222222222,
             "#7201a8"
            ],
            [
             0.3333333333333333,
             "#9c179e"
            ],
            [
             0.4444444444444444,
             "#bd3786"
            ],
            [
             0.5555555555555556,
             "#d8576b"
            ],
            [
             0.6666666666666666,
             "#ed7953"
            ],
            [
             0.7777777777777778,
             "#fb9f3a"
            ],
            [
             0.8888888888888888,
             "#fdca26"
            ],
            [
             1,
             "#f0f921"
            ]
           ],
           "sequentialminus": [
            [
             0,
             "#0d0887"
            ],
            [
             0.1111111111111111,
             "#46039f"
            ],
            [
             0.2222222222222222,
             "#7201a8"
            ],
            [
             0.3333333333333333,
             "#9c179e"
            ],
            [
             0.4444444444444444,
             "#bd3786"
            ],
            [
             0.5555555555555556,
             "#d8576b"
            ],
            [
             0.6666666666666666,
             "#ed7953"
            ],
            [
             0.7777777777777778,
             "#fb9f3a"
            ],
            [
             0.8888888888888888,
             "#fdca26"
            ],
            [
             1,
             "#f0f921"
            ]
           ]
          },
          "colorway": [
           "#636efa",
           "#EF553B",
           "#00cc96",
           "#ab63fa",
           "#FFA15A",
           "#19d3f3",
           "#FF6692",
           "#B6E880",
           "#FF97FF",
           "#FECB52"
          ],
          "font": {
           "color": "#2a3f5f"
          },
          "geo": {
           "bgcolor": "white",
           "lakecolor": "white",
           "landcolor": "#E5ECF6",
           "showlakes": true,
           "showland": true,
           "subunitcolor": "white"
          },
          "hoverlabel": {
           "align": "left"
          },
          "hovermode": "closest",
          "mapbox": {
           "style": "light"
          },
          "paper_bgcolor": "white",
          "plot_bgcolor": "#E5ECF6",
          "polar": {
           "angularaxis": {
            "gridcolor": "white",
            "linecolor": "white",
            "ticks": ""
           },
           "bgcolor": "#E5ECF6",
           "radialaxis": {
            "gridcolor": "white",
            "linecolor": "white",
            "ticks": ""
           }
          },
          "scene": {
           "xaxis": {
            "backgroundcolor": "#E5ECF6",
            "gridcolor": "white",
            "gridwidth": 2,
            "linecolor": "white",
            "showbackground": true,
            "ticks": "",
            "zerolinecolor": "white"
           },
           "yaxis": {
            "backgroundcolor": "#E5ECF6",
            "gridcolor": "white",
            "gridwidth": 2,
            "linecolor": "white",
            "showbackground": true,
            "ticks": "",
            "zerolinecolor": "white"
           },
           "zaxis": {
            "backgroundcolor": "#E5ECF6",
            "gridcolor": "white",
            "gridwidth": 2,
            "linecolor": "white",
            "showbackground": true,
            "ticks": "",
            "zerolinecolor": "white"
           }
          },
          "shapedefaults": {
           "line": {
            "color": "#2a3f5f"
           }
          },
          "ternary": {
           "aaxis": {
            "gridcolor": "white",
            "linecolor": "white",
            "ticks": ""
           },
           "baxis": {
            "gridcolor": "white",
            "linecolor": "white",
            "ticks": ""
           },
           "bgcolor": "#E5ECF6",
           "caxis": {
            "gridcolor": "white",
            "linecolor": "white",
            "ticks": ""
           }
          },
          "title": {
           "x": 0.05
          },
          "xaxis": {
           "automargin": true,
           "gridcolor": "white",
           "linecolor": "white",
           "ticks": "",
           "title": {
            "standoff": 15
           },
           "zerolinecolor": "white",
           "zerolinewidth": 2
          },
          "yaxis": {
           "automargin": true,
           "gridcolor": "white",
           "linecolor": "white",
           "ticks": "",
           "title": {
            "standoff": 15
           },
           "zerolinecolor": "white",
           "zerolinewidth": 2
          }
         }
        },
        "title": {
         "text": "Stock Price with Supertrend Indicator"
        },
        "width": 1200,
        "xaxis": {
         "anchor": "y",
         "domain": [
          0,
          1
         ],
         "gridcolor": "lightgrey",
         "matches": "x2",
         "rangeselector": {
          "buttons": [
           {
            "count": 1,
            "label": "1m",
            "step": "month",
            "stepmode": "backward"
           },
           {
            "count": 3,
            "label": "3m",
            "step": "month",
            "stepmode": "backward"
           },
           {
            "count": 6,
            "label": "6m",
            "step": "month",
            "stepmode": "backward"
           },
           {
            "count": 1,
            "label": "YTD",
            "step": "year",
            "stepmode": "todate"
           },
           {
            "count": 1,
            "label": "1y",
            "step": "year",
            "stepmode": "backward"
           },
           {
            "step": "all"
           }
          ]
         },
         "rangeslider": {
          "visible": false
         },
         "showgrid": true,
         "showticklabels": false,
         "title": {
          "text": "Date"
         }
        },
        "xaxis2": {
         "anchor": "y2",
         "domain": [
          0,
          1
         ],
         "gridcolor": "lightgrey",
         "rangeselector": {
          "buttons": [
           {
            "count": 1,
            "label": "1m",
            "step": "month",
            "stepmode": "backward"
           },
           {
            "count": 3,
            "label": "3m",
            "step": "month",
            "stepmode": "backward"
           },
           {
            "count": 6,
            "label": "6m",
            "step": "month",
            "stepmode": "backward"
           },
           {
            "count": 1,
            "label": "YTD",
            "step": "year",
            "stepmode": "todate"
           },
           {
            "count": 1,
            "label": "1y",
            "step": "year",
            "stepmode": "backward"
           },
           {
            "step": "all"
           }
          ]
         },
         "rangeslider": {
          "visible": false
         },
         "showgrid": true
        },
        "yaxis": {
         "anchor": "x",
         "domain": [
          0.216,
          1
         ],
         "gridcolor": "lightgrey",
         "showgrid": true,
         "title": {
          "text": "Price ($)"
         }
        },
        "yaxis2": {
         "anchor": "x2",
         "domain": [
          0,
          0.196
         ],
         "gridcolor": "lightgrey",
         "showgrid": true,
         "title": {
          "text": "Volume"
         }
        }
       }
      }
     },
     "metadata": {},
     "output_type": "display_data"
    }
   ],
   "source": [
    "import plotly.graph_objects as go\n",
    "from plotly.subplots import make_subplots\n",
    "\n",
    "# Create a subplot with 2 rows (price chart and volume)\n",
    "fig = make_subplots(rows=2, cols=1, shared_xaxes=True,\n",
    "                   vertical_spacing=0.02, row_heights=[0.8, 0.2])\n",
    "\n",
    "# Add candlestick chart for price data\n",
    "fig.add_trace(\n",
    "    go.Candlestick(\n",
    "        x=df.index,\n",
    "        open=df['Open'],\n",
    "        high=df['High'],\n",
    "        low=df['Low'],\n",
    "        close=df['Close'],\n",
    "        name='OHLC'\n",
    "    ),\n",
    "    row=1, col=1\n",
    ")\n",
    "\n",
    "# Add Supertrend uptrend line (green)\n",
    "fig.add_trace(\n",
    "    go.Scatter(\n",
    "        x=df.index,\n",
    "        y=df['Uptrend'],\n",
    "        mode='lines',\n",
    "        line=dict(color='green', width=2),\n",
    "        name='Supertrend (Uptrend)'\n",
    "    ),\n",
    "    row=1, col=1\n",
    ")\n",
    "\n",
    "# Add Supertrend downtrend line (red)\n",
    "fig.add_trace(\n",
    "    go.Scatter(\n",
    "        x=df.index,\n",
    "        y=df['Downtrend'],\n",
    "        mode='lines',\n",
    "        line=dict(color='red', width=2),\n",
    "        name='Supertrend (Downtrend)'\n",
    "    ),\n",
    "    row=1, col=1\n",
    ")\n",
    "\n",
    "# Add volume bars\n",
    "fig.add_trace(\n",
    "    go.Bar(\n",
    "        x=df.index,\n",
    "        y=df['Volume'],\n",
    "        name='Volume',\n",
    "        marker_color='rgba(0, 0, 255, 0.3)'\n",
    "    ),\n",
    "    row=2, col=1\n",
    ")\n",
    "\n",
    "# Add buy/sell signals\n",
    "# Find where Direction changes from 1 to -1 (buy signal)\n",
    "buy_signals = df[(df['Direction'].shift(1) == -1) & (df['Direction'] == 1)]\n",
    "# Find where Direction changes from -1 to 1 (sell signal)\n",
    "sell_signals = df[(df['Direction'].shift(1) == 1) & (df['Direction'] == -1)]\n",
    "\n",
    "# Add buy signals\n",
    "fig.add_trace(\n",
    "    go.Scatter(\n",
    "        x=buy_signals.index,\n",
    "        y=buy_signals['Low'] * 0.99,  # Place slightly below the low price\n",
    "        mode='markers',\n",
    "        marker=dict(\n",
    "            symbol='triangle-up',\n",
    "            size=12,\n",
    "            color='green',\n",
    "            line=dict(width=1, color='darkgreen')\n",
    "        ),\n",
    "        name='Buy Signal'\n",
    "    ),\n",
    "    row=1, col=1\n",
    ")\n",
    "\n",
    "# Add sell signals\n",
    "fig.add_trace(\n",
    "    go.Scatter(\n",
    "        x=sell_signals.index,\n",
    "        y=sell_signals['High'] * 1.01,  # Place slightly above the high price\n",
    "        mode='markers',\n",
    "        marker=dict(\n",
    "            symbol='triangle-down',\n",
    "            size=12,\n",
    "            color='red',\n",
    "            line=dict(width=1, color='darkred')\n",
    "        ),\n",
    "        name='Sell Signal'\n",
    "    ),\n",
    "    row=1, col=1\n",
    ")\n",
    "\n",
    "# Update layout\n",
    "fig.update_layout(\n",
    "    title='Stock Price with Supertrend Indicator',\n",
    "    xaxis_title='Date',\n",
    "    yaxis_title='Price',\n",
    "    xaxis_rangeslider_visible=False,\n",
    "    height=800,\n",
    "    width=1200,\n",
    "    legend=dict(\n",
    "        orientation=\"h\",\n",
    "        yanchor=\"bottom\",\n",
    "        y=1.02,\n",
    "        xanchor=\"left\",\n",
    "        x=0\n",
    "    ),\n",
    "    plot_bgcolor='white',\n",
    "    paper_bgcolor='white',\n",
    "    font=dict(size=12, color='black')\n",
    ")\n",
    "\n",
    "fig.update_yaxes(title_text=\"Price ($)\", row=1, col=1)\n",
    "fig.update_yaxes(title_text=\"Volume\", row=2, col=1)\n",
    "\n",
    "# Make the grid lines light gray\n",
    "fig.update_xaxes(gridcolor='lightgrey', showgrid=True)\n",
    "fig.update_yaxes(gridcolor='lightgrey', showgrid=True)\n",
    "\n",
    "# Add a range selector\n",
    "fig.update_xaxes(\n",
    "    rangeslider_visible=False,\n",
    "    rangeselector=dict(\n",
    "        buttons=list([\n",
    "            dict(count=1, label=\"1m\", step=\"month\", stepmode=\"backward\"),\n",
    "            dict(count=3, label=\"3m\", step=\"month\", stepmode=\"backward\"),\n",
    "            dict(count=6, label=\"6m\", step=\"month\", stepmode=\"backward\"),\n",
    "            dict(count=1, label=\"YTD\", step=\"year\", stepmode=\"todate\"),\n",
    "            dict(count=1, label=\"1y\", step=\"year\", stepmode=\"backward\"),\n",
    "            dict(step=\"all\")\n",
    "        ])\n",
    "    )\n",
    ")\n",
    "\n",
    "# Show the figure\n",
    "fig.show()"
   ]
  },
  {
   "cell_type": "markdown",
   "metadata": {},
   "source": [
    "# Model Building"
   ]
  },
  {
   "cell_type": "code",
   "execution_count": 150,
   "metadata": {},
   "outputs": [],
   "source": [
    "from sklearn.ensemble import RandomForestClassifier\n",
    "from sklearn.tree import DecisionTreeClassifier\n",
    "from sklearn.metrics import accuracy_score, classification_report, confusion_matrix\n",
    "from sklearn.linear_model import LogisticRegression\n",
    "from xgboost import XGBClassifier\n",
    "from sklearn.svm import SVC\n",
    "from sklearn.neighbors import KNeighborsClassifier\n",
    "from sklearn.model_selection import TimeSeriesSplit\n",
    "from sklearn.preprocessing import StandardScaler\n"
   ]
  },
  {
   "cell_type": "code",
   "execution_count": 152,
   "metadata": {},
   "outputs": [
    {
     "name": "stdout",
     "output_type": "stream",
     "text": [
      "\n",
      "Classification Report:\n",
      "              precision    recall  f1-score   support\n",
      "\n",
      "          -1       1.00      0.05      0.10        77\n",
      "           1       0.64      1.00      0.78       132\n",
      "\n",
      "    accuracy                           0.65       209\n",
      "   macro avg       0.82      0.53      0.44       209\n",
      "weighted avg       0.78      0.65      0.53       209\n",
      "\n",
      "Fold accuracy: 0.6507\n",
      "\n",
      "Classification Report:\n",
      "              precision    recall  f1-score   support\n",
      "\n",
      "          -1       0.00      0.00      0.00       111\n",
      "           1       0.47      1.00      0.64        98\n",
      "\n",
      "    accuracy                           0.47       209\n",
      "   macro avg       0.23      0.50      0.32       209\n",
      "weighted avg       0.22      0.47      0.30       209\n",
      "\n",
      "Fold accuracy: 0.4689\n"
     ]
    },
    {
     "name": "stderr",
     "output_type": "stream",
     "text": [
      "/home/sacsresta/miniconda3/envs/research/lib/python3.10/site-packages/sklearn/metrics/_classification.py:1565: UndefinedMetricWarning: Precision is ill-defined and being set to 0.0 in labels with no predicted samples. Use `zero_division` parameter to control this behavior.\n",
      "  _warn_prf(average, modifier, f\"{metric.capitalize()} is\", len(result))\n",
      "/home/sacsresta/miniconda3/envs/research/lib/python3.10/site-packages/sklearn/metrics/_classification.py:1565: UndefinedMetricWarning: Precision is ill-defined and being set to 0.0 in labels with no predicted samples. Use `zero_division` parameter to control this behavior.\n",
      "  _warn_prf(average, modifier, f\"{metric.capitalize()} is\", len(result))\n",
      "/home/sacsresta/miniconda3/envs/research/lib/python3.10/site-packages/sklearn/metrics/_classification.py:1565: UndefinedMetricWarning: Precision is ill-defined and being set to 0.0 in labels with no predicted samples. Use `zero_division` parameter to control this behavior.\n",
      "  _warn_prf(average, modifier, f\"{metric.capitalize()} is\", len(result))\n"
     ]
    },
    {
     "name": "stdout",
     "output_type": "stream",
     "text": [
      "\n",
      "Classification Report:\n",
      "              precision    recall  f1-score   support\n",
      "\n",
      "          -1       0.48      0.45      0.47        95\n",
      "           1       0.57      0.60      0.58       114\n",
      "\n",
      "    accuracy                           0.53       209\n",
      "   macro avg       0.52      0.52      0.52       209\n",
      "weighted avg       0.53      0.53      0.53       209\n",
      "\n",
      "Fold accuracy: 0.5311\n",
      "\n",
      "Classification Report:\n",
      "              precision    recall  f1-score   support\n",
      "\n",
      "          -1       0.50      0.01      0.02        82\n",
      "           1       0.61      0.99      0.75       127\n",
      "\n",
      "    accuracy                           0.61       209\n",
      "   macro avg       0.55      0.50      0.39       209\n",
      "weighted avg       0.57      0.61      0.47       209\n",
      "\n",
      "Fold accuracy: 0.6077\n",
      "\n",
      "Classification Report:\n",
      "              precision    recall  f1-score   support\n",
      "\n",
      "          -1       0.00      0.00      0.00        88\n",
      "           1       0.57      0.96      0.71       121\n",
      "\n",
      "    accuracy                           0.56       209\n",
      "   macro avg       0.28      0.48      0.36       209\n",
      "weighted avg       0.33      0.56      0.41       209\n",
      "\n",
      "Fold accuracy: 0.5550\n",
      "\n",
      "Average accuracy across folds: 0.5627\n",
      "\n",
      "Classification Report:\n",
      "              precision    recall  f1-score   support\n",
      "\n",
      "          -1       0.48      0.11      0.17       453\n",
      "           1       0.57      0.91      0.70       592\n",
      "\n",
      "    accuracy                           0.56      1045\n",
      "   macro avg       0.53      0.51      0.44      1045\n",
      "weighted avg       0.53      0.56      0.47      1045\n",
      "\n"
     ]
    }
   ],
   "source": [
    "X = data.drop(columns = ['shifted_direction','Direction','Supertrend'])\n",
    "y = data['Direction']\n",
    "\n",
    "\n",
    "tscv = TimeSeriesSplit(n_splits=5)\n",
    "\n",
    "model = RandomForestClassifier(\n",
    "    n_estimators=100, \n",
    "    max_depth=10,\n",
    "    random_state=42\n",
    ")\n",
    "\n",
    "# Preprocess the data - scale numerical features\n",
    "scaler = StandardScaler()\n",
    "X_scaled = scaler.fit_transform(X)\n",
    "\n",
    "\n",
    "# Perform cross-validation using time series split\n",
    "fold_accuracy = []\n",
    "all_predictions = []\n",
    "all_actuals = []\n",
    "\n",
    "for train_index, test_index in tscv.split(X_scaled):\n",
    "    X_train, X_test = X_scaled[train_index], X_scaled[test_index]\n",
    "    y_train, y_test = y.iloc[train_index], y.iloc[test_index]\n",
    "    \n",
    "    # Train the model\n",
    "    model.fit(X_train, y_train)\n",
    "    \n",
    "    # Make predictions\n",
    "    y_pred = model.predict(X_test)\n",
    "    \n",
    "    # Calculate accuracy\n",
    "    acc = accuracy_score(y_test, y_pred)\n",
    "    fold_accuracy.append(acc)\n",
    "    print(\"\\nClassification Report:\")\n",
    "    print(classification_report(y_test, y_pred))\n",
    "    \n",
    "    # Store predictions and actual values\n",
    "    all_predictions.extend(y_pred)\n",
    "    all_actuals.extend(y_test.values)\n",
    "    \n",
    "    \n",
    "    print(f\"Fold accuracy: {acc:.4f}\")\n",
    "\n",
    "print(f\"\\nAverage accuracy across folds: {np.mean(fold_accuracy):.4f}\")\n",
    "\n",
    "# Print the classification report\n",
    "print(\"\\nClassification Report:\")\n",
    "print(classification_report(all_actuals, all_predictions))"
   ]
  },
  {
   "cell_type": "code",
   "execution_count": null,
   "metadata": {},
   "outputs": [],
   "source": []
  },
  {
   "cell_type": "code",
   "execution_count": null,
   "metadata": {},
   "outputs": [],
   "source": []
  },
  {
   "cell_type": "code",
   "execution_count": null,
   "metadata": {},
   "outputs": [],
   "source": []
  },
  {
   "cell_type": "code",
   "execution_count": null,
   "metadata": {},
   "outputs": [],
   "source": []
  },
  {
   "cell_type": "code",
   "execution_count": null,
   "metadata": {},
   "outputs": [],
   "source": []
  },
  {
   "cell_type": "code",
   "execution_count": null,
   "metadata": {},
   "outputs": [],
   "source": []
  },
  {
   "cell_type": "code",
   "execution_count": 122,
   "metadata": {},
   "outputs": [
    {
     "name": "stdout",
     "output_type": "stream",
     "text": [
      "\n",
      "==== Training Random Forest ====\n",
      "Fold 1 accuracy: 0.6124\n",
      "Fold 2 accuracy: 0.5981\n",
      "Fold 3 accuracy: 0.6172\n",
      "Fold 4 accuracy: 0.4593\n",
      "Fold 5 accuracy: 0.5933\n",
      "Average accuracy: 0.5761\n",
      "\n",
      "Classification Report:\n",
      "              precision    recall  f1-score   support\n",
      "\n",
      "          -1       0.64      0.10      0.17       462\n",
      "           1       0.57      0.96      0.72       583\n",
      "\n",
      "    accuracy                           0.58      1045\n",
      "   macro avg       0.60      0.53      0.44      1045\n",
      "weighted avg       0.60      0.58      0.47      1045\n",
      "\n",
      "\n",
      "==== Training Gradient Boosting ====\n",
      "Fold 1 accuracy: 0.6316\n",
      "Fold 2 accuracy: 0.6029\n",
      "Fold 3 accuracy: 0.6459\n",
      "Fold 4 accuracy: 0.4593\n",
      "Fold 5 accuracy: 0.5981\n",
      "Average accuracy: 0.5876\n",
      "\n",
      "Classification Report:\n",
      "              precision    recall  f1-score   support\n",
      "\n",
      "          -1       0.72      0.11      0.19       462\n",
      "           1       0.58      0.97      0.72       583\n",
      "\n",
      "    accuracy                           0.59      1045\n",
      "   macro avg       0.65      0.54      0.46      1045\n",
      "weighted avg       0.64      0.59      0.49      1045\n",
      "\n",
      "\n",
      "==== Training LightGBM ====\n",
      "[LightGBM] [Info] Number of positive: 128, number of negative: 84\n",
      "[LightGBM] [Info] Auto-choosing col-wise multi-threading, the overhead of testing was 0.000022 seconds.\n",
      "You can set `force_col_wise=true` to remove the overhead.\n",
      "[LightGBM] [Info] Total Bins 361\n",
      "[LightGBM] [Info] Number of data points in the train set: 212, number of used features: 5\n",
      "[LightGBM] [Info] [binary:BoostFromScore]: pavg=0.603774 -> initscore=0.421213\n",
      "[LightGBM] [Info] Start training from score 0.421213\n",
      "[LightGBM] [Warning] No further splits with positive gain, best gain: -inf\n",
      "[LightGBM] [Warning] No further splits with positive gain, best gain: -inf\n",
      "[LightGBM] [Warning] No further splits with positive gain, best gain: -inf\n",
      "[LightGBM] [Warning] No further splits with positive gain, best gain: -inf\n",
      "[LightGBM] [Warning] No further splits with positive gain, best gain: -inf\n",
      "[LightGBM] [Warning] No further splits with positive gain, best gain: -inf\n",
      "[LightGBM] [Warning] No further splits with positive gain, best gain: -inf\n",
      "[LightGBM] [Warning] No further splits with positive gain, best gain: -inf\n",
      "[LightGBM] [Warning] No further splits with positive gain, best gain: -inf\n",
      "[LightGBM] [Warning] No further splits with positive gain, best gain: -inf\n",
      "[LightGBM] [Warning] No further splits with positive gain, best gain: -inf\n",
      "[LightGBM] [Warning] No further splits with positive gain, best gain: -inf\n",
      "[LightGBM] [Warning] No further splits with positive gain, best gain: -inf\n",
      "[LightGBM] [Warning] No further splits with positive gain, best gain: -inf\n",
      "[LightGBM] [Warning] No further splits with positive gain, best gain: -inf\n",
      "[LightGBM] [Warning] No further splits with positive gain, best gain: -inf\n",
      "[LightGBM] [Warning] No further splits with positive gain, best gain: -inf\n",
      "[LightGBM] [Warning] No further splits with positive gain, best gain: -inf\n",
      "[LightGBM] [Warning] No further splits with positive gain, best gain: -inf\n",
      "[LightGBM] [Warning] No further splits with positive gain, best gain: -inf\n",
      "[LightGBM] [Warning] No further splits with positive gain, best gain: -inf\n",
      "[LightGBM] [Warning] No further splits with positive gain, best gain: -inf\n",
      "[LightGBM] [Warning] No further splits with positive gain, best gain: -inf\n",
      "[LightGBM] [Warning] No further splits with positive gain, best gain: -inf\n",
      "[LightGBM] [Warning] No further splits with positive gain, best gain: -inf\n",
      "[LightGBM] [Warning] No further splits with positive gain, best gain: -inf\n",
      "[LightGBM] [Warning] No further splits with positive gain, best gain: -inf\n",
      "[LightGBM] [Warning] No further splits with positive gain, best gain: -inf\n",
      "[LightGBM] [Warning] No further splits with positive gain, best gain: -inf\n",
      "[LightGBM] [Warning] No further splits with positive gain, best gain: -inf\n",
      "[LightGBM] [Warning] No further splits with positive gain, best gain: -inf\n",
      "[LightGBM] [Warning] No further splits with positive gain, best gain: -inf\n",
      "[LightGBM] [Warning] No further splits with positive gain, best gain: -inf\n",
      "[LightGBM] [Warning] No further splits with positive gain, best gain: -inf\n",
      "[LightGBM] [Warning] No further splits with positive gain, best gain: -inf\n",
      "[LightGBM] [Warning] No further splits with positive gain, best gain: -inf\n",
      "[LightGBM] [Warning] No further splits with positive gain, best gain: -inf\n",
      "[LightGBM] [Warning] No further splits with positive gain, best gain: -inf\n",
      "[LightGBM] [Warning] No further splits with positive gain, best gain: -inf\n",
      "[LightGBM] [Warning] No further splits with positive gain, best gain: -inf\n",
      "[LightGBM] [Warning] No further splits with positive gain, best gain: -inf\n",
      "[LightGBM] [Warning] No further splits with positive gain, best gain: -inf\n",
      "[LightGBM] [Warning] No further splits with positive gain, best gain: -inf\n",
      "[LightGBM] [Warning] No further splits with positive gain, best gain: -inf\n",
      "[LightGBM] [Warning] No further splits with positive gain, best gain: -inf\n",
      "[LightGBM] [Warning] No further splits with positive gain, best gain: -inf\n",
      "[LightGBM] [Warning] No further splits with positive gain, best gain: -inf\n",
      "[LightGBM] [Warning] No further splits with positive gain, best gain: -inf\n",
      "[LightGBM] [Warning] No further splits with positive gain, best gain: -inf\n",
      "[LightGBM] [Warning] No further splits with positive gain, best gain: -inf\n",
      "[LightGBM] [Warning] No further splits with positive gain, best gain: -inf\n",
      "[LightGBM] [Warning] No further splits with positive gain, best gain: -inf\n",
      "[LightGBM] [Warning] No further splits with positive gain, best gain: -inf\n",
      "[LightGBM] [Warning] No further splits with positive gain, best gain: -inf\n",
      "[LightGBM] [Warning] No further splits with positive gain, best gain: -inf\n",
      "[LightGBM] [Warning] No further splits with positive gain, best gain: -inf\n",
      "[LightGBM] [Warning] No further splits with positive gain, best gain: -inf\n",
      "[LightGBM] [Warning] No further splits with positive gain, best gain: -inf\n",
      "[LightGBM] [Warning] No further splits with positive gain, best gain: -inf\n",
      "[LightGBM] [Warning] No further splits with positive gain, best gain: -inf\n",
      "[LightGBM] [Warning] No further splits with positive gain, best gain: -inf\n",
      "[LightGBM] [Warning] No further splits with positive gain, best gain: -inf\n",
      "[LightGBM] [Warning] No further splits with positive gain, best gain: -inf\n",
      "[LightGBM] [Warning] No further splits with positive gain, best gain: -inf\n",
      "[LightGBM] [Warning] No further splits with positive gain, best gain: -inf\n",
      "[LightGBM] [Warning] No further splits with positive gain, best gain: -inf\n",
      "[LightGBM] [Warning] No further splits with positive gain, best gain: -inf\n",
      "[LightGBM] [Warning] No further splits with positive gain, best gain: -inf\n",
      "[LightGBM] [Warning] No further splits with positive gain, best gain: -inf\n",
      "[LightGBM] [Warning] No further splits with positive gain, best gain: -inf\n",
      "[LightGBM] [Warning] No further splits with positive gain, best gain: -inf\n",
      "[LightGBM] [Warning] No further splits with positive gain, best gain: -inf\n",
      "[LightGBM] [Warning] No further splits with positive gain, best gain: -inf\n",
      "[LightGBM] [Warning] No further splits with positive gain, best gain: -inf\n",
      "[LightGBM] [Warning] No further splits with positive gain, best gain: -inf\n",
      "[LightGBM] [Warning] No further splits with positive gain, best gain: -inf\n",
      "[LightGBM] [Warning] No further splits with positive gain, best gain: -inf\n",
      "[LightGBM] [Warning] No further splits with positive gain, best gain: -inf\n",
      "[LightGBM] [Warning] No further splits with positive gain, best gain: -inf\n",
      "[LightGBM] [Warning] No further splits with positive gain, best gain: -inf\n",
      "[LightGBM] [Warning] No further splits with positive gain, best gain: -inf\n",
      "[LightGBM] [Warning] No further splits with positive gain, best gain: -inf\n",
      "[LightGBM] [Warning] No further splits with positive gain, best gain: -inf\n",
      "[LightGBM] [Warning] No further splits with positive gain, best gain: -inf\n",
      "[LightGBM] [Warning] No further splits with positive gain, best gain: -inf\n",
      "[LightGBM] [Warning] No further splits with positive gain, best gain: -inf\n",
      "[LightGBM] [Warning] No further splits with positive gain, best gain: -inf\n",
      "[LightGBM] [Warning] No further splits with positive gain, best gain: -inf\n",
      "[LightGBM] [Warning] No further splits with positive gain, best gain: -inf\n",
      "[LightGBM] [Warning] No further splits with positive gain, best gain: -inf\n",
      "[LightGBM] [Warning] No further splits with positive gain, best gain: -inf\n",
      "[LightGBM] [Warning] No further splits with positive gain, best gain: -inf\n",
      "[LightGBM] [Warning] No further splits with positive gain, best gain: -inf\n",
      "[LightGBM] [Warning] No further splits with positive gain, best gain: -inf\n",
      "[LightGBM] [Warning] No further splits with positive gain, best gain: -inf\n",
      "[LightGBM] [Warning] No further splits with positive gain, best gain: -inf\n",
      "[LightGBM] [Warning] No further splits with positive gain, best gain: -inf\n",
      "[LightGBM] [Warning] No further splits with positive gain, best gain: -inf\n",
      "[LightGBM] [Warning] No further splits with positive gain, best gain: -inf\n",
      "[LightGBM] [Warning] No further splits with positive gain, best gain: -inf\n",
      "Fold 1 accuracy: 0.6124\n",
      "[LightGBM] [Info] Number of positive: 253, number of negative: 168\n",
      "[LightGBM] [Info] Auto-choosing col-wise multi-threading, the overhead of testing was 0.000039 seconds.\n",
      "You can set `force_col_wise=true` to remove the overhead.\n",
      "[LightGBM] [Info] Total Bins 705\n",
      "[LightGBM] [Info] Number of data points in the train set: 421, number of used features: 5\n",
      "[LightGBM] [Info] [binary:BoostFromScore]: pavg=0.600950 -> initscore=0.409426\n",
      "[LightGBM] [Info] Start training from score 0.409426\n",
      "[LightGBM] [Warning] No further splits with positive gain, best gain: -inf\n",
      "[LightGBM] [Warning] No further splits with positive gain, best gain: -inf\n",
      "[LightGBM] [Warning] No further splits with positive gain, best gain: -inf\n",
      "[LightGBM] [Warning] No further splits with positive gain, best gain: -inf\n",
      "[LightGBM] [Warning] No further splits with positive gain, best gain: -inf\n",
      "[LightGBM] [Warning] No further splits with positive gain, best gain: -inf\n",
      "[LightGBM] [Warning] No further splits with positive gain, best gain: -inf\n",
      "[LightGBM] [Warning] No further splits with positive gain, best gain: -inf\n",
      "[LightGBM] [Warning] No further splits with positive gain, best gain: -inf\n",
      "[LightGBM] [Warning] No further splits with positive gain, best gain: -inf\n",
      "[LightGBM] [Warning] No further splits with positive gain, best gain: -inf\n",
      "[LightGBM] [Warning] No further splits with positive gain, best gain: -inf\n",
      "[LightGBM] [Warning] No further splits with positive gain, best gain: -inf\n",
      "[LightGBM] [Warning] No further splits with positive gain, best gain: -inf\n",
      "[LightGBM] [Warning] No further splits with positive gain, best gain: -inf\n",
      "[LightGBM] [Warning] No further splits with positive gain, best gain: -inf\n",
      "[LightGBM] [Warning] No further splits with positive gain, best gain: -inf\n",
      "[LightGBM] [Warning] No further splits with positive gain, best gain: -inf\n",
      "[LightGBM] [Warning] No further splits with positive gain, best gain: -inf\n",
      "[LightGBM] [Warning] No further splits with positive gain, best gain: -inf\n",
      "[LightGBM] [Warning] No further splits with positive gain, best gain: -inf\n",
      "[LightGBM] [Warning] No further splits with positive gain, best gain: -inf\n",
      "[LightGBM] [Warning] No further splits with positive gain, best gain: -inf\n",
      "[LightGBM] [Warning] No further splits with positive gain, best gain: -inf\n",
      "[LightGBM] [Warning] No further splits with positive gain, best gain: -inf\n",
      "[LightGBM] [Warning] No further splits with positive gain, best gain: -inf\n",
      "[LightGBM] [Warning] No further splits with positive gain, best gain: -inf\n",
      "[LightGBM] [Warning] No further splits with positive gain, best gain: -inf\n",
      "[LightGBM] [Warning] No further splits with positive gain, best gain: -inf\n",
      "[LightGBM] [Warning] No further splits with positive gain, best gain: -inf\n",
      "[LightGBM] [Warning] No further splits with positive gain, best gain: -inf\n",
      "[LightGBM] [Warning] No further splits with positive gain, best gain: -inf\n",
      "[LightGBM] [Warning] No further splits with positive gain, best gain: -inf\n",
      "[LightGBM] [Warning] No further splits with positive gain, best gain: -inf\n",
      "[LightGBM] [Warning] No further splits with positive gain, best gain: -inf\n",
      "[LightGBM] [Warning] No further splits with positive gain, best gain: -inf\n",
      "[LightGBM] [Warning] No further splits with positive gain, best gain: -inf\n",
      "[LightGBM] [Warning] No further splits with positive gain, best gain: -inf\n",
      "[LightGBM] [Warning] No further splits with positive gain, best gain: -inf\n",
      "[LightGBM] [Warning] No further splits with positive gain, best gain: -inf\n",
      "[LightGBM] [Warning] No further splits with positive gain, best gain: -inf\n",
      "[LightGBM] [Warning] No further splits with positive gain, best gain: -inf\n",
      "[LightGBM] [Warning] No further splits with positive gain, best gain: -inf\n",
      "[LightGBM] [Warning] No further splits with positive gain, best gain: -inf\n",
      "[LightGBM] [Warning] No further splits with positive gain, best gain: -inf\n",
      "[LightGBM] [Warning] No further splits with positive gain, best gain: -inf\n",
      "[LightGBM] [Warning] No further splits with positive gain, best gain: -inf\n",
      "[LightGBM] [Warning] No further splits with positive gain, best gain: -inf\n",
      "[LightGBM] [Warning] No further splits with positive gain, best gain: -inf\n",
      "[LightGBM] [Warning] No further splits with positive gain, best gain: -inf\n",
      "[LightGBM] [Warning] No further splits with positive gain, best gain: -inf\n",
      "[LightGBM] [Warning] No further splits with positive gain, best gain: -inf\n",
      "[LightGBM] [Warning] No further splits with positive gain, best gain: -inf\n",
      "[LightGBM] [Warning] No further splits with positive gain, best gain: -inf\n",
      "[LightGBM] [Warning] No further splits with positive gain, best gain: -inf\n",
      "[LightGBM] [Warning] No further splits with positive gain, best gain: -inf\n",
      "[LightGBM] [Warning] No further splits with positive gain, best gain: -inf\n",
      "[LightGBM] [Warning] No further splits with positive gain, best gain: -inf\n",
      "[LightGBM] [Warning] No further splits with positive gain, best gain: -inf\n",
      "[LightGBM] [Warning] No further splits with positive gain, best gain: -inf\n",
      "[LightGBM] [Warning] No further splits with positive gain, best gain: -inf\n",
      "[LightGBM] [Warning] No further splits with positive gain, best gain: -inf\n",
      "[LightGBM] [Warning] No further splits with positive gain, best gain: -inf\n",
      "[LightGBM] [Warning] No further splits with positive gain, best gain: -inf\n",
      "[LightGBM] [Warning] No further splits with positive gain, best gain: -inf\n",
      "[LightGBM] [Warning] No further splits with positive gain, best gain: -inf\n",
      "[LightGBM] [Warning] No further splits with positive gain, best gain: -inf\n",
      "[LightGBM] [Warning] No further splits with positive gain, best gain: -inf\n",
      "[LightGBM] [Warning] No further splits with positive gain, best gain: -inf\n",
      "[LightGBM] [Warning] No further splits with positive gain, best gain: -inf\n",
      "[LightGBM] [Warning] No further splits with positive gain, best gain: -inf\n",
      "[LightGBM] [Warning] No further splits with positive gain, best gain: -inf\n",
      "[LightGBM] [Warning] No further splits with positive gain, best gain: -inf\n",
      "[LightGBM] [Warning] No further splits with positive gain, best gain: -inf\n",
      "[LightGBM] [Warning] No further splits with positive gain, best gain: -inf\n",
      "[LightGBM] [Warning] No further splits with positive gain, best gain: -inf\n",
      "[LightGBM] [Warning] No further splits with positive gain, best gain: -inf\n",
      "[LightGBM] [Warning] No further splits with positive gain, best gain: -inf\n",
      "[LightGBM] [Warning] No further splits with positive gain, best gain: -inf\n",
      "[LightGBM] [Warning] No further splits with positive gain, best gain: -inf\n",
      "[LightGBM] [Warning] No further splits with positive gain, best gain: -inf\n",
      "[LightGBM] [Warning] No further splits with positive gain, best gain: -inf\n",
      "[LightGBM] [Warning] No further splits with positive gain, best gain: -inf\n",
      "[LightGBM] [Warning] No further splits with positive gain, best gain: -inf\n",
      "[LightGBM] [Warning] No further splits with positive gain, best gain: -inf\n",
      "[LightGBM] [Warning] No further splits with positive gain, best gain: -inf\n",
      "[LightGBM] [Warning] No further splits with positive gain, best gain: -inf\n",
      "[LightGBM] [Warning] No further splits with positive gain, best gain: -inf\n",
      "[LightGBM] [Warning] No further splits with positive gain, best gain: -inf\n",
      "[LightGBM] [Warning] No further splits with positive gain, best gain: -inf\n",
      "[LightGBM] [Warning] No further splits with positive gain, best gain: -inf\n",
      "[LightGBM] [Warning] No further splits with positive gain, best gain: -inf\n",
      "[LightGBM] [Warning] No further splits with positive gain, best gain: -inf\n",
      "[LightGBM] [Warning] No further splits with positive gain, best gain: -inf\n",
      "[LightGBM] [Warning] No further splits with positive gain, best gain: -inf\n",
      "[LightGBM] [Warning] No further splits with positive gain, best gain: -inf\n",
      "[LightGBM] [Warning] No further splits with positive gain, best gain: -inf\n",
      "[LightGBM] [Warning] No further splits with positive gain, best gain: -inf\n",
      "[LightGBM] [Warning] No further splits with positive gain, best gain: -inf\n",
      "[LightGBM] [Warning] No further splits with positive gain, best gain: -inf\n",
      "Fold 2 accuracy: 0.6077\n",
      "[LightGBM] [Info] Number of positive: 375, number of negative: 255\n",
      "[LightGBM] [Info] Auto-choosing col-wise multi-threading, the overhead of testing was 0.000033 seconds.\n",
      "You can set `force_col_wise=true` to remove the overhead.\n",
      "[LightGBM] [Info] Total Bins 1051\n",
      "[LightGBM] [Info] Number of data points in the train set: 630, number of used features: 5\n",
      "[LightGBM] [Info] [binary:BoostFromScore]: pavg=0.595238 -> initscore=0.385662\n",
      "[LightGBM] [Info] Start training from score 0.385662\n",
      "[LightGBM] [Warning] No further splits with positive gain, best gain: -inf\n",
      "[LightGBM] [Warning] No further splits with positive gain, best gain: -inf\n",
      "[LightGBM] [Warning] No further splits with positive gain, best gain: -inf\n",
      "[LightGBM] [Warning] No further splits with positive gain, best gain: -inf\n",
      "[LightGBM] [Warning] No further splits with positive gain, best gain: -inf\n",
      "[LightGBM] [Warning] No further splits with positive gain, best gain: -inf\n",
      "[LightGBM] [Warning] No further splits with positive gain, best gain: -inf\n",
      "[LightGBM] [Warning] No further splits with positive gain, best gain: -inf\n",
      "[LightGBM] [Warning] No further splits with positive gain, best gain: -inf\n",
      "[LightGBM] [Warning] No further splits with positive gain, best gain: -inf\n",
      "[LightGBM] [Warning] No further splits with positive gain, best gain: -inf\n",
      "[LightGBM] [Warning] No further splits with positive gain, best gain: -inf\n",
      "[LightGBM] [Warning] No further splits with positive gain, best gain: -inf\n",
      "[LightGBM] [Warning] No further splits with positive gain, best gain: -inf\n",
      "[LightGBM] [Warning] No further splits with positive gain, best gain: -inf\n",
      "[LightGBM] [Warning] No further splits with positive gain, best gain: -inf\n",
      "[LightGBM] [Warning] No further splits with positive gain, best gain: -inf\n",
      "[LightGBM] [Warning] No further splits with positive gain, best gain: -inf\n",
      "[LightGBM] [Warning] No further splits with positive gain, best gain: -inf\n",
      "[LightGBM] [Warning] No further splits with positive gain, best gain: -inf\n",
      "[LightGBM] [Warning] No further splits with positive gain, best gain: -inf\n",
      "[LightGBM] [Warning] No further splits with positive gain, best gain: -inf\n",
      "[LightGBM] [Warning] No further splits with positive gain, best gain: -inf\n",
      "[LightGBM] [Warning] No further splits with positive gain, best gain: -inf\n",
      "[LightGBM] [Warning] No further splits with positive gain, best gain: -inf\n",
      "[LightGBM] [Warning] No further splits with positive gain, best gain: -inf\n",
      "[LightGBM] [Warning] No further splits with positive gain, best gain: -inf\n",
      "[LightGBM] [Warning] No further splits with positive gain, best gain: -inf\n",
      "[LightGBM] [Warning] No further splits with positive gain, best gain: -inf\n",
      "[LightGBM] [Warning] No further splits with positive gain, best gain: -inf\n",
      "[LightGBM] [Warning] No further splits with positive gain, best gain: -inf\n",
      "[LightGBM] [Warning] No further splits with positive gain, best gain: -inf\n",
      "[LightGBM] [Warning] No further splits with positive gain, best gain: -inf\n",
      "[LightGBM] [Warning] No further splits with positive gain, best gain: -inf\n",
      "[LightGBM] [Warning] No further splits with positive gain, best gain: -inf\n",
      "[LightGBM] [Warning] No further splits with positive gain, best gain: -inf\n",
      "[LightGBM] [Warning] No further splits with positive gain, best gain: -inf\n",
      "[LightGBM] [Warning] No further splits with positive gain, best gain: -inf\n",
      "[LightGBM] [Warning] No further splits with positive gain, best gain: -inf\n",
      "[LightGBM] [Warning] No further splits with positive gain, best gain: -inf\n",
      "[LightGBM] [Warning] No further splits with positive gain, best gain: -inf\n",
      "[LightGBM] [Warning] No further splits with positive gain, best gain: -inf\n",
      "[LightGBM] [Warning] No further splits with positive gain, best gain: -inf\n",
      "[LightGBM] [Warning] No further splits with positive gain, best gain: -inf\n",
      "[LightGBM] [Warning] No further splits with positive gain, best gain: -inf\n",
      "[LightGBM] [Warning] No further splits with positive gain, best gain: -inf\n",
      "[LightGBM] [Warning] No further splits with positive gain, best gain: -inf\n",
      "[LightGBM] [Warning] No further splits with positive gain, best gain: -inf\n",
      "[LightGBM] [Warning] No further splits with positive gain, best gain: -inf\n",
      "[LightGBM] [Warning] No further splits with positive gain, best gain: -inf\n",
      "[LightGBM] [Warning] No further splits with positive gain, best gain: -inf\n",
      "[LightGBM] [Warning] No further splits with positive gain, best gain: -inf\n",
      "[LightGBM] [Warning] No further splits with positive gain, best gain: -inf\n",
      "[LightGBM] [Warning] No further splits with positive gain, best gain: -inf\n",
      "[LightGBM] [Warning] No further splits with positive gain, best gain: -inf\n",
      "[LightGBM] [Warning] No further splits with positive gain, best gain: -inf\n",
      "[LightGBM] [Warning] No further splits with positive gain, best gain: -inf\n",
      "[LightGBM] [Warning] No further splits with positive gain, best gain: -inf\n",
      "[LightGBM] [Warning] No further splits with positive gain, best gain: -inf\n",
      "[LightGBM] [Warning] No further splits with positive gain, best gain: -inf\n",
      "[LightGBM] [Warning] No further splits with positive gain, best gain: -inf\n",
      "[LightGBM] [Warning] No further splits with positive gain, best gain: -inf\n",
      "[LightGBM] [Warning] No further splits with positive gain, best gain: -inf\n",
      "[LightGBM] [Warning] No further splits with positive gain, best gain: -inf\n",
      "[LightGBM] [Warning] No further splits with positive gain, best gain: -inf\n",
      "[LightGBM] [Warning] No further splits with positive gain, best gain: -inf\n",
      "[LightGBM] [Warning] No further splits with positive gain, best gain: -inf\n",
      "[LightGBM] [Warning] No further splits with positive gain, best gain: -inf\n",
      "Fold 3 accuracy: 0.6794\n",
      "[LightGBM] [Info] Number of positive: 491, number of negative: 348\n",
      "[LightGBM] [Info] Auto-choosing col-wise multi-threading, the overhead of testing was 0.000042 seconds.\n",
      "You can set `force_col_wise=true` to remove the overhead.\n",
      "[LightGBM] [Info] Total Bins 1275\n",
      "[LightGBM] [Info] Number of data points in the train set: 839, number of used features: 5\n",
      "[LightGBM] [Info] [binary:BoostFromScore]: pavg=0.585221 -> initscore=0.344242\n",
      "[LightGBM] [Info] Start training from score 0.344242\n",
      "[LightGBM] [Warning] No further splits with positive gain, best gain: -inf\n",
      "[LightGBM] [Warning] No further splits with positive gain, best gain: -inf\n",
      "Fold 4 accuracy: 0.4593\n",
      "[LightGBM] [Info] Number of positive: 585, number of negative: 463\n",
      "[LightGBM] [Info] Auto-choosing col-wise multi-threading, the overhead of testing was 0.000046 seconds.\n",
      "You can set `force_col_wise=true` to remove the overhead.\n",
      "[LightGBM] [Info] Total Bins 1275\n",
      "[LightGBM] [Info] Number of data points in the train set: 1048, number of used features: 5\n",
      "[LightGBM] [Info] [binary:BoostFromScore]: pavg=0.558206 -> initscore=0.233885\n",
      "[LightGBM] [Info] Start training from score 0.233885\n",
      "Fold 5 accuracy: 0.5933\n",
      "Average accuracy: 0.5904\n",
      "\n",
      "Classification Report:\n",
      "              precision    recall  f1-score   support\n",
      "\n",
      "          -1       0.72      0.12      0.21       462\n",
      "           1       0.58      0.96      0.72       583\n",
      "\n",
      "    accuracy                           0.59      1045\n",
      "   macro avg       0.65      0.54      0.47      1045\n",
      "weighted avg       0.64      0.59      0.50      1045\n",
      "\n",
      "\n",
      "==== Training Logistic Regression ====\n",
      "Fold 1 accuracy: 0.5981\n",
      "Fold 2 accuracy: 0.5837\n",
      "Fold 3 accuracy: 0.5550\n",
      "Fold 4 accuracy: 0.4498\n",
      "Fold 5 accuracy: 0.6124\n",
      "Average accuracy: 0.5598\n",
      "\n",
      "Classification Report:\n",
      "              precision    recall  f1-score   support\n",
      "\n",
      "          -1       0.75      0.01      0.01       462\n",
      "           1       0.56      1.00      0.72       583\n",
      "\n",
      "    accuracy                           0.56      1045\n",
      "   macro avg       0.65      0.50      0.36      1045\n",
      "weighted avg       0.64      0.56      0.41      1045\n",
      "\n",
      "\n",
      "==== Training SVM ====\n",
      "Fold 1 accuracy: 0.5981\n"
     ]
    },
    {
     "name": "stderr",
     "output_type": "stream",
     "text": [
      "/home/sacsresta/miniconda3/envs/research/lib/python3.10/site-packages/sklearn/utils/validation.py:2739: UserWarning: X does not have valid feature names, but LGBMClassifier was fitted with feature names\n",
      "  warnings.warn(\n",
      "/home/sacsresta/miniconda3/envs/research/lib/python3.10/site-packages/sklearn/utils/validation.py:2739: UserWarning: X does not have valid feature names, but LGBMClassifier was fitted with feature names\n",
      "  warnings.warn(\n",
      "/home/sacsresta/miniconda3/envs/research/lib/python3.10/site-packages/sklearn/utils/validation.py:2739: UserWarning: X does not have valid feature names, but LGBMClassifier was fitted with feature names\n",
      "  warnings.warn(\n",
      "/home/sacsresta/miniconda3/envs/research/lib/python3.10/site-packages/sklearn/utils/validation.py:2739: UserWarning: X does not have valid feature names, but LGBMClassifier was fitted with feature names\n",
      "  warnings.warn(\n",
      "/home/sacsresta/miniconda3/envs/research/lib/python3.10/site-packages/sklearn/utils/validation.py:2739: UserWarning: X does not have valid feature names, but LGBMClassifier was fitted with feature names\n",
      "  warnings.warn(\n"
     ]
    },
    {
     "name": "stdout",
     "output_type": "stream",
     "text": [
      "Fold 2 accuracy: 0.5837\n",
      "Fold 3 accuracy: 0.6411\n",
      "Fold 4 accuracy: 0.4498\n",
      "Fold 5 accuracy: 0.6029\n",
      "Average accuracy: 0.5751\n",
      "\n",
      "Classification Report:\n",
      "              precision    recall  f1-score   support\n",
      "\n",
      "          -1       0.95      0.04      0.08       462\n",
      "           1       0.57      1.00      0.72       583\n",
      "\n",
      "    accuracy                           0.58      1045\n",
      "   macro avg       0.76      0.52      0.40      1045\n",
      "weighted avg       0.74      0.58      0.44      1045\n",
      "\n",
      "\n",
      "==== Training KNN ====\n",
      "Fold 1 accuracy: 0.6172\n",
      "Fold 2 accuracy: 0.6172\n",
      "Fold 3 accuracy: 0.6459\n",
      "Fold 4 accuracy: 0.4593\n",
      "Fold 5 accuracy: 0.6077\n",
      "Average accuracy: 0.5895\n",
      "\n",
      "Classification Report:\n",
      "              precision    recall  f1-score   support\n",
      "\n",
      "          -1       0.74      0.11      0.19       462\n",
      "           1       0.58      0.97      0.72       583\n",
      "\n",
      "    accuracy                           0.59      1045\n",
      "   macro avg       0.66      0.54      0.46      1045\n",
      "weighted avg       0.65      0.59      0.49      1045\n",
      "\n",
      "\n",
      "==== Training Neural Network ====\n",
      "Fold 1 accuracy: 0.5598\n",
      "Fold 2 accuracy: 0.5837\n",
      "Fold 3 accuracy: 0.6555\n",
      "Fold 4 accuracy: 0.4545\n",
      "Fold 5 accuracy: 0.5981\n",
      "Average accuracy: 0.5703\n",
      "\n",
      "Classification Report:\n",
      "              precision    recall  f1-score   support\n",
      "\n",
      "          -1       0.62      0.07      0.13       462\n",
      "           1       0.57      0.96      0.71       583\n",
      "\n",
      "    accuracy                           0.57      1045\n",
      "   macro avg       0.59      0.52      0.42      1045\n",
      "weighted avg       0.59      0.57      0.46      1045\n",
      "\n"
     ]
    }
   ],
   "source": [
    "import numpy as np\n",
    "import pandas as pd\n",
    "from sklearn.model_selection import TimeSeriesSplit\n",
    "from sklearn.metrics import accuracy_score, classification_report\n",
    "from sklearn.preprocessing import StandardScaler\n",
    "from sklearn.ensemble import RandomForestClassifier, GradientBoostingClassifier\n",
    "from sklearn.linear_model import LogisticRegression\n",
    "from sklearn.svm import SVC\n",
    "from sklearn.neighbors import KNeighborsClassifier\n",
    "import xgboost as xgb\n",
    "import lightgbm as lgb\n",
    "from sklearn.neural_network import MLPClassifier\n",
    "import matplotlib.pyplot as plt\n",
    "\n",
    "# Setup TimeSeriesSplit and scaling as before\n",
    "X = data.drop(columns = ['shifted_direction','Direction','Supertrend'])\n",
    "y = data['Direction']\n",
    "\n",
    "\n",
    "tscv = TimeSeriesSplit(n_splits=5)\n",
    "scaler = StandardScaler()\n",
    "X_scaled = scaler.fit_transform(X)\n",
    "\n",
    "# Define models to compare\n",
    "models = {\n",
    "    'Random Forest': RandomForestClassifier(n_estimators=100, max_depth=10, random_state=42),\n",
    "    'Gradient Boosting': GradientBoostingClassifier(n_estimators=100, learning_rate=0.1, random_state=42),\n",
    "\n",
    "    'LightGBM': lgb.LGBMClassifier(n_estimators=100, learning_rate=0.1, random_state=42),\n",
    "    'Logistic Regression': LogisticRegression(max_iter=1000, random_state=42),\n",
    "    'SVM': SVC(probability=True, random_state=42),\n",
    "    'KNN': KNeighborsClassifier(n_neighbors=5),\n",
    "    'Neural Network': MLPClassifier(hidden_layer_sizes=(100,50), max_iter=500, random_state=42)\n",
    "}\n",
    "\n",
    "# Store results for each model\n",
    "model_results = {}\n",
    "\n",
    "# Run cross-validation for each model\n",
    "for model_name, model in models.items():\n",
    "    print(f\"\\n==== Training {model_name} ====\")\n",
    "    \n",
    "    fold_accuracy = []\n",
    "    all_predictions = []\n",
    "    all_actuals = []\n",
    "    \n",
    "    for fold, (train_index, test_index) in enumerate(tscv.split(X_scaled)):\n",
    "        X_train, X_test = X_scaled[train_index], X_scaled[test_index]\n",
    "        y_train, y_test = y.iloc[train_index], y.iloc[test_index]\n",
    "        \n",
    "        # Train the model\n",
    "        model.fit(X_train, y_train)\n",
    "        \n",
    "        # Make predictions\n",
    "        y_pred = model.predict(X_test)\n",
    "        \n",
    "        # Calculate accuracy\n",
    "        acc = accuracy_score(y_test, y_pred)\n",
    "        fold_accuracy.append(acc)\n",
    "        \n",
    "        # Store predictions and actual values\n",
    "        all_predictions.extend(y_pred)\n",
    "        all_actuals.extend(y_test.values)\n",
    "        \n",
    "        print(f\"Fold {fold+1} accuracy: {acc:.4f}\")\n",
    "        \n",
    "    # Calculate average accuracy\n",
    "    avg_accuracy = np.mean(fold_accuracy)\n",
    "    print(f\"Average accuracy: {avg_accuracy:.4f}\")\n",
    "    \n",
    "    # Print classification report for all folds combined\n",
    "    print(\"\\nClassification Report:\")\n",
    "    print(classification_report(all_actuals, all_predictions))\n",
    "    \n",
    "    # Store results\n",
    "    model_results[model_name] = {\n",
    "        'accuracy': avg_accuracy,\n",
    "        'predictions': all_predictions,\n",
    "        'actuals': all_actuals\n",
    "    }\n",
    "\n"
   ]
  },
  {
   "cell_type": "code",
   "execution_count": 100,
   "metadata": {},
   "outputs": [
    {
     "name": "stdout",
     "output_type": "stream",
     "text": [
      "\n",
      "==== Model Comparison ====\n",
      "Neural Network: 0.6014\n",
      "KNN: 0.5863\n",
      "SVM: 0.5815\n",
      "LightGBM: 0.5474\n",
      "Random Forest: 0.5427\n",
      "Gradient Boosting: 0.5412\n",
      "Logistic Regression: 0.5289\n",
      "\n",
      "Best model: Neural Network with accuracy 0.6014\n"
     ]
    },
    {
     "data": {
      "image/png": "[encoded data removed]",
      "text/plain": [
       "<Figure size 1200x600 with 1 Axes>"
      ]
     },
     "metadata": {},
     "output_type": "display_data"
    }
   ],
   "source": [
    "# Compare model performances\n",
    "accuracies = {name: results['accuracy'] for name, results in model_results.items()}\n",
    "best_model_name = max(accuracies, key=accuracies.get)\n",
    "\n",
    "print(f\"\\n==== Model Comparison ====\")\n",
    "for model_name, accuracy in sorted(accuracies.items(), key=lambda x: x[1], reverse=True):\n",
    "    print(f\"{model_name}: {accuracy:.4f}\")\n",
    "    \n",
    "print(f\"\\nBest model: {best_model_name} with accuracy {accuracies[best_model_name]:.4f}\")\n",
    "\n",
    "# Visualize model comparison\n",
    "plt.figure(figsize=(12, 6))\n",
    "model_names = list(accuracies.keys())\n",
    "model_accs = list(accuracies.values())\n",
    "\n",
    "# Sort by accuracy\n",
    "sorted_indices = np.argsort(model_accs)[::-1]\n",
    "model_names = [model_names[i] for i in sorted_indices]\n",
    "model_accs = [model_accs[i] for i in sorted_indices]\n",
    "\n",
    "plt.bar(model_names, model_accs, color='skyblue')\n",
    "plt.axhline(y=np.mean(model_accs), color='r', linestyle='-', label='Average')\n",
    "plt.xticks(rotation=45, ha='right')\n",
    "plt.ylim(min(model_accs) - 0.05, max(model_accs) + 0.05)\n",
    "plt.title('Model Accuracy Comparison')\n",
    "plt.ylabel('Accuracy')\n",
    "plt.tight_layout()\n",
    "plt.legend()\n",
    "plt.show()"
   ]
  },
  {
   "cell_type": "code",
   "execution_count": 123,
   "metadata": {},
   "outputs": [
    {
     "data": {
      "text/plain": [
       "(1257, 8)"
      ]
     },
     "execution_count": 123,
     "metadata": {},
     "output_type": "execute_result"
    }
   ],
   "source": [
    "data.shape"
   ]
  },
  {
   "cell_type": "code",
   "execution_count": null,
   "metadata": {},
   "outputs": [
    {
     "ename": "SyntaxError",
     "evalue": "invalid syntax (2269790204.py, line 28)",
     "output_type": "error",
     "traceback": [
      "\u001b[0;36m  Cell \u001b[0;32mIn[124], line 28\u001b[0;36m\u001b[0m\n\u001b[0;31m    },.iloc[:1500]\u001b[0m\n\u001b[0m      ^\u001b[0m\n\u001b[0;31mSyntaxError\u001b[0m\u001b[0;31m:\u001b[0m invalid syntax\n"
     ]
    }
   ],
   "source": [
    "from sklearn.model_selection import GridSearchCV\n",
    "\n",
    "# Define parameter grids for each model type\n",
    "param_grids = {\n",
    "    'Random Forest': {\n",
    "        'n_estimators': [50, 100, 200],\n",
    "        'max_depth': [5, 10, 15, None],\n",
    "        'min_samples_split': [2, 5, 10]\n",
    "    },\n",
    "    'Gradient Boosting': {\n",
    "        'n_estimators': [50, 100, 200],\n",
    "        'learning_rate': [0.01, 0.1, 0.2],\n",
    "        'max_depth': [3, 5, 7]\n",
    "    },\n",
    "    'Logistic Regression': {\n",
    "        'C': [0.001, 0.01, 0.1, 1, 10, 100],\n",
    "        'solver': ['liblinear', 'saga']\n",
    "    },\n",
    "    'SVM': {\n",
    "        'C': [0.1, 1, 10],\n",
    "        'gamma': ['scale', 'auto', 0.1, 0.01],\n",
    "        'kernel': ['rbf', 'linear']\n",
    "    },\n",
    "    'KNN': {\n",
    "        'n_neighbors': [3, 5, 7, 9, 11],\n",
    "        'weights': ['uniform', 'distance'],\n",
    "        'p': [1, 2]\n",
    "    },\n",
    "    'Neural Network': {\n",
    "        'hidden_layer_sizes': [(50,), (100,), (50, 50), (100, 50)],\n",
    "        'alpha': [0.0001, 0.001, 0.01],\n",
    "        'learning_rate': ['constant', 'adaptive']\n",
    "    }\n",
    "}\n",
    "\n",
    "# Get parameter grid for best model\n",
    "for best_model_name in param_grids:\n",
    "    print(f\"\\n==== Hyperparameter Tuning for {best_model_name} ====\")\n",
    "    \n",
    "    \n",
    "    # Perform grid search\n",
    "    grid_search = GridSearchCV(\n",
    "        models[best_model_name],\n",
    "        param_grids[best_model_name],\n",
    "        cv=tscv,\n",
    "        scoring='accuracy',\n",
    "        n_jobs=-1,\n",
    "        verbose=1\n",
    "    )\n",
    "    \n",
    "    grid_search.fit(X_scaled, y)\n",
    "    \n",
    "    # Print results\n",
    "    print(f\"Best parameters: {grid_search.best_params_}\")\n",
    "    print(f\"Best score: {grid_search.best_score_:.4f}\")\n",
    "    \n",
    "    # Train final model with best parameters\n",
    "    final_model = grid_search.best_estimator_\n",
    "    final_model.fit(X_train, y_train)\n",
    "    \n",
    "    print(\"\\nFinal model performance:\")\n",
    "    # Evaluate on the entire dataset (just for reference)\n",
    "    y_pred_final = final_model.predict(X_test)\n",
    "    print(classification_report(y_test, y_pred_final))"
   ]
  },
  {
   "cell_type": "code",
   "execution_count": 63,
   "metadata": {},
   "outputs": [
    {
     "data": {
      "text/plain": [
       "array([[ 1.31775916,  1.29220186,  1.29784499,  1.27199121, -0.94998662],\n",
       "       [ 1.31298277,  1.29974431,  1.31806093,  1.2990396 , -0.92313727],\n",
       "       [ 1.29193742,  1.30699114,  1.32137999,  1.31816776, -0.99619854],\n",
       "       ...,\n",
       "       [ 2.21480605,  2.20632733,  2.21435371,  2.18640732, -0.94879933],\n",
       "       [ 2.21391031,  2.22318711,  2.22174621,  2.23228516, -0.99730237],\n",
       "       [ 2.11420538,  2.14894485,  2.13454589,  2.17744113, -1.04970838]])"
      ]
     },
     "execution_count": 63,
     "metadata": {},
     "output_type": "execute_result"
    }
   ],
   "source": [
    "X_test"
   ]
  },
  {
   "cell_type": "code",
   "execution_count": 64,
   "metadata": {},
   "outputs": [
    {
     "name": "stdout",
     "output_type": "stream",
     "text": [
      "              precision    recall  f1-score   support\n",
      "\n",
      "           0       0.00      0.00      0.00       198\n",
      "           1       0.53      1.00      0.69       224\n",
      "\n",
      "    accuracy                           0.53       422\n",
      "   macro avg       0.27      0.50      0.35       422\n",
      "weighted avg       0.28      0.53      0.37       422\n",
      "\n"
     ]
    },
    {
     "name": "stderr",
     "output_type": "stream",
     "text": [
      "/home/sacsresta/miniconda3/envs/research/lib/python3.10/site-packages/sklearn/metrics/_classification.py:1565: UndefinedMetricWarning: Precision is ill-defined and being set to 0.0 in labels with no predicted samples. Use `zero_division` parameter to control this behavior.\n",
      "  _warn_prf(average, modifier, f\"{metric.capitalize()} is\", len(result))\n",
      "/home/sacsresta/miniconda3/envs/research/lib/python3.10/site-packages/sklearn/metrics/_classification.py:1565: UndefinedMetricWarning: Precision is ill-defined and being set to 0.0 in labels with no predicted samples. Use `zero_division` parameter to control this behavior.\n",
      "  _warn_prf(average, modifier, f\"{metric.capitalize()} is\", len(result))\n",
      "/home/sacsresta/miniconda3/envs/research/lib/python3.10/site-packages/sklearn/metrics/_classification.py:1565: UndefinedMetricWarning: Precision is ill-defined and being set to 0.0 in labels with no predicted samples. Use `zero_division` parameter to control this behavior.\n",
      "  _warn_prf(average, modifier, f\"{metric.capitalize()} is\", len(result))\n"
     ]
    }
   ],
   "source": [
    "y_pred_final = final_model.predict(X_test)\n",
    "print(classification_report(y_test, y_pred_final))"
   ]
  },
  {
   "cell_type": "code",
   "execution_count": 72,
   "metadata": {},
   "outputs": [
    {
     "data": {
      "text/plain": [
       "(2114, 5)"
      ]
     },
     "execution_count": 72,
     "metadata": {},
     "output_type": "execute_result"
    }
   ],
   "source": [
    "X_train.shape"
   ]
  },
  {
   "cell_type": "code",
   "execution_count": null,
   "metadata": {},
   "outputs": [],
   "source": []
  }
 ],
 "metadata": {
  "kernelspec": {
   "display_name": "research",
   "language": "python",
   "name": "python3"
  },
  "language_info": {
   "codemirror_mode": {
    "name": "ipython",
    "version": 3
   },
   "file_extension": ".py",
   "mimetype": "text/x-python",
   "name": "python",
   "nbconvert_exporter": "python",
   "pygments_lexer": "ipython3",
   "version": "3.10.16"
  }
 },
 "nbformat": 4,
 "nbformat_minor": 2
}
