{
 "cells": [
  {
   "cell_type": "code",
   "execution_count": 21,
   "id": "264010d7",
   "metadata": {},
   "outputs": [],
   "source": [
    "import os \n",
    "import glob\n",
    "import re\n",
    "import pandas as pd"
   ]
  },
  {
   "cell_type": "code",
   "execution_count": 22,
   "id": "9ba5a35c",
   "metadata": {},
   "outputs": [
    {
     "ename": "TypeError",
     "evalue": "'module' object is not callable",
     "output_type": "error",
     "traceback": [
      "\u001b[1;31m---------------------------------------------------------------------------\u001b[0m",
      "\u001b[1;31mTypeError\u001b[0m                                 Traceback (most recent call last)",
      "Cell \u001b[1;32mIn[22], line 2\u001b[0m\n\u001b[0;32m      1\u001b[0m path \u001b[38;5;241m=\u001b[39m \u001b[38;5;124mr\u001b[39m\u001b[38;5;124m\"\u001b[39m\u001b[38;5;124mC:\u001b[39m\u001b[38;5;124m\\\u001b[39m\u001b[38;5;124mUsers\u001b[39m\u001b[38;5;124m\\\u001b[39m\u001b[38;5;124msachi\u001b[39m\u001b[38;5;124m\\\u001b[39m\u001b[38;5;124mDocuments\u001b[39m\u001b[38;5;124m\\\u001b[39m\u001b[38;5;124mResearchcode\u001b[39m\u001b[38;5;124m\\\u001b[39m\u001b[38;5;124mmaster_combined_risk\u001b[39m\u001b[38;5;124m\"\u001b[39m\n\u001b[1;32m----> 2\u001b[0m csv_files \u001b[38;5;241m=\u001b[39m \u001b[43mglob\u001b[49m\u001b[43m(\u001b[49m\u001b[43mos\u001b[49m\u001b[38;5;241;43m.\u001b[39;49m\u001b[43mpath\u001b[49m\u001b[38;5;241;43m.\u001b[39;49m\u001b[43mjoin\u001b[49m\u001b[43m(\u001b[49m\u001b[43mpath\u001b[49m\u001b[43m,\u001b[49m\u001b[43m \u001b[49m\u001b[38;5;124;43m\"\u001b[39;49m\u001b[38;5;124;43m*.csv\u001b[39;49m\u001b[38;5;124;43m\"\u001b[39;49m\u001b[43m)\u001b[49m\u001b[43m)\u001b[49m\n\u001b[0;32m      3\u001b[0m combined_dfs \u001b[38;5;241m=\u001b[39m []\n\u001b[0;32m      4\u001b[0m \u001b[38;5;28;01mfor\u001b[39;00m file \u001b[38;5;129;01min\u001b[39;00m csv_files:\n",
      "\u001b[1;31mTypeError\u001b[0m: 'module' object is not callable"
     ]
    }
   ],
   "source": [
    "\n",
    "path = r\"C:\\Users\\sachi\\Documents\\Researchcode\\master_combined_risk\"\n",
    "csv_files = glob(os.path.join(path, \"*.csv\"))\n",
    "combined_dfs = []\n",
    "for file in csv_files:\n",
    "    filename = os.path.basename(file).replace(\".csv\", \"\")\n",
    "    lag_match = re.search(r'_(\\d+)_', filename)\n",
    "    Type = filename.strip().split('_')[-1]\n",
    "    lag = int(lag_match.group(1)) if lag_match else None    \n",
    "    df = pd.read_csv(file)\n",
    "    df['lag'] = lag\n",
    "    df['Type'] = Type\n",
    "    combined_dfs.append(df)\n",
    "df = pd.concat(combined_dfs, ignore_index=True)\n",
    "df.rename(columns = {'Unnamed: 0':'Ticker'}, inplace = True)"
   ]
  },
  {
   "cell_type": "code",
   "execution_count": 15,
   "id": "86b05de1",
   "metadata": {},
   "outputs": [],
   "source": [
    "data = df[df['Ticker'] == 'META']"
   ]
  },
  {
   "cell_type": "code",
   "execution_count": 17,
   "id": "c8a789a1",
   "metadata": {},
   "outputs": [],
   "source": [
    "pd.set_option('display.max_columns', None)\n",
    "pd.set_option('display.max_rows', None)"
   ]
  },
  {
   "cell_type": "code",
   "execution_count": 19,
   "id": "a0814b2e",
   "metadata": {},
   "outputs": [
    {
     "data": {
      "text/plain": [
       "Index(['Ticker', 'Unnamed: 1', 'Model', 'Accuracy_x', 'Confusion Matrix_x',\n",
       "       'Start_x', 'End_x', 'Duration_x', 'Exposure Time [%]_x',\n",
       "       'Equity Final [$]_x', 'Equity Peak [$]_x', 'Return [%]_x',\n",
       "       'Buy & Hold Return [%]_x', 'Return (Ann.) [%]_x',\n",
       "       'Volatility (Ann.) [%]_x', 'CAGR [%]_x', 'Sharpe Ratio_x',\n",
       "       'Sortino Ratio_x', 'Calmar Ratio_x', 'Alpha [%]_x', 'Beta_x',\n",
       "       'Max. Drawdown [%]_x', 'Avg. Drawdown [%]_x',\n",
       "       'Max. Drawdown Duration_x', 'Avg. Drawdown Duration_x', '# Trades_x',\n",
       "       'Win Rate [%]_x', 'Best Trade [%]_x', 'Worst Trade [%]_x',\n",
       "       'Avg. Trade [%]_x', 'Max. Trade Duration_x', 'Avg. Trade Duration_x',\n",
       "       'Profit Factor_x', 'Expectancy [%]_x', 'SQN_x', 'Kelly Criterion_x',\n",
       "       '_strategy_x', '_equity_curve_x', '_trades_x', 'Accuracy_y',\n",
       "       'Confusion Matrix_y', 'Start_y', 'End_y', 'Duration_y',\n",
       "       'Exposure Time [%]_y', 'Equity Final [$]_y', 'Equity Peak [$]_y',\n",
       "       'Return [%]_y', 'Buy & Hold Return [%]_y', 'Return (Ann.) [%]_y',\n",
       "       'Volatility (Ann.) [%]_y', 'CAGR [%]_y', 'Sharpe Ratio_y',\n",
       "       'Sortino Ratio_y', 'Calmar Ratio_y', 'Alpha [%]_y', 'Beta_y',\n",
       "       'Max. Drawdown [%]_y', 'Avg. Drawdown [%]_y',\n",
       "       'Max. Drawdown Duration_y', 'Avg. Drawdown Duration_y', '# Trades_y',\n",
       "       'Win Rate [%]_y', 'Best Trade [%]_y', 'Worst Trade [%]_y',\n",
       "       'Avg. Trade [%]_y', 'Max. Trade Duration_y', 'Avg. Trade Duration_y',\n",
       "       'Profit Factor_y', 'Expectancy [%]_y', 'SQN_y', 'Kelly Criterion_y',\n",
       "       '_strategy_y', '_equity_curve_y', '_trades_y', 'lag', 'Type'],\n",
       "      dtype='object')"
      ]
     },
     "execution_count": 19,
     "metadata": {},
     "output_type": "execute_result"
    }
   ],
   "source": [
    "data.columns"
   ]
  },
  {
   "cell_type": "code",
   "execution_count": null,
   "id": "397b287c",
   "metadata": {},
   "outputs": [],
   "source": [
    "data = dat"
   ]
  }
 ],
 "metadata": {
  "kernelspec": {
   "display_name": "Python 3",
   "language": "python",
   "name": "python3"
  },
  "language_info": {
   "codemirror_mode": {
    "name": "ipython",
    "version": 3
   },
   "file_extension": ".py",
   "mimetype": "text/x-python",
   "name": "python",
   "nbconvert_exporter": "python",
   "pygments_lexer": "ipython3",
   "version": "3.10.16"
  }
 },
 "nbformat": 4,
 "nbformat_minor": 5
}
