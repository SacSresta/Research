{
 "cells": [
  {
   "cell_type": "code",
   "execution_count": 8,
   "id": "757bfe5a",
   "metadata": {},
   "outputs": [],
   "source": [
    "from models.lag_ml_model import get_data,preprocess_data,classifier_models,train_model,grid_optimize_model,random_optimize_model,get_param_grids\n",
    "from backtesting import Backtest,Strategy\n",
    "import pandas as pd\n",
    "import os\n",
    "import numpy as np\n",
    "import matplotlib.pyplot as plt\n",
    "import seaborn as sns\n",
    "from main import backtest_loop,backtest,risk_backtest_loop,risk_backtest,scaling_function,normal_model,random_model,grid_model"
   ]
  },
  {
   "cell_type": "code",
   "execution_count": 9,
   "id": "424e5f08",
   "metadata": {},
   "outputs": [
    {
     "name": "stdout",
     "output_type": "stream",
     "text": [
      "\n",
      "Logistic Regression Performance:\n",
      "Accuracy: 0.8079\n",
      "Confusion Matrix:\n",
      "[[173  79]\n",
      " [ 66 437]]\n",
      "              precision    recall  f1-score   support\n",
      "\n",
      "           0       0.72      0.69      0.70       252\n",
      "           1       0.85      0.87      0.86       503\n",
      "\n",
      "    accuracy                           0.81       755\n",
      "   macro avg       0.79      0.78      0.78       755\n",
      "weighted avg       0.81      0.81      0.81       755\n",
      "\n",
      "\n",
      "Random Forest Performance:\n",
      "Accuracy: 0.8437\n",
      "Confusion Matrix:\n",
      "[[200  52]\n",
      " [ 66 437]]\n",
      "              precision    recall  f1-score   support\n",
      "\n",
      "           0       0.75      0.79      0.77       252\n",
      "           1       0.89      0.87      0.88       503\n",
      "\n",
      "    accuracy                           0.84       755\n",
      "   macro avg       0.82      0.83      0.83       755\n",
      "weighted avg       0.85      0.84      0.84       755\n",
      "\n",
      "\n",
      "XGBoost Performance:\n",
      "Accuracy: 0.8371\n",
      "Confusion Matrix:\n",
      "[[186  66]\n",
      " [ 57 446]]\n",
      "              precision    recall  f1-score   support\n",
      "\n",
      "           0       0.77      0.74      0.75       252\n",
      "           1       0.87      0.89      0.88       503\n",
      "\n",
      "    accuracy                           0.84       755\n",
      "   macro avg       0.82      0.81      0.82       755\n",
      "weighted avg       0.84      0.84      0.84       755\n",
      "\n",
      "\n",
      "SVM Performance:\n",
      "Accuracy: 0.8013\n",
      "Confusion Matrix:\n",
      "[[171  81]\n",
      " [ 69 434]]\n",
      "              precision    recall  f1-score   support\n",
      "\n",
      "           0       0.71      0.68      0.70       252\n",
      "           1       0.84      0.86      0.85       503\n",
      "\n",
      "    accuracy                           0.80       755\n",
      "   macro avg       0.78      0.77      0.77       755\n",
      "weighted avg       0.80      0.80      0.80       755\n",
      "\n",
      "\n",
      "Naive Bayes Performance:\n",
      "Accuracy: 0.8384\n",
      "Confusion Matrix:\n",
      "[[190  62]\n",
      " [ 60 443]]\n",
      "              precision    recall  f1-score   support\n",
      "\n",
      "           0       0.76      0.75      0.76       252\n",
      "           1       0.88      0.88      0.88       503\n",
      "\n",
      "    accuracy                           0.84       755\n",
      "   macro avg       0.82      0.82      0.82       755\n",
      "weighted avg       0.84      0.84      0.84       755\n",
      "\n",
      "\n",
      "Gradient Boosting Performance:\n",
      "Accuracy: 0.8066\n",
      "Confusion Matrix:\n",
      "[[208  44]\n",
      " [102 401]]\n",
      "              precision    recall  f1-score   support\n",
      "\n",
      "           0       0.67      0.83      0.74       252\n",
      "           1       0.90      0.80      0.85       503\n",
      "\n",
      "    accuracy                           0.81       755\n",
      "   macro avg       0.79      0.81      0.79       755\n",
      "weighted avg       0.82      0.81      0.81       755\n",
      "\n",
      "\n",
      "K-Nearest Neighbors Performance:\n",
      "Accuracy: 0.8106\n",
      "Confusion Matrix:\n",
      "[[187  65]\n",
      " [ 78 425]]\n",
      "              precision    recall  f1-score   support\n",
      "\n",
      "           0       0.71      0.74      0.72       252\n",
      "           1       0.87      0.84      0.86       503\n",
      "\n",
      "    accuracy                           0.81       755\n",
      "   macro avg       0.79      0.79      0.79       755\n",
      "weighted avg       0.81      0.81      0.81       755\n",
      "\n",
      "\n",
      "Decision Tree Performance:\n",
      "Accuracy: 0.8318\n",
      "Confusion Matrix:\n",
      "[[201  51]\n",
      " [ 76 427]]\n",
      "              precision    recall  f1-score   support\n",
      "\n",
      "           0       0.73      0.80      0.76       252\n",
      "           1       0.89      0.85      0.87       503\n",
      "\n",
      "    accuracy                           0.83       755\n",
      "   macro avg       0.81      0.82      0.82       755\n",
      "weighted avg       0.84      0.83      0.83       755\n",
      "\n",
      "\n",
      "AdaBoost Performance:\n",
      "Accuracy: 0.8450\n",
      "Confusion Matrix:\n",
      "[[195  57]\n",
      " [ 60 443]]\n",
      "              precision    recall  f1-score   support\n",
      "\n",
      "           0       0.76      0.77      0.77       252\n",
      "           1       0.89      0.88      0.88       503\n",
      "\n",
      "    accuracy                           0.85       755\n",
      "   macro avg       0.83      0.83      0.83       755\n",
      "weighted avg       0.85      0.85      0.85       755\n",
      "\n",
      "\n",
      "SGD Classifier Performance:\n",
      "Accuracy: 0.7894\n",
      "Confusion Matrix:\n",
      "[[162  90]\n",
      " [ 69 434]]\n",
      "              precision    recall  f1-score   support\n",
      "\n",
      "           0       0.70      0.64      0.67       252\n",
      "           1       0.83      0.86      0.85       503\n",
      "\n",
      "    accuracy                           0.79       755\n",
      "   macro avg       0.76      0.75      0.76       755\n",
      "weighted avg       0.79      0.79      0.79       755\n",
      "\n"
     ]
    },
    {
     "name": "stderr",
     "output_type": "stream",
     "text": [
      "c:\\Users\\sachi\\Documents\\Researchcode\\research\\lib\\site-packages\\sklearn\\utils\\validation.py:2739: UserWarning: X does not have valid feature names, but LGBMClassifier was fitted with feature names\n",
      "  warnings.warn(\n"
     ]
    },
    {
     "name": "stdout",
     "output_type": "stream",
     "text": [
      "\n",
      "MLP Performance:\n",
      "Accuracy: 0.7894\n",
      "Confusion Matrix:\n",
      "[[193  59]\n",
      " [100 403]]\n",
      "              precision    recall  f1-score   support\n",
      "\n",
      "           0       0.66      0.77      0.71       252\n",
      "           1       0.87      0.80      0.84       503\n",
      "\n",
      "    accuracy                           0.79       755\n",
      "   macro avg       0.77      0.78      0.77       755\n",
      "weighted avg       0.80      0.79      0.79       755\n",
      "\n",
      "[LightGBM] [Info] Number of positive: 1092, number of negative: 669\n",
      "[LightGBM] [Info] Auto-choosing col-wise multi-threading, the overhead of testing was 0.000931 seconds.\n",
      "You can set `force_col_wise=true` to remove the overhead.\n",
      "[LightGBM] [Info] Total Bins 6630\n",
      "[LightGBM] [Info] Number of data points in the train set: 1761, number of used features: 26\n",
      "[LightGBM] [Info] [binary:BoostFromScore]: pavg=0.620102 -> initscore=0.489982\n",
      "[LightGBM] [Info] Start training from score 0.489982\n",
      "[LightGBM] [Warning] No further splits with positive gain, best gain: -inf\n",
      "[LightGBM] [Warning] No further splits with positive gain, best gain: -inf\n",
      "[LightGBM] [Warning] No further splits with positive gain, best gain: -inf\n",
      "[LightGBM] [Warning] No further splits with positive gain, best gain: -inf\n",
      "[LightGBM] [Warning] No further splits with positive gain, best gain: -inf\n",
      "[LightGBM] [Warning] No further splits with positive gain, best gain: -inf\n",
      "[LightGBM] [Warning] No further splits with positive gain, best gain: -inf\n",
      "[LightGBM] [Warning] No further splits with positive gain, best gain: -inf\n",
      "[LightGBM] [Warning] No further splits with positive gain, best gain: -inf\n",
      "[LightGBM] [Warning] No further splits with positive gain, best gain: -inf\n",
      "[LightGBM] [Warning] No further splits with positive gain, best gain: -inf\n",
      "[LightGBM] [Warning] No further splits with positive gain, best gain: -inf\n",
      "[LightGBM] [Warning] No further splits with positive gain, best gain: -inf\n",
      "[LightGBM] [Warning] No further splits with positive gain, best gain: -inf\n",
      "[LightGBM] [Warning] No further splits with positive gain, best gain: -inf\n",
      "[LightGBM] [Warning] No further splits with positive gain, best gain: -inf\n",
      "[LightGBM] [Warning] No further splits with positive gain, best gain: -inf\n",
      "[LightGBM] [Warning] No further splits with positive gain, best gain: -inf\n",
      "[LightGBM] [Warning] No further splits with positive gain, best gain: -inf\n",
      "[LightGBM] [Warning] No further splits with positive gain, best gain: -inf\n",
      "[LightGBM] [Warning] No further splits with positive gain, best gain: -inf\n",
      "[LightGBM] [Warning] No further splits with positive gain, best gain: -inf\n",
      "[LightGBM] [Warning] No further splits with positive gain, best gain: -inf\n",
      "[LightGBM] [Warning] No further splits with positive gain, best gain: -inf\n",
      "[LightGBM] [Warning] No further splits with positive gain, best gain: -inf\n",
      "[LightGBM] [Warning] No further splits with positive gain, best gain: -inf\n",
      "[LightGBM] [Warning] No further splits with positive gain, best gain: -inf\n",
      "[LightGBM] [Warning] No further splits with positive gain, best gain: -inf\n",
      "[LightGBM] [Warning] No further splits with positive gain, best gain: -inf\n",
      "[LightGBM] [Warning] No further splits with positive gain, best gain: -inf\n",
      "[LightGBM] [Warning] No further splits with positive gain, best gain: -inf\n",
      "[LightGBM] [Warning] No further splits with positive gain, best gain: -inf\n",
      "[LightGBM] [Warning] No further splits with positive gain, best gain: -inf\n",
      "[LightGBM] [Warning] No further splits with positive gain, best gain: -inf\n",
      "[LightGBM] [Warning] No further splits with positive gain, best gain: -inf\n",
      "[LightGBM] [Warning] No further splits with positive gain, best gain: -inf\n",
      "[LightGBM] [Warning] No further splits with positive gain, best gain: -inf\n",
      "[LightGBM] [Warning] No further splits with positive gain, best gain: -inf\n",
      "[LightGBM] [Warning] No further splits with positive gain, best gain: -inf\n",
      "[LightGBM] [Warning] No further splits with positive gain, best gain: -inf\n",
      "[LightGBM] [Warning] No further splits with positive gain, best gain: -inf\n",
      "[LightGBM] [Warning] No further splits with positive gain, best gain: -inf\n",
      "[LightGBM] [Warning] No further splits with positive gain, best gain: -inf\n",
      "[LightGBM] [Warning] No further splits with positive gain, best gain: -inf\n",
      "[LightGBM] [Warning] No further splits with positive gain, best gain: -inf\n",
      "[LightGBM] [Warning] No further splits with positive gain, best gain: -inf\n",
      "[LightGBM] [Warning] No further splits with positive gain, best gain: -inf\n",
      "[LightGBM] [Warning] No further splits with positive gain, best gain: -inf\n",
      "[LightGBM] [Warning] No further splits with positive gain, best gain: -inf\n",
      "[LightGBM] [Warning] No further splits with positive gain, best gain: -inf\n",
      "[LightGBM] [Warning] No further splits with positive gain, best gain: -inf\n",
      "[LightGBM] [Warning] No further splits with positive gain, best gain: -inf\n",
      "[LightGBM] [Warning] No further splits with positive gain, best gain: -inf\n",
      "[LightGBM] [Warning] No further splits with positive gain, best gain: -inf\n",
      "[LightGBM] [Warning] No further splits with positive gain, best gain: -inf\n",
      "[LightGBM] [Warning] No further splits with positive gain, best gain: -inf\n",
      "[LightGBM] [Warning] No further splits with positive gain, best gain: -inf\n",
      "[LightGBM] [Warning] No further splits with positive gain, best gain: -inf\n",
      "[LightGBM] [Warning] No further splits with positive gain, best gain: -inf\n",
      "[LightGBM] [Warning] No further splits with positive gain, best gain: -inf\n",
      "[LightGBM] [Warning] No further splits with positive gain, best gain: -inf\n",
      "[LightGBM] [Warning] No further splits with positive gain, best gain: -inf\n",
      "[LightGBM] [Warning] No further splits with positive gain, best gain: -inf\n",
      "[LightGBM] [Warning] No further splits with positive gain, best gain: -inf\n",
      "[LightGBM] [Warning] No further splits with positive gain, best gain: -inf\n",
      "[LightGBM] [Warning] No further splits with positive gain, best gain: -inf\n",
      "[LightGBM] [Warning] No further splits with positive gain, best gain: -inf\n",
      "[LightGBM] [Warning] No further splits with positive gain, best gain: -inf\n",
      "[LightGBM] [Warning] No further splits with positive gain, best gain: -inf\n",
      "[LightGBM] [Warning] No further splits with positive gain, best gain: -inf\n",
      "[LightGBM] [Warning] No further splits with positive gain, best gain: -inf\n",
      "[LightGBM] [Warning] No further splits with positive gain, best gain: -inf\n",
      "[LightGBM] [Warning] No further splits with positive gain, best gain: -inf\n",
      "[LightGBM] [Warning] No further splits with positive gain, best gain: -inf\n",
      "[LightGBM] [Warning] No further splits with positive gain, best gain: -inf\n",
      "[LightGBM] [Warning] No further splits with positive gain, best gain: -inf\n",
      "[LightGBM] [Warning] No further splits with positive gain, best gain: -inf\n",
      "[LightGBM] [Warning] No further splits with positive gain, best gain: -inf\n",
      "[LightGBM] [Warning] No further splits with positive gain, best gain: -inf\n",
      "[LightGBM] [Warning] No further splits with positive gain, best gain: -inf\n",
      "[LightGBM] [Warning] No further splits with positive gain, best gain: -inf\n",
      "[LightGBM] [Warning] No further splits with positive gain, best gain: -inf\n",
      "[LightGBM] [Warning] No further splits with positive gain, best gain: -inf\n",
      "[LightGBM] [Warning] No further splits with positive gain, best gain: -inf\n",
      "[LightGBM] [Warning] No further splits with positive gain, best gain: -inf\n",
      "[LightGBM] [Warning] No further splits with positive gain, best gain: -inf\n",
      "[LightGBM] [Warning] No further splits with positive gain, best gain: -inf\n",
      "[LightGBM] [Warning] No further splits with positive gain, best gain: -inf\n",
      "[LightGBM] [Warning] No further splits with positive gain, best gain: -inf\n",
      "[LightGBM] [Warning] No further splits with positive gain, best gain: -inf\n",
      "[LightGBM] [Warning] No further splits with positive gain, best gain: -inf\n",
      "[LightGBM] [Warning] No further splits with positive gain, best gain: -inf\n",
      "[LightGBM] [Warning] No further splits with positive gain, best gain: -inf\n",
      "[LightGBM] [Warning] No further splits with positive gain, best gain: -inf\n",
      "[LightGBM] [Warning] No further splits with positive gain, best gain: -inf\n",
      "[LightGBM] [Warning] No further splits with positive gain, best gain: -inf\n",
      "[LightGBM] [Warning] No further splits with positive gain, best gain: -inf\n",
      "[LightGBM] [Warning] No further splits with positive gain, best gain: -inf\n",
      "[LightGBM] [Warning] No further splits with positive gain, best gain: -inf\n",
      "[LightGBM] [Warning] No further splits with positive gain, best gain: -inf\n",
      "\n",
      "LGBMClassifier Performance:\n",
      "Accuracy: 0.8278\n",
      "Confusion Matrix:\n",
      "[[192  60]\n",
      " [ 70 433]]\n",
      "              precision    recall  f1-score   support\n",
      "\n",
      "           0       0.73      0.76      0.75       252\n",
      "           1       0.88      0.86      0.87       503\n",
      "\n",
      "    accuracy                           0.83       755\n",
      "   macro avg       0.81      0.81      0.81       755\n",
      "weighted avg       0.83      0.83      0.83       755\n",
      "\n",
      "Backtesting for Logistic Regression\n"
     ]
    },
    {
     "name": "stderr",
     "output_type": "stream",
     "text": [
      "                                                     "
     ]
    },
    {
     "name": "stdout",
     "output_type": "stream",
     "text": [
      "Backtesting for Random Forest\n"
     ]
    },
    {
     "name": "stderr",
     "output_type": "stream",
     "text": [
      "                                                     \r"
     ]
    },
    {
     "name": "stdout",
     "output_type": "stream",
     "text": [
      "Backtesting for XGBoost\n"
     ]
    },
    {
     "name": "stderr",
     "output_type": "stream",
     "text": [
      "                                                     \r"
     ]
    },
    {
     "name": "stdout",
     "output_type": "stream",
     "text": [
      "Backtesting for SVM\n"
     ]
    },
    {
     "name": "stderr",
     "output_type": "stream",
     "text": [
      "                                                     \r"
     ]
    },
    {
     "name": "stdout",
     "output_type": "stream",
     "text": [
      "Backtesting for Naive Bayes\n"
     ]
    },
    {
     "name": "stderr",
     "output_type": "stream",
     "text": [
      "                                                     \r"
     ]
    },
    {
     "name": "stdout",
     "output_type": "stream",
     "text": [
      "Backtesting for Gradient Boosting\n"
     ]
    },
    {
     "name": "stderr",
     "output_type": "stream",
     "text": [
      "                                                     \r"
     ]
    },
    {
     "name": "stdout",
     "output_type": "stream",
     "text": [
      "Backtesting for K-Nearest Neighbors\n"
     ]
    },
    {
     "name": "stderr",
     "output_type": "stream",
     "text": [
      "                                                     \r"
     ]
    },
    {
     "name": "stdout",
     "output_type": "stream",
     "text": [
      "Backtesting for Decision Tree\n"
     ]
    },
    {
     "name": "stderr",
     "output_type": "stream",
     "text": [
      "                                                     \r"
     ]
    },
    {
     "name": "stdout",
     "output_type": "stream",
     "text": [
      "Backtesting for AdaBoost\n"
     ]
    },
    {
     "name": "stderr",
     "output_type": "stream",
     "text": [
      "                                                     \r"
     ]
    },
    {
     "name": "stdout",
     "output_type": "stream",
     "text": [
      "Backtesting for SGD Classifier\n"
     ]
    },
    {
     "name": "stderr",
     "output_type": "stream",
     "text": [
      "                                                     "
     ]
    },
    {
     "name": "stdout",
     "output_type": "stream",
     "text": [
      "Backtesting for MLP\n"
     ]
    },
    {
     "name": "stderr",
     "output_type": "stream",
     "text": [
      "                                                     \r"
     ]
    },
    {
     "name": "stdout",
     "output_type": "stream",
     "text": [
      "Backtesting for LGBMClassifier\n"
     ]
    },
    {
     "name": "stderr",
     "output_type": "stream",
     "text": [
      "                                                     \r"
     ]
    },
    {
     "name": "stdout",
     "output_type": "stream",
     "text": [
      "Backtesting for Logistic Regression\n"
     ]
    },
    {
     "name": "stderr",
     "output_type": "stream",
     "text": [
      "                                                     \r"
     ]
    },
    {
     "name": "stdout",
     "output_type": "stream",
     "text": [
      "Backtesting for Random Forest\n"
     ]
    },
    {
     "name": "stderr",
     "output_type": "stream",
     "text": [
      "                                                     \r"
     ]
    },
    {
     "name": "stdout",
     "output_type": "stream",
     "text": [
      "Backtesting for XGBoost\n"
     ]
    },
    {
     "name": "stderr",
     "output_type": "stream",
     "text": [
      "                                                     \r"
     ]
    },
    {
     "name": "stdout",
     "output_type": "stream",
     "text": [
      "Backtesting for SVM\n"
     ]
    },
    {
     "name": "stderr",
     "output_type": "stream",
     "text": [
      "                                                     \r"
     ]
    },
    {
     "name": "stdout",
     "output_type": "stream",
     "text": [
      "Backtesting for Naive Bayes\n"
     ]
    },
    {
     "name": "stderr",
     "output_type": "stream",
     "text": [
      "                                                     "
     ]
    },
    {
     "name": "stdout",
     "output_type": "stream",
     "text": [
      "Backtesting for Gradient Boosting\n"
     ]
    },
    {
     "name": "stderr",
     "output_type": "stream",
     "text": [
      "                                                     \r"
     ]
    },
    {
     "name": "stdout",
     "output_type": "stream",
     "text": [
      "Backtesting for K-Nearest Neighbors\n"
     ]
    },
    {
     "name": "stderr",
     "output_type": "stream",
     "text": [
      "                                                     \r"
     ]
    },
    {
     "name": "stdout",
     "output_type": "stream",
     "text": [
      "Backtesting for Decision Tree\n"
     ]
    },
    {
     "name": "stderr",
     "output_type": "stream",
     "text": [
      "                                                     \r"
     ]
    },
    {
     "name": "stdout",
     "output_type": "stream",
     "text": [
      "Backtesting for AdaBoost\n"
     ]
    },
    {
     "name": "stderr",
     "output_type": "stream",
     "text": [
      "                                                     \r"
     ]
    },
    {
     "name": "stdout",
     "output_type": "stream",
     "text": [
      "Backtesting for SGD Classifier\n"
     ]
    },
    {
     "name": "stderr",
     "output_type": "stream",
     "text": [
      "                                                     \r"
     ]
    },
    {
     "name": "stdout",
     "output_type": "stream",
     "text": [
      "Backtesting for MLP\n"
     ]
    },
    {
     "name": "stderr",
     "output_type": "stream",
     "text": [
      "                                                     \r"
     ]
    },
    {
     "name": "stdout",
     "output_type": "stream",
     "text": [
      "Backtesting for LGBMClassifier\n"
     ]
    },
    {
     "name": "stderr",
     "output_type": "stream",
     "text": [
      "                                                     \r"
     ]
    }
   ],
   "source": [
    "path = r\"C:\\Users\\sachi\\Documents\\Researchcode\\Conferance_Data\\merged_data_META_from_2015-01-01_to_2025-03-01.csv\"\n",
    "\n",
    "df = get_data(path,ind=True)\n",
    "X_train,X_test,y_train,y_test = preprocess_data(df,max_lag=5)\n",
    "X_train_scaled,X_test_scaled = scaling_function(X_train,X_test)\n",
    "#No Optimation Model\n",
    "results,y_pred_dict = normal_model(X_train_scaled,X_test_scaled,y_train,y_test)\n",
    "normal_df,bt_collection = backtest_loop(y_pred_dict,X_test)\n",
    "risk_df,bt_collection = risk_backtest_loop(y_pred_dict,X_test)\n",
    "actual,_ = backtest(y_test,X_test)\n",
    "actual['Model'] = 'Actual'\n",
    "actual = pd.DataFrame(actual).T\n",
    "normal_merge = pd.merge(results,normal_df, how='inner')\n",
    "normal_merge = pd.concat([normal_merge,actual],axis=0)\n",
    "risk_merge = pd.merge(results,risk_df, how='inner')\n",
    "risk_merge = pd.concat([risk_merge,actual],axis=0)\n",
    "normal_merge = pd.merge(normal_merge,risk_merge, on='Model')\n"
   ]
  },
  {
   "cell_type": "code",
   "execution_count": 20,
   "id": "37767da9",
   "metadata": {},
   "outputs": [],
   "source": [
    "pd.set_option('display.max_columns',None)"
   ]
  },
  {
   "cell_type": "code",
   "execution_count": 21,
   "id": "8e52363d",
   "metadata": {},
   "outputs": [
    {
     "data": {
      "text/html": [
       "<div>\n",
       "<style scoped>\n",
       "    .dataframe tbody tr th:only-of-type {\n",
       "        vertical-align: middle;\n",
       "    }\n",
       "\n",
       "    .dataframe tbody tr th {\n",
       "        vertical-align: top;\n",
       "    }\n",
       "\n",
       "    .dataframe thead th {\n",
       "        text-align: right;\n",
       "    }\n",
       "</style>\n",
       "<table border=\"1\" class=\"dataframe\">\n",
       "  <thead>\n",
       "    <tr style=\"text-align: right;\">\n",
       "      <th></th>\n",
       "      <th>Model</th>\n",
       "      <th>Accuracy_x</th>\n",
       "      <th>Confusion Matrix_x</th>\n",
       "      <th>Start_x</th>\n",
       "      <th>End_x</th>\n",
       "      <th>Duration_x</th>\n",
       "      <th>Exposure Time [%]_x</th>\n",
       "      <th>Equity Final [$]_x</th>\n",
       "      <th>Equity Peak [$]_x</th>\n",
       "      <th>Return [%]_x</th>\n",
       "      <th>Buy &amp; Hold Return [%]_x</th>\n",
       "      <th>Return (Ann.) [%]_x</th>\n",
       "      <th>Volatility (Ann.) [%]_x</th>\n",
       "      <th>CAGR [%]_x</th>\n",
       "      <th>Sharpe Ratio_x</th>\n",
       "      <th>Sortino Ratio_x</th>\n",
       "      <th>Calmar Ratio_x</th>\n",
       "      <th>Alpha [%]_x</th>\n",
       "      <th>Beta_x</th>\n",
       "      <th>Max. Drawdown [%]_x</th>\n",
       "      <th>Avg. Drawdown [%]_x</th>\n",
       "      <th>Max. Drawdown Duration_x</th>\n",
       "      <th>Avg. Drawdown Duration_x</th>\n",
       "      <th># Trades_x</th>\n",
       "      <th>Win Rate [%]_x</th>\n",
       "      <th>Best Trade [%]_x</th>\n",
       "      <th>Worst Trade [%]_x</th>\n",
       "      <th>Avg. Trade [%]_x</th>\n",
       "      <th>Max. Trade Duration_x</th>\n",
       "      <th>Avg. Trade Duration_x</th>\n",
       "      <th>Profit Factor_x</th>\n",
       "      <th>Expectancy [%]_x</th>\n",
       "      <th>SQN_x</th>\n",
       "      <th>Kelly Criterion_x</th>\n",
       "      <th>_strategy_x</th>\n",
       "      <th>_equity_curve_x</th>\n",
       "      <th>_trades_x</th>\n",
       "      <th>Accuracy_y</th>\n",
       "      <th>Confusion Matrix_y</th>\n",
       "      <th>Start_y</th>\n",
       "      <th>End_y</th>\n",
       "      <th>Duration_y</th>\n",
       "      <th>Exposure Time [%]_y</th>\n",
       "      <th>Equity Final [$]_y</th>\n",
       "      <th>Equity Peak [$]_y</th>\n",
       "      <th>Return [%]_y</th>\n",
       "      <th>Buy &amp; Hold Return [%]_y</th>\n",
       "      <th>Return (Ann.) [%]_y</th>\n",
       "      <th>Volatility (Ann.) [%]_y</th>\n",
       "      <th>CAGR [%]_y</th>\n",
       "      <th>Sharpe Ratio_y</th>\n",
       "      <th>Sortino Ratio_y</th>\n",
       "      <th>Calmar Ratio_y</th>\n",
       "      <th>Alpha [%]_y</th>\n",
       "      <th>Beta_y</th>\n",
       "      <th>Max. Drawdown [%]_y</th>\n",
       "      <th>Avg. Drawdown [%]_y</th>\n",
       "      <th>Max. Drawdown Duration_y</th>\n",
       "      <th>Avg. Drawdown Duration_y</th>\n",
       "      <th># Trades_y</th>\n",
       "      <th>Win Rate [%]_y</th>\n",
       "      <th>Best Trade [%]_y</th>\n",
       "      <th>Worst Trade [%]_y</th>\n",
       "      <th>Avg. Trade [%]_y</th>\n",
       "      <th>Max. Trade Duration_y</th>\n",
       "      <th>Avg. Trade Duration_y</th>\n",
       "      <th>Profit Factor_y</th>\n",
       "      <th>Expectancy [%]_y</th>\n",
       "      <th>SQN_y</th>\n",
       "      <th>Kelly Criterion_y</th>\n",
       "      <th>_strategy_y</th>\n",
       "      <th>_equity_curve_y</th>\n",
       "      <th>_trades_y</th>\n",
       "    </tr>\n",
       "  </thead>\n",
       "  <tbody>\n",
       "    <tr>\n",
       "      <th>0</th>\n",
       "      <td>Logistic Regression</td>\n",
       "      <td>0.807947</td>\n",
       "      <td>[[173, 79], [66, 437]]</td>\n",
       "      <td>2022-02-24 00:00:00</td>\n",
       "      <td>2025-02-27 00:00:00</td>\n",
       "      <td>1099 days 00:00:00</td>\n",
       "      <td>51.523179</td>\n",
       "      <td>43530.097794</td>\n",
       "      <td>48706.47731</td>\n",
       "      <td>335.300978</td>\n",
       "      <td>217.071277</td>\n",
       "      <td>63.384896</td>\n",
       "      <td>52.244859</td>\n",
       "      <td>40.111589</td>\n",
       "      <td>1.213227</td>\n",
       "      <td>4.048465</td>\n",
       "      <td>2.668824</td>\n",
       "      <td>240.702131</td>\n",
       "      <td>0.435796</td>\n",
       "      <td>-23.750119</td>\n",
       "      <td>-4.076892</td>\n",
       "      <td>298 days 00:00:00</td>\n",
       "      <td>23 days 00:00:00</td>\n",
       "      <td>15</td>\n",
       "      <td>53.333333</td>\n",
       "      <td>138.626828</td>\n",
       "      <td>-7.912749</td>\n",
       "      <td>7.613383</td>\n",
       "      <td>221 days 00:00:00</td>\n",
       "      <td>37 days 00:00:00</td>\n",
       "      <td>6.494969</td>\n",
       "      <td>11.539537</td>\n",
       "      <td>1.282684</td>\n",
       "      <td>0.448485</td>\n",
       "      <td>MyStrategy</td>\n",
       "      <td>Equity  DrawdownPct Drawdown...</td>\n",
       "      <td>Size  EntryBar  ExitBar  EntryPrice   Exit...</td>\n",
       "      <td>0.807947</td>\n",
       "      <td>[[173, 79], [66, 437]]</td>\n",
       "      <td>2022-02-24 00:00:00</td>\n",
       "      <td>2025-02-27 00:00:00</td>\n",
       "      <td>1099 days 00:00:00</td>\n",
       "      <td>50.993377</td>\n",
       "      <td>43720.547318</td>\n",
       "      <td>48896.926835</td>\n",
       "      <td>337.205473</td>\n",
       "      <td>217.071277</td>\n",
       "      <td>63.623142</td>\n",
       "      <td>51.258787</td>\n",
       "      <td>40.251914</td>\n",
       "      <td>1.241214</td>\n",
       "      <td>4.251111</td>\n",
       "      <td>4.317681</td>\n",
       "      <td>245.479022</td>\n",
       "      <td>0.422564</td>\n",
       "      <td>-14.73549</td>\n",
       "      <td>-3.839634</td>\n",
       "      <td>283 days 00:00:00</td>\n",
       "      <td>24 days 00:00:00</td>\n",
       "      <td>23</td>\n",
       "      <td>30.434783</td>\n",
       "      <td>138.626828</td>\n",
       "      <td>-3.351878</td>\n",
       "      <td>5.20081</td>\n",
       "      <td>221 days 00:00:00</td>\n",
       "      <td>23 days 00:00:00</td>\n",
       "      <td>8.071365</td>\n",
       "      <td>7.781836</td>\n",
       "      <td>1.28753</td>\n",
       "      <td>0.246393</td>\n",
       "      <td>MyStrategy</td>\n",
       "      <td>Equity  DrawdownPct Drawdown...</td>\n",
       "      <td>Size  EntryBar  ExitBar  EntryPrice   Exit...</td>\n",
       "    </tr>\n",
       "    <tr>\n",
       "      <th>1</th>\n",
       "      <td>Random Forest</td>\n",
       "      <td>0.843709</td>\n",
       "      <td>[[200, 52], [66, 437]]</td>\n",
       "      <td>2022-02-24 00:00:00</td>\n",
       "      <td>2025-02-27 00:00:00</td>\n",
       "      <td>1099 days 00:00:00</td>\n",
       "      <td>67.682119</td>\n",
       "      <td>34913.812592</td>\n",
       "      <td>38590.213226</td>\n",
       "      <td>249.138126</td>\n",
       "      <td>217.071277</td>\n",
       "      <td>51.788485</td>\n",
       "      <td>48.073421</td>\n",
       "      <td>33.201443</td>\n",
       "      <td>1.077279</td>\n",
       "      <td>3.209624</td>\n",
       "      <td>2.017316</td>\n",
       "      <td>155.050089</td>\n",
       "      <td>0.433443</td>\n",
       "      <td>-25.671981</td>\n",
       "      <td>-4.565828</td>\n",
       "      <td>304 days 00:00:00</td>\n",
       "      <td>28 days 00:00:00</td>\n",
       "      <td>22</td>\n",
       "      <td>45.454545</td>\n",
       "      <td>74.602624</td>\n",
       "      <td>-7.912749</td>\n",
       "      <td>5.879677</td>\n",
       "      <td>165 days 00:00:00</td>\n",
       "      <td>33 days 00:00:00</td>\n",
       "      <td>4.85948</td>\n",
       "      <td>7.608042</td>\n",
       "      <td>1.745335</td>\n",
       "      <td>0.353979</td>\n",
       "      <td>MyStrategy</td>\n",
       "      <td>Equity  DrawdownPct Drawdown...</td>\n",
       "      <td>Size  EntryBar  ExitBar  EntryPrice   Exit...</td>\n",
       "      <td>0.843709</td>\n",
       "      <td>[[200, 52], [66, 437]]</td>\n",
       "      <td>2022-02-24 00:00:00</td>\n",
       "      <td>2025-02-27 00:00:00</td>\n",
       "      <td>1099 days 00:00:00</td>\n",
       "      <td>66.490066</td>\n",
       "      <td>35859.296602</td>\n",
       "      <td>39606.397249</td>\n",
       "      <td>258.592966</td>\n",
       "      <td>217.071277</td>\n",
       "      <td>53.148276</td>\n",
       "      <td>47.483227</td>\n",
       "      <td>34.020067</td>\n",
       "      <td>1.119306</td>\n",
       "      <td>3.524646</td>\n",
       "      <td>2.859774</td>\n",
       "      <td>168.407165</td>\n",
       "      <td>0.415466</td>\n",
       "      <td>-18.58478</td>\n",
       "      <td>-4.617393</td>\n",
       "      <td>291 days 00:00:00</td>\n",
       "      <td>31 days 00:00:00</td>\n",
       "      <td>29</td>\n",
       "      <td>27.586207</td>\n",
       "      <td>74.602624</td>\n",
       "      <td>-4.18535</td>\n",
       "      <td>4.536038</td>\n",
       "      <td>165 days 00:00:00</td>\n",
       "      <td>25 days 00:00:00</td>\n",
       "      <td>5.265708</td>\n",
       "      <td>5.858334</td>\n",
       "      <td>1.621028</td>\n",
       "      <td>0.202971</td>\n",
       "      <td>MyStrategy</td>\n",
       "      <td>Equity  DrawdownPct Drawdown...</td>\n",
       "      <td>Size  EntryBar  ExitBar  EntryPrice   Exit...</td>\n",
       "    </tr>\n",
       "    <tr>\n",
       "      <th>2</th>\n",
       "      <td>XGBoost</td>\n",
       "      <td>0.837086</td>\n",
       "      <td>[[186, 66], [57, 446]]</td>\n",
       "      <td>2022-02-24 00:00:00</td>\n",
       "      <td>2025-02-27 00:00:00</td>\n",
       "      <td>1099 days 00:00:00</td>\n",
       "      <td>69.668874</td>\n",
       "      <td>33853.874069</td>\n",
       "      <td>37781.891953</td>\n",
       "      <td>238.538741</td>\n",
       "      <td>217.071277</td>\n",
       "      <td>50.234594</td>\n",
       "      <td>48.370987</td>\n",
       "      <td>32.26315</td>\n",
       "      <td>1.038527</td>\n",
       "      <td>3.043399</td>\n",
       "      <td>1.7084</td>\n",
       "      <td>141.511214</td>\n",
       "      <td>0.446985</td>\n",
       "      <td>-29.404465</td>\n",
       "      <td>-4.727164</td>\n",
       "      <td>304 days 00:00:00</td>\n",
       "      <td>29 days 00:00:00</td>\n",
       "      <td>15</td>\n",
       "      <td>53.333333</td>\n",
       "      <td>140.558438</td>\n",
       "      <td>-10.633799</td>\n",
       "      <td>8.493588</td>\n",
       "      <td>262 days 00:00:00</td>\n",
       "      <td>51 days 00:00:00</td>\n",
       "      <td>6.46941</td>\n",
       "      <td>12.529776</td>\n",
       "      <td>1.645666</td>\n",
       "      <td>0.445938</td>\n",
       "      <td>MyStrategy</td>\n",
       "      <td>Equity  DrawdownPct Drawdown...</td>\n",
       "      <td>Size  EntryBar  ExitBar  EntryPrice   Exit...</td>\n",
       "      <td>0.837086</td>\n",
       "      <td>[[186, 66], [57, 446]]</td>\n",
       "      <td>2022-02-24 00:00:00</td>\n",
       "      <td>2025-02-27 00:00:00</td>\n",
       "      <td>1099 days 00:00:00</td>\n",
       "      <td>69.271523</td>\n",
       "      <td>33536.277705</td>\n",
       "      <td>37387.27563</td>\n",
       "      <td>235.362777</td>\n",
       "      <td>217.071277</td>\n",
       "      <td>49.762691</td>\n",
       "      <td>47.055117</td>\n",
       "      <td>31.977599</td>\n",
       "      <td>1.05754</td>\n",
       "      <td>3.216414</td>\n",
       "      <td>2.461633</td>\n",
       "      <td>142.866563</td>\n",
       "      <td>0.42611</td>\n",
       "      <td>-20.215314</td>\n",
       "      <td>-4.862356</td>\n",
       "      <td>291 days 00:00:00</td>\n",
       "      <td>31 days 00:00:00</td>\n",
       "      <td>28</td>\n",
       "      <td>28.571429</td>\n",
       "      <td>149.164915</td>\n",
       "      <td>-4.18535</td>\n",
       "      <td>4.452278</td>\n",
       "      <td>257 days 00:00:00</td>\n",
       "      <td>27 days 00:00:00</td>\n",
       "      <td>6.175409</td>\n",
       "      <td>6.847174</td>\n",
       "      <td>1.406461</td>\n",
       "      <td>0.216522</td>\n",
       "      <td>MyStrategy</td>\n",
       "      <td>Equity  DrawdownPct Drawdown...</td>\n",
       "      <td>Size  EntryBar  ExitBar  EntryPrice   Exit...</td>\n",
       "    </tr>\n",
       "    <tr>\n",
       "      <th>3</th>\n",
       "      <td>SVM</td>\n",
       "      <td>0.801325</td>\n",
       "      <td>[[171, 81], [69, 434]]</td>\n",
       "      <td>2022-02-24 00:00:00</td>\n",
       "      <td>2025-02-27 00:00:00</td>\n",
       "      <td>1099 days 00:00:00</td>\n",
       "      <td>70.596026</td>\n",
       "      <td>45449.768349</td>\n",
       "      <td>49028.286415</td>\n",
       "      <td>354.497683</td>\n",
       "      <td>217.071277</td>\n",
       "      <td>65.755339</td>\n",
       "      <td>52.688936</td>\n",
       "      <td>41.504938</td>\n",
       "      <td>1.247991</td>\n",
       "      <td>4.290993</td>\n",
       "      <td>2.741442</td>\n",
       "      <td>260.471632</td>\n",
       "      <td>0.433158</td>\n",
       "      <td>-23.985676</td>\n",
       "      <td>-3.967596</td>\n",
       "      <td>298 days 00:00:00</td>\n",
       "      <td>22 days 00:00:00</td>\n",
       "      <td>18</td>\n",
       "      <td>50.0</td>\n",
       "      <td>72.392472</td>\n",
       "      <td>-7.912749</td>\n",
       "      <td>8.842239</td>\n",
       "      <td>206 days 00:00:00</td>\n",
       "      <td>42 days 00:00:00</td>\n",
       "      <td>7.410821</td>\n",
       "      <td>10.969581</td>\n",
       "      <td>1.827951</td>\n",
       "      <td>0.456228</td>\n",
       "      <td>MyStrategy</td>\n",
       "      <td>Equity  DrawdownPct Drawdown...</td>\n",
       "      <td>Size  EntryBar  ExitBar  EntryPrice   Exit...</td>\n",
       "      <td>0.801325</td>\n",
       "      <td>[[171, 81], [69, 434]]</td>\n",
       "      <td>2022-02-24 00:00:00</td>\n",
       "      <td>2025-02-27 00:00:00</td>\n",
       "      <td>1099 days 00:00:00</td>\n",
       "      <td>69.801325</td>\n",
       "      <td>44699.760498</td>\n",
       "      <td>48224.058593</td>\n",
       "      <td>346.997605</td>\n",
       "      <td>217.071277</td>\n",
       "      <td>64.837306</td>\n",
       "      <td>51.52325</td>\n",
       "      <td>40.966062</td>\n",
       "      <td>1.258409</td>\n",
       "      <td>4.361069</td>\n",
       "      <td>4.137691</td>\n",
       "      <td>256.191248</td>\n",
       "      <td>0.418325</td>\n",
       "      <td>-15.669924</td>\n",
       "      <td>-3.832924</td>\n",
       "      <td>283 days 00:00:00</td>\n",
       "      <td>24 days 00:00:00</td>\n",
       "      <td>26</td>\n",
       "      <td>30.769231</td>\n",
       "      <td>72.392472</td>\n",
       "      <td>-3.351878</td>\n",
       "      <td>5.973715</td>\n",
       "      <td>205 days 00:00:00</td>\n",
       "      <td>29 days 00:00:00</td>\n",
       "      <td>8.438253</td>\n",
       "      <td>7.401886</td>\n",
       "      <td>1.816435</td>\n",
       "      <td>0.266692</td>\n",
       "      <td>MyStrategy</td>\n",
       "      <td>Equity  DrawdownPct Drawdown...</td>\n",
       "      <td>Size  EntryBar  ExitBar  EntryPrice   Exit...</td>\n",
       "    </tr>\n",
       "    <tr>\n",
       "      <th>6</th>\n",
       "      <td>K-Nearest Neighbors</td>\n",
       "      <td>0.810596</td>\n",
       "      <td>[[187, 65], [78, 425]]</td>\n",
       "      <td>2022-02-24 00:00:00</td>\n",
       "      <td>2025-02-27 00:00:00</td>\n",
       "      <td>1099 days 00:00:00</td>\n",
       "      <td>68.476821</td>\n",
       "      <td>35100.236916</td>\n",
       "      <td>38776.63755</td>\n",
       "      <td>251.002369</td>\n",
       "      <td>217.071277</td>\n",
       "      <td>52.058524</td>\n",
       "      <td>48.211876</td>\n",
       "      <td>33.364195</td>\n",
       "      <td>1.079786</td>\n",
       "      <td>3.278896</td>\n",
       "      <td>1.71319</td>\n",
       "      <td>155.981489</td>\n",
       "      <td>0.43774</td>\n",
       "      <td>-30.386901</td>\n",
       "      <td>-4.239739</td>\n",
       "      <td>304 days 00:00:00</td>\n",
       "      <td>24 days 00:00:00</td>\n",
       "      <td>27</td>\n",
       "      <td>55.555556</td>\n",
       "      <td>157.622191</td>\n",
       "      <td>-8.132648</td>\n",
       "      <td>4.791587</td>\n",
       "      <td>238 days 00:00:00</td>\n",
       "      <td>27 days 00:00:00</td>\n",
       "      <td>4.846278</td>\n",
       "      <td>7.471121</td>\n",
       "      <td>1.614593</td>\n",
       "      <td>0.421174</td>\n",
       "      <td>MyStrategy</td>\n",
       "      <td>Equity  DrawdownPct Drawdown...</td>\n",
       "      <td>Size  EntryBar  ExitBar  EntryPrice   Exit...</td>\n",
       "      <td>0.810596</td>\n",
       "      <td>[[187, 65], [78, 425]]</td>\n",
       "      <td>2022-02-24 00:00:00</td>\n",
       "      <td>2025-02-27 00:00:00</td>\n",
       "      <td>1099 days 00:00:00</td>\n",
       "      <td>67.019868</td>\n",
       "      <td>41673.994576</td>\n",
       "      <td>46057.395333</td>\n",
       "      <td>316.739946</td>\n",
       "      <td>217.071277</td>\n",
       "      <td>61.025769</td>\n",
       "      <td>49.826598</td>\n",
       "      <td>38.718594</td>\n",
       "      <td>1.224763</td>\n",
       "      <td>4.229254</td>\n",
       "      <td>3.727701</td>\n",
       "      <td>227.447315</td>\n",
       "      <td>0.411352</td>\n",
       "      <td>-16.370888</td>\n",
       "      <td>-3.639933</td>\n",
       "      <td>277 days 00:00:00</td>\n",
       "      <td>22 days 00:00:00</td>\n",
       "      <td>38</td>\n",
       "      <td>36.842105</td>\n",
       "      <td>165.742544</td>\n",
       "      <td>-4.18535</td>\n",
       "      <td>3.835213</td>\n",
       "      <td>237 days 00:00:00</td>\n",
       "      <td>19 days 00:00:00</td>\n",
       "      <td>6.460712</td>\n",
       "      <td>5.854237</td>\n",
       "      <td>1.618473</td>\n",
       "      <td>0.272237</td>\n",
       "      <td>MyStrategy</td>\n",
       "      <td>Equity  DrawdownPct Drawdown...</td>\n",
       "      <td>Size  EntryBar  ExitBar  EntryPrice   Exit...</td>\n",
       "    </tr>\n",
       "    <tr>\n",
       "      <th>7</th>\n",
       "      <td>Decision Tree</td>\n",
       "      <td>0.831788</td>\n",
       "      <td>[[201, 51], [76, 427]]</td>\n",
       "      <td>2022-02-24 00:00:00</td>\n",
       "      <td>2025-02-27 00:00:00</td>\n",
       "      <td>1099 days 00:00:00</td>\n",
       "      <td>67.549669</td>\n",
       "      <td>34882.232452</td>\n",
       "      <td>38558.633087</td>\n",
       "      <td>248.822325</td>\n",
       "      <td>217.071277</td>\n",
       "      <td>51.742645</td>\n",
       "      <td>48.059113</td>\n",
       "      <td>33.173807</td>\n",
       "      <td>1.076646</td>\n",
       "      <td>3.221048</td>\n",
       "      <td>2.465088</td>\n",
       "      <td>155.820728</td>\n",
       "      <td>0.428438</td>\n",
       "      <td>-20.990183</td>\n",
       "      <td>-4.397876</td>\n",
       "      <td>301 days 00:00:00</td>\n",
       "      <td>31 days 00:00:00</td>\n",
       "      <td>32</td>\n",
       "      <td>50.0</td>\n",
       "      <td>158.740934</td>\n",
       "      <td>-10.633799</td>\n",
       "      <td>4.004717</td>\n",
       "      <td>240 days 00:00:00</td>\n",
       "      <td>22 days 00:00:00</td>\n",
       "      <td>4.421436</td>\n",
       "      <td>6.369289</td>\n",
       "      <td>1.288082</td>\n",
       "      <td>0.335852</td>\n",
       "      <td>MyStrategy</td>\n",
       "      <td>Equity  DrawdownPct Drawdown...</td>\n",
       "      <td>Size  EntryBar  ExitBar  EntryPrice   Exit...</td>\n",
       "      <td>0.831788</td>\n",
       "      <td>[[201, 51], [76, 427]]</td>\n",
       "      <td>2022-02-24 00:00:00</td>\n",
       "      <td>2025-02-27 00:00:00</td>\n",
       "      <td>1099 days 00:00:00</td>\n",
       "      <td>66.357616</td>\n",
       "      <td>39584.078949</td>\n",
       "      <td>43755.37967</td>\n",
       "      <td>295.840789</td>\n",
       "      <td>217.071277</td>\n",
       "      <td>58.284111</td>\n",
       "      <td>48.470589</td>\n",
       "      <td>37.091674</td>\n",
       "      <td>1.202463</td>\n",
       "      <td>4.104989</td>\n",
       "      <td>2.86593</td>\n",
       "      <td>208.120988</td>\n",
       "      <td>0.404106</td>\n",
       "      <td>-20.336892</td>\n",
       "      <td>-4.086443</td>\n",
       "      <td>225 days 00:00:00</td>\n",
       "      <td>26 days 00:00:00</td>\n",
       "      <td>43</td>\n",
       "      <td>34.883721</td>\n",
       "      <td>158.740934</td>\n",
       "      <td>-4.075117</td>\n",
       "      <td>3.251188</td>\n",
       "      <td>240 days 00:00:00</td>\n",
       "      <td>16 days 00:00:00</td>\n",
       "      <td>5.394413</td>\n",
       "      <td>4.984676</td>\n",
       "      <td>1.363021</td>\n",
       "      <td>0.242086</td>\n",
       "      <td>MyStrategy</td>\n",
       "      <td>Equity  DrawdownPct Drawdown...</td>\n",
       "      <td>Size  EntryBar  ExitBar  EntryPrice   Exit...</td>\n",
       "    </tr>\n",
       "    <tr>\n",
       "      <th>8</th>\n",
       "      <td>AdaBoost</td>\n",
       "      <td>0.845033</td>\n",
       "      <td>[[195, 57], [60, 443]]</td>\n",
       "      <td>2022-02-24 00:00:00</td>\n",
       "      <td>2025-02-27 00:00:00</td>\n",
       "      <td>1099 days 00:00:00</td>\n",
       "      <td>67.94702</td>\n",
       "      <td>35682.474609</td>\n",
       "      <td>39841.552368</td>\n",
       "      <td>256.824746</td>\n",
       "      <td>217.071277</td>\n",
       "      <td>52.895803</td>\n",
       "      <td>49.18605</td>\n",
       "      <td>33.868246</td>\n",
       "      <td>1.075423</td>\n",
       "      <td>3.218659</td>\n",
       "      <td>2.391612</td>\n",
       "      <td>159.992845</td>\n",
       "      <td>0.446083</td>\n",
       "      <td>-22.117217</td>\n",
       "      <td>-4.184079</td>\n",
       "      <td>297 days 00:00:00</td>\n",
       "      <td>27 days 00:00:00</td>\n",
       "      <td>14</td>\n",
       "      <td>42.857143</td>\n",
       "      <td>136.80726</td>\n",
       "      <td>-6.707914</td>\n",
       "      <td>9.547184</td>\n",
       "      <td>259 days 00:00:00</td>\n",
       "      <td>53 days 00:00:00</td>\n",
       "      <td>8.024681</td>\n",
       "      <td>13.599806</td>\n",
       "      <td>1.645007</td>\n",
       "      <td>0.361783</td>\n",
       "      <td>MyStrategy</td>\n",
       "      <td>Equity  DrawdownPct Drawdown...</td>\n",
       "      <td>Size  EntryBar  ExitBar  EntryPrice   Exit...</td>\n",
       "      <td>0.845033</td>\n",
       "      <td>[[195, 57], [60, 443]]</td>\n",
       "      <td>2022-02-24 00:00:00</td>\n",
       "      <td>2025-02-27 00:00:00</td>\n",
       "      <td>1099 days 00:00:00</td>\n",
       "      <td>67.152318</td>\n",
       "      <td>37246.997639</td>\n",
       "      <td>41560.115315</td>\n",
       "      <td>272.469976</td>\n",
       "      <td>217.071277</td>\n",
       "      <td>55.101463</td>\n",
       "      <td>48.837894</td>\n",
       "      <td>35.19196</td>\n",
       "      <td>1.128252</td>\n",
       "      <td>3.574307</td>\n",
       "      <td>2.935895</td>\n",
       "      <td>179.824781</td>\n",
       "      <td>0.426796</td>\n",
       "      <td>-18.7682</td>\n",
       "      <td>-4.292202</td>\n",
       "      <td>281 days 00:00:00</td>\n",
       "      <td>29 days 00:00:00</td>\n",
       "      <td>19</td>\n",
       "      <td>31.578947</td>\n",
       "      <td>145.27953</td>\n",
       "      <td>-4.18535</td>\n",
       "      <td>7.202737</td>\n",
       "      <td>254 days 00:00:00</td>\n",
       "      <td>38 days 00:00:00</td>\n",
       "      <td>8.542145</td>\n",
       "      <td>10.501034</td>\n",
       "      <td>1.561495</td>\n",
       "      <td>0.255151</td>\n",
       "      <td>MyStrategy</td>\n",
       "      <td>Equity  DrawdownPct Drawdown...</td>\n",
       "      <td>Size  EntryBar  ExitBar  EntryPrice   Exit...</td>\n",
       "    </tr>\n",
       "    <tr>\n",
       "      <th>9</th>\n",
       "      <td>SGD Classifier</td>\n",
       "      <td>0.789404</td>\n",
       "      <td>[[162, 90], [69, 434]]</td>\n",
       "      <td>2022-02-24 00:00:00</td>\n",
       "      <td>2025-02-27 00:00:00</td>\n",
       "      <td>1099 days 00:00:00</td>\n",
       "      <td>51.92053</td>\n",
       "      <td>33245.239456</td>\n",
       "      <td>37166.73909</td>\n",
       "      <td>232.452395</td>\n",
       "      <td>217.071277</td>\n",
       "      <td>49.327628</td>\n",
       "      <td>48.228992</td>\n",
       "      <td>31.71409</td>\n",
       "      <td>1.02278</td>\n",
       "      <td>2.947457</td>\n",
       "      <td>1.941232</td>\n",
       "      <td>133.81675</td>\n",
       "      <td>0.454393</td>\n",
       "      <td>-25.410477</td>\n",
       "      <td>-4.394145</td>\n",
       "      <td>304 days 00:00:00</td>\n",
       "      <td>27 days 00:00:00</td>\n",
       "      <td>12</td>\n",
       "      <td>33.333333</td>\n",
       "      <td>130.059659</td>\n",
       "      <td>-7.912749</td>\n",
       "      <td>7.86168</td>\n",
       "      <td>225 days 00:00:00</td>\n",
       "      <td>47 days 00:00:00</td>\n",
       "      <td>6.668442</td>\n",
       "      <td>11.97637</td>\n",
       "      <td>1.22949</td>\n",
       "      <td>0.285613</td>\n",
       "      <td>MyStrategy</td>\n",
       "      <td>Equity  DrawdownPct Drawdown...</td>\n",
       "      <td>Size  EntryBar  ExitBar  EntryPrice   Exit...</td>\n",
       "      <td>0.789404</td>\n",
       "      <td>[[162, 90], [69, 434]]</td>\n",
       "      <td>2022-02-24 00:00:00</td>\n",
       "      <td>2025-02-27 00:00:00</td>\n",
       "      <td>1099 days 00:00:00</td>\n",
       "      <td>51.390728</td>\n",
       "      <td>34614.279985</td>\n",
       "      <td>38692.639604</td>\n",
       "      <td>246.1428</td>\n",
       "      <td>217.071277</td>\n",
       "      <td>51.352587</td>\n",
       "      <td>48.137014</td>\n",
       "      <td>32.938538</td>\n",
       "      <td>1.0668</td>\n",
       "      <td>3.163014</td>\n",
       "      <td>2.435345</td>\n",
       "      <td>151.204622</td>\n",
       "      <td>0.437359</td>\n",
       "      <td>-21.086373</td>\n",
       "      <td>-4.368613</td>\n",
       "      <td>298 days 00:00:00</td>\n",
       "      <td>29 days 00:00:00</td>\n",
       "      <td>19</td>\n",
       "      <td>21.052632</td>\n",
       "      <td>130.059659</td>\n",
       "      <td>-3.823101</td>\n",
       "      <td>5.029889</td>\n",
       "      <td>225 days 00:00:00</td>\n",
       "      <td>29 days 00:00:00</td>\n",
       "      <td>7.201463</td>\n",
       "      <td>7.670752</td>\n",
       "      <td>1.158798</td>\n",
       "      <td>0.161652</td>\n",
       "      <td>MyStrategy</td>\n",
       "      <td>Equity  DrawdownPct Drawdown...</td>\n",
       "      <td>Size  EntryBar  ExitBar  EntryPrice   Exit...</td>\n",
       "    </tr>\n",
       "    <tr>\n",
       "      <th>12</th>\n",
       "      <td>Actual</td>\n",
       "      <td>NaN</td>\n",
       "      <td>NaN</td>\n",
       "      <td>2022-02-24 00:00:00</td>\n",
       "      <td>2025-02-27 00:00:00</td>\n",
       "      <td>1099 days 00:00:00</td>\n",
       "      <td>68.07947</td>\n",
       "      <td>45313.610352</td>\n",
       "      <td>48639.34729</td>\n",
       "      <td>353.136104</td>\n",
       "      <td>217.071277</td>\n",
       "      <td>65.589431</td>\n",
       "      <td>55.476227</td>\n",
       "      <td>41.407621</td>\n",
       "      <td>1.182298</td>\n",
       "      <td>3.748676</td>\n",
       "      <td>2.814679</td>\n",
       "      <td>245.584411</td>\n",
       "      <td>0.495467</td>\n",
       "      <td>-23.302632</td>\n",
       "      <td>-3.918878</td>\n",
       "      <td>264 days 00:00:00</td>\n",
       "      <td>23 days 00:00:00</td>\n",
       "      <td>11</td>\n",
       "      <td>72.727273</td>\n",
       "      <td>173.571677</td>\n",
       "      <td>-9.796967</td>\n",
       "      <td>14.743873</td>\n",
       "      <td>280 days 00:00:00</td>\n",
       "      <td>67 days 00:00:00</td>\n",
       "      <td>14.816436</td>\n",
       "      <td>21.411998</td>\n",
       "      <td>1.971451</td>\n",
       "      <td>0.690281</td>\n",
       "      <td>MyStrategy</td>\n",
       "      <td>Equity  DrawdownPct Drawdown...</td>\n",
       "      <td>Size  EntryBar  ExitBar  EntryPrice   Exit...</td>\n",
       "      <td>NaN</td>\n",
       "      <td>NaN</td>\n",
       "      <td>2022-02-24 00:00:00</td>\n",
       "      <td>2025-02-27 00:00:00</td>\n",
       "      <td>1099 days 00:00:00</td>\n",
       "      <td>68.07947</td>\n",
       "      <td>45313.610352</td>\n",
       "      <td>48639.34729</td>\n",
       "      <td>353.136104</td>\n",
       "      <td>217.071277</td>\n",
       "      <td>65.589431</td>\n",
       "      <td>55.476227</td>\n",
       "      <td>41.407621</td>\n",
       "      <td>1.182298</td>\n",
       "      <td>3.748676</td>\n",
       "      <td>2.814679</td>\n",
       "      <td>245.584411</td>\n",
       "      <td>0.495467</td>\n",
       "      <td>-23.302632</td>\n",
       "      <td>-3.918878</td>\n",
       "      <td>264 days 00:00:00</td>\n",
       "      <td>23 days 00:00:00</td>\n",
       "      <td>11</td>\n",
       "      <td>72.727273</td>\n",
       "      <td>173.571677</td>\n",
       "      <td>-9.796967</td>\n",
       "      <td>14.743873</td>\n",
       "      <td>280 days 00:00:00</td>\n",
       "      <td>67 days 00:00:00</td>\n",
       "      <td>14.816436</td>\n",
       "      <td>21.411998</td>\n",
       "      <td>1.971451</td>\n",
       "      <td>0.690281</td>\n",
       "      <td>MyStrategy</td>\n",
       "      <td>Equity  DrawdownPct Drawdown...</td>\n",
       "      <td>Size  EntryBar  ExitBar  EntryPrice   Exit...</td>\n",
       "    </tr>\n",
       "  </tbody>\n",
       "</table>\n",
       "</div>"
      ],
      "text/plain": [
       "                  Model  Accuracy_x      Confusion Matrix_x  \\\n",
       "0   Logistic Regression    0.807947  [[173, 79], [66, 437]]   \n",
       "1         Random Forest    0.843709  [[200, 52], [66, 437]]   \n",
       "2               XGBoost    0.837086  [[186, 66], [57, 446]]   \n",
       "3                   SVM    0.801325  [[171, 81], [69, 434]]   \n",
       "6   K-Nearest Neighbors    0.810596  [[187, 65], [78, 425]]   \n",
       "7         Decision Tree    0.831788  [[201, 51], [76, 427]]   \n",
       "8              AdaBoost    0.845033  [[195, 57], [60, 443]]   \n",
       "9        SGD Classifier    0.789404  [[162, 90], [69, 434]]   \n",
       "12               Actual         NaN                     NaN   \n",
       "\n",
       "                Start_x                End_x          Duration_x  \\\n",
       "0   2022-02-24 00:00:00  2025-02-27 00:00:00  1099 days 00:00:00   \n",
       "1   2022-02-24 00:00:00  2025-02-27 00:00:00  1099 days 00:00:00   \n",
       "2   2022-02-24 00:00:00  2025-02-27 00:00:00  1099 days 00:00:00   \n",
       "3   2022-02-24 00:00:00  2025-02-27 00:00:00  1099 days 00:00:00   \n",
       "6   2022-02-24 00:00:00  2025-02-27 00:00:00  1099 days 00:00:00   \n",
       "7   2022-02-24 00:00:00  2025-02-27 00:00:00  1099 days 00:00:00   \n",
       "8   2022-02-24 00:00:00  2025-02-27 00:00:00  1099 days 00:00:00   \n",
       "9   2022-02-24 00:00:00  2025-02-27 00:00:00  1099 days 00:00:00   \n",
       "12  2022-02-24 00:00:00  2025-02-27 00:00:00  1099 days 00:00:00   \n",
       "\n",
       "   Exposure Time [%]_x Equity Final [$]_x Equity Peak [$]_x Return [%]_x  \\\n",
       "0            51.523179       43530.097794       48706.47731   335.300978   \n",
       "1            67.682119       34913.812592      38590.213226   249.138126   \n",
       "2            69.668874       33853.874069      37781.891953   238.538741   \n",
       "3            70.596026       45449.768349      49028.286415   354.497683   \n",
       "6            68.476821       35100.236916       38776.63755   251.002369   \n",
       "7            67.549669       34882.232452      38558.633087   248.822325   \n",
       "8             67.94702       35682.474609      39841.552368   256.824746   \n",
       "9             51.92053       33245.239456       37166.73909   232.452395   \n",
       "12            68.07947       45313.610352       48639.34729   353.136104   \n",
       "\n",
       "   Buy & Hold Return [%]_x Return (Ann.) [%]_x Volatility (Ann.) [%]_x  \\\n",
       "0               217.071277           63.384896               52.244859   \n",
       "1               217.071277           51.788485               48.073421   \n",
       "2               217.071277           50.234594               48.370987   \n",
       "3               217.071277           65.755339               52.688936   \n",
       "6               217.071277           52.058524               48.211876   \n",
       "7               217.071277           51.742645               48.059113   \n",
       "8               217.071277           52.895803                49.18605   \n",
       "9               217.071277           49.327628               48.228992   \n",
       "12              217.071277           65.589431               55.476227   \n",
       "\n",
       "   CAGR [%]_x Sharpe Ratio_x Sortino Ratio_x Calmar Ratio_x Alpha [%]_x  \\\n",
       "0   40.111589       1.213227        4.048465       2.668824  240.702131   \n",
       "1   33.201443       1.077279        3.209624       2.017316  155.050089   \n",
       "2    32.26315       1.038527        3.043399         1.7084  141.511214   \n",
       "3   41.504938       1.247991        4.290993       2.741442  260.471632   \n",
       "6   33.364195       1.079786        3.278896        1.71319  155.981489   \n",
       "7   33.173807       1.076646        3.221048       2.465088  155.820728   \n",
       "8   33.868246       1.075423        3.218659       2.391612  159.992845   \n",
       "9    31.71409        1.02278        2.947457       1.941232   133.81675   \n",
       "12  41.407621       1.182298        3.748676       2.814679  245.584411   \n",
       "\n",
       "      Beta_x Max. Drawdown [%]_x Avg. Drawdown [%]_x Max. Drawdown Duration_x  \\\n",
       "0   0.435796          -23.750119           -4.076892        298 days 00:00:00   \n",
       "1   0.433443          -25.671981           -4.565828        304 days 00:00:00   \n",
       "2   0.446985          -29.404465           -4.727164        304 days 00:00:00   \n",
       "3   0.433158          -23.985676           -3.967596        298 days 00:00:00   \n",
       "6    0.43774          -30.386901           -4.239739        304 days 00:00:00   \n",
       "7   0.428438          -20.990183           -4.397876        301 days 00:00:00   \n",
       "8   0.446083          -22.117217           -4.184079        297 days 00:00:00   \n",
       "9   0.454393          -25.410477           -4.394145        304 days 00:00:00   \n",
       "12  0.495467          -23.302632           -3.918878        264 days 00:00:00   \n",
       "\n",
       "   Avg. Drawdown Duration_x # Trades_x Win Rate [%]_x Best Trade [%]_x  \\\n",
       "0          23 days 00:00:00         15      53.333333       138.626828   \n",
       "1          28 days 00:00:00         22      45.454545        74.602624   \n",
       "2          29 days 00:00:00         15      53.333333       140.558438   \n",
       "3          22 days 00:00:00         18           50.0        72.392472   \n",
       "6          24 days 00:00:00         27      55.555556       157.622191   \n",
       "7          31 days 00:00:00         32           50.0       158.740934   \n",
       "8          27 days 00:00:00         14      42.857143        136.80726   \n",
       "9          27 days 00:00:00         12      33.333333       130.059659   \n",
       "12         23 days 00:00:00         11      72.727273       173.571677   \n",
       "\n",
       "   Worst Trade [%]_x Avg. Trade [%]_x Max. Trade Duration_x  \\\n",
       "0          -7.912749         7.613383     221 days 00:00:00   \n",
       "1          -7.912749         5.879677     165 days 00:00:00   \n",
       "2         -10.633799         8.493588     262 days 00:00:00   \n",
       "3          -7.912749         8.842239     206 days 00:00:00   \n",
       "6          -8.132648         4.791587     238 days 00:00:00   \n",
       "7         -10.633799         4.004717     240 days 00:00:00   \n",
       "8          -6.707914         9.547184     259 days 00:00:00   \n",
       "9          -7.912749          7.86168     225 days 00:00:00   \n",
       "12         -9.796967        14.743873     280 days 00:00:00   \n",
       "\n",
       "   Avg. Trade Duration_x Profit Factor_x Expectancy [%]_x     SQN_x  \\\n",
       "0       37 days 00:00:00        6.494969        11.539537  1.282684   \n",
       "1       33 days 00:00:00         4.85948         7.608042  1.745335   \n",
       "2       51 days 00:00:00         6.46941        12.529776  1.645666   \n",
       "3       42 days 00:00:00        7.410821        10.969581  1.827951   \n",
       "6       27 days 00:00:00        4.846278         7.471121  1.614593   \n",
       "7       22 days 00:00:00        4.421436         6.369289  1.288082   \n",
       "8       53 days 00:00:00        8.024681        13.599806  1.645007   \n",
       "9       47 days 00:00:00        6.668442         11.97637   1.22949   \n",
       "12      67 days 00:00:00       14.816436        21.411998  1.971451   \n",
       "\n",
       "   Kelly Criterion_x _strategy_x  \\\n",
       "0           0.448485  MyStrategy   \n",
       "1           0.353979  MyStrategy   \n",
       "2           0.445938  MyStrategy   \n",
       "3           0.456228  MyStrategy   \n",
       "6           0.421174  MyStrategy   \n",
       "7           0.335852  MyStrategy   \n",
       "8           0.361783  MyStrategy   \n",
       "9           0.285613  MyStrategy   \n",
       "12          0.690281  MyStrategy   \n",
       "\n",
       "                                      _equity_curve_x  \\\n",
       "0                     Equity  DrawdownPct Drawdown...   \n",
       "1                     Equity  DrawdownPct Drawdown...   \n",
       "2                     Equity  DrawdownPct Drawdown...   \n",
       "3                     Equity  DrawdownPct Drawdown...   \n",
       "6                     Equity  DrawdownPct Drawdown...   \n",
       "7                     Equity  DrawdownPct Drawdown...   \n",
       "8                     Equity  DrawdownPct Drawdown...   \n",
       "9                     Equity  DrawdownPct Drawdown...   \n",
       "12                    Equity  DrawdownPct Drawdown...   \n",
       "\n",
       "                                            _trades_x  Accuracy_y  \\\n",
       "0       Size  EntryBar  ExitBar  EntryPrice   Exit...    0.807947   \n",
       "1       Size  EntryBar  ExitBar  EntryPrice   Exit...    0.843709   \n",
       "2       Size  EntryBar  ExitBar  EntryPrice   Exit...    0.837086   \n",
       "3       Size  EntryBar  ExitBar  EntryPrice   Exit...    0.801325   \n",
       "6       Size  EntryBar  ExitBar  EntryPrice   Exit...    0.810596   \n",
       "7       Size  EntryBar  ExitBar  EntryPrice   Exit...    0.831788   \n",
       "8       Size  EntryBar  ExitBar  EntryPrice   Exit...    0.845033   \n",
       "9       Size  EntryBar  ExitBar  EntryPrice   Exit...    0.789404   \n",
       "12      Size  EntryBar  ExitBar  EntryPrice   Exit...         NaN   \n",
       "\n",
       "        Confusion Matrix_y              Start_y                End_y  \\\n",
       "0   [[173, 79], [66, 437]]  2022-02-24 00:00:00  2025-02-27 00:00:00   \n",
       "1   [[200, 52], [66, 437]]  2022-02-24 00:00:00  2025-02-27 00:00:00   \n",
       "2   [[186, 66], [57, 446]]  2022-02-24 00:00:00  2025-02-27 00:00:00   \n",
       "3   [[171, 81], [69, 434]]  2022-02-24 00:00:00  2025-02-27 00:00:00   \n",
       "6   [[187, 65], [78, 425]]  2022-02-24 00:00:00  2025-02-27 00:00:00   \n",
       "7   [[201, 51], [76, 427]]  2022-02-24 00:00:00  2025-02-27 00:00:00   \n",
       "8   [[195, 57], [60, 443]]  2022-02-24 00:00:00  2025-02-27 00:00:00   \n",
       "9   [[162, 90], [69, 434]]  2022-02-24 00:00:00  2025-02-27 00:00:00   \n",
       "12                     NaN  2022-02-24 00:00:00  2025-02-27 00:00:00   \n",
       "\n",
       "            Duration_y Exposure Time [%]_y Equity Final [$]_y  \\\n",
       "0   1099 days 00:00:00           50.993377       43720.547318   \n",
       "1   1099 days 00:00:00           66.490066       35859.296602   \n",
       "2   1099 days 00:00:00           69.271523       33536.277705   \n",
       "3   1099 days 00:00:00           69.801325       44699.760498   \n",
       "6   1099 days 00:00:00           67.019868       41673.994576   \n",
       "7   1099 days 00:00:00           66.357616       39584.078949   \n",
       "8   1099 days 00:00:00           67.152318       37246.997639   \n",
       "9   1099 days 00:00:00           51.390728       34614.279985   \n",
       "12  1099 days 00:00:00            68.07947       45313.610352   \n",
       "\n",
       "   Equity Peak [$]_y Return [%]_y Buy & Hold Return [%]_y Return (Ann.) [%]_y  \\\n",
       "0       48896.926835   337.205473              217.071277           63.623142   \n",
       "1       39606.397249   258.592966              217.071277           53.148276   \n",
       "2        37387.27563   235.362777              217.071277           49.762691   \n",
       "3       48224.058593   346.997605              217.071277           64.837306   \n",
       "6       46057.395333   316.739946              217.071277           61.025769   \n",
       "7        43755.37967   295.840789              217.071277           58.284111   \n",
       "8       41560.115315   272.469976              217.071277           55.101463   \n",
       "9       38692.639604     246.1428              217.071277           51.352587   \n",
       "12       48639.34729   353.136104              217.071277           65.589431   \n",
       "\n",
       "   Volatility (Ann.) [%]_y CAGR [%]_y Sharpe Ratio_y Sortino Ratio_y  \\\n",
       "0                51.258787  40.251914       1.241214        4.251111   \n",
       "1                47.483227  34.020067       1.119306        3.524646   \n",
       "2                47.055117  31.977599        1.05754        3.216414   \n",
       "3                 51.52325  40.966062       1.258409        4.361069   \n",
       "6                49.826598  38.718594       1.224763        4.229254   \n",
       "7                48.470589  37.091674       1.202463        4.104989   \n",
       "8                48.837894   35.19196       1.128252        3.574307   \n",
       "9                48.137014  32.938538         1.0668        3.163014   \n",
       "12               55.476227  41.407621       1.182298        3.748676   \n",
       "\n",
       "   Calmar Ratio_y Alpha [%]_y    Beta_y Max. Drawdown [%]_y  \\\n",
       "0        4.317681  245.479022  0.422564           -14.73549   \n",
       "1        2.859774  168.407165  0.415466           -18.58478   \n",
       "2        2.461633  142.866563   0.42611          -20.215314   \n",
       "3        4.137691  256.191248  0.418325          -15.669924   \n",
       "6        3.727701  227.447315  0.411352          -16.370888   \n",
       "7         2.86593  208.120988  0.404106          -20.336892   \n",
       "8        2.935895  179.824781  0.426796            -18.7682   \n",
       "9        2.435345  151.204622  0.437359          -21.086373   \n",
       "12       2.814679  245.584411  0.495467          -23.302632   \n",
       "\n",
       "   Avg. Drawdown [%]_y Max. Drawdown Duration_y Avg. Drawdown Duration_y  \\\n",
       "0            -3.839634        283 days 00:00:00         24 days 00:00:00   \n",
       "1            -4.617393        291 days 00:00:00         31 days 00:00:00   \n",
       "2            -4.862356        291 days 00:00:00         31 days 00:00:00   \n",
       "3            -3.832924        283 days 00:00:00         24 days 00:00:00   \n",
       "6            -3.639933        277 days 00:00:00         22 days 00:00:00   \n",
       "7            -4.086443        225 days 00:00:00         26 days 00:00:00   \n",
       "8            -4.292202        281 days 00:00:00         29 days 00:00:00   \n",
       "9            -4.368613        298 days 00:00:00         29 days 00:00:00   \n",
       "12           -3.918878        264 days 00:00:00         23 days 00:00:00   \n",
       "\n",
       "   # Trades_y Win Rate [%]_y Best Trade [%]_y Worst Trade [%]_y  \\\n",
       "0          23      30.434783       138.626828         -3.351878   \n",
       "1          29      27.586207        74.602624          -4.18535   \n",
       "2          28      28.571429       149.164915          -4.18535   \n",
       "3          26      30.769231        72.392472         -3.351878   \n",
       "6          38      36.842105       165.742544          -4.18535   \n",
       "7          43      34.883721       158.740934         -4.075117   \n",
       "8          19      31.578947        145.27953          -4.18535   \n",
       "9          19      21.052632       130.059659         -3.823101   \n",
       "12         11      72.727273       173.571677         -9.796967   \n",
       "\n",
       "   Avg. Trade [%]_y Max. Trade Duration_y Avg. Trade Duration_y  \\\n",
       "0           5.20081     221 days 00:00:00      23 days 00:00:00   \n",
       "1          4.536038     165 days 00:00:00      25 days 00:00:00   \n",
       "2          4.452278     257 days 00:00:00      27 days 00:00:00   \n",
       "3          5.973715     205 days 00:00:00      29 days 00:00:00   \n",
       "6          3.835213     237 days 00:00:00      19 days 00:00:00   \n",
       "7          3.251188     240 days 00:00:00      16 days 00:00:00   \n",
       "8          7.202737     254 days 00:00:00      38 days 00:00:00   \n",
       "9          5.029889     225 days 00:00:00      29 days 00:00:00   \n",
       "12        14.743873     280 days 00:00:00      67 days 00:00:00   \n",
       "\n",
       "   Profit Factor_y Expectancy [%]_y     SQN_y Kelly Criterion_y _strategy_y  \\\n",
       "0         8.071365         7.781836   1.28753          0.246393  MyStrategy   \n",
       "1         5.265708         5.858334  1.621028          0.202971  MyStrategy   \n",
       "2         6.175409         6.847174  1.406461          0.216522  MyStrategy   \n",
       "3         8.438253         7.401886  1.816435          0.266692  MyStrategy   \n",
       "6         6.460712         5.854237  1.618473          0.272237  MyStrategy   \n",
       "7         5.394413         4.984676  1.363021          0.242086  MyStrategy   \n",
       "8         8.542145        10.501034  1.561495          0.255151  MyStrategy   \n",
       "9         7.201463         7.670752  1.158798          0.161652  MyStrategy   \n",
       "12       14.816436        21.411998  1.971451          0.690281  MyStrategy   \n",
       "\n",
       "                                      _equity_curve_y  \\\n",
       "0                     Equity  DrawdownPct Drawdown...   \n",
       "1                     Equity  DrawdownPct Drawdown...   \n",
       "2                     Equity  DrawdownPct Drawdown...   \n",
       "3                     Equity  DrawdownPct Drawdown...   \n",
       "6                     Equity  DrawdownPct Drawdown...   \n",
       "7                     Equity  DrawdownPct Drawdown...   \n",
       "8                     Equity  DrawdownPct Drawdown...   \n",
       "9                     Equity  DrawdownPct Drawdown...   \n",
       "12                    Equity  DrawdownPct Drawdown...   \n",
       "\n",
       "                                            _trades_y  \n",
       "0       Size  EntryBar  ExitBar  EntryPrice   Exit...  \n",
       "1       Size  EntryBar  ExitBar  EntryPrice   Exit...  \n",
       "2       Size  EntryBar  ExitBar  EntryPrice   Exit...  \n",
       "3       Size  EntryBar  ExitBar  EntryPrice   Exit...  \n",
       "6       Size  EntryBar  ExitBar  EntryPrice   Exit...  \n",
       "7       Size  EntryBar  ExitBar  EntryPrice   Exit...  \n",
       "8       Size  EntryBar  ExitBar  EntryPrice   Exit...  \n",
       "9       Size  EntryBar  ExitBar  EntryPrice   Exit...  \n",
       "12      Size  EntryBar  ExitBar  EntryPrice   Exit...  "
      ]
     },
     "execution_count": 21,
     "metadata": {},
     "output_type": "execute_result"
    }
   ],
   "source": [
    "normal_merge[normal_merge['Return [%]_x'] > normal_merge['Buy & Hold Return [%]_x']]"
   ]
  },
  {
   "cell_type": "code",
   "execution_count": 10,
   "id": "fe1a23b1",
   "metadata": {},
   "outputs": [],
   "source": [
    "y_test_aligned = pd.Series(y_test, index=X_test.index, name='target')\n",
    "merged_data = pd.concat([X_test, y_test_aligned], axis=1)"
   ]
  },
  {
   "cell_type": "code",
   "execution_count": 11,
   "id": "94ac2f5a",
   "metadata": {},
   "outputs": [
    {
     "data": {
      "application/vnd.plotly.v1+json": {
       "config": {
        "plotlyServerURL": "https://plot.ly"
       },
       "data": [
        {
         "close": {
          "bdata": "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",
          "dtype": "f8"
         },
         "decreasing": {
          "line": {
           "color": "red"
          }
         },
         "high": {
          "bdata": "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",
          "dtype": "f8"
         },
         "increasing": {
          "line": {
           "color": "green"
          }
         },
         "low": {
          "bdata": "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",
          "dtype": "f8"
         },
         "open": {
          "bdata": "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",
          "dtype": "f8"
         },
         "type": "candlestick",
         "x": [
          "2022-02-24T00:00:00.000000000",
          "2022-02-25T00:00:00.000000000",
          "2022-02-28T00:00:00.000000000",
          "2022-03-01T00:00:00.000000000",
          "2022-03-02T00:00:00.000000000",
          "2022-03-03T00:00:00.000000000",
          "2022-03-04T00:00:00.000000000",
          "2022-03-07T00:00:00.000000000",
          "2022-03-08T00:00:00.000000000",
          "2022-03-09T00:00:00.000000000",
          "2022-03-10T00:00:00.000000000",
          "2022-03-11T00:00:00.000000000",
          "2022-03-14T00:00:00.000000000",
          "2022-03-15T00:00:00.000000000",
          "2022-03-16T00:00:00.000000000",
          "2022-03-17T00:00:00.000000000",
          "2022-03-18T00:00:00.000000000",
          "2022-03-21T00:00:00.000000000",
          "2022-03-22T00:00:00.000000000",
          "2022-03-23T00:00:00.000000000",
          "2022-03-24T00:00:00.000000000",
          "2022-03-25T00:00:00.000000000",
          "2022-03-28T00:00:00.000000000",
          "2022-03-29T00:00:00.000000000",
          "2022-03-30T00:00:00.000000000",
          "2022-03-31T00:00:00.000000000",
          "2022-04-01T00:00:00.000000000",
          "2022-04-04T00:00:00.000000000",
          "2022-04-05T00:00:00.000000000",
          "2022-04-06T00:00:00.000000000",
          "2022-04-07T00:00:00.000000000",
          "2022-04-08T00:00:00.000000000",
          "2022-04-11T00:00:00.000000000",
          "2022-04-12T00:00:00.000000000",
          "2022-04-13T00:00:00.000000000",
          "2022-04-14T00:00:00.000000000",
          "2022-04-18T00:00:00.000000000",
          "2022-04-19T00:00:00.000000000",
          "2022-04-20T00:00:00.000000000",
          "2022-04-21T00:00:00.000000000",
          "2022-04-22T00:00:00.000000000",
          "2022-04-25T00:00:00.000000000",
          "2022-04-26T00:00:00.000000000",
          "2022-04-27T00:00:00.000000000",
          "2022-04-28T00:00:00.000000000",
          "2022-04-29T00:00:00.000000000",
          "2022-05-02T00:00:00.000000000",
          "2022-05-03T00:00:00.000000000",
          "2022-05-04T00:00:00.000000000",
          "2022-05-05T00:00:00.000000000",
          "2022-05-06T00:00:00.000000000",
          "2022-05-09T00:00:00.000000000",
          "2022-05-10T00:00:00.000000000",
          "2022-05-11T00:00:00.000000000",
          "2022-05-12T00:00:00.000000000",
          "2022-05-13T00:00:00.000000000",
          "2022-05-16T00:00:00.000000000",
          "2022-05-17T00:00:00.000000000",
          "2022-05-18T00:00:00.000000000",
          "2022-05-19T00:00:00.000000000",
          "2022-05-20T00:00:00.000000000",
          "2022-05-23T00:00:00.000000000",
          "2022-05-24T00:00:00.000000000",
          "2022-05-25T00:00:00.000000000",
          "2022-05-26T00:00:00.000000000",
          "2022-05-27T00:00:00.000000000",
          "2022-05-31T00:00:00.000000000",
          "2022-06-01T00:00:00.000000000",
          "2022-06-02T00:00:00.000000000",
          "2022-06-03T00:00:00.000000000",
          "2022-06-06T00:00:00.000000000",
          "2022-06-07T00:00:00.000000000",
          "2022-06-08T00:00:00.000000000",
          "2022-06-09T00:00:00.000000000",
          "2022-06-10T00:00:00.000000000",
          "2022-06-13T00:00:00.000000000",
          "2022-06-14T00:00:00.000000000",
          "2022-06-15T00:00:00.000000000",
          "2022-06-16T00:00:00.000000000",
          "2022-06-17T00:00:00.000000000",
          "2022-06-21T00:00:00.000000000",
          "2022-06-22T00:00:00.000000000",
          "2022-06-23T00:00:00.000000000",
          "2022-06-24T00:00:00.000000000",
          "2022-06-27T00:00:00.000000000",
          "2022-06-28T00:00:00.000000000",
          "2022-06-29T00:00:00.000000000",
          "2022-06-30T00:00:00.000000000",
          "2022-07-01T00:00:00.000000000",
          "2022-07-05T00:00:00.000000000",
          "2022-07-06T00:00:00.000000000",
          "2022-07-07T00:00:00.000000000",
          "2022-07-08T00:00:00.000000000",
          "2022-07-11T00:00:00.000000000",
          "2022-07-12T00:00:00.000000000",
          "2022-07-13T00:00:00.000000000",
          "2022-07-14T00:00:00.000000000",
          "2022-07-15T00:00:00.000000000",
          "2022-07-18T00:00:00.000000000",
          "2022-07-19T00:00:00.000000000",
          "2022-07-20T00:00:00.000000000",
          "2022-07-21T00:00:00.000000000",
          "2022-07-22T00:00:00.000000000",
          "2022-07-25T00:00:00.000000000",
          "2022-07-26T00:00:00.000000000",
          "2022-07-27T00:00:00.000000000",
          "2022-07-28T00:00:00.000000000",
          "2022-07-29T00:00:00.000000000",
          "2022-08-01T00:00:00.000000000",
          "2022-08-02T00:00:00.000000000",
          "2022-08-03T00:00:00.000000000",
          "2022-08-04T00:00:00.000000000",
          "2022-08-05T00:00:00.000000000",
          "2022-08-08T00:00:00.000000000",
          "2022-08-09T00:00:00.000000000",
          "2022-08-10T00:00:00.000000000",
          "2022-08-11T00:00:00.000000000",
          "2022-08-12T00:00:00.000000000",
          "2022-08-15T00:00:00.000000000",
          "2022-08-16T00:00:00.000000000",
          "2022-08-17T00:00:00.000000000",
          "2022-08-18T00:00:00.000000000",
          "2022-08-19T00:00:00.000000000",
          "2022-08-22T00:00:00.000000000",
          "2022-08-23T00:00:00.000000000",
          "2022-08-24T00:00:00.000000000",
          "2022-08-25T00:00:00.000000000",
          "2022-08-26T00:00:00.000000000",
          "2022-08-29T00:00:00.000000000",
          "2022-08-30T00:00:00.000000000",
          "2022-08-31T00:00:00.000000000",
          "2022-09-01T00:00:00.000000000",
          "2022-09-02T00:00:00.000000000",
          "2022-09-06T00:00:00.000000000",
          "2022-09-07T00:00:00.000000000",
          "2022-09-08T00:00:00.000000000",
          "2022-09-09T00:00:00.000000000",
          "2022-09-12T00:00:00.000000000",
          "2022-09-13T00:00:00.000000000",
          "2022-09-14T00:00:00.000000000",
          "2022-09-15T00:00:00.000000000",
          "2022-09-16T00:00:00.000000000",
          "2022-09-19T00:00:00.000000000",
          "2022-09-20T00:00:00.000000000",
          "2022-09-21T00:00:00.000000000",
          "2022-09-22T00:00:00.000000000",
          "2022-09-23T00:00:00.000000000",
          "2022-09-26T00:00:00.000000000",
          "2022-09-27T00:00:00.000000000",
          "2022-09-28T00:00:00.000000000",
          "2022-09-29T00:00:00.000000000",
          "2022-09-30T00:00:00.000000000",
          "2022-10-03T00:00:00.000000000",
          "2022-10-04T00:00:00.000000000",
          "2022-10-05T00:00:00.000000000",
          "2022-10-06T00:00:00.000000000",
          "2022-10-07T00:00:00.000000000",
          "2022-10-10T00:00:00.000000000",
          "2022-10-11T00:00:00.000000000",
          "2022-10-12T00:00:00.000000000",
          "2022-10-13T00:00:00.000000000",
          "2022-10-14T00:00:00.000000000",
          "2022-10-17T00:00:00.000000000",
          "2022-10-18T00:00:00.000000000",
          "2022-10-19T00:00:00.000000000",
          "2022-10-20T00:00:00.000000000",
          "2022-10-21T00:00:00.000000000",
          "2022-10-24T00:00:00.000000000",
          "2022-10-25T00:00:00.000000000",
          "2022-10-26T00:00:00.000000000",
          "2022-10-27T00:00:00.000000000",
          "2022-10-28T00:00:00.000000000",
          "2022-10-31T00:00:00.000000000",
          "2022-11-01T00:00:00.000000000",
          "2022-11-02T00:00:00.000000000",
          "2022-11-03T00:00:00.000000000",
          "2022-11-04T00:00:00.000000000",
          "2022-11-07T00:00:00.000000000",
          "2022-11-08T00:00:00.000000000",
          "2022-11-09T00:00:00.000000000",
          "2022-11-10T00:00:00.000000000",
          "2022-11-11T00:00:00.000000000",
          "2022-11-14T00:00:00.000000000",
          "2022-11-15T00:00:00.000000000",
          "2022-11-16T00:00:00.000000000",
          "2022-11-17T00:00:00.000000000",
          "2022-11-18T00:00:00.000000000",
          "2022-11-21T00:00:00.000000000",
          "2022-11-22T00:00:00.000000000",
          "2022-11-23T00:00:00.000000000",
          "2022-11-25T00:00:00.000000000",
          "2022-11-28T00:00:00.000000000",
          "2022-11-29T00:00:00.000000000",
          "2022-11-30T00:00:00.000000000",
          "2022-12-01T00:00:00.000000000",
          "2022-12-02T00:00:00.000000000",
          "2022-12-05T00:00:00.000000000",
          "2022-12-06T00:00:00.000000000",
          "2022-12-07T00:00:00.000000000",
          "2022-12-08T00:00:00.000000000",
          "2022-12-09T00:00:00.000000000",
          "2022-12-12T00:00:00.000000000",
          "2022-12-13T00:00:00.000000000",
          "2022-12-14T00:00:00.000000000",
          "2022-12-15T00:00:00.000000000",
          "2022-12-16T00:00:00.000000000",
          "2022-12-19T00:00:00.000000000",
          "2022-12-20T00:00:00.000000000",
          "2022-12-21T00:00:00.000000000",
          "2022-12-22T00:00:00.000000000",
          "2022-12-23T00:00:00.000000000",
          "2022-12-27T00:00:00.000000000",
          "2022-12-28T00:00:00.000000000",
          "2022-12-29T00:00:00.000000000",
          "2022-12-30T00:00:00.000000000",
          "2023-01-03T00:00:00.000000000",
          "2023-01-04T00:00:00.000000000",
          "2023-01-05T00:00:00.000000000",
          "2023-01-06T00:00:00.000000000",
          "2023-01-09T00:00:00.000000000",
          "2023-01-10T00:00:00.000000000",
          "2023-01-11T00:00:00.000000000",
          "2023-01-12T00:00:00.000000000",
          "2023-01-13T00:00:00.000000000",
          "2023-01-17T00:00:00.000000000",
          "2023-01-18T00:00:00.000000000",
          "2023-01-19T00:00:00.000000000",
          "2023-01-20T00:00:00.000000000",
          "2023-01-23T00:00:00.000000000",
          "2023-01-24T00:00:00.000000000",
          "2023-01-25T00:00:00.000000000",
          "2023-01-26T00:00:00.000000000",
          "2023-01-27T00:00:00.000000000",
          "2023-01-30T00:00:00.000000000",
          "2023-01-31T00:00:00.000000000",
          "2023-02-01T00:00:00.000000000",
          "2023-02-02T00:00:00.000000000",
          "2023-02-03T00:00:00.000000000",
          "2023-02-06T00:00:00.000000000",
          "2023-02-07T00:00:00.000000000",
          "2023-02-08T00:00:00.000000000",
          "2023-02-09T00:00:00.000000000",
          "2023-02-10T00:00:00.000000000",
          "2023-02-13T00:00:00.000000000",
          "2023-02-14T00:00:00.000000000",
          "2023-02-15T00:00:00.000000000",
          "2023-02-16T00:00:00.000000000",
          "2023-02-17T00:00:00.000000000",
          "2023-02-21T00:00:00.000000000",
          "2023-02-22T00:00:00.000000000",
          "2023-02-23T00:00:00.000000000",
          "2023-02-24T00:00:00.000000000",
          "2023-02-27T00:00:00.000000000",
          "2023-02-28T00:00:00.000000000",
          "2023-03-01T00:00:00.000000000",
          "2023-03-02T00:00:00.000000000",
          "2023-03-03T00:00:00.000000000",
          "2023-03-06T00:00:00.000000000",
          "2023-03-07T00:00:00.000000000",
          "2023-03-08T00:00:00.000000000",
          "2023-03-09T00:00:00.000000000",
          "2023-03-10T00:00:00.000000000",
          "2023-03-13T00:00:00.000000000",
          "2023-03-14T00:00:00.000000000",
          "2023-03-15T00:00:00.000000000",
          "2023-03-16T00:00:00.000000000",
          "2023-03-17T00:00:00.000000000",
          "2023-03-20T00:00:00.000000000",
          "2023-03-21T00:00:00.000000000",
          "2023-03-22T00:00:00.000000000",
          "2023-03-23T00:00:00.000000000",
          "2023-03-24T00:00:00.000000000",
          "2023-03-27T00:00:00.000000000",
          "2023-03-28T00:00:00.000000000",
          "2023-03-29T00:00:00.000000000",
          "2023-03-30T00:00:00.000000000",
          "2023-03-31T00:00:00.000000000",
          "2023-04-03T00:00:00.000000000",
          "2023-04-04T00:00:00.000000000",
          "2023-04-05T00:00:00.000000000",
          "2023-04-06T00:00:00.000000000",
          "2023-04-10T00:00:00.000000000",
          "2023-04-11T00:00:00.000000000",
          "2023-04-12T00:00:00.000000000",
          "2023-04-13T00:00:00.000000000",
          "2023-04-14T00:00:00.000000000",
          "2023-04-17T00:00:00.000000000",
          "2023-04-18T00:00:00.000000000",
          "2023-04-19T00:00:00.000000000",
          "2023-04-20T00:00:00.000000000",
          "2023-04-21T00:00:00.000000000",
          "2023-04-24T00:00:00.000000000",
          "2023-04-25T00:00:00.000000000",
          "2023-04-26T00:00:00.000000000",
          "2023-04-27T00:00:00.000000000",
          "2023-04-28T00:00:00.000000000",
          "2023-05-01T00:00:00.000000000",
          "2023-05-02T00:00:00.000000000",
          "2023-05-03T00:00:00.000000000",
          "2023-05-04T00:00:00.000000000",
          "2023-05-05T00:00:00.000000000",
          "2023-05-08T00:00:00.000000000",
          "2023-05-09T00:00:00.000000000",
          "2023-05-10T00:00:00.000000000",
          "2023-05-11T00:00:00.000000000",
          "2023-05-12T00:00:00.000000000",
          "2023-05-15T00:00:00.000000000",
          "2023-05-16T00:00:00.000000000",
          "2023-05-17T00:00:00.000000000",
          "2023-05-18T00:00:00.000000000",
          "2023-05-19T00:00:00.000000000",
          "2023-05-22T00:00:00.000000000",
          "2023-05-23T00:00:00.000000000",
          "2023-05-24T00:00:00.000000000",
          "2023-05-25T00:00:00.000000000",
          "2023-05-26T00:00:00.000000000",
          "2023-05-30T00:00:00.000000000",
          "2023-05-31T00:00:00.000000000",
          "2023-06-01T00:00:00.000000000",
          "2023-06-02T00:00:00.000000000",
          "2023-06-05T00:00:00.000000000",
          "2023-06-06T00:00:00.000000000",
          "2023-06-07T00:00:00.000000000",
          "2023-06-08T00:00:00.000000000",
          "2023-06-09T00:00:00.000000000",
          "2023-06-12T00:00:00.000000000",
          "2023-06-13T00:00:00.000000000",
          "2023-06-14T00:00:00.000000000",
          "2023-06-15T00:00:00.000000000",
          "2023-06-16T00:00:00.000000000",
          "2023-06-20T00:00:00.000000000",
          "2023-06-21T00:00:00.000000000",
          "2023-06-22T00:00:00.000000000",
          "2023-06-23T00:00:00.000000000",
          "2023-06-26T00:00:00.000000000",
          "2023-06-27T00:00:00.000000000",
          "2023-06-28T00:00:00.000000000",
          "2023-06-29T00:00:00.000000000",
          "2023-06-30T00:00:00.000000000",
          "2023-07-03T00:00:00.000000000",
          "2023-07-05T00:00:00.000000000",
          "2023-07-06T00:00:00.000000000",
          "2023-07-07T00:00:00.000000000",
          "2023-07-10T00:00:00.000000000",
          "2023-07-11T00:00:00.000000000",
          "2023-07-12T00:00:00.000000000",
          "2023-07-13T00:00:00.000000000",
          "2023-07-14T00:00:00.000000000",
          "2023-07-17T00:00:00.000000000",
          "2023-07-18T00:00:00.000000000",
          "2023-07-19T00:00:00.000000000",
          "2023-07-20T00:00:00.000000000",
          "2023-07-21T00:00:00.000000000",
          "2023-07-24T00:00:00.000000000",
          "2023-07-25T00:00:00.000000000",
          "2023-07-26T00:00:00.000000000",
          "2023-07-27T00:00:00.000000000",
          "2023-07-28T00:00:00.000000000",
          "2023-07-31T00:00:00.000000000",
          "2023-08-01T00:00:00.000000000",
          "2023-08-02T00:00:00.000000000",
          "2023-08-03T00:00:00.000000000",
          "2023-08-04T00:00:00.000000000",
          "2023-08-07T00:00:00.000000000",
          "2023-08-08T00:00:00.000000000",
          "2023-08-09T00:00:00.000000000",
          "2023-08-10T00:00:00.000000000",
          "2023-08-11T00:00:00.000000000",
          "2023-08-14T00:00:00.000000000",
          "2023-08-15T00:00:00.000000000",
          "2023-08-16T00:00:00.000000000",
          "2023-08-17T00:00:00.000000000",
          "2023-08-18T00:00:00.000000000",
          "2023-08-21T00:00:00.000000000",
          "2023-08-22T00:00:00.000000000",
          "2023-08-23T00:00:00.000000000",
          "2023-08-24T00:00:00.000000000",
          "2023-08-25T00:00:00.000000000",
          "2023-08-28T00:00:00.000000000",
          "2023-08-29T00:00:00.000000000",
          "2023-08-30T00:00:00.000000000",
          "2023-08-31T00:00:00.000000000",
          "2023-09-01T00:00:00.000000000",
          "2023-09-05T00:00:00.000000000",
          "2023-09-06T00:00:00.000000000",
          "2023-09-07T00:00:00.000000000",
          "2023-09-08T00:00:00.000000000",
          "2023-09-11T00:00:00.000000000",
          "2023-09-12T00:00:00.000000000",
          "2023-09-13T00:00:00.000000000",
          "2023-09-14T00:00:00.000000000",
          "2023-09-15T00:00:00.000000000",
          "2023-09-18T00:00:00.000000000",
          "2023-09-19T00:00:00.000000000",
          "2023-09-20T00:00:00.000000000",
          "2023-09-21T00:00:00.000000000",
          "2023-09-22T00:00:00.000000000",
          "2023-09-25T00:00:00.000000000",
          "2023-09-26T00:00:00.000000000",
          "2023-09-27T00:00:00.000000000",
          "2023-09-28T00:00:00.000000000",
          "2023-09-29T00:00:00.000000000",
          "2023-10-02T00:00:00.000000000",
          "2023-10-03T00:00:00.000000000",
          "2023-10-04T00:00:00.000000000",
          "2023-10-05T00:00:00.000000000",
          "2023-10-06T00:00:00.000000000",
          "2023-10-09T00:00:00.000000000",
          "2023-10-10T00:00:00.000000000",
          "2023-10-11T00:00:00.000000000",
          "2023-10-12T00:00:00.000000000",
          "2023-10-13T00:00:00.000000000",
          "2023-10-16T00:00:00.000000000",
          "2023-10-17T00:00:00.000000000",
          "2023-10-18T00:00:00.000000000",
          "2023-10-19T00:00:00.000000000",
          "2023-10-20T00:00:00.000000000",
          "2023-10-23T00:00:00.000000000",
          "2023-10-24T00:00:00.000000000",
          "2023-10-25T00:00:00.000000000",
          "2023-10-26T00:00:00.000000000",
          "2023-10-27T00:00:00.000000000",
          "2023-10-30T00:00:00.000000000",
          "2023-10-31T00:00:00.000000000",
          "2023-11-01T00:00:00.000000000",
          "2023-11-02T00:00:00.000000000",
          "2023-11-03T00:00:00.000000000",
          "2023-11-06T00:00:00.000000000",
          "2023-11-07T00:00:00.000000000",
          "2023-11-08T00:00:00.000000000",
          "2023-11-09T00:00:00.000000000",
          "2023-11-10T00:00:00.000000000",
          "2023-11-13T00:00:00.000000000",
          "2023-11-14T00:00:00.000000000",
          "2023-11-15T00:00:00.000000000",
          "2023-11-16T00:00:00.000000000",
          "2023-11-17T00:00:00.000000000",
          "2023-11-20T00:00:00.000000000",
          "2023-11-21T00:00:00.000000000",
          "2023-11-22T00:00:00.000000000",
          "2023-11-24T00:00:00.000000000",
          "2023-11-27T00:00:00.000000000",
          "2023-11-28T00:00:00.000000000",
          "2023-11-29T00:00:00.000000000",
          "2023-11-30T00:00:00.000000000",
          "2023-12-01T00:00:00.000000000",
          "2023-12-04T00:00:00.000000000",
          "2023-12-05T00:00:00.000000000",
          "2023-12-06T00:00:00.000000000",
          "2023-12-07T00:00:00.000000000",
          "2023-12-08T00:00:00.000000000",
          "2023-12-11T00:00:00.000000000",
          "2023-12-12T00:00:00.000000000",
          "2023-12-13T00:00:00.000000000",
          "2023-12-14T00:00:00.000000000",
          "2023-12-15T00:00:00.000000000",
          "2023-12-18T00:00:00.000000000",
          "2023-12-19T00:00:00.000000000",
          "2023-12-20T00:00:00.000000000",
          "2023-12-21T00:00:00.000000000",
          "2023-12-22T00:00:00.000000000",
          "2023-12-26T00:00:00.000000000",
          "2023-12-27T00:00:00.000000000",
          "2023-12-28T00:00:00.000000000",
          "2023-12-29T00:00:00.000000000",
          "2024-01-02T00:00:00.000000000",
          "2024-01-03T00:00:00.000000000",
          "2024-01-04T00:00:00.000000000",
          "2024-01-05T00:00:00.000000000",
          "2024-01-08T00:00:00.000000000",
          "2024-01-09T00:00:00.000000000",
          "2024-01-10T00:00:00.000000000",
          "2024-01-11T00:00:00.000000000",
          "2024-01-12T00:00:00.000000000",
          "2024-01-16T00:00:00.000000000",
          "2024-01-17T00:00:00.000000000",
          "2024-01-18T00:00:00.000000000",
          "2024-01-19T00:00:00.000000000",
          "2024-01-22T00:00:00.000000000",
          "2024-01-23T00:00:00.000000000",
          "2024-01-24T00:00:00.000000000",
          "2024-01-25T00:00:00.000000000",
          "2024-01-26T00:00:00.000000000",
          "2024-01-29T00:00:00.000000000",
          "2024-01-30T00:00:00.000000000",
          "2024-01-31T00:00:00.000000000",
          "2024-02-01T00:00:00.000000000",
          "2024-02-02T00:00:00.000000000",
          "2024-02-05T00:00:00.000000000",
          "2024-02-06T00:00:00.000000000",
          "2024-02-07T00:00:00.000000000",
          "2024-02-08T00:00:00.000000000",
          "2024-02-09T00:00:00.000000000",
          "2024-02-12T00:00:00.000000000",
          "2024-02-13T00:00:00.000000000",
          "2024-02-14T00:00:00.000000000",
          "2024-02-15T00:00:00.000000000",
          "2024-02-16T00:00:00.000000000",
          "2024-02-20T00:00:00.000000000",
          "2024-02-21T00:00:00.000000000",
          "2024-02-22T00:00:00.000000000",
          "2024-02-23T00:00:00.000000000",
          "2024-02-26T00:00:00.000000000",
          "2024-02-27T00:00:00.000000000",
          "2024-02-28T00:00:00.000000000",
          "2024-02-29T00:00:00.000000000",
          "2024-03-01T00:00:00.000000000",
          "2024-03-04T00:00:00.000000000",
          "2024-03-05T00:00:00.000000000",
          "2024-03-06T00:00:00.000000000",
          "2024-03-07T00:00:00.000000000",
          "2024-03-08T00:00:00.000000000",
          "2024-03-11T00:00:00.000000000",
          "2024-03-12T00:00:00.000000000",
          "2024-03-13T00:00:00.000000000",
          "2024-03-14T00:00:00.000000000",
          "2024-03-15T00:00:00.000000000",
          "2024-03-18T00:00:00.000000000",
          "2024-03-19T00:00:00.000000000",
          "2024-03-20T00:00:00.000000000",
          "2024-03-21T00:00:00.000000000",
          "2024-03-22T00:00:00.000000000",
          "2024-03-25T00:00:00.000000000",
          "2024-03-26T00:00:00.000000000",
          "2024-03-27T00:00:00.000000000",
          "2024-03-28T00:00:00.000000000",
          "2024-04-01T00:00:00.000000000",
          "2024-04-02T00:00:00.000000000",
          "2024-04-03T00:00:00.000000000",
          "2024-04-04T00:00:00.000000000",
          "2024-04-05T00:00:00.000000000",
          "2024-04-08T00:00:00.000000000",
          "2024-04-09T00:00:00.000000000",
          "2024-04-10T00:00:00.000000000",
          "2024-04-11T00:00:00.000000000",
          "2024-04-12T00:00:00.000000000",
          "2024-04-15T00:00:00.000000000",
          "2024-04-16T00:00:00.000000000",
          "2024-04-17T00:00:00.000000000",
          "2024-04-18T00:00:00.000000000",
          "2024-04-19T00:00:00.000000000",
          "2024-04-22T00:00:00.000000000",
          "2024-04-23T00:00:00.000000000",
          "2024-04-24T00:00:00.000000000",
          "2024-04-25T00:00:00.000000000",
          "2024-04-26T00:00:00.000000000",
          "2024-04-29T00:00:00.000000000",
          "2024-04-30T00:00:00.000000000",
          "2024-05-01T00:00:00.000000000",
          "2024-05-02T00:00:00.000000000",
          "2024-05-03T00:00:00.000000000",
          "2024-05-06T00:00:00.000000000",
          "2024-05-07T00:00:00.000000000",
          "2024-05-08T00:00:00.000000000",
          "2024-05-09T00:00:00.000000000",
          "2024-05-10T00:00:00.000000000",
          "2024-05-13T00:00:00.000000000",
          "2024-05-14T00:00:00.000000000",
          "2024-05-15T00:00:00.000000000",
          "2024-05-16T00:00:00.000000000",
          "2024-05-17T00:00:00.000000000",
          "2024-05-20T00:00:00.000000000",
          "2024-05-21T00:00:00.000000000",
          "2024-05-22T00:00:00.000000000",
          "2024-05-23T00:00:00.000000000",
          "2024-05-24T00:00:00.000000000",
          "2024-05-28T00:00:00.000000000",
          "2024-05-29T00:00:00.000000000",
          "2024-05-30T00:00:00.000000000",
          "2024-05-31T00:00:00.000000000",
          "2024-06-03T00:00:00.000000000",
          "2024-06-04T00:00:00.000000000",
          "2024-06-05T00:00:00.000000000",
          "2024-06-06T00:00:00.000000000",
          "2024-06-07T00:00:00.000000000",
          "2024-06-10T00:00:00.000000000",
          "2024-06-11T00:00:00.000000000",
          "2024-06-12T00:00:00.000000000",
          "2024-06-13T00:00:00.000000000",
          "2024-06-14T00:00:00.000000000",
          "2024-06-17T00:00:00.000000000",
          "2024-06-18T00:00:00.000000000",
          "2024-06-20T00:00:00.000000000",
          "2024-06-21T00:00:00.000000000",
          "2024-06-24T00:00:00.000000000",
          "2024-06-25T00:00:00.000000000",
          "2024-06-26T00:00:00.000000000",
          "2024-06-27T00:00:00.000000000",
          "2024-06-28T00:00:00.000000000",
          "2024-07-01T00:00:00.000000000",
          "2024-07-02T00:00:00.000000000",
          "2024-07-03T00:00:00.000000000",
          "2024-07-05T00:00:00.000000000",
          "2024-07-08T00:00:00.000000000",
          "2024-07-09T00:00:00.000000000",
          "2024-07-10T00:00:00.000000000",
          "2024-07-11T00:00:00.000000000",
          "2024-07-12T00:00:00.000000000",
          "2024-07-15T00:00:00.000000000",
          "2024-07-16T00:00:00.000000000",
          "2024-07-17T00:00:00.000000000",
          "2024-07-18T00:00:00.000000000",
          "2024-07-19T00:00:00.000000000",
          "2024-07-22T00:00:00.000000000",
          "2024-07-23T00:00:00.000000000",
          "2024-07-24T00:00:00.000000000",
          "2024-07-25T00:00:00.000000000",
          "2024-07-26T00:00:00.000000000",
          "2024-07-29T00:00:00.000000000",
          "2024-07-30T00:00:00.000000000",
          "2024-07-31T00:00:00.000000000",
          "2024-08-01T00:00:00.000000000",
          "2024-08-02T00:00:00.000000000",
          "2024-08-05T00:00:00.000000000",
          "2024-08-06T00:00:00.000000000",
          "2024-08-07T00:00:00.000000000",
          "2024-08-08T00:00:00.000000000",
          "2024-08-09T00:00:00.000000000",
          "2024-08-12T00:00:00.000000000",
          "2024-08-13T00:00:00.000000000",
          "2024-08-14T00:00:00.000000000",
          "2024-08-15T00:00:00.000000000",
          "2024-08-16T00:00:00.000000000",
          "2024-08-19T00:00:00.000000000",
          "2024-08-20T00:00:00.000000000",
          "2024-08-21T00:00:00.000000000",
          "2024-08-22T00:00:00.000000000",
          "2024-08-23T00:00:00.000000000",
          "2024-08-26T00:00:00.000000000",
          "2024-08-27T00:00:00.000000000",
          "2024-08-28T00:00:00.000000000",
          "2024-08-29T00:00:00.000000000",
          "2024-08-30T00:00:00.000000000",
          "2024-09-03T00:00:00.000000000",
          "2024-09-04T00:00:00.000000000",
          "2024-09-05T00:00:00.000000000",
          "2024-09-06T00:00:00.000000000",
          "2024-09-09T00:00:00.000000000",
          "2024-09-10T00:00:00.000000000",
          "2024-09-11T00:00:00.000000000",
          "2024-09-12T00:00:00.000000000",
          "2024-09-13T00:00:00.000000000",
          "2024-09-16T00:00:00.000000000",
          "2024-09-17T00:00:00.000000000",
          "2024-09-18T00:00:00.000000000",
          "2024-09-19T00:00:00.000000000",
          "2024-09-20T00:00:00.000000000",
          "2024-09-23T00:00:00.000000000",
          "2024-09-24T00:00:00.000000000",
          "2024-09-25T00:00:00.000000000",
          "2024-09-26T00:00:00.000000000",
          "2024-09-27T00:00:00.000000000",
          "2024-09-30T00:00:00.000000000",
          "2024-10-01T00:00:00.000000000",
          "2024-10-02T00:00:00.000000000",
          "2024-10-03T00:00:00.000000000",
          "2024-10-04T00:00:00.000000000",
          "2024-10-07T00:00:00.000000000",
          "2024-10-08T00:00:00.000000000",
          "2024-10-09T00:00:00.000000000",
          "2024-10-10T00:00:00.000000000",
          "2024-10-11T00:00:00.000000000",
          "2024-10-14T00:00:00.000000000",
          "2024-10-15T00:00:00.000000000",
          "2024-10-16T00:00:00.000000000",
          "2024-10-17T00:00:00.000000000",
          "2024-10-18T00:00:00.000000000",
          "2024-10-21T00:00:00.000000000",
          "2024-10-22T00:00:00.000000000",
          "2024-10-23T00:00:00.000000000",
          "2024-10-24T00:00:00.000000000",
          "2024-10-25T00:00:00.000000000",
          "2024-10-28T00:00:00.000000000",
          "2024-10-29T00:00:00.000000000",
          "2024-10-30T00:00:00.000000000",
          "2024-10-31T00:00:00.000000000",
          "2024-11-01T00:00:00.000000000",
          "2024-11-04T00:00:00.000000000",
          "2024-11-05T00:00:00.000000000",
          "2024-11-06T00:00:00.000000000",
          "2024-11-07T00:00:00.000000000",
          "2024-11-08T00:00:00.000000000",
          "2024-11-11T00:00:00.000000000",
          "2024-11-12T00:00:00.000000000",
          "2024-11-13T00:00:00.000000000",
          "2024-11-14T00:00:00.000000000",
          "2024-11-15T00:00:00.000000000",
          "2024-11-18T00:00:00.000000000",
          "2024-11-19T00:00:00.000000000",
          "2024-11-20T00:00:00.000000000",
          "2024-11-21T00:00:00.000000000",
          "2024-11-22T00:00:00.000000000",
          "2024-11-25T00:00:00.000000000",
          "2024-11-26T00:00:00.000000000",
          "2024-11-27T00:00:00.000000000",
          "2024-11-29T00:00:00.000000000",
          "2024-12-02T00:00:00.000000000",
          "2024-12-03T00:00:00.000000000",
          "2024-12-04T00:00:00.000000000",
          "2024-12-05T00:00:00.000000000",
          "2024-12-06T00:00:00.000000000",
          "2024-12-09T00:00:00.000000000",
          "2024-12-10T00:00:00.000000000",
          "2024-12-11T00:00:00.000000000",
          "2024-12-12T00:00:00.000000000",
          "2024-12-13T00:00:00.000000000",
          "2024-12-16T00:00:00.000000000",
          "2024-12-17T00:00:00.000000000",
          "2024-12-18T00:00:00.000000000",
          "2024-12-19T00:00:00.000000000",
          "2024-12-20T00:00:00.000000000",
          "2024-12-23T00:00:00.000000000",
          "2024-12-24T00:00:00.000000000",
          "2024-12-26T00:00:00.000000000",
          "2024-12-27T00:00:00.000000000",
          "2024-12-30T00:00:00.000000000",
          "2024-12-31T00:00:00.000000000",
          "2025-01-02T00:00:00.000000000",
          "2025-01-03T00:00:00.000000000",
          "2025-01-06T00:00:00.000000000",
          "2025-01-07T00:00:00.000000000",
          "2025-01-08T00:00:00.000000000",
          "2025-01-10T00:00:00.000000000",
          "2025-01-13T00:00:00.000000000",
          "2025-01-14T00:00:00.000000000",
          "2025-01-15T00:00:00.000000000",
          "2025-01-16T00:00:00.000000000",
          "2025-01-17T00:00:00.000000000",
          "2025-01-21T00:00:00.000000000",
          "2025-01-22T00:00:00.000000000",
          "2025-01-23T00:00:00.000000000",
          "2025-01-24T00:00:00.000000000",
          "2025-01-27T00:00:00.000000000",
          "2025-01-28T00:00:00.000000000",
          "2025-01-29T00:00:00.000000000",
          "2025-01-30T00:00:00.000000000",
          "2025-01-31T00:00:00.000000000",
          "2025-02-03T00:00:00.000000000",
          "2025-02-04T00:00:00.000000000",
          "2025-02-05T00:00:00.000000000",
          "2025-02-06T00:00:00.000000000",
          "2025-02-07T00:00:00.000000000",
          "2025-02-10T00:00:00.000000000",
          "2025-02-11T00:00:00.000000000",
          "2025-02-12T00:00:00.000000000",
          "2025-02-13T00:00:00.000000000",
          "2025-02-14T00:00:00.000000000",
          "2025-02-18T00:00:00.000000000",
          "2025-02-19T00:00:00.000000000",
          "2025-02-20T00:00:00.000000000",
          "2025-02-21T00:00:00.000000000",
          "2025-02-24T00:00:00.000000000",
          "2025-02-25T00:00:00.000000000",
          "2025-02-26T00:00:00.000000000",
          "2025-02-27T00:00:00.000000000"
         ]
        },
        {
         "marker": {
          "color": "green",
          "size": 10,
          "symbol": "triangle-up"
         },
         "mode": "markers",
         "name": "Buy Signal",
         "type": "scatter",
         "x": [
          "2022-03-21T00:00:00.000000000",
          "2022-03-22T00:00:00.000000000",
          "2022-03-23T00:00:00.000000000",
          "2022-03-24T00:00:00.000000000",
          "2022-03-25T00:00:00.000000000",
          "2022-03-28T00:00:00.000000000",
          "2022-03-29T00:00:00.000000000",
          "2022-03-30T00:00:00.000000000",
          "2022-03-31T00:00:00.000000000",
          "2022-04-01T00:00:00.000000000",
          "2022-04-04T00:00:00.000000000",
          "2022-04-05T00:00:00.000000000",
          "2022-04-06T00:00:00.000000000",
          "2022-04-07T00:00:00.000000000",
          "2022-04-08T00:00:00.000000000",
          "2022-04-11T00:00:00.000000000",
          "2022-04-12T00:00:00.000000000",
          "2022-04-27T00:00:00.000000000",
          "2022-04-28T00:00:00.000000000",
          "2022-04-29T00:00:00.000000000",
          "2022-05-02T00:00:00.000000000",
          "2022-05-03T00:00:00.000000000",
          "2022-05-04T00:00:00.000000000",
          "2022-05-05T00:00:00.000000000",
          "2022-05-06T00:00:00.000000000",
          "2022-05-09T00:00:00.000000000",
          "2022-05-10T00:00:00.000000000",
          "2022-05-11T00:00:00.000000000",
          "2022-05-12T00:00:00.000000000",
          "2022-05-13T00:00:00.000000000",
          "2022-05-16T00:00:00.000000000",
          "2022-05-17T00:00:00.000000000",
          "2022-05-18T00:00:00.000000000",
          "2022-05-19T00:00:00.000000000",
          "2022-05-20T00:00:00.000000000",
          "2022-05-23T00:00:00.000000000",
          "2022-05-24T00:00:00.000000000",
          "2022-05-25T00:00:00.000000000",
          "2022-05-26T00:00:00.000000000",
          "2022-05-27T00:00:00.000000000",
          "2022-05-31T00:00:00.000000000",
          "2022-06-01T00:00:00.000000000",
          "2022-06-02T00:00:00.000000000",
          "2022-06-03T00:00:00.000000000",
          "2022-06-06T00:00:00.000000000",
          "2022-06-07T00:00:00.000000000",
          "2022-06-08T00:00:00.000000000",
          "2022-07-19T00:00:00.000000000",
          "2022-07-20T00:00:00.000000000",
          "2022-07-21T00:00:00.000000000",
          "2022-07-22T00:00:00.000000000",
          "2022-11-09T00:00:00.000000000",
          "2022-11-10T00:00:00.000000000",
          "2022-11-11T00:00:00.000000000",
          "2022-11-14T00:00:00.000000000",
          "2022-11-15T00:00:00.000000000",
          "2022-11-16T00:00:00.000000000",
          "2022-11-17T00:00:00.000000000",
          "2022-11-18T00:00:00.000000000",
          "2022-11-21T00:00:00.000000000",
          "2022-11-22T00:00:00.000000000",
          "2022-11-23T00:00:00.000000000",
          "2022-11-25T00:00:00.000000000",
          "2022-11-28T00:00:00.000000000",
          "2022-11-29T00:00:00.000000000",
          "2022-11-30T00:00:00.000000000",
          "2022-12-01T00:00:00.000000000",
          "2022-12-02T00:00:00.000000000",
          "2022-12-05T00:00:00.000000000",
          "2022-12-06T00:00:00.000000000",
          "2022-12-07T00:00:00.000000000",
          "2022-12-08T00:00:00.000000000",
          "2022-12-09T00:00:00.000000000",
          "2022-12-12T00:00:00.000000000",
          "2022-12-13T00:00:00.000000000",
          "2022-12-14T00:00:00.000000000",
          "2022-12-15T00:00:00.000000000",
          "2022-12-16T00:00:00.000000000",
          "2022-12-19T00:00:00.000000000",
          "2022-12-20T00:00:00.000000000",
          "2022-12-21T00:00:00.000000000",
          "2022-12-22T00:00:00.000000000",
          "2022-12-23T00:00:00.000000000",
          "2022-12-27T00:00:00.000000000",
          "2022-12-28T00:00:00.000000000",
          "2022-12-29T00:00:00.000000000",
          "2022-12-30T00:00:00.000000000",
          "2023-01-03T00:00:00.000000000",
          "2023-01-04T00:00:00.000000000",
          "2023-01-05T00:00:00.000000000",
          "2023-01-06T00:00:00.000000000",
          "2023-01-09T00:00:00.000000000",
          "2023-01-10T00:00:00.000000000",
          "2023-01-11T00:00:00.000000000",
          "2023-01-12T00:00:00.000000000",
          "2023-01-13T00:00:00.000000000",
          "2023-01-17T00:00:00.000000000",
          "2023-01-18T00:00:00.000000000",
          "2023-01-19T00:00:00.000000000",
          "2023-01-20T00:00:00.000000000",
          "2023-01-23T00:00:00.000000000",
          "2023-01-24T00:00:00.000000000",
          "2023-01-25T00:00:00.000000000",
          "2023-01-26T00:00:00.000000000",
          "2023-01-27T00:00:00.000000000",
          "2023-01-30T00:00:00.000000000",
          "2023-01-31T00:00:00.000000000",
          "2023-02-01T00:00:00.000000000",
          "2023-02-02T00:00:00.000000000",
          "2023-02-03T00:00:00.000000000",
          "2023-02-06T00:00:00.000000000",
          "2023-02-07T00:00:00.000000000",
          "2023-02-08T00:00:00.000000000",
          "2023-02-09T00:00:00.000000000",
          "2023-02-10T00:00:00.000000000",
          "2023-02-13T00:00:00.000000000",
          "2023-02-14T00:00:00.000000000",
          "2023-02-15T00:00:00.000000000",
          "2023-02-16T00:00:00.000000000",
          "2023-02-17T00:00:00.000000000",
          "2023-02-21T00:00:00.000000000",
          "2023-02-22T00:00:00.000000000",
          "2023-02-23T00:00:00.000000000",
          "2023-02-24T00:00:00.000000000",
          "2023-02-27T00:00:00.000000000",
          "2023-02-28T00:00:00.000000000",
          "2023-03-01T00:00:00.000000000",
          "2023-03-02T00:00:00.000000000",
          "2023-03-03T00:00:00.000000000",
          "2023-03-06T00:00:00.000000000",
          "2023-03-07T00:00:00.000000000",
          "2023-03-08T00:00:00.000000000",
          "2023-03-09T00:00:00.000000000",
          "2023-03-10T00:00:00.000000000",
          "2023-03-13T00:00:00.000000000",
          "2023-03-14T00:00:00.000000000",
          "2023-03-15T00:00:00.000000000",
          "2023-03-16T00:00:00.000000000",
          "2023-03-17T00:00:00.000000000",
          "2023-03-20T00:00:00.000000000",
          "2023-03-21T00:00:00.000000000",
          "2023-03-22T00:00:00.000000000",
          "2023-03-23T00:00:00.000000000",
          "2023-03-24T00:00:00.000000000",
          "2023-03-27T00:00:00.000000000",
          "2023-03-28T00:00:00.000000000",
          "2023-03-29T00:00:00.000000000",
          "2023-03-30T00:00:00.000000000",
          "2023-03-31T00:00:00.000000000",
          "2023-04-03T00:00:00.000000000",
          "2023-04-04T00:00:00.000000000",
          "2023-04-05T00:00:00.000000000",
          "2023-04-06T00:00:00.000000000",
          "2023-04-10T00:00:00.000000000",
          "2023-04-11T00:00:00.000000000",
          "2023-04-12T00:00:00.000000000",
          "2023-04-13T00:00:00.000000000",
          "2023-04-14T00:00:00.000000000",
          "2023-04-17T00:00:00.000000000",
          "2023-04-18T00:00:00.000000000",
          "2023-04-19T00:00:00.000000000",
          "2023-04-20T00:00:00.000000000",
          "2023-04-21T00:00:00.000000000",
          "2023-04-24T00:00:00.000000000",
          "2023-04-25T00:00:00.000000000",
          "2023-04-26T00:00:00.000000000",
          "2023-04-27T00:00:00.000000000",
          "2023-04-28T00:00:00.000000000",
          "2023-05-01T00:00:00.000000000",
          "2023-05-02T00:00:00.000000000",
          "2023-05-03T00:00:00.000000000",
          "2023-05-04T00:00:00.000000000",
          "2023-05-05T00:00:00.000000000",
          "2023-05-08T00:00:00.000000000",
          "2023-05-09T00:00:00.000000000",
          "2023-05-10T00:00:00.000000000",
          "2023-05-11T00:00:00.000000000",
          "2023-05-12T00:00:00.000000000",
          "2023-05-15T00:00:00.000000000",
          "2023-05-16T00:00:00.000000000",
          "2023-05-17T00:00:00.000000000",
          "2023-05-18T00:00:00.000000000",
          "2023-05-19T00:00:00.000000000",
          "2023-05-22T00:00:00.000000000",
          "2023-05-23T00:00:00.000000000",
          "2023-05-24T00:00:00.000000000",
          "2023-05-25T00:00:00.000000000",
          "2023-05-26T00:00:00.000000000",
          "2023-05-30T00:00:00.000000000",
          "2023-05-31T00:00:00.000000000",
          "2023-06-01T00:00:00.000000000",
          "2023-06-02T00:00:00.000000000",
          "2023-06-05T00:00:00.000000000",
          "2023-06-06T00:00:00.000000000",
          "2023-06-07T00:00:00.000000000",
          "2023-06-08T00:00:00.000000000",
          "2023-06-09T00:00:00.000000000",
          "2023-06-12T00:00:00.000000000",
          "2023-06-13T00:00:00.000000000",
          "2023-06-14T00:00:00.000000000",
          "2023-06-15T00:00:00.000000000",
          "2023-06-16T00:00:00.000000000",
          "2023-06-20T00:00:00.000000000",
          "2023-06-21T00:00:00.000000000",
          "2023-06-22T00:00:00.000000000",
          "2023-06-23T00:00:00.000000000",
          "2023-06-26T00:00:00.000000000",
          "2023-06-27T00:00:00.000000000",
          "2023-06-28T00:00:00.000000000",
          "2023-06-29T00:00:00.000000000",
          "2023-06-30T00:00:00.000000000",
          "2023-07-03T00:00:00.000000000",
          "2023-07-05T00:00:00.000000000",
          "2023-07-06T00:00:00.000000000",
          "2023-07-07T00:00:00.000000000",
          "2023-07-10T00:00:00.000000000",
          "2023-07-11T00:00:00.000000000",
          "2023-07-12T00:00:00.000000000",
          "2023-07-13T00:00:00.000000000",
          "2023-07-14T00:00:00.000000000",
          "2023-07-17T00:00:00.000000000",
          "2023-07-18T00:00:00.000000000",
          "2023-07-19T00:00:00.000000000",
          "2023-07-20T00:00:00.000000000",
          "2023-07-21T00:00:00.000000000",
          "2023-07-24T00:00:00.000000000",
          "2023-07-25T00:00:00.000000000",
          "2023-07-26T00:00:00.000000000",
          "2023-07-27T00:00:00.000000000",
          "2023-07-28T00:00:00.000000000",
          "2023-07-31T00:00:00.000000000",
          "2023-08-01T00:00:00.000000000",
          "2023-08-02T00:00:00.000000000",
          "2023-08-03T00:00:00.000000000",
          "2023-08-04T00:00:00.000000000",
          "2023-08-07T00:00:00.000000000",
          "2023-08-08T00:00:00.000000000",
          "2023-08-09T00:00:00.000000000",
          "2023-08-10T00:00:00.000000000",
          "2023-08-11T00:00:00.000000000",
          "2023-08-14T00:00:00.000000000",
          "2023-08-15T00:00:00.000000000",
          "2023-09-13T00:00:00.000000000",
          "2023-09-14T00:00:00.000000000",
          "2023-09-15T00:00:00.000000000",
          "2023-09-18T00:00:00.000000000",
          "2023-09-19T00:00:00.000000000",
          "2023-09-20T00:00:00.000000000",
          "2023-09-21T00:00:00.000000000",
          "2023-09-22T00:00:00.000000000",
          "2023-09-25T00:00:00.000000000",
          "2023-09-26T00:00:00.000000000",
          "2023-09-27T00:00:00.000000000",
          "2023-09-28T00:00:00.000000000",
          "2023-09-29T00:00:00.000000000",
          "2023-10-02T00:00:00.000000000",
          "2023-10-03T00:00:00.000000000",
          "2023-10-04T00:00:00.000000000",
          "2023-10-05T00:00:00.000000000",
          "2023-10-06T00:00:00.000000000",
          "2023-10-09T00:00:00.000000000",
          "2023-10-10T00:00:00.000000000",
          "2023-10-11T00:00:00.000000000",
          "2023-10-12T00:00:00.000000000",
          "2023-10-13T00:00:00.000000000",
          "2023-10-16T00:00:00.000000000",
          "2023-10-17T00:00:00.000000000",
          "2023-10-18T00:00:00.000000000",
          "2023-10-19T00:00:00.000000000",
          "2023-10-20T00:00:00.000000000",
          "2023-10-23T00:00:00.000000000",
          "2023-11-06T00:00:00.000000000",
          "2023-11-07T00:00:00.000000000",
          "2023-11-08T00:00:00.000000000",
          "2023-11-09T00:00:00.000000000",
          "2023-11-10T00:00:00.000000000",
          "2023-11-13T00:00:00.000000000",
          "2023-11-14T00:00:00.000000000",
          "2023-11-15T00:00:00.000000000",
          "2023-11-16T00:00:00.000000000",
          "2023-11-17T00:00:00.000000000",
          "2023-11-20T00:00:00.000000000",
          "2023-11-21T00:00:00.000000000",
          "2023-11-22T00:00:00.000000000",
          "2023-11-24T00:00:00.000000000",
          "2023-11-27T00:00:00.000000000",
          "2023-11-28T00:00:00.000000000",
          "2023-11-29T00:00:00.000000000",
          "2023-11-30T00:00:00.000000000",
          "2023-12-01T00:00:00.000000000",
          "2023-12-04T00:00:00.000000000",
          "2023-12-15T00:00:00.000000000",
          "2023-12-18T00:00:00.000000000",
          "2023-12-19T00:00:00.000000000",
          "2023-12-20T00:00:00.000000000",
          "2023-12-21T00:00:00.000000000",
          "2023-12-22T00:00:00.000000000",
          "2023-12-26T00:00:00.000000000",
          "2023-12-27T00:00:00.000000000",
          "2023-12-28T00:00:00.000000000",
          "2023-12-29T00:00:00.000000000",
          "2024-01-02T00:00:00.000000000",
          "2024-01-03T00:00:00.000000000",
          "2024-01-04T00:00:00.000000000",
          "2024-01-05T00:00:00.000000000",
          "2024-01-08T00:00:00.000000000",
          "2024-01-09T00:00:00.000000000",
          "2024-01-10T00:00:00.000000000",
          "2024-01-11T00:00:00.000000000",
          "2024-01-12T00:00:00.000000000",
          "2024-01-16T00:00:00.000000000",
          "2024-01-17T00:00:00.000000000",
          "2024-01-18T00:00:00.000000000",
          "2024-01-19T00:00:00.000000000",
          "2024-01-22T00:00:00.000000000",
          "2024-01-23T00:00:00.000000000",
          "2024-01-24T00:00:00.000000000",
          "2024-01-25T00:00:00.000000000",
          "2024-01-26T00:00:00.000000000",
          "2024-01-29T00:00:00.000000000",
          "2024-01-30T00:00:00.000000000",
          "2024-01-31T00:00:00.000000000",
          "2024-02-01T00:00:00.000000000",
          "2024-02-02T00:00:00.000000000",
          "2024-02-05T00:00:00.000000000",
          "2024-02-06T00:00:00.000000000",
          "2024-02-07T00:00:00.000000000",
          "2024-02-08T00:00:00.000000000",
          "2024-02-09T00:00:00.000000000",
          "2024-02-12T00:00:00.000000000",
          "2024-02-13T00:00:00.000000000",
          "2024-02-14T00:00:00.000000000",
          "2024-02-15T00:00:00.000000000",
          "2024-02-16T00:00:00.000000000",
          "2024-02-20T00:00:00.000000000",
          "2024-02-21T00:00:00.000000000",
          "2024-02-22T00:00:00.000000000",
          "2024-02-23T00:00:00.000000000",
          "2024-02-26T00:00:00.000000000",
          "2024-02-27T00:00:00.000000000",
          "2024-02-28T00:00:00.000000000",
          "2024-02-29T00:00:00.000000000",
          "2024-03-01T00:00:00.000000000",
          "2024-03-04T00:00:00.000000000",
          "2024-03-05T00:00:00.000000000",
          "2024-03-06T00:00:00.000000000",
          "2024-03-07T00:00:00.000000000",
          "2024-03-08T00:00:00.000000000",
          "2024-03-11T00:00:00.000000000",
          "2024-03-12T00:00:00.000000000",
          "2024-03-13T00:00:00.000000000",
          "2024-03-14T00:00:00.000000000",
          "2024-03-15T00:00:00.000000000",
          "2024-03-18T00:00:00.000000000",
          "2024-03-19T00:00:00.000000000",
          "2024-03-20T00:00:00.000000000",
          "2024-03-21T00:00:00.000000000",
          "2024-03-22T00:00:00.000000000",
          "2024-03-25T00:00:00.000000000",
          "2024-03-26T00:00:00.000000000",
          "2024-03-27T00:00:00.000000000",
          "2024-03-28T00:00:00.000000000",
          "2024-04-01T00:00:00.000000000",
          "2024-04-02T00:00:00.000000000",
          "2024-04-03T00:00:00.000000000",
          "2024-04-04T00:00:00.000000000",
          "2024-04-05T00:00:00.000000000",
          "2024-04-08T00:00:00.000000000",
          "2024-04-09T00:00:00.000000000",
          "2024-04-10T00:00:00.000000000",
          "2024-04-11T00:00:00.000000000",
          "2024-04-12T00:00:00.000000000",
          "2024-04-15T00:00:00.000000000",
          "2024-04-16T00:00:00.000000000",
          "2024-04-17T00:00:00.000000000",
          "2024-06-07T00:00:00.000000000",
          "2024-06-10T00:00:00.000000000",
          "2024-06-11T00:00:00.000000000",
          "2024-06-12T00:00:00.000000000",
          "2024-06-13T00:00:00.000000000",
          "2024-06-14T00:00:00.000000000",
          "2024-06-17T00:00:00.000000000",
          "2024-06-18T00:00:00.000000000",
          "2024-06-20T00:00:00.000000000",
          "2024-06-21T00:00:00.000000000",
          "2024-06-24T00:00:00.000000000",
          "2024-06-25T00:00:00.000000000",
          "2024-06-26T00:00:00.000000000",
          "2024-06-27T00:00:00.000000000",
          "2024-06-28T00:00:00.000000000",
          "2024-07-01T00:00:00.000000000",
          "2024-07-02T00:00:00.000000000",
          "2024-07-03T00:00:00.000000000",
          "2024-07-05T00:00:00.000000000",
          "2024-07-08T00:00:00.000000000",
          "2024-07-09T00:00:00.000000000",
          "2024-07-10T00:00:00.000000000",
          "2024-07-11T00:00:00.000000000",
          "2024-07-12T00:00:00.000000000",
          "2024-08-07T00:00:00.000000000",
          "2024-08-08T00:00:00.000000000",
          "2024-08-09T00:00:00.000000000",
          "2024-08-12T00:00:00.000000000",
          "2024-08-13T00:00:00.000000000",
          "2024-08-14T00:00:00.000000000",
          "2024-08-15T00:00:00.000000000",
          "2024-08-16T00:00:00.000000000",
          "2024-08-19T00:00:00.000000000",
          "2024-08-20T00:00:00.000000000",
          "2024-08-21T00:00:00.000000000",
          "2024-08-22T00:00:00.000000000",
          "2024-08-23T00:00:00.000000000",
          "2024-08-26T00:00:00.000000000",
          "2024-08-27T00:00:00.000000000",
          "2024-08-28T00:00:00.000000000",
          "2024-08-29T00:00:00.000000000",
          "2024-08-30T00:00:00.000000000",
          "2024-09-03T00:00:00.000000000",
          "2024-09-04T00:00:00.000000000",
          "2024-09-05T00:00:00.000000000",
          "2024-09-06T00:00:00.000000000",
          "2024-09-09T00:00:00.000000000",
          "2024-09-10T00:00:00.000000000",
          "2024-09-11T00:00:00.000000000",
          "2024-09-12T00:00:00.000000000",
          "2024-09-13T00:00:00.000000000",
          "2024-09-16T00:00:00.000000000",
          "2024-09-17T00:00:00.000000000",
          "2024-09-18T00:00:00.000000000",
          "2024-09-19T00:00:00.000000000",
          "2024-09-20T00:00:00.000000000",
          "2024-09-23T00:00:00.000000000",
          "2024-09-24T00:00:00.000000000",
          "2024-09-25T00:00:00.000000000",
          "2024-09-26T00:00:00.000000000",
          "2024-09-27T00:00:00.000000000",
          "2024-09-30T00:00:00.000000000",
          "2024-10-01T00:00:00.000000000",
          "2024-10-02T00:00:00.000000000",
          "2024-10-03T00:00:00.000000000",
          "2024-10-04T00:00:00.000000000",
          "2024-10-07T00:00:00.000000000",
          "2024-10-08T00:00:00.000000000",
          "2024-10-09T00:00:00.000000000",
          "2024-10-10T00:00:00.000000000",
          "2024-10-11T00:00:00.000000000",
          "2024-10-14T00:00:00.000000000",
          "2024-10-15T00:00:00.000000000",
          "2024-10-16T00:00:00.000000000",
          "2024-10-17T00:00:00.000000000",
          "2024-10-18T00:00:00.000000000",
          "2024-10-21T00:00:00.000000000",
          "2024-10-22T00:00:00.000000000",
          "2024-10-23T00:00:00.000000000",
          "2024-10-24T00:00:00.000000000",
          "2024-10-25T00:00:00.000000000",
          "2024-10-28T00:00:00.000000000",
          "2024-10-29T00:00:00.000000000",
          "2024-10-30T00:00:00.000000000",
          "2024-10-31T00:00:00.000000000",
          "2024-11-01T00:00:00.000000000",
          "2024-11-04T00:00:00.000000000",
          "2024-11-05T00:00:00.000000000",
          "2024-11-06T00:00:00.000000000",
          "2024-11-07T00:00:00.000000000",
          "2024-11-08T00:00:00.000000000",
          "2024-11-11T00:00:00.000000000",
          "2024-11-12T00:00:00.000000000",
          "2024-11-13T00:00:00.000000000",
          "2024-12-02T00:00:00.000000000",
          "2024-12-03T00:00:00.000000000",
          "2024-12-04T00:00:00.000000000",
          "2024-12-05T00:00:00.000000000",
          "2024-12-06T00:00:00.000000000",
          "2024-12-09T00:00:00.000000000",
          "2024-12-10T00:00:00.000000000",
          "2024-12-11T00:00:00.000000000",
          "2024-12-12T00:00:00.000000000",
          "2024-12-13T00:00:00.000000000",
          "2024-12-16T00:00:00.000000000",
          "2024-12-17T00:00:00.000000000",
          "2024-12-18T00:00:00.000000000",
          "2025-01-22T00:00:00.000000000",
          "2025-01-23T00:00:00.000000000",
          "2025-01-24T00:00:00.000000000",
          "2025-01-27T00:00:00.000000000",
          "2025-01-28T00:00:00.000000000",
          "2025-01-29T00:00:00.000000000",
          "2025-01-30T00:00:00.000000000",
          "2025-01-31T00:00:00.000000000",
          "2025-02-03T00:00:00.000000000",
          "2025-02-04T00:00:00.000000000",
          "2025-02-05T00:00:00.000000000",
          "2025-02-06T00:00:00.000000000",
          "2025-02-07T00:00:00.000000000",
          "2025-02-10T00:00:00.000000000",
          "2025-02-11T00:00:00.000000000",
          "2025-02-12T00:00:00.000000000",
          "2025-02-13T00:00:00.000000000",
          "2025-02-14T00:00:00.000000000",
          "2025-02-18T00:00:00.000000000",
          "2025-02-19T00:00:00.000000000",
          "2025-02-20T00:00:00.000000000"
         ],
         "y": {
          "bdata": "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",
          "dtype": "f8"
         }
        },
        {
         "marker": {
          "color": "red",
          "size": 10,
          "symbol": "triangle-down"
         },
         "mode": "markers",
         "name": "Sell Signal",
         "type": "scatter",
         "x": [
          "2022-02-24T00:00:00.000000000",
          "2022-02-25T00:00:00.000000000",
          "2022-02-28T00:00:00.000000000",
          "2022-03-01T00:00:00.000000000",
          "2022-03-02T00:00:00.000000000",
          "2022-03-03T00:00:00.000000000",
          "2022-03-04T00:00:00.000000000",
          "2022-03-07T00:00:00.000000000",
          "2022-03-08T00:00:00.000000000",
          "2022-03-09T00:00:00.000000000",
          "2022-03-10T00:00:00.000000000",
          "2022-03-11T00:00:00.000000000",
          "2022-03-14T00:00:00.000000000",
          "2022-03-15T00:00:00.000000000",
          "2022-03-16T00:00:00.000000000",
          "2022-03-17T00:00:00.000000000",
          "2022-03-18T00:00:00.000000000",
          "2022-04-13T00:00:00.000000000",
          "2022-04-14T00:00:00.000000000",
          "2022-04-18T00:00:00.000000000",
          "2022-04-19T00:00:00.000000000",
          "2022-04-20T00:00:00.000000000",
          "2022-04-21T00:00:00.000000000",
          "2022-04-22T00:00:00.000000000",
          "2022-04-25T00:00:00.000000000",
          "2022-04-26T00:00:00.000000000",
          "2022-06-09T00:00:00.000000000",
          "2022-06-10T00:00:00.000000000",
          "2022-06-13T00:00:00.000000000",
          "2022-06-14T00:00:00.000000000",
          "2022-06-15T00:00:00.000000000",
          "2022-06-16T00:00:00.000000000",
          "2022-06-17T00:00:00.000000000",
          "2022-06-21T00:00:00.000000000",
          "2022-06-22T00:00:00.000000000",
          "2022-06-23T00:00:00.000000000",
          "2022-06-24T00:00:00.000000000",
          "2022-06-27T00:00:00.000000000",
          "2022-06-28T00:00:00.000000000",
          "2022-06-29T00:00:00.000000000",
          "2022-06-30T00:00:00.000000000",
          "2022-07-01T00:00:00.000000000",
          "2022-07-05T00:00:00.000000000",
          "2022-07-06T00:00:00.000000000",
          "2022-07-07T00:00:00.000000000",
          "2022-07-08T00:00:00.000000000",
          "2022-07-11T00:00:00.000000000",
          "2022-07-12T00:00:00.000000000",
          "2022-07-13T00:00:00.000000000",
          "2022-07-14T00:00:00.000000000",
          "2022-07-15T00:00:00.000000000",
          "2022-07-18T00:00:00.000000000",
          "2022-07-25T00:00:00.000000000",
          "2022-07-26T00:00:00.000000000",
          "2022-07-27T00:00:00.000000000",
          "2022-07-28T00:00:00.000000000",
          "2022-07-29T00:00:00.000000000",
          "2022-08-01T00:00:00.000000000",
          "2022-08-02T00:00:00.000000000",
          "2022-08-03T00:00:00.000000000",
          "2022-08-04T00:00:00.000000000",
          "2022-08-05T00:00:00.000000000",
          "2022-08-08T00:00:00.000000000",
          "2022-08-09T00:00:00.000000000",
          "2022-08-10T00:00:00.000000000",
          "2022-08-11T00:00:00.000000000",
          "2022-08-12T00:00:00.000000000",
          "2022-08-15T00:00:00.000000000",
          "2022-08-16T00:00:00.000000000",
          "2022-08-17T00:00:00.000000000",
          "2022-08-18T00:00:00.000000000",
          "2022-08-19T00:00:00.000000000",
          "2022-08-22T00:00:00.000000000",
          "2022-08-23T00:00:00.000000000",
          "2022-08-24T00:00:00.000000000",
          "2022-08-25T00:00:00.000000000",
          "2022-08-26T00:00:00.000000000",
          "2022-08-29T00:00:00.000000000",
          "2022-08-30T00:00:00.000000000",
          "2022-08-31T00:00:00.000000000",
          "2022-09-01T00:00:00.000000000",
          "2022-09-02T00:00:00.000000000",
          "2022-09-06T00:00:00.000000000",
          "2022-09-07T00:00:00.000000000",
          "2022-09-08T00:00:00.000000000",
          "2022-09-09T00:00:00.000000000",
          "2022-09-12T00:00:00.000000000",
          "2022-09-13T00:00:00.000000000",
          "2022-09-14T00:00:00.000000000",
          "2022-09-15T00:00:00.000000000",
          "2022-09-16T00:00:00.000000000",
          "2022-09-19T00:00:00.000000000",
          "2022-09-20T00:00:00.000000000",
          "2022-09-21T00:00:00.000000000",
          "2022-09-22T00:00:00.000000000",
          "2022-09-23T00:00:00.000000000",
          "2022-09-26T00:00:00.000000000",
          "2022-09-27T00:00:00.000000000",
          "2022-09-28T00:00:00.000000000",
          "2022-09-29T00:00:00.000000000",
          "2022-09-30T00:00:00.000000000",
          "2022-10-03T00:00:00.000000000",
          "2022-10-04T00:00:00.000000000",
          "2022-10-05T00:00:00.000000000",
          "2022-10-06T00:00:00.000000000",
          "2022-10-07T00:00:00.000000000",
          "2022-10-10T00:00:00.000000000",
          "2022-10-11T00:00:00.000000000",
          "2022-10-12T00:00:00.000000000",
          "2022-10-13T00:00:00.000000000",
          "2022-10-14T00:00:00.000000000",
          "2022-10-17T00:00:00.000000000",
          "2022-10-18T00:00:00.000000000",
          "2022-10-19T00:00:00.000000000",
          "2022-10-20T00:00:00.000000000",
          "2022-10-21T00:00:00.000000000",
          "2022-10-24T00:00:00.000000000",
          "2022-10-25T00:00:00.000000000",
          "2022-10-26T00:00:00.000000000",
          "2022-10-27T00:00:00.000000000",
          "2022-10-28T00:00:00.000000000",
          "2022-10-31T00:00:00.000000000",
          "2022-11-01T00:00:00.000000000",
          "2022-11-02T00:00:00.000000000",
          "2022-11-03T00:00:00.000000000",
          "2022-11-04T00:00:00.000000000",
          "2022-11-07T00:00:00.000000000",
          "2022-11-08T00:00:00.000000000",
          "2023-08-16T00:00:00.000000000",
          "2023-08-17T00:00:00.000000000",
          "2023-08-18T00:00:00.000000000",
          "2023-08-21T00:00:00.000000000",
          "2023-08-22T00:00:00.000000000",
          "2023-08-23T00:00:00.000000000",
          "2023-08-24T00:00:00.000000000",
          "2023-08-25T00:00:00.000000000",
          "2023-08-28T00:00:00.000000000",
          "2023-08-29T00:00:00.000000000",
          "2023-08-30T00:00:00.000000000",
          "2023-08-31T00:00:00.000000000",
          "2023-09-01T00:00:00.000000000",
          "2023-09-05T00:00:00.000000000",
          "2023-09-06T00:00:00.000000000",
          "2023-09-07T00:00:00.000000000",
          "2023-09-08T00:00:00.000000000",
          "2023-09-11T00:00:00.000000000",
          "2023-09-12T00:00:00.000000000",
          "2023-10-24T00:00:00.000000000",
          "2023-10-25T00:00:00.000000000",
          "2023-10-26T00:00:00.000000000",
          "2023-10-27T00:00:00.000000000",
          "2023-10-30T00:00:00.000000000",
          "2023-10-31T00:00:00.000000000",
          "2023-11-01T00:00:00.000000000",
          "2023-11-02T00:00:00.000000000",
          "2023-11-03T00:00:00.000000000",
          "2023-12-05T00:00:00.000000000",
          "2023-12-06T00:00:00.000000000",
          "2023-12-07T00:00:00.000000000",
          "2023-12-08T00:00:00.000000000",
          "2023-12-11T00:00:00.000000000",
          "2023-12-12T00:00:00.000000000",
          "2023-12-13T00:00:00.000000000",
          "2023-12-14T00:00:00.000000000",
          "2024-04-18T00:00:00.000000000",
          "2024-04-19T00:00:00.000000000",
          "2024-04-22T00:00:00.000000000",
          "2024-04-23T00:00:00.000000000",
          "2024-04-24T00:00:00.000000000",
          "2024-04-25T00:00:00.000000000",
          "2024-04-26T00:00:00.000000000",
          "2024-04-29T00:00:00.000000000",
          "2024-04-30T00:00:00.000000000",
          "2024-05-01T00:00:00.000000000",
          "2024-05-02T00:00:00.000000000",
          "2024-05-03T00:00:00.000000000",
          "2024-05-06T00:00:00.000000000",
          "2024-05-07T00:00:00.000000000",
          "2024-05-08T00:00:00.000000000",
          "2024-05-09T00:00:00.000000000",
          "2024-05-10T00:00:00.000000000",
          "2024-05-13T00:00:00.000000000",
          "2024-05-14T00:00:00.000000000",
          "2024-05-15T00:00:00.000000000",
          "2024-05-16T00:00:00.000000000",
          "2024-05-17T00:00:00.000000000",
          "2024-05-20T00:00:00.000000000",
          "2024-05-21T00:00:00.000000000",
          "2024-05-22T00:00:00.000000000",
          "2024-05-23T00:00:00.000000000",
          "2024-05-24T00:00:00.000000000",
          "2024-05-28T00:00:00.000000000",
          "2024-05-29T00:00:00.000000000",
          "2024-05-30T00:00:00.000000000",
          "2024-05-31T00:00:00.000000000",
          "2024-06-03T00:00:00.000000000",
          "2024-06-04T00:00:00.000000000",
          "2024-06-05T00:00:00.000000000",
          "2024-06-06T00:00:00.000000000",
          "2024-07-15T00:00:00.000000000",
          "2024-07-16T00:00:00.000000000",
          "2024-07-17T00:00:00.000000000",
          "2024-07-18T00:00:00.000000000",
          "2024-07-19T00:00:00.000000000",
          "2024-07-22T00:00:00.000000000",
          "2024-07-23T00:00:00.000000000",
          "2024-07-24T00:00:00.000000000",
          "2024-07-25T00:00:00.000000000",
          "2024-07-26T00:00:00.000000000",
          "2024-07-29T00:00:00.000000000",
          "2024-07-30T00:00:00.000000000",
          "2024-07-31T00:00:00.000000000",
          "2024-08-01T00:00:00.000000000",
          "2024-08-02T00:00:00.000000000",
          "2024-08-05T00:00:00.000000000",
          "2024-08-06T00:00:00.000000000",
          "2024-11-14T00:00:00.000000000",
          "2024-11-15T00:00:00.000000000",
          "2024-11-18T00:00:00.000000000",
          "2024-11-19T00:00:00.000000000",
          "2024-11-20T00:00:00.000000000",
          "2024-11-21T00:00:00.000000000",
          "2024-11-22T00:00:00.000000000",
          "2024-11-25T00:00:00.000000000",
          "2024-11-26T00:00:00.000000000",
          "2024-11-27T00:00:00.000000000",
          "2024-11-29T00:00:00.000000000",
          "2024-12-19T00:00:00.000000000",
          "2024-12-20T00:00:00.000000000",
          "2024-12-23T00:00:00.000000000",
          "2024-12-24T00:00:00.000000000",
          "2024-12-26T00:00:00.000000000",
          "2024-12-27T00:00:00.000000000",
          "2024-12-30T00:00:00.000000000",
          "2024-12-31T00:00:00.000000000",
          "2025-01-02T00:00:00.000000000",
          "2025-01-03T00:00:00.000000000",
          "2025-01-06T00:00:00.000000000",
          "2025-01-07T00:00:00.000000000",
          "2025-01-08T00:00:00.000000000",
          "2025-01-10T00:00:00.000000000",
          "2025-01-13T00:00:00.000000000",
          "2025-01-14T00:00:00.000000000",
          "2025-01-15T00:00:00.000000000",
          "2025-01-16T00:00:00.000000000",
          "2025-01-17T00:00:00.000000000",
          "2025-01-21T00:00:00.000000000",
          "2025-02-21T00:00:00.000000000",
          "2025-02-24T00:00:00.000000000",
          "2025-02-25T00:00:00.000000000",
          "2025-02-26T00:00:00.000000000",
          "2025-02-27T00:00:00.000000000"
         ],
         "y": {
          "bdata": "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",
          "dtype": "f8"
         }
        }
       ],
       "layout": {
        "template": {
         "data": {
          "bar": [
           {
            "error_x": {
             "color": "#2a3f5f"
            },
            "error_y": {
             "color": "#2a3f5f"
            },
            "marker": {
             "line": {
              "color": "#E5ECF6",
              "width": 0.5
             },
             "pattern": {
              "fillmode": "overlay",
              "size": 10,
              "solidity": 0.2
             }
            },
            "type": "bar"
           }
          ],
          "barpolar": [
           {
            "marker": {
             "line": {
              "color": "#E5ECF6",
              "width": 0.5
             },
             "pattern": {
              "fillmode": "overlay",
              "size": 10,
              "solidity": 0.2
             }
            },
            "type": "barpolar"
           }
          ],
          "carpet": [
           {
            "aaxis": {
             "endlinecolor": "#2a3f5f",
             "gridcolor": "white",
             "linecolor": "white",
             "minorgridcolor": "white",
             "startlinecolor": "#2a3f5f"
            },
            "baxis": {
             "endlinecolor": "#2a3f5f",
             "gridcolor": "white",
             "linecolor": "white",
             "minorgridcolor": "white",
             "startlinecolor": "#2a3f5f"
            },
            "type": "carpet"
           }
          ],
          "choropleth": [
           {
            "colorbar": {
             "outlinewidth": 0,
             "ticks": ""
            },
            "type": "choropleth"
           }
          ],
          "contour": [
           {
            "colorbar": {
             "outlinewidth": 0,
             "ticks": ""
            },
            "colorscale": [
             [
              0,
              "#0d0887"
             ],
             [
              0.1111111111111111,
              "#46039f"
             ],
             [
              0.2222222222222222,
              "#7201a8"
             ],
             [
              0.3333333333333333,
              "#9c179e"
             ],
             [
              0.4444444444444444,
              "#bd3786"
             ],
             [
              0.5555555555555556,
              "#d8576b"
             ],
             [
              0.6666666666666666,
              "#ed7953"
             ],
             [
              0.7777777777777778,
              "#fb9f3a"
             ],
             [
              0.8888888888888888,
              "#fdca26"
             ],
             [
              1,
              "#f0f921"
             ]
            ],
            "type": "contour"
           }
          ],
          "contourcarpet": [
           {
            "colorbar": {
             "outlinewidth": 0,
             "ticks": ""
            },
            "type": "contourcarpet"
           }
          ],
          "heatmap": [
           {
            "colorbar": {
             "outlinewidth": 0,
             "ticks": ""
            },
            "colorscale": [
             [
              0,
              "#0d0887"
             ],
             [
              0.1111111111111111,
              "#46039f"
             ],
             [
              0.2222222222222222,
              "#7201a8"
             ],
             [
              0.3333333333333333,
              "#9c179e"
             ],
             [
              0.4444444444444444,
              "#bd3786"
             ],
             [
              0.5555555555555556,
              "#d8576b"
             ],
             [
              0.6666666666666666,
              "#ed7953"
             ],
             [
              0.7777777777777778,
              "#fb9f3a"
             ],
             [
              0.8888888888888888,
              "#fdca26"
             ],
             [
              1,
              "#f0f921"
             ]
            ],
            "type": "heatmap"
           }
          ],
          "histogram": [
           {
            "marker": {
             "pattern": {
              "fillmode": "overlay",
              "size": 10,
              "solidity": 0.2
             }
            },
            "type": "histogram"
           }
          ],
          "histogram2d": [
           {
            "colorbar": {
             "outlinewidth": 0,
             "ticks": ""
            },
            "colorscale": [
             [
              0,
              "#0d0887"
             ],
             [
              0.1111111111111111,
              "#46039f"
             ],
             [
              0.2222222222222222,
              "#7201a8"
             ],
             [
              0.3333333333333333,
              "#9c179e"
             ],
             [
              0.4444444444444444,
              "#bd3786"
             ],
             [
              0.5555555555555556,
              "#d8576b"
             ],
             [
              0.6666666666666666,
              "#ed7953"
             ],
             [
              0.7777777777777778,
              "#fb9f3a"
             ],
             [
              0.8888888888888888,
              "#fdca26"
             ],
             [
              1,
              "#f0f921"
             ]
            ],
            "type": "histogram2d"
           }
          ],
          "histogram2dcontour": [
           {
            "colorbar": {
             "outlinewidth": 0,
             "ticks": ""
            },
            "colorscale": [
             [
              0,
              "#0d0887"
             ],
             [
              0.1111111111111111,
              "#46039f"
             ],
             [
              0.2222222222222222,
              "#7201a8"
             ],
             [
              0.3333333333333333,
              "#9c179e"
             ],
             [
              0.4444444444444444,
              "#bd3786"
             ],
             [
              0.5555555555555556,
              "#d8576b"
             ],
             [
              0.6666666666666666,
              "#ed7953"
             ],
             [
              0.7777777777777778,
              "#fb9f3a"
             ],
             [
              0.8888888888888888,
              "#fdca26"
             ],
             [
              1,
              "#f0f921"
             ]
            ],
            "type": "histogram2dcontour"
           }
          ],
          "mesh3d": [
           {
            "colorbar": {
             "outlinewidth": 0,
             "ticks": ""
            },
            "type": "mesh3d"
           }
          ],
          "parcoords": [
           {
            "line": {
             "colorbar": {
              "outlinewidth": 0,
              "ticks": ""
             }
            },
            "type": "parcoords"
           }
          ],
          "pie": [
           {
            "automargin": true,
            "type": "pie"
           }
          ],
          "scatter": [
           {
            "fillpattern": {
             "fillmode": "overlay",
             "size": 10,
             "solidity": 0.2
            },
            "type": "scatter"
           }
          ],
          "scatter3d": [
           {
            "line": {
             "colorbar": {
              "outlinewidth": 0,
              "ticks": ""
             }
            },
            "marker": {
             "colorbar": {
              "outlinewidth": 0,
              "ticks": ""
             }
            },
            "type": "scatter3d"
           }
          ],
          "scattercarpet": [
           {
            "marker": {
             "colorbar": {
              "outlinewidth": 0,
              "ticks": ""
             }
            },
            "type": "scattercarpet"
           }
          ],
          "scattergeo": [
           {
            "marker": {
             "colorbar": {
              "outlinewidth": 0,
              "ticks": ""
             }
            },
            "type": "scattergeo"
           }
          ],
          "scattergl": [
           {
            "marker": {
             "colorbar": {
              "outlinewidth": 0,
              "ticks": ""
             }
            },
            "type": "scattergl"
           }
          ],
          "scattermap": [
           {
            "marker": {
             "colorbar": {
              "outlinewidth": 0,
              "ticks": ""
             }
            },
            "type": "scattermap"
           }
          ],
          "scattermapbox": [
           {
            "marker": {
             "colorbar": {
              "outlinewidth": 0,
              "ticks": ""
             }
            },
            "type": "scattermapbox"
           }
          ],
          "scatterpolar": [
           {
            "marker": {
             "colorbar": {
              "outlinewidth": 0,
              "ticks": ""
             }
            },
            "type": "scatterpolar"
           }
          ],
          "scatterpolargl": [
           {
            "marker": {
             "colorbar": {
              "outlinewidth": 0,
              "ticks": ""
             }
            },
            "type": "scatterpolargl"
           }
          ],
          "scatterternary": [
           {
            "marker": {
             "colorbar": {
              "outlinewidth": 0,
              "ticks": ""
             }
            },
            "type": "scatterternary"
           }
          ],
          "surface": [
           {
            "colorbar": {
             "outlinewidth": 0,
             "ticks": ""
            },
            "colorscale": [
             [
              0,
              "#0d0887"
             ],
             [
              0.1111111111111111,
              "#46039f"
             ],
             [
              0.2222222222222222,
              "#7201a8"
             ],
             [
              0.3333333333333333,
              "#9c179e"
             ],
             [
              0.4444444444444444,
              "#bd3786"
             ],
             [
              0.5555555555555556,
              "#d8576b"
             ],
             [
              0.6666666666666666,
              "#ed7953"
             ],
             [
              0.7777777777777778,
              "#fb9f3a"
             ],
             [
              0.8888888888888888,
              "#fdca26"
             ],
             [
              1,
              "#f0f921"
             ]
            ],
            "type": "surface"
           }
          ],
          "table": [
           {
            "cells": {
             "fill": {
              "color": "#EBF0F8"
             },
             "line": {
              "color": "white"
             }
            },
            "header": {
             "fill": {
              "color": "#C8D4E3"
             },
             "line": {
              "color": "white"
             }
            },
            "type": "table"
           }
          ]
         },
         "layout": {
          "annotationdefaults": {
           "arrowcolor": "#2a3f5f",
           "arrowhead": 0,
           "arrowwidth": 1
          },
          "autotypenumbers": "strict",
          "coloraxis": {
           "colorbar": {
            "outlinewidth": 0,
            "ticks": ""
           }
          },
          "colorscale": {
           "diverging": [
            [
             0,
             "#8e0152"
            ],
            [
             0.1,
             "#c51b7d"
            ],
            [
             0.2,
             "#de77ae"
            ],
            [
             0.3,
             "#f1b6da"
            ],
            [
             0.4,
             "#fde0ef"
            ],
            [
             0.5,
             "#f7f7f7"
            ],
            [
             0.6,
             "#e6f5d0"
            ],
            [
             0.7,
             "#b8e186"
            ],
            [
             0.8,
             "#7fbc41"
            ],
            [
             0.9,
             "#4d9221"
            ],
            [
             1,
             "#276419"
            ]
           ],
           "sequential": [
            [
             0,
             "#0d0887"
            ],
            [
             0.1111111111111111,
             "#46039f"
            ],
            [
             0.2222222222222222,
             "#7201a8"
            ],
            [
             0.3333333333333333,
             "#9c179e"
            ],
            [
             0.4444444444444444,
             "#bd3786"
            ],
            [
             0.5555555555555556,
             "#d8576b"
            ],
            [
             0.6666666666666666,
             "#ed7953"
            ],
            [
             0.7777777777777778,
             "#fb9f3a"
            ],
            [
             0.8888888888888888,
             "#fdca26"
            ],
            [
             1,
             "#f0f921"
            ]
           ],
           "sequentialminus": [
            [
             0,
             "#0d0887"
            ],
            [
             0.1111111111111111,
             "#46039f"
            ],
            [
             0.2222222222222222,
             "#7201a8"
            ],
            [
             0.3333333333333333,
             "#9c179e"
            ],
            [
             0.4444444444444444,
             "#bd3786"
            ],
            [
             0.5555555555555556,
             "#d8576b"
            ],
            [
             0.6666666666666666,
             "#ed7953"
            ],
            [
             0.7777777777777778,
             "#fb9f3a"
            ],
            [
             0.8888888888888888,
             "#fdca26"
            ],
            [
             1,
             "#f0f921"
            ]
           ]
          },
          "colorway": [
           "#636efa",
           "#EF553B",
           "#00cc96",
           "#ab63fa",
           "#FFA15A",
           "#19d3f3",
           "#FF6692",
           "#B6E880",
           "#FF97FF",
           "#FECB52"
          ],
          "font": {
           "color": "#2a3f5f"
          },
          "geo": {
           "bgcolor": "white",
           "lakecolor": "white",
           "landcolor": "#E5ECF6",
           "showlakes": true,
           "showland": true,
           "subunitcolor": "white"
          },
          "hoverlabel": {
           "align": "left"
          },
          "hovermode": "closest",
          "mapbox": {
           "style": "light"
          },
          "paper_bgcolor": "white",
          "plot_bgcolor": "#E5ECF6",
          "polar": {
           "angularaxis": {
            "gridcolor": "white",
            "linecolor": "white",
            "ticks": ""
           },
           "bgcolor": "#E5ECF6",
           "radialaxis": {
            "gridcolor": "white",
            "linecolor": "white",
            "ticks": ""
           }
          },
          "scene": {
           "xaxis": {
            "backgroundcolor": "#E5ECF6",
            "gridcolor": "white",
            "gridwidth": 2,
            "linecolor": "white",
            "showbackground": true,
            "ticks": "",
            "zerolinecolor": "white"
           },
           "yaxis": {
            "backgroundcolor": "#E5ECF6",
            "gridcolor": "white",
            "gridwidth": 2,
            "linecolor": "white",
            "showbackground": true,
            "ticks": "",
            "zerolinecolor": "white"
           },
           "zaxis": {
            "backgroundcolor": "#E5ECF6",
            "gridcolor": "white",
            "gridwidth": 2,
            "linecolor": "white",
            "showbackground": true,
            "ticks": "",
            "zerolinecolor": "white"
           }
          },
          "shapedefaults": {
           "line": {
            "color": "#2a3f5f"
           }
          },
          "ternary": {
           "aaxis": {
            "gridcolor": "white",
            "linecolor": "white",
            "ticks": ""
           },
           "baxis": {
            "gridcolor": "white",
            "linecolor": "white",
            "ticks": ""
           },
           "bgcolor": "#E5ECF6",
           "caxis": {
            "gridcolor": "white",
            "linecolor": "white",
            "ticks": ""
           }
          },
          "title": {
           "x": 0.05
          },
          "xaxis": {
           "automargin": true,
           "gridcolor": "white",
           "linecolor": "white",
           "ticks": "",
           "title": {
            "standoff": 15
           },
           "zerolinecolor": "white",
           "zerolinewidth": 2
          },
          "yaxis": {
           "automargin": true,
           "gridcolor": "white",
           "linecolor": "white",
           "ticks": "",
           "title": {
            "standoff": 15
           },
           "zerolinecolor": "white",
           "zerolinewidth": 2
          }
         }
        },
        "title": {
         "text": "Candlestick Chart with Buy and Sell Signals"
        },
        "xaxis": {
         "rangeslider": {
          "visible": false
         },
         "title": {
          "text": "Date"
         }
        },
        "yaxis": {
         "title": {
          "text": "Price"
         }
        }
       }
      }
     },
     "metadata": {},
     "output_type": "display_data"
    }
   ],
   "source": [
    "import plotly.graph_objects as go\n",
    "\n",
    "buy_signals = merged_data[merged_data['target'] == 1]\n",
    "sell_signals = merged_data[merged_data['target'] == 0]\n",
    "\n",
    "fig = go.Figure(data=[go.Candlestick(\n",
    "    x=merged_data.index,  # Use the index as the x-axis (Date)\n",
    "    open=merged_data['Open'],  # Opening prices\n",
    "    high=merged_data['High'],  # High prices\n",
    "    low=merged_data['Low'],  # Low prices\n",
    "    close=merged_data['Close'],  # Closing prices\n",
    "    increasing_line_color='green',  # Color for increasing candles\n",
    "    decreasing_line_color='red'  # Color for decreasing candles\n",
    ")])\n",
    "\n",
    "# Add scatter points for buy signals\n",
    "fig.add_trace(go.Scatter(\n",
    "    x=buy_signals.index,  # Use the index of buy signals\n",
    "    y=buy_signals['Close'],  # Plot buy signals at the Close price\n",
    "    mode='markers',  # Use markers to represent the signals\n",
    "    name='Buy Signal',  # Legend name for buy signals\n",
    "    marker=dict(\n",
    "        size=10,  # Marker size\n",
    "        color='green',  # Marker color for buy signals\n",
    "        symbol='triangle-up'  # Marker shape for buy signals\n",
    "    )\n",
    "))\n",
    "\n",
    "# Add scatter points for sell signals\n",
    "fig.add_trace(go.Scatter(\n",
    "    x=sell_signals.index,  # Use the index of sell signals\n",
    "    y=sell_signals['Close'],  # Plot sell signals at the Close price\n",
    "    mode='markers',  # Use markers to represent the signals\n",
    "    name='Sell Signal',  # Legend name for sell signals\n",
    "    marker=dict(\n",
    "        size=10,  # Marker size\n",
    "        color='red',  # Marker color for sell signals\n",
    "        symbol='triangle-down'  # Marker shape for sell signals\n",
    "    )\n",
    "))\n",
    "\n",
    "# Add title and labels\n",
    "fig.update_layout(\n",
    "    title='Candlestick Chart with Buy and Sell Signals',\n",
    "    xaxis_title='Date',\n",
    "    yaxis_title='Price',\n",
    "    xaxis_rangeslider_visible=False  # Hide the range slider (optional)\n",
    ")\n",
    "\n",
    "# Show the chart\n",
    "fig.show()\n"
   ]
  },
  {
   "cell_type": "code",
   "execution_count": 17,
   "id": "baa153d7",
   "metadata": {},
   "outputs": [
    {
     "data": {
      "application/vnd.plotly.v1+json": {
       "config": {
        "plotlyServerURL": "https://plot.ly"
       },
       "data": [
        {
         "close": {
          "bdata": "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",
          "dtype": "f8"
         },
         "decreasing": {
          "fillcolor": "red",
          "line": {
           "color": "red"
          }
         },
         "high": {
          "bdata": "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",
          "dtype": "f8"
         },
         "increasing": {
          "fillcolor": "lime",
          "line": {
           "color": "lime"
          }
         },
         "line": {
          "width": 1.5
         },
         "low": {
          "bdata": "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",
          "dtype": "f8"
         },
         "open": {
          "bdata": "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",
          "dtype": "f8"
         },
         "type": "candlestick",
         "x": [
          "2022-02-24T00:00:00.000000000",
          "2022-02-25T00:00:00.000000000",
          "2022-02-28T00:00:00.000000000",
          "2022-03-01T00:00:00.000000000",
          "2022-03-02T00:00:00.000000000",
          "2022-03-03T00:00:00.000000000",
          "2022-03-04T00:00:00.000000000",
          "2022-03-07T00:00:00.000000000",
          "2022-03-08T00:00:00.000000000",
          "2022-03-09T00:00:00.000000000",
          "2022-03-10T00:00:00.000000000",
          "2022-03-11T00:00:00.000000000",
          "2022-03-14T00:00:00.000000000",
          "2022-03-15T00:00:00.000000000",
          "2022-03-16T00:00:00.000000000",
          "2022-03-17T00:00:00.000000000",
          "2022-03-18T00:00:00.000000000",
          "2022-03-21T00:00:00.000000000",
          "2022-03-22T00:00:00.000000000",
          "2022-03-23T00:00:00.000000000",
          "2022-03-24T00:00:00.000000000",
          "2022-03-25T00:00:00.000000000",
          "2022-03-28T00:00:00.000000000",
          "2022-03-29T00:00:00.000000000",
          "2022-03-30T00:00:00.000000000",
          "2022-03-31T00:00:00.000000000",
          "2022-04-01T00:00:00.000000000",
          "2022-04-04T00:00:00.000000000",
          "2022-04-05T00:00:00.000000000",
          "2022-04-06T00:00:00.000000000",
          "2022-04-07T00:00:00.000000000",
          "2022-04-08T00:00:00.000000000",
          "2022-04-11T00:00:00.000000000",
          "2022-04-12T00:00:00.000000000",
          "2022-04-13T00:00:00.000000000",
          "2022-04-14T00:00:00.000000000",
          "2022-04-18T00:00:00.000000000",
          "2022-04-19T00:00:00.000000000",
          "2022-04-20T00:00:00.000000000",
          "2022-04-21T00:00:00.000000000",
          "2022-04-22T00:00:00.000000000",
          "2022-04-25T00:00:00.000000000",
          "2022-04-26T00:00:00.000000000",
          "2022-04-27T00:00:00.000000000",
          "2022-04-28T00:00:00.000000000",
          "2022-04-29T00:00:00.000000000",
          "2022-05-02T00:00:00.000000000",
          "2022-05-03T00:00:00.000000000",
          "2022-05-04T00:00:00.000000000",
          "2022-05-05T00:00:00.000000000",
          "2022-05-06T00:00:00.000000000",
          "2022-05-09T00:00:00.000000000",
          "2022-05-10T00:00:00.000000000",
          "2022-05-11T00:00:00.000000000",
          "2022-05-12T00:00:00.000000000",
          "2022-05-13T00:00:00.000000000",
          "2022-05-16T00:00:00.000000000",
          "2022-05-17T00:00:00.000000000",
          "2022-05-18T00:00:00.000000000",
          "2022-05-19T00:00:00.000000000",
          "2022-05-20T00:00:00.000000000",
          "2022-05-23T00:00:00.000000000",
          "2022-05-24T00:00:00.000000000",
          "2022-05-25T00:00:00.000000000",
          "2022-05-26T00:00:00.000000000",
          "2022-05-27T00:00:00.000000000",
          "2022-05-31T00:00:00.000000000",
          "2022-06-01T00:00:00.000000000",
          "2022-06-02T00:00:00.000000000",
          "2022-06-03T00:00:00.000000000",
          "2022-06-06T00:00:00.000000000",
          "2022-06-07T00:00:00.000000000",
          "2022-06-08T00:00:00.000000000",
          "2022-06-09T00:00:00.000000000",
          "2022-06-10T00:00:00.000000000",
          "2022-06-13T00:00:00.000000000",
          "2022-06-14T00:00:00.000000000",
          "2022-06-15T00:00:00.000000000",
          "2022-06-16T00:00:00.000000000",
          "2022-06-17T00:00:00.000000000",
          "2022-06-21T00:00:00.000000000",
          "2022-06-22T00:00:00.000000000",
          "2022-06-23T00:00:00.000000000",
          "2022-06-24T00:00:00.000000000",
          "2022-06-27T00:00:00.000000000",
          "2022-06-28T00:00:00.000000000",
          "2022-06-29T00:00:00.000000000",
          "2022-06-30T00:00:00.000000000",
          "2022-07-01T00:00:00.000000000",
          "2022-07-05T00:00:00.000000000",
          "2022-07-06T00:00:00.000000000",
          "2022-07-07T00:00:00.000000000",
          "2022-07-08T00:00:00.000000000",
          "2022-07-11T00:00:00.000000000",
          "2022-07-12T00:00:00.000000000",
          "2022-07-13T00:00:00.000000000",
          "2022-07-14T00:00:00.000000000",
          "2022-07-15T00:00:00.000000000",
          "2022-07-18T00:00:00.000000000",
          "2022-07-19T00:00:00.000000000",
          "2022-07-20T00:00:00.000000000",
          "2022-07-21T00:00:00.000000000",
          "2022-07-22T00:00:00.000000000",
          "2022-07-25T00:00:00.000000000",
          "2022-07-26T00:00:00.000000000",
          "2022-07-27T00:00:00.000000000",
          "2022-07-28T00:00:00.000000000",
          "2022-07-29T00:00:00.000000000",
          "2022-08-01T00:00:00.000000000",
          "2022-08-02T00:00:00.000000000",
          "2022-08-03T00:00:00.000000000",
          "2022-08-04T00:00:00.000000000",
          "2022-08-05T00:00:00.000000000",
          "2022-08-08T00:00:00.000000000",
          "2022-08-09T00:00:00.000000000",
          "2022-08-10T00:00:00.000000000",
          "2022-08-11T00:00:00.000000000",
          "2022-08-12T00:00:00.000000000",
          "2022-08-15T00:00:00.000000000",
          "2022-08-16T00:00:00.000000000",
          "2022-08-17T00:00:00.000000000",
          "2022-08-18T00:00:00.000000000",
          "2022-08-19T00:00:00.000000000",
          "2022-08-22T00:00:00.000000000",
          "2022-08-23T00:00:00.000000000",
          "2022-08-24T00:00:00.000000000",
          "2022-08-25T00:00:00.000000000",
          "2022-08-26T00:00:00.000000000",
          "2022-08-29T00:00:00.000000000",
          "2022-08-30T00:00:00.000000000",
          "2022-08-31T00:00:00.000000000",
          "2022-09-01T00:00:00.000000000",
          "2022-09-02T00:00:00.000000000",
          "2022-09-06T00:00:00.000000000",
          "2022-09-07T00:00:00.000000000",
          "2022-09-08T00:00:00.000000000",
          "2022-09-09T00:00:00.000000000",
          "2022-09-12T00:00:00.000000000",
          "2022-09-13T00:00:00.000000000",
          "2022-09-14T00:00:00.000000000",
          "2022-09-15T00:00:00.000000000",
          "2022-09-16T00:00:00.000000000",
          "2022-09-19T00:00:00.000000000",
          "2022-09-20T00:00:00.000000000",
          "2022-09-21T00:00:00.000000000",
          "2022-09-22T00:00:00.000000000",
          "2022-09-23T00:00:00.000000000",
          "2022-09-26T00:00:00.000000000",
          "2022-09-27T00:00:00.000000000",
          "2022-09-28T00:00:00.000000000",
          "2022-09-29T00:00:00.000000000",
          "2022-09-30T00:00:00.000000000",
          "2022-10-03T00:00:00.000000000",
          "2022-10-04T00:00:00.000000000",
          "2022-10-05T00:00:00.000000000",
          "2022-10-06T00:00:00.000000000",
          "2022-10-07T00:00:00.000000000",
          "2022-10-10T00:00:00.000000000",
          "2022-10-11T00:00:00.000000000",
          "2022-10-12T00:00:00.000000000",
          "2022-10-13T00:00:00.000000000",
          "2022-10-14T00:00:00.000000000",
          "2022-10-17T00:00:00.000000000",
          "2022-10-18T00:00:00.000000000",
          "2022-10-19T00:00:00.000000000",
          "2022-10-20T00:00:00.000000000",
          "2022-10-21T00:00:00.000000000",
          "2022-10-24T00:00:00.000000000",
          "2022-10-25T00:00:00.000000000",
          "2022-10-26T00:00:00.000000000",
          "2022-10-27T00:00:00.000000000",
          "2022-10-28T00:00:00.000000000",
          "2022-10-31T00:00:00.000000000",
          "2022-11-01T00:00:00.000000000",
          "2022-11-02T00:00:00.000000000",
          "2022-11-03T00:00:00.000000000",
          "2022-11-04T00:00:00.000000000",
          "2022-11-07T00:00:00.000000000",
          "2022-11-08T00:00:00.000000000",
          "2022-11-09T00:00:00.000000000",
          "2022-11-10T00:00:00.000000000",
          "2022-11-11T00:00:00.000000000",
          "2022-11-14T00:00:00.000000000",
          "2022-11-15T00:00:00.000000000",
          "2022-11-16T00:00:00.000000000",
          "2022-11-17T00:00:00.000000000",
          "2022-11-18T00:00:00.000000000",
          "2022-11-21T00:00:00.000000000",
          "2022-11-22T00:00:00.000000000",
          "2022-11-23T00:00:00.000000000",
          "2022-11-25T00:00:00.000000000",
          "2022-11-28T00:00:00.000000000",
          "2022-11-29T00:00:00.000000000",
          "2022-11-30T00:00:00.000000000",
          "2022-12-01T00:00:00.000000000",
          "2022-12-02T00:00:00.000000000",
          "2022-12-05T00:00:00.000000000",
          "2022-12-06T00:00:00.000000000",
          "2022-12-07T00:00:00.000000000",
          "2022-12-08T00:00:00.000000000",
          "2022-12-09T00:00:00.000000000",
          "2022-12-12T00:00:00.000000000",
          "2022-12-13T00:00:00.000000000",
          "2022-12-14T00:00:00.000000000",
          "2022-12-15T00:00:00.000000000",
          "2022-12-16T00:00:00.000000000",
          "2022-12-19T00:00:00.000000000",
          "2022-12-20T00:00:00.000000000",
          "2022-12-21T00:00:00.000000000",
          "2022-12-22T00:00:00.000000000",
          "2022-12-23T00:00:00.000000000",
          "2022-12-27T00:00:00.000000000",
          "2022-12-28T00:00:00.000000000",
          "2022-12-29T00:00:00.000000000",
          "2022-12-30T00:00:00.000000000",
          "2023-01-03T00:00:00.000000000",
          "2023-01-04T00:00:00.000000000",
          "2023-01-05T00:00:00.000000000",
          "2023-01-06T00:00:00.000000000",
          "2023-01-09T00:00:00.000000000",
          "2023-01-10T00:00:00.000000000",
          "2023-01-11T00:00:00.000000000",
          "2023-01-12T00:00:00.000000000",
          "2023-01-13T00:00:00.000000000",
          "2023-01-17T00:00:00.000000000",
          "2023-01-18T00:00:00.000000000",
          "2023-01-19T00:00:00.000000000",
          "2023-01-20T00:00:00.000000000",
          "2023-01-23T00:00:00.000000000",
          "2023-01-24T00:00:00.000000000",
          "2023-01-25T00:00:00.000000000",
          "2023-01-26T00:00:00.000000000",
          "2023-01-27T00:00:00.000000000",
          "2023-01-30T00:00:00.000000000",
          "2023-01-31T00:00:00.000000000",
          "2023-02-01T00:00:00.000000000",
          "2023-02-02T00:00:00.000000000",
          "2023-02-03T00:00:00.000000000",
          "2023-02-06T00:00:00.000000000",
          "2023-02-07T00:00:00.000000000",
          "2023-02-08T00:00:00.000000000",
          "2023-02-09T00:00:00.000000000",
          "2023-02-10T00:00:00.000000000",
          "2023-02-13T00:00:00.000000000",
          "2023-02-14T00:00:00.000000000",
          "2023-02-15T00:00:00.000000000",
          "2023-02-16T00:00:00.000000000",
          "2023-02-17T00:00:00.000000000",
          "2023-02-21T00:00:00.000000000",
          "2023-02-22T00:00:00.000000000",
          "2023-02-23T00:00:00.000000000",
          "2023-02-24T00:00:00.000000000",
          "2023-02-27T00:00:00.000000000",
          "2023-02-28T00:00:00.000000000",
          "2023-03-01T00:00:00.000000000",
          "2023-03-02T00:00:00.000000000",
          "2023-03-03T00:00:00.000000000",
          "2023-03-06T00:00:00.000000000",
          "2023-03-07T00:00:00.000000000",
          "2023-03-08T00:00:00.000000000",
          "2023-03-09T00:00:00.000000000",
          "2023-03-10T00:00:00.000000000",
          "2023-03-13T00:00:00.000000000",
          "2023-03-14T00:00:00.000000000",
          "2023-03-15T00:00:00.000000000",
          "2023-03-16T00:00:00.000000000",
          "2023-03-17T00:00:00.000000000",
          "2023-03-20T00:00:00.000000000",
          "2023-03-21T00:00:00.000000000",
          "2023-03-22T00:00:00.000000000",
          "2023-03-23T00:00:00.000000000",
          "2023-03-24T00:00:00.000000000",
          "2023-03-27T00:00:00.000000000",
          "2023-03-28T00:00:00.000000000",
          "2023-03-29T00:00:00.000000000",
          "2023-03-30T00:00:00.000000000",
          "2023-03-31T00:00:00.000000000",
          "2023-04-03T00:00:00.000000000",
          "2023-04-04T00:00:00.000000000",
          "2023-04-05T00:00:00.000000000",
          "2023-04-06T00:00:00.000000000",
          "2023-04-10T00:00:00.000000000",
          "2023-04-11T00:00:00.000000000",
          "2023-04-12T00:00:00.000000000",
          "2023-04-13T00:00:00.000000000",
          "2023-04-14T00:00:00.000000000",
          "2023-04-17T00:00:00.000000000",
          "2023-04-18T00:00:00.000000000",
          "2023-04-19T00:00:00.000000000",
          "2023-04-20T00:00:00.000000000",
          "2023-04-21T00:00:00.000000000",
          "2023-04-24T00:00:00.000000000",
          "2023-04-25T00:00:00.000000000",
          "2023-04-26T00:00:00.000000000",
          "2023-04-27T00:00:00.000000000",
          "2023-04-28T00:00:00.000000000",
          "2023-05-01T00:00:00.000000000",
          "2023-05-02T00:00:00.000000000",
          "2023-05-03T00:00:00.000000000",
          "2023-05-04T00:00:00.000000000",
          "2023-05-05T00:00:00.000000000",
          "2023-05-08T00:00:00.000000000",
          "2023-05-09T00:00:00.000000000",
          "2023-05-10T00:00:00.000000000",
          "2023-05-11T00:00:00.000000000",
          "2023-05-12T00:00:00.000000000",
          "2023-05-15T00:00:00.000000000",
          "2023-05-16T00:00:00.000000000",
          "2023-05-17T00:00:00.000000000",
          "2023-05-18T00:00:00.000000000",
          "2023-05-19T00:00:00.000000000",
          "2023-05-22T00:00:00.000000000",
          "2023-05-23T00:00:00.000000000",
          "2023-05-24T00:00:00.000000000",
          "2023-05-25T00:00:00.000000000",
          "2023-05-26T00:00:00.000000000",
          "2023-05-30T00:00:00.000000000",
          "2023-05-31T00:00:00.000000000",
          "2023-06-01T00:00:00.000000000",
          "2023-06-02T00:00:00.000000000",
          "2023-06-05T00:00:00.000000000",
          "2023-06-06T00:00:00.000000000",
          "2023-06-07T00:00:00.000000000",
          "2023-06-08T00:00:00.000000000",
          "2023-06-09T00:00:00.000000000",
          "2023-06-12T00:00:00.000000000",
          "2023-06-13T00:00:00.000000000",
          "2023-06-14T00:00:00.000000000",
          "2023-06-15T00:00:00.000000000",
          "2023-06-16T00:00:00.000000000",
          "2023-06-20T00:00:00.000000000",
          "2023-06-21T00:00:00.000000000",
          "2023-06-22T00:00:00.000000000",
          "2023-06-23T00:00:00.000000000",
          "2023-06-26T00:00:00.000000000",
          "2023-06-27T00:00:00.000000000",
          "2023-06-28T00:00:00.000000000",
          "2023-06-29T00:00:00.000000000",
          "2023-06-30T00:00:00.000000000",
          "2023-07-03T00:00:00.000000000",
          "2023-07-05T00:00:00.000000000",
          "2023-07-06T00:00:00.000000000",
          "2023-07-07T00:00:00.000000000",
          "2023-07-10T00:00:00.000000000",
          "2023-07-11T00:00:00.000000000",
          "2023-07-12T00:00:00.000000000",
          "2023-07-13T00:00:00.000000000",
          "2023-07-14T00:00:00.000000000",
          "2023-07-17T00:00:00.000000000",
          "2023-07-18T00:00:00.000000000",
          "2023-07-19T00:00:00.000000000",
          "2023-07-20T00:00:00.000000000",
          "2023-07-21T00:00:00.000000000",
          "2023-07-24T00:00:00.000000000",
          "2023-07-25T00:00:00.000000000",
          "2023-07-26T00:00:00.000000000",
          "2023-07-27T00:00:00.000000000",
          "2023-07-28T00:00:00.000000000",
          "2023-07-31T00:00:00.000000000",
          "2023-08-01T00:00:00.000000000",
          "2023-08-02T00:00:00.000000000",
          "2023-08-03T00:00:00.000000000",
          "2023-08-04T00:00:00.000000000",
          "2023-08-07T00:00:00.000000000",
          "2023-08-08T00:00:00.000000000",
          "2023-08-09T00:00:00.000000000",
          "2023-08-10T00:00:00.000000000",
          "2023-08-11T00:00:00.000000000",
          "2023-08-14T00:00:00.000000000",
          "2023-08-15T00:00:00.000000000",
          "2023-08-16T00:00:00.000000000",
          "2023-08-17T00:00:00.000000000",
          "2023-08-18T00:00:00.000000000",
          "2023-08-21T00:00:00.000000000",
          "2023-08-22T00:00:00.000000000",
          "2023-08-23T00:00:00.000000000",
          "2023-08-24T00:00:00.000000000",
          "2023-08-25T00:00:00.000000000",
          "2023-08-28T00:00:00.000000000",
          "2023-08-29T00:00:00.000000000",
          "2023-08-30T00:00:00.000000000",
          "2023-08-31T00:00:00.000000000",
          "2023-09-01T00:00:00.000000000",
          "2023-09-05T00:00:00.000000000",
          "2023-09-06T00:00:00.000000000",
          "2023-09-07T00:00:00.000000000",
          "2023-09-08T00:00:00.000000000",
          "2023-09-11T00:00:00.000000000",
          "2023-09-12T00:00:00.000000000",
          "2023-09-13T00:00:00.000000000",
          "2023-09-14T00:00:00.000000000",
          "2023-09-15T00:00:00.000000000",
          "2023-09-18T00:00:00.000000000",
          "2023-09-19T00:00:00.000000000",
          "2023-09-20T00:00:00.000000000",
          "2023-09-21T00:00:00.000000000",
          "2023-09-22T00:00:00.000000000",
          "2023-09-25T00:00:00.000000000",
          "2023-09-26T00:00:00.000000000",
          "2023-09-27T00:00:00.000000000",
          "2023-09-28T00:00:00.000000000",
          "2023-09-29T00:00:00.000000000",
          "2023-10-02T00:00:00.000000000",
          "2023-10-03T00:00:00.000000000",
          "2023-10-04T00:00:00.000000000",
          "2023-10-05T00:00:00.000000000",
          "2023-10-06T00:00:00.000000000",
          "2023-10-09T00:00:00.000000000",
          "2023-10-10T00:00:00.000000000",
          "2023-10-11T00:00:00.000000000",
          "2023-10-12T00:00:00.000000000",
          "2023-10-13T00:00:00.000000000",
          "2023-10-16T00:00:00.000000000",
          "2023-10-17T00:00:00.000000000",
          "2023-10-18T00:00:00.000000000",
          "2023-10-19T00:00:00.000000000",
          "2023-10-20T00:00:00.000000000",
          "2023-10-23T00:00:00.000000000",
          "2023-10-24T00:00:00.000000000",
          "2023-10-25T00:00:00.000000000",
          "2023-10-26T00:00:00.000000000",
          "2023-10-27T00:00:00.000000000",
          "2023-10-30T00:00:00.000000000",
          "2023-10-31T00:00:00.000000000",
          "2023-11-01T00:00:00.000000000",
          "2023-11-02T00:00:00.000000000",
          "2023-11-03T00:00:00.000000000",
          "2023-11-06T00:00:00.000000000",
          "2023-11-07T00:00:00.000000000",
          "2023-11-08T00:00:00.000000000",
          "2023-11-09T00:00:00.000000000",
          "2023-11-10T00:00:00.000000000",
          "2023-11-13T00:00:00.000000000",
          "2023-11-14T00:00:00.000000000",
          "2023-11-15T00:00:00.000000000",
          "2023-11-16T00:00:00.000000000",
          "2023-11-17T00:00:00.000000000",
          "2023-11-20T00:00:00.000000000",
          "2023-11-21T00:00:00.000000000",
          "2023-11-22T00:00:00.000000000",
          "2023-11-24T00:00:00.000000000",
          "2023-11-27T00:00:00.000000000",
          "2023-11-28T00:00:00.000000000",
          "2023-11-29T00:00:00.000000000",
          "2023-11-30T00:00:00.000000000",
          "2023-12-01T00:00:00.000000000",
          "2023-12-04T00:00:00.000000000",
          "2023-12-05T00:00:00.000000000",
          "2023-12-06T00:00:00.000000000",
          "2023-12-07T00:00:00.000000000",
          "2023-12-08T00:00:00.000000000",
          "2023-12-11T00:00:00.000000000",
          "2023-12-12T00:00:00.000000000",
          "2023-12-13T00:00:00.000000000",
          "2023-12-14T00:00:00.000000000",
          "2023-12-15T00:00:00.000000000",
          "2023-12-18T00:00:00.000000000",
          "2023-12-19T00:00:00.000000000",
          "2023-12-20T00:00:00.000000000",
          "2023-12-21T00:00:00.000000000",
          "2023-12-22T00:00:00.000000000",
          "2023-12-26T00:00:00.000000000",
          "2023-12-27T00:00:00.000000000",
          "2023-12-28T00:00:00.000000000",
          "2023-12-29T00:00:00.000000000",
          "2024-01-02T00:00:00.000000000",
          "2024-01-03T00:00:00.000000000",
          "2024-01-04T00:00:00.000000000",
          "2024-01-05T00:00:00.000000000",
          "2024-01-08T00:00:00.000000000",
          "2024-01-09T00:00:00.000000000",
          "2024-01-10T00:00:00.000000000",
          "2024-01-11T00:00:00.000000000",
          "2024-01-12T00:00:00.000000000",
          "2024-01-16T00:00:00.000000000",
          "2024-01-17T00:00:00.000000000",
          "2024-01-18T00:00:00.000000000",
          "2024-01-19T00:00:00.000000000",
          "2024-01-22T00:00:00.000000000",
          "2024-01-23T00:00:00.000000000",
          "2024-01-24T00:00:00.000000000",
          "2024-01-25T00:00:00.000000000",
          "2024-01-26T00:00:00.000000000",
          "2024-01-29T00:00:00.000000000",
          "2024-01-30T00:00:00.000000000",
          "2024-01-31T00:00:00.000000000",
          "2024-02-01T00:00:00.000000000",
          "2024-02-02T00:00:00.000000000",
          "2024-02-05T00:00:00.000000000",
          "2024-02-06T00:00:00.000000000",
          "2024-02-07T00:00:00.000000000",
          "2024-02-08T00:00:00.000000000",
          "2024-02-09T00:00:00.000000000",
          "2024-02-12T00:00:00.000000000",
          "2024-02-13T00:00:00.000000000",
          "2024-02-14T00:00:00.000000000",
          "2024-02-15T00:00:00.000000000",
          "2024-02-16T00:00:00.000000000",
          "2024-02-20T00:00:00.000000000",
          "2024-02-21T00:00:00.000000000",
          "2024-02-22T00:00:00.000000000",
          "2024-02-23T00:00:00.000000000",
          "2024-02-26T00:00:00.000000000",
          "2024-02-27T00:00:00.000000000",
          "2024-02-28T00:00:00.000000000",
          "2024-02-29T00:00:00.000000000",
          "2024-03-01T00:00:00.000000000",
          "2024-03-04T00:00:00.000000000",
          "2024-03-05T00:00:00.000000000",
          "2024-03-06T00:00:00.000000000",
          "2024-03-07T00:00:00.000000000",
          "2024-03-08T00:00:00.000000000",
          "2024-03-11T00:00:00.000000000",
          "2024-03-12T00:00:00.000000000",
          "2024-03-13T00:00:00.000000000",
          "2024-03-14T00:00:00.000000000",
          "2024-03-15T00:00:00.000000000",
          "2024-03-18T00:00:00.000000000",
          "2024-03-19T00:00:00.000000000",
          "2024-03-20T00:00:00.000000000",
          "2024-03-21T00:00:00.000000000",
          "2024-03-22T00:00:00.000000000",
          "2024-03-25T00:00:00.000000000",
          "2024-03-26T00:00:00.000000000",
          "2024-03-27T00:00:00.000000000",
          "2024-03-28T00:00:00.000000000",
          "2024-04-01T00:00:00.000000000",
          "2024-04-02T00:00:00.000000000",
          "2024-04-03T00:00:00.000000000",
          "2024-04-04T00:00:00.000000000",
          "2024-04-05T00:00:00.000000000",
          "2024-04-08T00:00:00.000000000",
          "2024-04-09T00:00:00.000000000",
          "2024-04-10T00:00:00.000000000",
          "2024-04-11T00:00:00.000000000",
          "2024-04-12T00:00:00.000000000",
          "2024-04-15T00:00:00.000000000",
          "2024-04-16T00:00:00.000000000",
          "2024-04-17T00:00:00.000000000",
          "2024-04-18T00:00:00.000000000",
          "2024-04-19T00:00:00.000000000",
          "2024-04-22T00:00:00.000000000",
          "2024-04-23T00:00:00.000000000",
          "2024-04-24T00:00:00.000000000",
          "2024-04-25T00:00:00.000000000",
          "2024-04-26T00:00:00.000000000",
          "2024-04-29T00:00:00.000000000",
          "2024-04-30T00:00:00.000000000",
          "2024-05-01T00:00:00.000000000",
          "2024-05-02T00:00:00.000000000",
          "2024-05-03T00:00:00.000000000",
          "2024-05-06T00:00:00.000000000",
          "2024-05-07T00:00:00.000000000",
          "2024-05-08T00:00:00.000000000",
          "2024-05-09T00:00:00.000000000",
          "2024-05-10T00:00:00.000000000",
          "2024-05-13T00:00:00.000000000",
          "2024-05-14T00:00:00.000000000",
          "2024-05-15T00:00:00.000000000",
          "2024-05-16T00:00:00.000000000",
          "2024-05-17T00:00:00.000000000",
          "2024-05-20T00:00:00.000000000",
          "2024-05-21T00:00:00.000000000",
          "2024-05-22T00:00:00.000000000",
          "2024-05-23T00:00:00.000000000",
          "2024-05-24T00:00:00.000000000",
          "2024-05-28T00:00:00.000000000",
          "2024-05-29T00:00:00.000000000",
          "2024-05-30T00:00:00.000000000",
          "2024-05-31T00:00:00.000000000",
          "2024-06-03T00:00:00.000000000",
          "2024-06-04T00:00:00.000000000",
          "2024-06-05T00:00:00.000000000",
          "2024-06-06T00:00:00.000000000",
          "2024-06-07T00:00:00.000000000",
          "2024-06-10T00:00:00.000000000",
          "2024-06-11T00:00:00.000000000",
          "2024-06-12T00:00:00.000000000",
          "2024-06-13T00:00:00.000000000",
          "2024-06-14T00:00:00.000000000",
          "2024-06-17T00:00:00.000000000",
          "2024-06-18T00:00:00.000000000",
          "2024-06-20T00:00:00.000000000",
          "2024-06-21T00:00:00.000000000",
          "2024-06-24T00:00:00.000000000",
          "2024-06-25T00:00:00.000000000",
          "2024-06-26T00:00:00.000000000",
          "2024-06-27T00:00:00.000000000",
          "2024-06-28T00:00:00.000000000",
          "2024-07-01T00:00:00.000000000",
          "2024-07-02T00:00:00.000000000",
          "2024-07-03T00:00:00.000000000",
          "2024-07-05T00:00:00.000000000",
          "2024-07-08T00:00:00.000000000",
          "2024-07-09T00:00:00.000000000",
          "2024-07-10T00:00:00.000000000",
          "2024-07-11T00:00:00.000000000",
          "2024-07-12T00:00:00.000000000",
          "2024-07-15T00:00:00.000000000",
          "2024-07-16T00:00:00.000000000",
          "2024-07-17T00:00:00.000000000",
          "2024-07-18T00:00:00.000000000",
          "2024-07-19T00:00:00.000000000",
          "2024-07-22T00:00:00.000000000",
          "2024-07-23T00:00:00.000000000",
          "2024-07-24T00:00:00.000000000",
          "2024-07-25T00:00:00.000000000",
          "2024-07-26T00:00:00.000000000",
          "2024-07-29T00:00:00.000000000",
          "2024-07-30T00:00:00.000000000",
          "2024-07-31T00:00:00.000000000",
          "2024-08-01T00:00:00.000000000",
          "2024-08-02T00:00:00.000000000",
          "2024-08-05T00:00:00.000000000",
          "2024-08-06T00:00:00.000000000",
          "2024-08-07T00:00:00.000000000",
          "2024-08-08T00:00:00.000000000",
          "2024-08-09T00:00:00.000000000",
          "2024-08-12T00:00:00.000000000",
          "2024-08-13T00:00:00.000000000",
          "2024-08-14T00:00:00.000000000",
          "2024-08-15T00:00:00.000000000",
          "2024-08-16T00:00:00.000000000",
          "2024-08-19T00:00:00.000000000",
          "2024-08-20T00:00:00.000000000",
          "2024-08-21T00:00:00.000000000",
          "2024-08-22T00:00:00.000000000",
          "2024-08-23T00:00:00.000000000",
          "2024-08-26T00:00:00.000000000",
          "2024-08-27T00:00:00.000000000",
          "2024-08-28T00:00:00.000000000",
          "2024-08-29T00:00:00.000000000",
          "2024-08-30T00:00:00.000000000",
          "2024-09-03T00:00:00.000000000",
          "2024-09-04T00:00:00.000000000",
          "2024-09-05T00:00:00.000000000",
          "2024-09-06T00:00:00.000000000",
          "2024-09-09T00:00:00.000000000",
          "2024-09-10T00:00:00.000000000",
          "2024-09-11T00:00:00.000000000",
          "2024-09-12T00:00:00.000000000",
          "2024-09-13T00:00:00.000000000",
          "2024-09-16T00:00:00.000000000",
          "2024-09-17T00:00:00.000000000",
          "2024-09-18T00:00:00.000000000",
          "2024-09-19T00:00:00.000000000",
          "2024-09-20T00:00:00.000000000",
          "2024-09-23T00:00:00.000000000",
          "2024-09-24T00:00:00.000000000",
          "2024-09-25T00:00:00.000000000",
          "2024-09-26T00:00:00.000000000",
          "2024-09-27T00:00:00.000000000",
          "2024-09-30T00:00:00.000000000",
          "2024-10-01T00:00:00.000000000",
          "2024-10-02T00:00:00.000000000",
          "2024-10-03T00:00:00.000000000",
          "2024-10-04T00:00:00.000000000",
          "2024-10-07T00:00:00.000000000",
          "2024-10-08T00:00:00.000000000",
          "2024-10-09T00:00:00.000000000",
          "2024-10-10T00:00:00.000000000",
          "2024-10-11T00:00:00.000000000",
          "2024-10-14T00:00:00.000000000",
          "2024-10-15T00:00:00.000000000",
          "2024-10-16T00:00:00.000000000",
          "2024-10-17T00:00:00.000000000",
          "2024-10-18T00:00:00.000000000",
          "2024-10-21T00:00:00.000000000",
          "2024-10-22T00:00:00.000000000",
          "2024-10-23T00:00:00.000000000",
          "2024-10-24T00:00:00.000000000",
          "2024-10-25T00:00:00.000000000",
          "2024-10-28T00:00:00.000000000",
          "2024-10-29T00:00:00.000000000",
          "2024-10-30T00:00:00.000000000",
          "2024-10-31T00:00:00.000000000",
          "2024-11-01T00:00:00.000000000",
          "2024-11-04T00:00:00.000000000",
          "2024-11-05T00:00:00.000000000",
          "2024-11-06T00:00:00.000000000",
          "2024-11-07T00:00:00.000000000",
          "2024-11-08T00:00:00.000000000",
          "2024-11-11T00:00:00.000000000",
          "2024-11-12T00:00:00.000000000",
          "2024-11-13T00:00:00.000000000",
          "2024-11-14T00:00:00.000000000",
          "2024-11-15T00:00:00.000000000",
          "2024-11-18T00:00:00.000000000",
          "2024-11-19T00:00:00.000000000",
          "2024-11-20T00:00:00.000000000",
          "2024-11-21T00:00:00.000000000",
          "2024-11-22T00:00:00.000000000",
          "2024-11-25T00:00:00.000000000",
          "2024-11-26T00:00:00.000000000",
          "2024-11-27T00:00:00.000000000",
          "2024-11-29T00:00:00.000000000",
          "2024-12-02T00:00:00.000000000",
          "2024-12-03T00:00:00.000000000",
          "2024-12-04T00:00:00.000000000",
          "2024-12-05T00:00:00.000000000",
          "2024-12-06T00:00:00.000000000",
          "2024-12-09T00:00:00.000000000",
          "2024-12-10T00:00:00.000000000",
          "2024-12-11T00:00:00.000000000",
          "2024-12-12T00:00:00.000000000",
          "2024-12-13T00:00:00.000000000",
          "2024-12-16T00:00:00.000000000",
          "2024-12-17T00:00:00.000000000",
          "2024-12-18T00:00:00.000000000",
          "2024-12-19T00:00:00.000000000",
          "2024-12-20T00:00:00.000000000",
          "2024-12-23T00:00:00.000000000",
          "2024-12-24T00:00:00.000000000",
          "2024-12-26T00:00:00.000000000",
          "2024-12-27T00:00:00.000000000",
          "2024-12-30T00:00:00.000000000",
          "2024-12-31T00:00:00.000000000",
          "2025-01-02T00:00:00.000000000",
          "2025-01-03T00:00:00.000000000",
          "2025-01-06T00:00:00.000000000",
          "2025-01-07T00:00:00.000000000",
          "2025-01-08T00:00:00.000000000",
          "2025-01-10T00:00:00.000000000",
          "2025-01-13T00:00:00.000000000",
          "2025-01-14T00:00:00.000000000",
          "2025-01-15T00:00:00.000000000",
          "2025-01-16T00:00:00.000000000",
          "2025-01-17T00:00:00.000000000",
          "2025-01-21T00:00:00.000000000",
          "2025-01-22T00:00:00.000000000",
          "2025-01-23T00:00:00.000000000",
          "2025-01-24T00:00:00.000000000",
          "2025-01-27T00:00:00.000000000",
          "2025-01-28T00:00:00.000000000",
          "2025-01-29T00:00:00.000000000",
          "2025-01-30T00:00:00.000000000",
          "2025-01-31T00:00:00.000000000",
          "2025-02-03T00:00:00.000000000",
          "2025-02-04T00:00:00.000000000",
          "2025-02-05T00:00:00.000000000",
          "2025-02-06T00:00:00.000000000",
          "2025-02-07T00:00:00.000000000",
          "2025-02-10T00:00:00.000000000",
          "2025-02-11T00:00:00.000000000",
          "2025-02-12T00:00:00.000000000",
          "2025-02-13T00:00:00.000000000",
          "2025-02-14T00:00:00.000000000",
          "2025-02-18T00:00:00.000000000",
          "2025-02-19T00:00:00.000000000",
          "2025-02-20T00:00:00.000000000",
          "2025-02-21T00:00:00.000000000",
          "2025-02-24T00:00:00.000000000",
          "2025-02-25T00:00:00.000000000",
          "2025-02-26T00:00:00.000000000",
          "2025-02-27T00:00:00.000000000"
         ]
        },
        {
         "marker": {
          "color": "yellow",
          "size": 12,
          "symbol": "triangle-up"
         },
         "mode": "markers",
         "name": "Buy Signal",
         "type": "scatter",
         "x": [
          "2022-03-21T00:00:00.000000000",
          "2022-04-27T00:00:00.000000000",
          "2022-07-19T00:00:00.000000000",
          "2022-11-09T00:00:00.000000000",
          "2023-09-13T00:00:00.000000000",
          "2023-11-06T00:00:00.000000000",
          "2023-12-15T00:00:00.000000000",
          "2024-06-07T00:00:00.000000000",
          "2024-08-07T00:00:00.000000000",
          "2024-12-02T00:00:00.000000000",
          "2025-01-22T00:00:00.000000000"
         ],
         "y": {
          "bdata": "AAAAAADQakAAAACAws1lQAAAAADXS2VAAAAAgBRuWUAAAACAwuVyQAAAACCuv3NAAAAAANe/dEAAAABgj/5+QAAAAIAUcn9AAAAAAAAMgkAAAABgZnqDQA==",
          "dtype": "f8"
         }
        },
        {
         "marker": {
          "color": "yellow",
          "size": 12,
          "symbol": "triangle-down"
         },
         "mode": "markers",
         "name": "Sell Signal",
         "type": "scatter",
         "x": [
          "2022-04-13T00:00:00.000000000",
          "2022-06-09T00:00:00.000000000",
          "2022-07-25T00:00:00.000000000",
          "2023-08-16T00:00:00.000000000",
          "2023-10-24T00:00:00.000000000",
          "2023-12-05T00:00:00.000000000",
          "2024-04-18T00:00:00.000000000",
          "2024-07-15T00:00:00.000000000",
          "2024-11-14T00:00:00.000000000",
          "2024-12-19T00:00:00.000000000",
          "2025-02-21T00:00:00.000000000"
         ],
         "y": {
          "bdata": "AAAAgD16akAAAADA9UhoQAAAAAAAIGVAAAAAQDPDckAAAADgesxzQAAAACCu73NAAQAAwB49f0AAAACAFCp/QAAAAAAACIJAAAAAwB4Tg0AAAADgo8SFQA==",
          "dtype": "f8"
         }
        }
       ],
       "layout": {
        "font": {
         "color": "white"
        },
        "paper_bgcolor": "black",
        "plot_bgcolor": "black",
        "template": {
         "data": {
          "bar": [
           {
            "error_x": {
             "color": "#2a3f5f"
            },
            "error_y": {
             "color": "#2a3f5f"
            },
            "marker": {
             "line": {
              "color": "#E5ECF6",
              "width": 0.5
             },
             "pattern": {
              "fillmode": "overlay",
              "size": 10,
              "solidity": 0.2
             }
            },
            "type": "bar"
           }
          ],
          "barpolar": [
           {
            "marker": {
             "line": {
              "color": "#E5ECF6",
              "width": 0.5
             },
             "pattern": {
              "fillmode": "overlay",
              "size": 10,
              "solidity": 0.2
             }
            },
            "type": "barpolar"
           }
          ],
          "carpet": [
           {
            "aaxis": {
             "endlinecolor": "#2a3f5f",
             "gridcolor": "white",
             "linecolor": "white",
             "minorgridcolor": "white",
             "startlinecolor": "#2a3f5f"
            },
            "baxis": {
             "endlinecolor": "#2a3f5f",
             "gridcolor": "white",
             "linecolor": "white",
             "minorgridcolor": "white",
             "startlinecolor": "#2a3f5f"
            },
            "type": "carpet"
           }
          ],
          "choropleth": [
           {
            "colorbar": {
             "outlinewidth": 0,
             "ticks": ""
            },
            "type": "choropleth"
           }
          ],
          "contour": [
           {
            "colorbar": {
             "outlinewidth": 0,
             "ticks": ""
            },
            "colorscale": [
             [
              0,
              "#0d0887"
             ],
             [
              0.1111111111111111,
              "#46039f"
             ],
             [
              0.2222222222222222,
              "#7201a8"
             ],
             [
              0.3333333333333333,
              "#9c179e"
             ],
             [
              0.4444444444444444,
              "#bd3786"
             ],
             [
              0.5555555555555556,
              "#d8576b"
             ],
             [
              0.6666666666666666,
              "#ed7953"
             ],
             [
              0.7777777777777778,
              "#fb9f3a"
             ],
             [
              0.8888888888888888,
              "#fdca26"
             ],
             [
              1,
              "#f0f921"
             ]
            ],
            "type": "contour"
           }
          ],
          "contourcarpet": [
           {
            "colorbar": {
             "outlinewidth": 0,
             "ticks": ""
            },
            "type": "contourcarpet"
           }
          ],
          "heatmap": [
           {
            "colorbar": {
             "outlinewidth": 0,
             "ticks": ""
            },
            "colorscale": [
             [
              0,
              "#0d0887"
             ],
             [
              0.1111111111111111,
              "#46039f"
             ],
             [
              0.2222222222222222,
              "#7201a8"
             ],
             [
              0.3333333333333333,
              "#9c179e"
             ],
             [
              0.4444444444444444,
              "#bd3786"
             ],
             [
              0.5555555555555556,
              "#d8576b"
             ],
             [
              0.6666666666666666,
              "#ed7953"
             ],
             [
              0.7777777777777778,
              "#fb9f3a"
             ],
             [
              0.8888888888888888,
              "#fdca26"
             ],
             [
              1,
              "#f0f921"
             ]
            ],
            "type": "heatmap"
           }
          ],
          "histogram": [
           {
            "marker": {
             "pattern": {
              "fillmode": "overlay",
              "size": 10,
              "solidity": 0.2
             }
            },
            "type": "histogram"
           }
          ],
          "histogram2d": [
           {
            "colorbar": {
             "outlinewidth": 0,
             "ticks": ""
            },
            "colorscale": [
             [
              0,
              "#0d0887"
             ],
             [
              0.1111111111111111,
              "#46039f"
             ],
             [
              0.2222222222222222,
              "#7201a8"
             ],
             [
              0.3333333333333333,
              "#9c179e"
             ],
             [
              0.4444444444444444,
              "#bd3786"
             ],
             [
              0.5555555555555556,
              "#d8576b"
             ],
             [
              0.6666666666666666,
              "#ed7953"
             ],
             [
              0.7777777777777778,
              "#fb9f3a"
             ],
             [
              0.8888888888888888,
              "#fdca26"
             ],
             [
              1,
              "#f0f921"
             ]
            ],
            "type": "histogram2d"
           }
          ],
          "histogram2dcontour": [
           {
            "colorbar": {
             "outlinewidth": 0,
             "ticks": ""
            },
            "colorscale": [
             [
              0,
              "#0d0887"
             ],
             [
              0.1111111111111111,
              "#46039f"
             ],
             [
              0.2222222222222222,
              "#7201a8"
             ],
             [
              0.3333333333333333,
              "#9c179e"
             ],
             [
              0.4444444444444444,
              "#bd3786"
             ],
             [
              0.5555555555555556,
              "#d8576b"
             ],
             [
              0.6666666666666666,
              "#ed7953"
             ],
             [
              0.7777777777777778,
              "#fb9f3a"
             ],
             [
              0.8888888888888888,
              "#fdca26"
             ],
             [
              1,
              "#f0f921"
             ]
            ],
            "type": "histogram2dcontour"
           }
          ],
          "mesh3d": [
           {
            "colorbar": {
             "outlinewidth": 0,
             "ticks": ""
            },
            "type": "mesh3d"
           }
          ],
          "parcoords": [
           {
            "line": {
             "colorbar": {
              "outlinewidth": 0,
              "ticks": ""
             }
            },
            "type": "parcoords"
           }
          ],
          "pie": [
           {
            "automargin": true,
            "type": "pie"
           }
          ],
          "scatter": [
           {
            "fillpattern": {
             "fillmode": "overlay",
             "size": 10,
             "solidity": 0.2
            },
            "type": "scatter"
           }
          ],
          "scatter3d": [
           {
            "line": {
             "colorbar": {
              "outlinewidth": 0,
              "ticks": ""
             }
            },
            "marker": {
             "colorbar": {
              "outlinewidth": 0,
              "ticks": ""
             }
            },
            "type": "scatter3d"
           }
          ],
          "scattercarpet": [
           {
            "marker": {
             "colorbar": {
              "outlinewidth": 0,
              "ticks": ""
             }
            },
            "type": "scattercarpet"
           }
          ],
          "scattergeo": [
           {
            "marker": {
             "colorbar": {
              "outlinewidth": 0,
              "ticks": ""
             }
            },
            "type": "scattergeo"
           }
          ],
          "scattergl": [
           {
            "marker": {
             "colorbar": {
              "outlinewidth": 0,
              "ticks": ""
             }
            },
            "type": "scattergl"
           }
          ],
          "scattermap": [
           {
            "marker": {
             "colorbar": {
              "outlinewidth": 0,
              "ticks": ""
             }
            },
            "type": "scattermap"
           }
          ],
          "scattermapbox": [
           {
            "marker": {
             "colorbar": {
              "outlinewidth": 0,
              "ticks": ""
             }
            },
            "type": "scattermapbox"
           }
          ],
          "scatterpolar": [
           {
            "marker": {
             "colorbar": {
              "outlinewidth": 0,
              "ticks": ""
             }
            },
            "type": "scatterpolar"
           }
          ],
          "scatterpolargl": [
           {
            "marker": {
             "colorbar": {
              "outlinewidth": 0,
              "ticks": ""
             }
            },
            "type": "scatterpolargl"
           }
          ],
          "scatterternary": [
           {
            "marker": {
             "colorbar": {
              "outlinewidth": 0,
              "ticks": ""
             }
            },
            "type": "scatterternary"
           }
          ],
          "surface": [
           {
            "colorbar": {
             "outlinewidth": 0,
             "ticks": ""
            },
            "colorscale": [
             [
              0,
              "#0d0887"
             ],
             [
              0.1111111111111111,
              "#46039f"
             ],
             [
              0.2222222222222222,
              "#7201a8"
             ],
             [
              0.3333333333333333,
              "#9c179e"
             ],
             [
              0.4444444444444444,
              "#bd3786"
             ],
             [
              0.5555555555555556,
              "#d8576b"
             ],
             [
              0.6666666666666666,
              "#ed7953"
             ],
             [
              0.7777777777777778,
              "#fb9f3a"
             ],
             [
              0.8888888888888888,
              "#fdca26"
             ],
             [
              1,
              "#f0f921"
             ]
            ],
            "type": "surface"
           }
          ],
          "table": [
           {
            "cells": {
             "fill": {
              "color": "#EBF0F8"
             },
             "line": {
              "color": "white"
             }
            },
            "header": {
             "fill": {
              "color": "#C8D4E3"
             },
             "line": {
              "color": "white"
             }
            },
            "type": "table"
           }
          ]
         },
         "layout": {
          "annotationdefaults": {
           "arrowcolor": "#2a3f5f",
           "arrowhead": 0,
           "arrowwidth": 1
          },
          "autotypenumbers": "strict",
          "coloraxis": {
           "colorbar": {
            "outlinewidth": 0,
            "ticks": ""
           }
          },
          "colorscale": {
           "diverging": [
            [
             0,
             "#8e0152"
            ],
            [
             0.1,
             "#c51b7d"
            ],
            [
             0.2,
             "#de77ae"
            ],
            [
             0.3,
             "#f1b6da"
            ],
            [
             0.4,
             "#fde0ef"
            ],
            [
             0.5,
             "#f7f7f7"
            ],
            [
             0.6,
             "#e6f5d0"
            ],
            [
             0.7,
             "#b8e186"
            ],
            [
             0.8,
             "#7fbc41"
            ],
            [
             0.9,
             "#4d9221"
            ],
            [
             1,
             "#276419"
            ]
           ],
           "sequential": [
            [
             0,
             "#0d0887"
            ],
            [
             0.1111111111111111,
             "#46039f"
            ],
            [
             0.2222222222222222,
             "#7201a8"
            ],
            [
             0.3333333333333333,
             "#9c179e"
            ],
            [
             0.4444444444444444,
             "#bd3786"
            ],
            [
             0.5555555555555556,
             "#d8576b"
            ],
            [
             0.6666666666666666,
             "#ed7953"
            ],
            [
             0.7777777777777778,
             "#fb9f3a"
            ],
            [
             0.8888888888888888,
             "#fdca26"
            ],
            [
             1,
             "#f0f921"
            ]
           ],
           "sequentialminus": [
            [
             0,
             "#0d0887"
            ],
            [
             0.1111111111111111,
             "#46039f"
            ],
            [
             0.2222222222222222,
             "#7201a8"
            ],
            [
             0.3333333333333333,
             "#9c179e"
            ],
            [
             0.4444444444444444,
             "#bd3786"
            ],
            [
             0.5555555555555556,
             "#d8576b"
            ],
            [
             0.6666666666666666,
             "#ed7953"
            ],
            [
             0.7777777777777778,
             "#fb9f3a"
            ],
            [
             0.8888888888888888,
             "#fdca26"
            ],
            [
             1,
             "#f0f921"
            ]
           ]
          },
          "colorway": [
           "#636efa",
           "#EF553B",
           "#00cc96",
           "#ab63fa",
           "#FFA15A",
           "#19d3f3",
           "#FF6692",
           "#B6E880",
           "#FF97FF",
           "#FECB52"
          ],
          "font": {
           "color": "#2a3f5f"
          },
          "geo": {
           "bgcolor": "white",
           "lakecolor": "white",
           "landcolor": "#E5ECF6",
           "showlakes": true,
           "showland": true,
           "subunitcolor": "white"
          },
          "hoverlabel": {
           "align": "left"
          },
          "hovermode": "closest",
          "mapbox": {
           "style": "light"
          },
          "paper_bgcolor": "white",
          "plot_bgcolor": "#E5ECF6",
          "polar": {
           "angularaxis": {
            "gridcolor": "white",
            "linecolor": "white",
            "ticks": ""
           },
           "bgcolor": "#E5ECF6",
           "radialaxis": {
            "gridcolor": "white",
            "linecolor": "white",
            "ticks": ""
           }
          },
          "scene": {
           "xaxis": {
            "backgroundcolor": "#E5ECF6",
            "gridcolor": "white",
            "gridwidth": 2,
            "linecolor": "white",
            "showbackground": true,
            "ticks": "",
            "zerolinecolor": "white"
           },
           "yaxis": {
            "backgroundcolor": "#E5ECF6",
            "gridcolor": "white",
            "gridwidth": 2,
            "linecolor": "white",
            "showbackground": true,
            "ticks": "",
            "zerolinecolor": "white"
           },
           "zaxis": {
            "backgroundcolor": "#E5ECF6",
            "gridcolor": "white",
            "gridwidth": 2,
            "linecolor": "white",
            "showbackground": true,
            "ticks": "",
            "zerolinecolor": "white"
           }
          },
          "shapedefaults": {
           "line": {
            "color": "#2a3f5f"
           }
          },
          "ternary": {
           "aaxis": {
            "gridcolor": "white",
            "linecolor": "white",
            "ticks": ""
           },
           "baxis": {
            "gridcolor": "white",
            "linecolor": "white",
            "ticks": ""
           },
           "bgcolor": "#E5ECF6",
           "caxis": {
            "gridcolor": "white",
            "linecolor": "white",
            "ticks": ""
           }
          },
          "title": {
           "x": 0.05
          },
          "xaxis": {
           "automargin": true,
           "gridcolor": "white",
           "linecolor": "white",
           "ticks": "",
           "title": {
            "standoff": 15
           },
           "zerolinecolor": "white",
           "zerolinewidth": 2
          },
          "yaxis": {
           "automargin": true,
           "gridcolor": "white",
           "linecolor": "white",
           "ticks": "",
           "title": {
            "standoff": 15
           },
           "zerolinecolor": "white",
           "zerolinewidth": 2
          }
         }
        },
        "title": {
         "text": "Candlestick Chart with Buy and Sell Signal Changes"
        },
        "xaxis": {
         "rangeslider": {
          "visible": false
         },
         "showgrid": false,
         "title": {
          "text": "Date"
         }
        },
        "yaxis": {
         "showgrid": false,
         "title": {
          "text": "Price"
         }
        }
       }
      }
     },
     "metadata": {},
     "output_type": "display_data"
    }
   ],
   "source": [
    "import plotly.graph_objects as go\n",
    "import pandas as pd\n",
    "\n",
    "# Assuming merged_data is your DataFrame\n",
    "# Ensure the required columns exist in merged_data\n",
    "# Columns: 'Open', 'High', 'Low', 'Close', 'target'\n",
    "\n",
    "# Identify signal changes\n",
    "merged_data['signal_change'] = merged_data['target'].diff().fillna(0)  # Detect changes in the target column\n",
    "\n",
    "# Filter rows where signal changes occur\n",
    "signal_changes = merged_data[merged_data['signal_change'] != 0]\n",
    "\n",
    "# Separate buy and sell signals\n",
    "buy_signals = signal_changes[signal_changes['target'] == 1]  # Buy signals (target changes to 1)\n",
    "sell_signals = signal_changes[signal_changes['target'] == 0]  # Sell signals (target changes to 0)\n",
    "\n",
    "# Create the candlestick chart\n",
    "fig = go.Figure(data=[go.Candlestick(\n",
    "    x=merged_data.index,  # Use the index as the x-axis (Date)\n",
    "    open=merged_data['Open'],  # Opening prices\n",
    "    high=merged_data['High'],  # High prices\n",
    "    low=merged_data['Low'],  # Low prices\n",
    "    close=merged_data['Close'],  # Closing prices\n",
    "    increasing_line_color='lime',  # Bright green for increasing candles\n",
    "    decreasing_line_color='red',  # Bright red for decreasing candles\n",
    "    increasing_fillcolor='lime',  # Fill color for increasing candles\n",
    "    decreasing_fillcolor='red',  # Fill color for decreasing candles\n",
    "    line_width=1.5  # Make the candles thicker\n",
    ")])\n",
    "\n",
    "# Add scatter points for buy signals\n",
    "fig.add_trace(go.Scatter(\n",
    "    x=buy_signals.index,  # Use the index of buy signals\n",
    "    y=buy_signals['Open'],  # Plot buy signals at the Open price\n",
    "    mode='markers',  # Use markers to represent the signals\n",
    "    name='Buy Signal',  # Legend name for buy signals\n",
    "    marker=dict(\n",
    "        size=12,  # Larger marker size\n",
    "        color='yellow',  # Bright green for buy signals\n",
    "        symbol='triangle-up'  # Marker shape for buy signals\n",
    "    )\n",
    "))\n",
    "\n",
    "# Add scatter points for sell signals\n",
    "fig.add_trace(go.Scatter(\n",
    "    x=sell_signals.index,  # Use the index of sell signals\n",
    "    y=sell_signals['Open'],  # Plot sell signals at the Open price\n",
    "    mode='markers',  # Use markers to represent the signals\n",
    "    name='Sell Signal',  # Legend name for sell signals\n",
    "    marker=dict(\n",
    "        size=12,  # Larger marker size\n",
    "        color='yellow',  # Bright red for sell signals\n",
    "        symbol='triangle-down'  # Marker shape for sell signals\n",
    "    )\n",
    "))\n",
    "\n",
    "# Customize the layout for better visuals\n",
    "fig.update_layout(\n",
    "    title='Candlestick Chart with Buy and Sell Signal Changes',\n",
    "    xaxis_title='Date',\n",
    "    yaxis_title='Price',\n",
    "    xaxis_rangeslider_visible=False,  # Hide the range slider (optional)\n",
    "    plot_bgcolor='black',  # Set the background color to black\n",
    "    paper_bgcolor='black',  # Set the outer background color to black\n",
    "    font=dict(color='white'),  # Set font color to white for better contrast\n",
    "    xaxis=dict(showgrid=False),  # Remove gridlines on the x-axis\n",
    "    yaxis=dict(showgrid=False)  # Remove gridlines on the y-axis\n",
    ")\n",
    "\n",
    "# Show the chart\n",
    "fig.show()\n"
   ]
  },
  {
   "cell_type": "code",
   "execution_count": 23,
   "id": "a1789621",
   "metadata": {},
   "outputs": [
    {
     "data": {
      "text/plain": [
       "array([0, 0, 0, 0, 0, 0, 0, 0, 0, 0, 0, 0, 0, 0, 0, 0, 0, 0, 0, 0, 0, 0,\n",
       "       0, 1, 1, 1, 1, 1, 1, 1, 1, 1, 1, 1, 0, 0, 0, 0, 0, 0, 0, 0, 0, 0,\n",
       "       0, 0, 0, 0, 0, 0, 0, 0, 0, 0, 0, 0, 0, 0, 0, 0, 0, 0, 0, 0, 0, 0,\n",
       "       0, 0, 0, 0, 0, 0, 0, 0, 0, 0, 0, 0, 0, 0, 0, 0, 0, 0, 0, 0, 0, 0,\n",
       "       0, 0, 0, 0, 0, 0, 0, 0, 0, 0, 0, 0, 0, 1, 0, 0, 0, 0, 0, 0, 0, 0,\n",
       "       0, 0, 0, 0, 0, 1, 1, 1, 1, 1, 1, 1, 0, 0, 0, 0, 0, 0, 0, 0, 0, 0,\n",
       "       0, 0, 0, 0, 0, 0, 0, 0, 0, 0, 0, 0, 0, 0, 0, 0, 0, 0, 0, 0, 0, 0,\n",
       "       0, 0, 0, 0, 0, 0, 0, 0, 0, 0, 0, 0, 0, 0, 0, 0, 0, 0, 0, 0, 0, 0,\n",
       "       0, 0, 0, 0, 0, 0, 0, 0, 0, 0, 0, 0, 0, 0, 0, 0, 0, 0, 0, 1, 1, 0,\n",
       "       1, 1, 1, 0, 1, 1, 0, 0, 0, 1, 1, 0, 0, 0, 1, 1, 0, 0, 1, 1, 1, 1,\n",
       "       1, 1, 1, 1, 1, 1, 1, 1, 1, 1, 1, 1, 1, 1, 1, 1, 1, 1, 1, 1, 1, 1,\n",
       "       1, 1, 1, 1, 1, 1, 1, 1, 1, 1, 1, 1, 1, 1, 1, 1, 1, 1, 1, 1, 1, 1,\n",
       "       1, 1, 1, 1, 1, 1, 1, 1, 1, 1, 1, 1, 1, 1, 1, 1, 1, 1, 1, 1, 1, 1,\n",
       "       1, 1, 1, 1, 1, 1, 1, 1, 1, 1, 1, 1, 1, 1, 1, 1, 1, 1, 1, 1, 1, 1,\n",
       "       1, 1, 1, 1, 1, 1, 1, 1, 1, 1, 1, 1, 1, 1, 1, 1, 1, 1, 1, 1, 1, 1,\n",
       "       1, 1, 1, 1, 1, 1, 1, 1, 1, 1, 1, 1, 1, 1, 1, 1, 1, 1, 1, 1, 1, 1,\n",
       "       1, 1, 1, 1, 1, 1, 1, 1, 1, 1, 1, 1, 1, 1, 1, 0, 1, 1, 0, 0, 0, 0,\n",
       "       0, 0, 0, 0, 0, 0, 0, 0, 0, 0, 1, 0, 0, 1, 1, 1, 1, 1, 1, 1, 1, 1,\n",
       "       1, 1, 1, 1, 1, 1, 1, 1, 1, 1, 1, 1, 1, 1, 1, 1, 1, 1, 1, 1, 1, 1,\n",
       "       1, 0, 0, 0, 0, 0, 0, 0, 1, 1, 1, 1, 1, 1, 1, 1, 1, 1, 1, 1, 1, 1,\n",
       "       1, 1, 1, 1, 1, 1, 1, 0, 0, 1, 1, 1, 1, 1, 1, 1, 1, 1, 1, 1, 1, 1,\n",
       "       1, 1, 1, 1, 1, 1, 1, 1, 1, 1, 1, 1, 1, 1, 1, 1, 1, 1, 1, 1, 1, 1,\n",
       "       1, 1, 1, 1, 1, 1, 1, 1, 1, 1, 1, 1, 1, 1, 1, 1, 1, 1, 1, 1, 1, 1,\n",
       "       1, 1, 1, 1, 1, 1, 1, 1, 1, 1, 1, 1, 1, 1, 1, 1, 1, 1, 1, 1, 1, 1,\n",
       "       1, 1, 1, 1, 1, 1, 1, 1, 1, 1, 1, 1, 1, 0, 0, 0, 0, 0, 0, 0, 0, 0,\n",
       "       0, 0, 0, 0, 0, 1, 1, 1, 1, 1, 1, 1, 1, 1, 1, 1, 1, 1, 1, 1, 1, 1,\n",
       "       1, 1, 1, 1, 1, 1, 1, 1, 1, 1, 1, 1, 1, 1, 1, 1, 1, 1, 1, 1, 1, 1,\n",
       "       1, 1, 1, 1, 1, 1, 0, 0, 0, 0, 0, 0, 0, 0, 0, 0, 0, 0, 1, 1, 1, 1,\n",
       "       1, 1, 1, 1, 1, 1, 1, 1, 1, 1, 1, 1, 1, 1, 1, 1, 1, 1, 1, 1, 1, 1,\n",
       "       1, 1, 1, 1, 1, 1, 1, 1, 1, 1, 1, 1, 1, 1, 1, 1, 1, 1, 1, 1, 1, 1,\n",
       "       1, 1, 1, 1, 1, 1, 1, 1, 1, 1, 1, 1, 1, 1, 1, 1, 1, 1, 1, 1, 1, 1,\n",
       "       1, 1, 1, 1, 1, 1, 1, 1, 1, 1, 1, 1, 1, 1, 1, 1, 1, 1, 1, 1, 1, 1,\n",
       "       1, 1, 1, 1, 1, 1, 1, 1, 1, 1, 1, 1, 1, 1, 1, 1, 1, 1, 1, 1, 1, 1,\n",
       "       1, 1, 1, 1, 1, 1, 1, 1, 1, 1, 1, 1, 1, 1, 1, 1, 1, 1, 1, 1, 1, 1,\n",
       "       1, 1, 1, 1, 1, 1, 0])"
      ]
     },
     "execution_count": 23,
     "metadata": {},
     "output_type": "execute_result"
    }
   ],
   "source": [
    "y_pred_dict['Logistic Regression']"
   ]
  },
  {
   "cell_type": "code",
   "execution_count": 25,
   "id": "630a55f9",
   "metadata": {},
   "outputs": [],
   "source": [
    "\n",
    "y_pred_aligned = pd.Series(y_pred_dict['Logistic Regression'], index=X_test.index, name='target')\n",
    "merged_data = pd.concat([X_test, y_pred_aligned], axis=1)"
   ]
  },
  {
   "cell_type": "code",
   "execution_count": 29,
   "id": "3d0b422a",
   "metadata": {},
   "outputs": [
    {
     "data": {
      "application/vnd.plotly.v1+json": {
       "config": {
        "plotlyServerURL": "https://plot.ly"
       },
       "data": [
        {
         "close": {
          "bdata": "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",
          "dtype": "f8"
         },
         "decreasing": {
          "fillcolor": "red",
          "line": {
           "color": "red"
          }
         },
         "high": {
          "bdata": "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",
          "dtype": "f8"
         },
         "increasing": {
          "fillcolor": "lime",
          "line": {
           "color": "lime"
          }
         },
         "line": {
          "width": 1.5
         },
         "low": {
          "bdata": "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",
          "dtype": "f8"
         },
         "open": {
          "bdata": "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",
          "dtype": "f8"
         },
         "type": "candlestick",
         "x": [
          "2022-02-24T00:00:00.000000000",
          "2022-02-25T00:00:00.000000000",
          "2022-02-28T00:00:00.000000000",
          "2022-03-01T00:00:00.000000000",
          "2022-03-02T00:00:00.000000000",
          "2022-03-03T00:00:00.000000000",
          "2022-03-04T00:00:00.000000000",
          "2022-03-07T00:00:00.000000000",
          "2022-03-08T00:00:00.000000000",
          "2022-03-09T00:00:00.000000000",
          "2022-03-10T00:00:00.000000000",
          "2022-03-11T00:00:00.000000000",
          "2022-03-14T00:00:00.000000000",
          "2022-03-15T00:00:00.000000000",
          "2022-03-16T00:00:00.000000000",
          "2022-03-17T00:00:00.000000000",
          "2022-03-18T00:00:00.000000000",
          "2022-03-21T00:00:00.000000000",
          "2022-03-22T00:00:00.000000000",
          "2022-03-23T00:00:00.000000000",
          "2022-03-24T00:00:00.000000000",
          "2022-03-25T00:00:00.000000000",
          "2022-03-28T00:00:00.000000000",
          "2022-03-29T00:00:00.000000000",
          "2022-03-30T00:00:00.000000000",
          "2022-03-31T00:00:00.000000000",
          "2022-04-01T00:00:00.000000000",
          "2022-04-04T00:00:00.000000000",
          "2022-04-05T00:00:00.000000000",
          "2022-04-06T00:00:00.000000000",
          "2022-04-07T00:00:00.000000000",
          "2022-04-08T00:00:00.000000000",
          "2022-04-11T00:00:00.000000000",
          "2022-04-12T00:00:00.000000000",
          "2022-04-13T00:00:00.000000000",
          "2022-04-14T00:00:00.000000000",
          "2022-04-18T00:00:00.000000000",
          "2022-04-19T00:00:00.000000000",
          "2022-04-20T00:00:00.000000000",
          "2022-04-21T00:00:00.000000000",
          "2022-04-22T00:00:00.000000000",
          "2022-04-25T00:00:00.000000000",
          "2022-04-26T00:00:00.000000000",
          "2022-04-27T00:00:00.000000000",
          "2022-04-28T00:00:00.000000000",
          "2022-04-29T00:00:00.000000000",
          "2022-05-02T00:00:00.000000000",
          "2022-05-03T00:00:00.000000000",
          "2022-05-04T00:00:00.000000000",
          "2022-05-05T00:00:00.000000000",
          "2022-05-06T00:00:00.000000000",
          "2022-05-09T00:00:00.000000000",
          "2022-05-10T00:00:00.000000000",
          "2022-05-11T00:00:00.000000000",
          "2022-05-12T00:00:00.000000000",
          "2022-05-13T00:00:00.000000000",
          "2022-05-16T00:00:00.000000000",
          "2022-05-17T00:00:00.000000000",
          "2022-05-18T00:00:00.000000000",
          "2022-05-19T00:00:00.000000000",
          "2022-05-20T00:00:00.000000000",
          "2022-05-23T00:00:00.000000000",
          "2022-05-24T00:00:00.000000000",
          "2022-05-25T00:00:00.000000000",
          "2022-05-26T00:00:00.000000000",
          "2022-05-27T00:00:00.000000000",
          "2022-05-31T00:00:00.000000000",
          "2022-06-01T00:00:00.000000000",
          "2022-06-02T00:00:00.000000000",
          "2022-06-03T00:00:00.000000000",
          "2022-06-06T00:00:00.000000000",
          "2022-06-07T00:00:00.000000000",
          "2022-06-08T00:00:00.000000000",
          "2022-06-09T00:00:00.000000000",
          "2022-06-10T00:00:00.000000000",
          "2022-06-13T00:00:00.000000000",
          "2022-06-14T00:00:00.000000000",
          "2022-06-15T00:00:00.000000000",
          "2022-06-16T00:00:00.000000000",
          "2022-06-17T00:00:00.000000000",
          "2022-06-21T00:00:00.000000000",
          "2022-06-22T00:00:00.000000000",
          "2022-06-23T00:00:00.000000000",
          "2022-06-24T00:00:00.000000000",
          "2022-06-27T00:00:00.000000000",
          "2022-06-28T00:00:00.000000000",
          "2022-06-29T00:00:00.000000000",
          "2022-06-30T00:00:00.000000000",
          "2022-07-01T00:00:00.000000000",
          "2022-07-05T00:00:00.000000000",
          "2022-07-06T00:00:00.000000000",
          "2022-07-07T00:00:00.000000000",
          "2022-07-08T00:00:00.000000000",
          "2022-07-11T00:00:00.000000000",
          "2022-07-12T00:00:00.000000000",
          "2022-07-13T00:00:00.000000000",
          "2022-07-14T00:00:00.000000000",
          "2022-07-15T00:00:00.000000000",
          "2022-07-18T00:00:00.000000000",
          "2022-07-19T00:00:00.000000000",
          "2022-07-20T00:00:00.000000000",
          "2022-07-21T00:00:00.000000000",
          "2022-07-22T00:00:00.000000000",
          "2022-07-25T00:00:00.000000000",
          "2022-07-26T00:00:00.000000000",
          "2022-07-27T00:00:00.000000000",
          "2022-07-28T00:00:00.000000000",
          "2022-07-29T00:00:00.000000000",
          "2022-08-01T00:00:00.000000000",
          "2022-08-02T00:00:00.000000000",
          "2022-08-03T00:00:00.000000000",
          "2022-08-04T00:00:00.000000000",
          "2022-08-05T00:00:00.000000000",
          "2022-08-08T00:00:00.000000000",
          "2022-08-09T00:00:00.000000000",
          "2022-08-10T00:00:00.000000000",
          "2022-08-11T00:00:00.000000000",
          "2022-08-12T00:00:00.000000000",
          "2022-08-15T00:00:00.000000000",
          "2022-08-16T00:00:00.000000000",
          "2022-08-17T00:00:00.000000000",
          "2022-08-18T00:00:00.000000000",
          "2022-08-19T00:00:00.000000000",
          "2022-08-22T00:00:00.000000000",
          "2022-08-23T00:00:00.000000000",
          "2022-08-24T00:00:00.000000000",
          "2022-08-25T00:00:00.000000000",
          "2022-08-26T00:00:00.000000000",
          "2022-08-29T00:00:00.000000000",
          "2022-08-30T00:00:00.000000000",
          "2022-08-31T00:00:00.000000000",
          "2022-09-01T00:00:00.000000000",
          "2022-09-02T00:00:00.000000000",
          "2022-09-06T00:00:00.000000000",
          "2022-09-07T00:00:00.000000000",
          "2022-09-08T00:00:00.000000000",
          "2022-09-09T00:00:00.000000000",
          "2022-09-12T00:00:00.000000000",
          "2022-09-13T00:00:00.000000000",
          "2022-09-14T00:00:00.000000000",
          "2022-09-15T00:00:00.000000000",
          "2022-09-16T00:00:00.000000000",
          "2022-09-19T00:00:00.000000000",
          "2022-09-20T00:00:00.000000000",
          "2022-09-21T00:00:00.000000000",
          "2022-09-22T00:00:00.000000000",
          "2022-09-23T00:00:00.000000000",
          "2022-09-26T00:00:00.000000000",
          "2022-09-27T00:00:00.000000000",
          "2022-09-28T00:00:00.000000000",
          "2022-09-29T00:00:00.000000000",
          "2022-09-30T00:00:00.000000000",
          "2022-10-03T00:00:00.000000000",
          "2022-10-04T00:00:00.000000000",
          "2022-10-05T00:00:00.000000000",
          "2022-10-06T00:00:00.000000000",
          "2022-10-07T00:00:00.000000000",
          "2022-10-10T00:00:00.000000000",
          "2022-10-11T00:00:00.000000000",
          "2022-10-12T00:00:00.000000000",
          "2022-10-13T00:00:00.000000000",
          "2022-10-14T00:00:00.000000000",
          "2022-10-17T00:00:00.000000000",
          "2022-10-18T00:00:00.000000000",
          "2022-10-19T00:00:00.000000000",
          "2022-10-20T00:00:00.000000000",
          "2022-10-21T00:00:00.000000000",
          "2022-10-24T00:00:00.000000000",
          "2022-10-25T00:00:00.000000000",
          "2022-10-26T00:00:00.000000000",
          "2022-10-27T00:00:00.000000000",
          "2022-10-28T00:00:00.000000000",
          "2022-10-31T00:00:00.000000000",
          "2022-11-01T00:00:00.000000000",
          "2022-11-02T00:00:00.000000000",
          "2022-11-03T00:00:00.000000000",
          "2022-11-04T00:00:00.000000000",
          "2022-11-07T00:00:00.000000000",
          "2022-11-08T00:00:00.000000000",
          "2022-11-09T00:00:00.000000000",
          "2022-11-10T00:00:00.000000000",
          "2022-11-11T00:00:00.000000000",
          "2022-11-14T00:00:00.000000000",
          "2022-11-15T00:00:00.000000000",
          "2022-11-16T00:00:00.000000000",
          "2022-11-17T00:00:00.000000000",
          "2022-11-18T00:00:00.000000000",
          "2022-11-21T00:00:00.000000000",
          "2022-11-22T00:00:00.000000000",
          "2022-11-23T00:00:00.000000000",
          "2022-11-25T00:00:00.000000000",
          "2022-11-28T00:00:00.000000000",
          "2022-11-29T00:00:00.000000000",
          "2022-11-30T00:00:00.000000000",
          "2022-12-01T00:00:00.000000000",
          "2022-12-02T00:00:00.000000000",
          "2022-12-05T00:00:00.000000000",
          "2022-12-06T00:00:00.000000000",
          "2022-12-07T00:00:00.000000000",
          "2022-12-08T00:00:00.000000000",
          "2022-12-09T00:00:00.000000000",
          "2022-12-12T00:00:00.000000000",
          "2022-12-13T00:00:00.000000000",
          "2022-12-14T00:00:00.000000000",
          "2022-12-15T00:00:00.000000000",
          "2022-12-16T00:00:00.000000000",
          "2022-12-19T00:00:00.000000000",
          "2022-12-20T00:00:00.000000000",
          "2022-12-21T00:00:00.000000000",
          "2022-12-22T00:00:00.000000000",
          "2022-12-23T00:00:00.000000000",
          "2022-12-27T00:00:00.000000000",
          "2022-12-28T00:00:00.000000000",
          "2022-12-29T00:00:00.000000000",
          "2022-12-30T00:00:00.000000000",
          "2023-01-03T00:00:00.000000000",
          "2023-01-04T00:00:00.000000000",
          "2023-01-05T00:00:00.000000000",
          "2023-01-06T00:00:00.000000000",
          "2023-01-09T00:00:00.000000000",
          "2023-01-10T00:00:00.000000000",
          "2023-01-11T00:00:00.000000000",
          "2023-01-12T00:00:00.000000000",
          "2023-01-13T00:00:00.000000000",
          "2023-01-17T00:00:00.000000000",
          "2023-01-18T00:00:00.000000000",
          "2023-01-19T00:00:00.000000000",
          "2023-01-20T00:00:00.000000000",
          "2023-01-23T00:00:00.000000000",
          "2023-01-24T00:00:00.000000000",
          "2023-01-25T00:00:00.000000000",
          "2023-01-26T00:00:00.000000000",
          "2023-01-27T00:00:00.000000000",
          "2023-01-30T00:00:00.000000000",
          "2023-01-31T00:00:00.000000000",
          "2023-02-01T00:00:00.000000000",
          "2023-02-02T00:00:00.000000000",
          "2023-02-03T00:00:00.000000000",
          "2023-02-06T00:00:00.000000000",
          "2023-02-07T00:00:00.000000000",
          "2023-02-08T00:00:00.000000000",
          "2023-02-09T00:00:00.000000000",
          "2023-02-10T00:00:00.000000000",
          "2023-02-13T00:00:00.000000000",
          "2023-02-14T00:00:00.000000000",
          "2023-02-15T00:00:00.000000000",
          "2023-02-16T00:00:00.000000000",
          "2023-02-17T00:00:00.000000000",
          "2023-02-21T00:00:00.000000000",
          "2023-02-22T00:00:00.000000000",
          "2023-02-23T00:00:00.000000000",
          "2023-02-24T00:00:00.000000000",
          "2023-02-27T00:00:00.000000000",
          "2023-02-28T00:00:00.000000000",
          "2023-03-01T00:00:00.000000000",
          "2023-03-02T00:00:00.000000000",
          "2023-03-03T00:00:00.000000000",
          "2023-03-06T00:00:00.000000000",
          "2023-03-07T00:00:00.000000000",
          "2023-03-08T00:00:00.000000000",
          "2023-03-09T00:00:00.000000000",
          "2023-03-10T00:00:00.000000000",
          "2023-03-13T00:00:00.000000000",
          "2023-03-14T00:00:00.000000000",
          "2023-03-15T00:00:00.000000000",
          "2023-03-16T00:00:00.000000000",
          "2023-03-17T00:00:00.000000000",
          "2023-03-20T00:00:00.000000000",
          "2023-03-21T00:00:00.000000000",
          "2023-03-22T00:00:00.000000000",
          "2023-03-23T00:00:00.000000000",
          "2023-03-24T00:00:00.000000000",
          "2023-03-27T00:00:00.000000000",
          "2023-03-28T00:00:00.000000000",
          "2023-03-29T00:00:00.000000000",
          "2023-03-30T00:00:00.000000000",
          "2023-03-31T00:00:00.000000000",
          "2023-04-03T00:00:00.000000000",
          "2023-04-04T00:00:00.000000000",
          "2023-04-05T00:00:00.000000000",
          "2023-04-06T00:00:00.000000000",
          "2023-04-10T00:00:00.000000000",
          "2023-04-11T00:00:00.000000000",
          "2023-04-12T00:00:00.000000000",
          "2023-04-13T00:00:00.000000000",
          "2023-04-14T00:00:00.000000000",
          "2023-04-17T00:00:00.000000000",
          "2023-04-18T00:00:00.000000000",
          "2023-04-19T00:00:00.000000000",
          "2023-04-20T00:00:00.000000000",
          "2023-04-21T00:00:00.000000000",
          "2023-04-24T00:00:00.000000000",
          "2023-04-25T00:00:00.000000000",
          "2023-04-26T00:00:00.000000000",
          "2023-04-27T00:00:00.000000000",
          "2023-04-28T00:00:00.000000000",
          "2023-05-01T00:00:00.000000000",
          "2023-05-02T00:00:00.000000000",
          "2023-05-03T00:00:00.000000000",
          "2023-05-04T00:00:00.000000000",
          "2023-05-05T00:00:00.000000000",
          "2023-05-08T00:00:00.000000000",
          "2023-05-09T00:00:00.000000000",
          "2023-05-10T00:00:00.000000000",
          "2023-05-11T00:00:00.000000000",
          "2023-05-12T00:00:00.000000000",
          "2023-05-15T00:00:00.000000000",
          "2023-05-16T00:00:00.000000000",
          "2023-05-17T00:00:00.000000000",
          "2023-05-18T00:00:00.000000000",
          "2023-05-19T00:00:00.000000000",
          "2023-05-22T00:00:00.000000000",
          "2023-05-23T00:00:00.000000000",
          "2023-05-24T00:00:00.000000000",
          "2023-05-25T00:00:00.000000000",
          "2023-05-26T00:00:00.000000000",
          "2023-05-30T00:00:00.000000000",
          "2023-05-31T00:00:00.000000000",
          "2023-06-01T00:00:00.000000000",
          "2023-06-02T00:00:00.000000000",
          "2023-06-05T00:00:00.000000000",
          "2023-06-06T00:00:00.000000000",
          "2023-06-07T00:00:00.000000000",
          "2023-06-08T00:00:00.000000000",
          "2023-06-09T00:00:00.000000000",
          "2023-06-12T00:00:00.000000000",
          "2023-06-13T00:00:00.000000000",
          "2023-06-14T00:00:00.000000000",
          "2023-06-15T00:00:00.000000000",
          "2023-06-16T00:00:00.000000000",
          "2023-06-20T00:00:00.000000000",
          "2023-06-21T00:00:00.000000000",
          "2023-06-22T00:00:00.000000000",
          "2023-06-23T00:00:00.000000000",
          "2023-06-26T00:00:00.000000000",
          "2023-06-27T00:00:00.000000000",
          "2023-06-28T00:00:00.000000000",
          "2023-06-29T00:00:00.000000000",
          "2023-06-30T00:00:00.000000000",
          "2023-07-03T00:00:00.000000000",
          "2023-07-05T00:00:00.000000000",
          "2023-07-06T00:00:00.000000000",
          "2023-07-07T00:00:00.000000000",
          "2023-07-10T00:00:00.000000000",
          "2023-07-11T00:00:00.000000000",
          "2023-07-12T00:00:00.000000000",
          "2023-07-13T00:00:00.000000000",
          "2023-07-14T00:00:00.000000000",
          "2023-07-17T00:00:00.000000000",
          "2023-07-18T00:00:00.000000000",
          "2023-07-19T00:00:00.000000000",
          "2023-07-20T00:00:00.000000000",
          "2023-07-21T00:00:00.000000000",
          "2023-07-24T00:00:00.000000000",
          "2023-07-25T00:00:00.000000000",
          "2023-07-26T00:00:00.000000000",
          "2023-07-27T00:00:00.000000000",
          "2023-07-28T00:00:00.000000000",
          "2023-07-31T00:00:00.000000000",
          "2023-08-01T00:00:00.000000000",
          "2023-08-02T00:00:00.000000000",
          "2023-08-03T00:00:00.000000000",
          "2023-08-04T00:00:00.000000000",
          "2023-08-07T00:00:00.000000000",
          "2023-08-08T00:00:00.000000000",
          "2023-08-09T00:00:00.000000000",
          "2023-08-10T00:00:00.000000000",
          "2023-08-11T00:00:00.000000000",
          "2023-08-14T00:00:00.000000000",
          "2023-08-15T00:00:00.000000000",
          "2023-08-16T00:00:00.000000000",
          "2023-08-17T00:00:00.000000000",
          "2023-08-18T00:00:00.000000000",
          "2023-08-21T00:00:00.000000000",
          "2023-08-22T00:00:00.000000000",
          "2023-08-23T00:00:00.000000000",
          "2023-08-24T00:00:00.000000000",
          "2023-08-25T00:00:00.000000000",
          "2023-08-28T00:00:00.000000000",
          "2023-08-29T00:00:00.000000000",
          "2023-08-30T00:00:00.000000000",
          "2023-08-31T00:00:00.000000000",
          "2023-09-01T00:00:00.000000000",
          "2023-09-05T00:00:00.000000000",
          "2023-09-06T00:00:00.000000000",
          "2023-09-07T00:00:00.000000000",
          "2023-09-08T00:00:00.000000000",
          "2023-09-11T00:00:00.000000000",
          "2023-09-12T00:00:00.000000000",
          "2023-09-13T00:00:00.000000000",
          "2023-09-14T00:00:00.000000000",
          "2023-09-15T00:00:00.000000000",
          "2023-09-18T00:00:00.000000000",
          "2023-09-19T00:00:00.000000000",
          "2023-09-20T00:00:00.000000000",
          "2023-09-21T00:00:00.000000000",
          "2023-09-22T00:00:00.000000000",
          "2023-09-25T00:00:00.000000000",
          "2023-09-26T00:00:00.000000000",
          "2023-09-27T00:00:00.000000000",
          "2023-09-28T00:00:00.000000000",
          "2023-09-29T00:00:00.000000000",
          "2023-10-02T00:00:00.000000000",
          "2023-10-03T00:00:00.000000000",
          "2023-10-04T00:00:00.000000000",
          "2023-10-05T00:00:00.000000000",
          "2023-10-06T00:00:00.000000000",
          "2023-10-09T00:00:00.000000000",
          "2023-10-10T00:00:00.000000000",
          "2023-10-11T00:00:00.000000000",
          "2023-10-12T00:00:00.000000000",
          "2023-10-13T00:00:00.000000000",
          "2023-10-16T00:00:00.000000000",
          "2023-10-17T00:00:00.000000000",
          "2023-10-18T00:00:00.000000000",
          "2023-10-19T00:00:00.000000000",
          "2023-10-20T00:00:00.000000000",
          "2023-10-23T00:00:00.000000000",
          "2023-10-24T00:00:00.000000000",
          "2023-10-25T00:00:00.000000000",
          "2023-10-26T00:00:00.000000000",
          "2023-10-27T00:00:00.000000000",
          "2023-10-30T00:00:00.000000000",
          "2023-10-31T00:00:00.000000000",
          "2023-11-01T00:00:00.000000000",
          "2023-11-02T00:00:00.000000000",
          "2023-11-03T00:00:00.000000000",
          "2023-11-06T00:00:00.000000000",
          "2023-11-07T00:00:00.000000000",
          "2023-11-08T00:00:00.000000000",
          "2023-11-09T00:00:00.000000000",
          "2023-11-10T00:00:00.000000000",
          "2023-11-13T00:00:00.000000000",
          "2023-11-14T00:00:00.000000000",
          "2023-11-15T00:00:00.000000000",
          "2023-11-16T00:00:00.000000000",
          "2023-11-17T00:00:00.000000000",
          "2023-11-20T00:00:00.000000000",
          "2023-11-21T00:00:00.000000000",
          "2023-11-22T00:00:00.000000000",
          "2023-11-24T00:00:00.000000000",
          "2023-11-27T00:00:00.000000000",
          "2023-11-28T00:00:00.000000000",
          "2023-11-29T00:00:00.000000000",
          "2023-11-30T00:00:00.000000000",
          "2023-12-01T00:00:00.000000000",
          "2023-12-04T00:00:00.000000000",
          "2023-12-05T00:00:00.000000000",
          "2023-12-06T00:00:00.000000000",
          "2023-12-07T00:00:00.000000000",
          "2023-12-08T00:00:00.000000000",
          "2023-12-11T00:00:00.000000000",
          "2023-12-12T00:00:00.000000000",
          "2023-12-13T00:00:00.000000000",
          "2023-12-14T00:00:00.000000000",
          "2023-12-15T00:00:00.000000000",
          "2023-12-18T00:00:00.000000000",
          "2023-12-19T00:00:00.000000000",
          "2023-12-20T00:00:00.000000000",
          "2023-12-21T00:00:00.000000000",
          "2023-12-22T00:00:00.000000000",
          "2023-12-26T00:00:00.000000000",
          "2023-12-27T00:00:00.000000000",
          "2023-12-28T00:00:00.000000000",
          "2023-12-29T00:00:00.000000000",
          "2024-01-02T00:00:00.000000000",
          "2024-01-03T00:00:00.000000000",
          "2024-01-04T00:00:00.000000000",
          "2024-01-05T00:00:00.000000000",
          "2024-01-08T00:00:00.000000000",
          "2024-01-09T00:00:00.000000000",
          "2024-01-10T00:00:00.000000000",
          "2024-01-11T00:00:00.000000000",
          "2024-01-12T00:00:00.000000000",
          "2024-01-16T00:00:00.000000000",
          "2024-01-17T00:00:00.000000000",
          "2024-01-18T00:00:00.000000000",
          "2024-01-19T00:00:00.000000000",
          "2024-01-22T00:00:00.000000000",
          "2024-01-23T00:00:00.000000000",
          "2024-01-24T00:00:00.000000000",
          "2024-01-25T00:00:00.000000000",
          "2024-01-26T00:00:00.000000000",
          "2024-01-29T00:00:00.000000000",
          "2024-01-30T00:00:00.000000000",
          "2024-01-31T00:00:00.000000000",
          "2024-02-01T00:00:00.000000000",
          "2024-02-02T00:00:00.000000000",
          "2024-02-05T00:00:00.000000000",
          "2024-02-06T00:00:00.000000000",
          "2024-02-07T00:00:00.000000000",
          "2024-02-08T00:00:00.000000000",
          "2024-02-09T00:00:00.000000000",
          "2024-02-12T00:00:00.000000000",
          "2024-02-13T00:00:00.000000000",
          "2024-02-14T00:00:00.000000000",
          "2024-02-15T00:00:00.000000000",
          "2024-02-16T00:00:00.000000000",
          "2024-02-20T00:00:00.000000000",
          "2024-02-21T00:00:00.000000000",
          "2024-02-22T00:00:00.000000000",
          "2024-02-23T00:00:00.000000000",
          "2024-02-26T00:00:00.000000000",
          "2024-02-27T00:00:00.000000000",
          "2024-02-28T00:00:00.000000000",
          "2024-02-29T00:00:00.000000000",
          "2024-03-01T00:00:00.000000000",
          "2024-03-04T00:00:00.000000000",
          "2024-03-05T00:00:00.000000000",
          "2024-03-06T00:00:00.000000000",
          "2024-03-07T00:00:00.000000000",
          "2024-03-08T00:00:00.000000000",
          "2024-03-11T00:00:00.000000000",
          "2024-03-12T00:00:00.000000000",
          "2024-03-13T00:00:00.000000000",
          "2024-03-14T00:00:00.000000000",
          "2024-03-15T00:00:00.000000000",
          "2024-03-18T00:00:00.000000000",
          "2024-03-19T00:00:00.000000000",
          "2024-03-20T00:00:00.000000000",
          "2024-03-21T00:00:00.000000000",
          "2024-03-22T00:00:00.000000000",
          "2024-03-25T00:00:00.000000000",
          "2024-03-26T00:00:00.000000000",
          "2024-03-27T00:00:00.000000000",
          "2024-03-28T00:00:00.000000000",
          "2024-04-01T00:00:00.000000000",
          "2024-04-02T00:00:00.000000000",
          "2024-04-03T00:00:00.000000000",
          "2024-04-04T00:00:00.000000000",
          "2024-04-05T00:00:00.000000000",
          "2024-04-08T00:00:00.000000000",
          "2024-04-09T00:00:00.000000000",
          "2024-04-10T00:00:00.000000000",
          "2024-04-11T00:00:00.000000000",
          "2024-04-12T00:00:00.000000000",
          "2024-04-15T00:00:00.000000000",
          "2024-04-16T00:00:00.000000000",
          "2024-04-17T00:00:00.000000000",
          "2024-04-18T00:00:00.000000000",
          "2024-04-19T00:00:00.000000000",
          "2024-04-22T00:00:00.000000000",
          "2024-04-23T00:00:00.000000000",
          "2024-04-24T00:00:00.000000000",
          "2024-04-25T00:00:00.000000000",
          "2024-04-26T00:00:00.000000000",
          "2024-04-29T00:00:00.000000000",
          "2024-04-30T00:00:00.000000000",
          "2024-05-01T00:00:00.000000000",
          "2024-05-02T00:00:00.000000000",
          "2024-05-03T00:00:00.000000000",
          "2024-05-06T00:00:00.000000000",
          "2024-05-07T00:00:00.000000000",
          "2024-05-08T00:00:00.000000000",
          "2024-05-09T00:00:00.000000000",
          "2024-05-10T00:00:00.000000000",
          "2024-05-13T00:00:00.000000000",
          "2024-05-14T00:00:00.000000000",
          "2024-05-15T00:00:00.000000000",
          "2024-05-16T00:00:00.000000000",
          "2024-05-17T00:00:00.000000000",
          "2024-05-20T00:00:00.000000000",
          "2024-05-21T00:00:00.000000000",
          "2024-05-22T00:00:00.000000000",
          "2024-05-23T00:00:00.000000000",
          "2024-05-24T00:00:00.000000000",
          "2024-05-28T00:00:00.000000000",
          "2024-05-29T00:00:00.000000000",
          "2024-05-30T00:00:00.000000000",
          "2024-05-31T00:00:00.000000000",
          "2024-06-03T00:00:00.000000000",
          "2024-06-04T00:00:00.000000000",
          "2024-06-05T00:00:00.000000000",
          "2024-06-06T00:00:00.000000000",
          "2024-06-07T00:00:00.000000000",
          "2024-06-10T00:00:00.000000000",
          "2024-06-11T00:00:00.000000000",
          "2024-06-12T00:00:00.000000000",
          "2024-06-13T00:00:00.000000000",
          "2024-06-14T00:00:00.000000000",
          "2024-06-17T00:00:00.000000000",
          "2024-06-18T00:00:00.000000000",
          "2024-06-20T00:00:00.000000000",
          "2024-06-21T00:00:00.000000000",
          "2024-06-24T00:00:00.000000000",
          "2024-06-25T00:00:00.000000000",
          "2024-06-26T00:00:00.000000000",
          "2024-06-27T00:00:00.000000000",
          "2024-06-28T00:00:00.000000000",
          "2024-07-01T00:00:00.000000000",
          "2024-07-02T00:00:00.000000000",
          "2024-07-03T00:00:00.000000000",
          "2024-07-05T00:00:00.000000000",
          "2024-07-08T00:00:00.000000000",
          "2024-07-09T00:00:00.000000000",
          "2024-07-10T00:00:00.000000000",
          "2024-07-11T00:00:00.000000000",
          "2024-07-12T00:00:00.000000000",
          "2024-07-15T00:00:00.000000000",
          "2024-07-16T00:00:00.000000000",
          "2024-07-17T00:00:00.000000000",
          "2024-07-18T00:00:00.000000000",
          "2024-07-19T00:00:00.000000000",
          "2024-07-22T00:00:00.000000000",
          "2024-07-23T00:00:00.000000000",
          "2024-07-24T00:00:00.000000000",
          "2024-07-25T00:00:00.000000000",
          "2024-07-26T00:00:00.000000000",
          "2024-07-29T00:00:00.000000000",
          "2024-07-30T00:00:00.000000000",
          "2024-07-31T00:00:00.000000000",
          "2024-08-01T00:00:00.000000000",
          "2024-08-02T00:00:00.000000000",
          "2024-08-05T00:00:00.000000000",
          "2024-08-06T00:00:00.000000000",
          "2024-08-07T00:00:00.000000000",
          "2024-08-08T00:00:00.000000000",
          "2024-08-09T00:00:00.000000000",
          "2024-08-12T00:00:00.000000000",
          "2024-08-13T00:00:00.000000000",
          "2024-08-14T00:00:00.000000000",
          "2024-08-15T00:00:00.000000000",
          "2024-08-16T00:00:00.000000000",
          "2024-08-19T00:00:00.000000000",
          "2024-08-20T00:00:00.000000000",
          "2024-08-21T00:00:00.000000000",
          "2024-08-22T00:00:00.000000000",
          "2024-08-23T00:00:00.000000000",
          "2024-08-26T00:00:00.000000000",
          "2024-08-27T00:00:00.000000000",
          "2024-08-28T00:00:00.000000000",
          "2024-08-29T00:00:00.000000000",
          "2024-08-30T00:00:00.000000000",
          "2024-09-03T00:00:00.000000000",
          "2024-09-04T00:00:00.000000000",
          "2024-09-05T00:00:00.000000000",
          "2024-09-06T00:00:00.000000000",
          "2024-09-09T00:00:00.000000000",
          "2024-09-10T00:00:00.000000000",
          "2024-09-11T00:00:00.000000000",
          "2024-09-12T00:00:00.000000000",
          "2024-09-13T00:00:00.000000000",
          "2024-09-16T00:00:00.000000000",
          "2024-09-17T00:00:00.000000000",
          "2024-09-18T00:00:00.000000000",
          "2024-09-19T00:00:00.000000000",
          "2024-09-20T00:00:00.000000000",
          "2024-09-23T00:00:00.000000000",
          "2024-09-24T00:00:00.000000000",
          "2024-09-25T00:00:00.000000000",
          "2024-09-26T00:00:00.000000000",
          "2024-09-27T00:00:00.000000000",
          "2024-09-30T00:00:00.000000000",
          "2024-10-01T00:00:00.000000000",
          "2024-10-02T00:00:00.000000000",
          "2024-10-03T00:00:00.000000000",
          "2024-10-04T00:00:00.000000000",
          "2024-10-07T00:00:00.000000000",
          "2024-10-08T00:00:00.000000000",
          "2024-10-09T00:00:00.000000000",
          "2024-10-10T00:00:00.000000000",
          "2024-10-11T00:00:00.000000000",
          "2024-10-14T00:00:00.000000000",
          "2024-10-15T00:00:00.000000000",
          "2024-10-16T00:00:00.000000000",
          "2024-10-17T00:00:00.000000000",
          "2024-10-18T00:00:00.000000000",
          "2024-10-21T00:00:00.000000000",
          "2024-10-22T00:00:00.000000000",
          "2024-10-23T00:00:00.000000000",
          "2024-10-24T00:00:00.000000000",
          "2024-10-25T00:00:00.000000000",
          "2024-10-28T00:00:00.000000000",
          "2024-10-29T00:00:00.000000000",
          "2024-10-30T00:00:00.000000000",
          "2024-10-31T00:00:00.000000000",
          "2024-11-01T00:00:00.000000000",
          "2024-11-04T00:00:00.000000000",
          "2024-11-05T00:00:00.000000000",
          "2024-11-06T00:00:00.000000000",
          "2024-11-07T00:00:00.000000000",
          "2024-11-08T00:00:00.000000000",
          "2024-11-11T00:00:00.000000000",
          "2024-11-12T00:00:00.000000000",
          "2024-11-13T00:00:00.000000000",
          "2024-11-14T00:00:00.000000000",
          "2024-11-15T00:00:00.000000000",
          "2024-11-18T00:00:00.000000000",
          "2024-11-19T00:00:00.000000000",
          "2024-11-20T00:00:00.000000000",
          "2024-11-21T00:00:00.000000000",
          "2024-11-22T00:00:00.000000000",
          "2024-11-25T00:00:00.000000000",
          "2024-11-26T00:00:00.000000000",
          "2024-11-27T00:00:00.000000000",
          "2024-11-29T00:00:00.000000000",
          "2024-12-02T00:00:00.000000000",
          "2024-12-03T00:00:00.000000000",
          "2024-12-04T00:00:00.000000000",
          "2024-12-05T00:00:00.000000000",
          "2024-12-06T00:00:00.000000000",
          "2024-12-09T00:00:00.000000000",
          "2024-12-10T00:00:00.000000000",
          "2024-12-11T00:00:00.000000000",
          "2024-12-12T00:00:00.000000000",
          "2024-12-13T00:00:00.000000000",
          "2024-12-16T00:00:00.000000000",
          "2024-12-17T00:00:00.000000000",
          "2024-12-18T00:00:00.000000000",
          "2024-12-19T00:00:00.000000000",
          "2024-12-20T00:00:00.000000000",
          "2024-12-23T00:00:00.000000000",
          "2024-12-24T00:00:00.000000000",
          "2024-12-26T00:00:00.000000000",
          "2024-12-27T00:00:00.000000000",
          "2024-12-30T00:00:00.000000000",
          "2024-12-31T00:00:00.000000000",
          "2025-01-02T00:00:00.000000000",
          "2025-01-03T00:00:00.000000000",
          "2025-01-06T00:00:00.000000000",
          "2025-01-07T00:00:00.000000000",
          "2025-01-08T00:00:00.000000000",
          "2025-01-10T00:00:00.000000000",
          "2025-01-13T00:00:00.000000000",
          "2025-01-14T00:00:00.000000000",
          "2025-01-15T00:00:00.000000000",
          "2025-01-16T00:00:00.000000000",
          "2025-01-17T00:00:00.000000000",
          "2025-01-21T00:00:00.000000000",
          "2025-01-22T00:00:00.000000000",
          "2025-01-23T00:00:00.000000000",
          "2025-01-24T00:00:00.000000000",
          "2025-01-27T00:00:00.000000000",
          "2025-01-28T00:00:00.000000000",
          "2025-01-29T00:00:00.000000000",
          "2025-01-30T00:00:00.000000000",
          "2025-01-31T00:00:00.000000000",
          "2025-02-03T00:00:00.000000000",
          "2025-02-04T00:00:00.000000000",
          "2025-02-05T00:00:00.000000000",
          "2025-02-06T00:00:00.000000000",
          "2025-02-07T00:00:00.000000000",
          "2025-02-10T00:00:00.000000000",
          "2025-02-11T00:00:00.000000000",
          "2025-02-12T00:00:00.000000000",
          "2025-02-13T00:00:00.000000000",
          "2025-02-14T00:00:00.000000000",
          "2025-02-18T00:00:00.000000000",
          "2025-02-19T00:00:00.000000000",
          "2025-02-20T00:00:00.000000000",
          "2025-02-21T00:00:00.000000000",
          "2025-02-24T00:00:00.000000000",
          "2025-02-25T00:00:00.000000000",
          "2025-02-26T00:00:00.000000000",
          "2025-02-27T00:00:00.000000000"
         ]
        },
        {
         "marker": {
          "color": "yellow",
          "size": 12,
          "symbol": "triangle-up"
         },
         "mode": "markers",
         "name": "Buy Signal",
         "type": "scatter",
         "x": [
          "2022-03-29T00:00:00.000000000",
          "2022-07-21T00:00:00.000000000",
          "2022-08-10T00:00:00.000000000",
          "2022-12-02T00:00:00.000000000",
          "2022-12-07T00:00:00.000000000",
          "2022-12-13T00:00:00.000000000",
          "2022-12-20T00:00:00.000000000",
          "2022-12-28T00:00:00.000000000",
          "2023-01-04T00:00:00.000000000",
          "2023-08-14T00:00:00.000000000",
          "2023-09-06T00:00:00.000000000",
          "2023-09-11T00:00:00.000000000",
          "2023-11-03T00:00:00.000000000",
          "2023-12-07T00:00:00.000000000",
          "2024-05-10T00:00:00.000000000",
          "2024-08-02T00:00:00.000000000"
         ],
         "y": {
          "bdata": "AAAAgD1CbEAAAAAAKZRmQAAAACCu/2VA////vx51XUABAADgo3BcQP///99RiF5AAQAA4KNQXEAAAAAAABBdQP///99R2F9AAAAAIK7PckAAAAAgXNtyQAAAAGCP1nJAAAAAwMyIc0AAAADgUdxzQAAAAKBw0X1AAAAAAACQfkA=",
          "dtype": "f8"
         }
        },
        {
         "marker": {
          "color": "yellow",
          "size": 12,
          "symbol": "triangle-down"
         },
         "mode": "markers",
         "name": "Sell Signal",
         "type": "scatter",
         "x": [
          "2022-04-13T00:00:00.000000000",
          "2022-07-22T00:00:00.000000000",
          "2022-08-19T00:00:00.000000000",
          "2022-12-06T00:00:00.000000000",
          "2022-12-12T00:00:00.000000000",
          "2022-12-15T00:00:00.000000000",
          "2022-12-22T00:00:00.000000000",
          "2022-12-30T00:00:00.000000000",
          "2023-08-11T00:00:00.000000000",
          "2023-08-16T00:00:00.000000000",
          "2023-09-07T00:00:00.000000000",
          "2023-10-25T00:00:00.000000000",
          "2023-12-05T00:00:00.000000000",
          "2024-04-22T00:00:00.000000000",
          "2024-07-17T00:00:00.000000000",
          "2025-02-27T00:00:00.000000000"
         ],
         "y": {
          "bdata": "AAAAgD16akAAAACAPaJlQAAAAGBmRmVAAAAAgD36XUAAAAAghctcQP///78elV1AAQAAwMxMXUAAAACAPYpdQAAAAMAe6XJAAAAAQDPDckAAAAAAAKByQAAAAAAAYHNAAAAAIK7vc0AAAAAghZt+QAAAAGC48n1AAAAAoJlThUA=",
          "dtype": "f8"
         }
        }
       ],
       "layout": {
        "font": {
         "color": "white"
        },
        "paper_bgcolor": "black",
        "plot_bgcolor": "black",
        "template": {
         "data": {
          "bar": [
           {
            "error_x": {
             "color": "#2a3f5f"
            },
            "error_y": {
             "color": "#2a3f5f"
            },
            "marker": {
             "line": {
              "color": "#E5ECF6",
              "width": 0.5
             },
             "pattern": {
              "fillmode": "overlay",
              "size": 10,
              "solidity": 0.2
             }
            },
            "type": "bar"
           }
          ],
          "barpolar": [
           {
            "marker": {
             "line": {
              "color": "#E5ECF6",
              "width": 0.5
             },
             "pattern": {
              "fillmode": "overlay",
              "size": 10,
              "solidity": 0.2
             }
            },
            "type": "barpolar"
           }
          ],
          "carpet": [
           {
            "aaxis": {
             "endlinecolor": "#2a3f5f",
             "gridcolor": "white",
             "linecolor": "white",
             "minorgridcolor": "white",
             "startlinecolor": "#2a3f5f"
            },
            "baxis": {
             "endlinecolor": "#2a3f5f",
             "gridcolor": "white",
             "linecolor": "white",
             "minorgridcolor": "white",
             "startlinecolor": "#2a3f5f"
            },
            "type": "carpet"
           }
          ],
          "choropleth": [
           {
            "colorbar": {
             "outlinewidth": 0,
             "ticks": ""
            },
            "type": "choropleth"
           }
          ],
          "contour": [
           {
            "colorbar": {
             "outlinewidth": 0,
             "ticks": ""
            },
            "colorscale": [
             [
              0,
              "#0d0887"
             ],
             [
              0.1111111111111111,
              "#46039f"
             ],
             [
              0.2222222222222222,
              "#7201a8"
             ],
             [
              0.3333333333333333,
              "#9c179e"
             ],
             [
              0.4444444444444444,
              "#bd3786"
             ],
             [
              0.5555555555555556,
              "#d8576b"
             ],
             [
              0.6666666666666666,
              "#ed7953"
             ],
             [
              0.7777777777777778,
              "#fb9f3a"
             ],
             [
              0.8888888888888888,
              "#fdca26"
             ],
             [
              1,
              "#f0f921"
             ]
            ],
            "type": "contour"
           }
          ],
          "contourcarpet": [
           {
            "colorbar": {
             "outlinewidth": 0,
             "ticks": ""
            },
            "type": "contourcarpet"
           }
          ],
          "heatmap": [
           {
            "colorbar": {
             "outlinewidth": 0,
             "ticks": ""
            },
            "colorscale": [
             [
              0,
              "#0d0887"
             ],
             [
              0.1111111111111111,
              "#46039f"
             ],
             [
              0.2222222222222222,
              "#7201a8"
             ],
             [
              0.3333333333333333,
              "#9c179e"
             ],
             [
              0.4444444444444444,
              "#bd3786"
             ],
             [
              0.5555555555555556,
              "#d8576b"
             ],
             [
              0.6666666666666666,
              "#ed7953"
             ],
             [
              0.7777777777777778,
              "#fb9f3a"
             ],
             [
              0.8888888888888888,
              "#fdca26"
             ],
             [
              1,
              "#f0f921"
             ]
            ],
            "type": "heatmap"
           }
          ],
          "histogram": [
           {
            "marker": {
             "pattern": {
              "fillmode": "overlay",
              "size": 10,
              "solidity": 0.2
             }
            },
            "type": "histogram"
           }
          ],
          "histogram2d": [
           {
            "colorbar": {
             "outlinewidth": 0,
             "ticks": ""
            },
            "colorscale": [
             [
              0,
              "#0d0887"
             ],
             [
              0.1111111111111111,
              "#46039f"
             ],
             [
              0.2222222222222222,
              "#7201a8"
             ],
             [
              0.3333333333333333,
              "#9c179e"
             ],
             [
              0.4444444444444444,
              "#bd3786"
             ],
             [
              0.5555555555555556,
              "#d8576b"
             ],
             [
              0.6666666666666666,
              "#ed7953"
             ],
             [
              0.7777777777777778,
              "#fb9f3a"
             ],
             [
              0.8888888888888888,
              "#fdca26"
             ],
             [
              1,
              "#f0f921"
             ]
            ],
            "type": "histogram2d"
           }
          ],
          "histogram2dcontour": [
           {
            "colorbar": {
             "outlinewidth": 0,
             "ticks": ""
            },
            "colorscale": [
             [
              0,
              "#0d0887"
             ],
             [
              0.1111111111111111,
              "#46039f"
             ],
             [
              0.2222222222222222,
              "#7201a8"
             ],
             [
              0.3333333333333333,
              "#9c179e"
             ],
             [
              0.4444444444444444,
              "#bd3786"
             ],
             [
              0.5555555555555556,
              "#d8576b"
             ],
             [
              0.6666666666666666,
              "#ed7953"
             ],
             [
              0.7777777777777778,
              "#fb9f3a"
             ],
             [
              0.8888888888888888,
              "#fdca26"
             ],
             [
              1,
              "#f0f921"
             ]
            ],
            "type": "histogram2dcontour"
           }
          ],
          "mesh3d": [
           {
            "colorbar": {
             "outlinewidth": 0,
             "ticks": ""
            },
            "type": "mesh3d"
           }
          ],
          "parcoords": [
           {
            "line": {
             "colorbar": {
              "outlinewidth": 0,
              "ticks": ""
             }
            },
            "type": "parcoords"
           }
          ],
          "pie": [
           {
            "automargin": true,
            "type": "pie"
           }
          ],
          "scatter": [
           {
            "fillpattern": {
             "fillmode": "overlay",
             "size": 10,
             "solidity": 0.2
            },
            "type": "scatter"
           }
          ],
          "scatter3d": [
           {
            "line": {
             "colorbar": {
              "outlinewidth": 0,
              "ticks": ""
             }
            },
            "marker": {
             "colorbar": {
              "outlinewidth": 0,
              "ticks": ""
             }
            },
            "type": "scatter3d"
           }
          ],
          "scattercarpet": [
           {
            "marker": {
             "colorbar": {
              "outlinewidth": 0,
              "ticks": ""
             }
            },
            "type": "scattercarpet"
           }
          ],
          "scattergeo": [
           {
            "marker": {
             "colorbar": {
              "outlinewidth": 0,
              "ticks": ""
             }
            },
            "type": "scattergeo"
           }
          ],
          "scattergl": [
           {
            "marker": {
             "colorbar": {
              "outlinewidth": 0,
              "ticks": ""
             }
            },
            "type": "scattergl"
           }
          ],
          "scattermap": [
           {
            "marker": {
             "colorbar": {
              "outlinewidth": 0,
              "ticks": ""
             }
            },
            "type": "scattermap"
           }
          ],
          "scattermapbox": [
           {
            "marker": {
             "colorbar": {
              "outlinewidth": 0,
              "ticks": ""
             }
            },
            "type": "scattermapbox"
           }
          ],
          "scatterpolar": [
           {
            "marker": {
             "colorbar": {
              "outlinewidth": 0,
              "ticks": ""
             }
            },
            "type": "scatterpolar"
           }
          ],
          "scatterpolargl": [
           {
            "marker": {
             "colorbar": {
              "outlinewidth": 0,
              "ticks": ""
             }
            },
            "type": "scatterpolargl"
           }
          ],
          "scatterternary": [
           {
            "marker": {
             "colorbar": {
              "outlinewidth": 0,
              "ticks": ""
             }
            },
            "type": "scatterternary"
           }
          ],
          "surface": [
           {
            "colorbar": {
             "outlinewidth": 0,
             "ticks": ""
            },
            "colorscale": [
             [
              0,
              "#0d0887"
             ],
             [
              0.1111111111111111,
              "#46039f"
             ],
             [
              0.2222222222222222,
              "#7201a8"
             ],
             [
              0.3333333333333333,
              "#9c179e"
             ],
             [
              0.4444444444444444,
              "#bd3786"
             ],
             [
              0.5555555555555556,
              "#d8576b"
             ],
             [
              0.6666666666666666,
              "#ed7953"
             ],
             [
              0.7777777777777778,
              "#fb9f3a"
             ],
             [
              0.8888888888888888,
              "#fdca26"
             ],
             [
              1,
              "#f0f921"
             ]
            ],
            "type": "surface"
           }
          ],
          "table": [
           {
            "cells": {
             "fill": {
              "color": "#EBF0F8"
             },
             "line": {
              "color": "white"
             }
            },
            "header": {
             "fill": {
              "color": "#C8D4E3"
             },
             "line": {
              "color": "white"
             }
            },
            "type": "table"
           }
          ]
         },
         "layout": {
          "annotationdefaults": {
           "arrowcolor": "#2a3f5f",
           "arrowhead": 0,
           "arrowwidth": 1
          },
          "autotypenumbers": "strict",
          "coloraxis": {
           "colorbar": {
            "outlinewidth": 0,
            "ticks": ""
           }
          },
          "colorscale": {
           "diverging": [
            [
             0,
             "#8e0152"
            ],
            [
             0.1,
             "#c51b7d"
            ],
            [
             0.2,
             "#de77ae"
            ],
            [
             0.3,
             "#f1b6da"
            ],
            [
             0.4,
             "#fde0ef"
            ],
            [
             0.5,
             "#f7f7f7"
            ],
            [
             0.6,
             "#e6f5d0"
            ],
            [
             0.7,
             "#b8e186"
            ],
            [
             0.8,
             "#7fbc41"
            ],
            [
             0.9,
             "#4d9221"
            ],
            [
             1,
             "#276419"
            ]
           ],
           "sequential": [
            [
             0,
             "#0d0887"
            ],
            [
             0.1111111111111111,
             "#46039f"
            ],
            [
             0.2222222222222222,
             "#7201a8"
            ],
            [
             0.3333333333333333,
             "#9c179e"
            ],
            [
             0.4444444444444444,
             "#bd3786"
            ],
            [
             0.5555555555555556,
             "#d8576b"
            ],
            [
             0.6666666666666666,
             "#ed7953"
            ],
            [
             0.7777777777777778,
             "#fb9f3a"
            ],
            [
             0.8888888888888888,
             "#fdca26"
            ],
            [
             1,
             "#f0f921"
            ]
           ],
           "sequentialminus": [
            [
             0,
             "#0d0887"
            ],
            [
             0.1111111111111111,
             "#46039f"
            ],
            [
             0.2222222222222222,
             "#7201a8"
            ],
            [
             0.3333333333333333,
             "#9c179e"
            ],
            [
             0.4444444444444444,
             "#bd3786"
            ],
            [
             0.5555555555555556,
             "#d8576b"
            ],
            [
             0.6666666666666666,
             "#ed7953"
            ],
            [
             0.7777777777777778,
             "#fb9f3a"
            ],
            [
             0.8888888888888888,
             "#fdca26"
            ],
            [
             1,
             "#f0f921"
            ]
           ]
          },
          "colorway": [
           "#636efa",
           "#EF553B",
           "#00cc96",
           "#ab63fa",
           "#FFA15A",
           "#19d3f3",
           "#FF6692",
           "#B6E880",
           "#FF97FF",
           "#FECB52"
          ],
          "font": {
           "color": "#2a3f5f"
          },
          "geo": {
           "bgcolor": "white",
           "lakecolor": "white",
           "landcolor": "#E5ECF6",
           "showlakes": true,
           "showland": true,
           "subunitcolor": "white"
          },
          "hoverlabel": {
           "align": "left"
          },
          "hovermode": "closest",
          "mapbox": {
           "style": "light"
          },
          "paper_bgcolor": "white",
          "plot_bgcolor": "#E5ECF6",
          "polar": {
           "angularaxis": {
            "gridcolor": "white",
            "linecolor": "white",
            "ticks": ""
           },
           "bgcolor": "#E5ECF6",
           "radialaxis": {
            "gridcolor": "white",
            "linecolor": "white",
            "ticks": ""
           }
          },
          "scene": {
           "xaxis": {
            "backgroundcolor": "#E5ECF6",
            "gridcolor": "white",
            "gridwidth": 2,
            "linecolor": "white",
            "showbackground": true,
            "ticks": "",
            "zerolinecolor": "white"
           },
           "yaxis": {
            "backgroundcolor": "#E5ECF6",
            "gridcolor": "white",
            "gridwidth": 2,
            "linecolor": "white",
            "showbackground": true,
            "ticks": "",
            "zerolinecolor": "white"
           },
           "zaxis": {
            "backgroundcolor": "#E5ECF6",
            "gridcolor": "white",
            "gridwidth": 2,
            "linecolor": "white",
            "showbackground": true,
            "ticks": "",
            "zerolinecolor": "white"
           }
          },
          "shapedefaults": {
           "line": {
            "color": "#2a3f5f"
           }
          },
          "ternary": {
           "aaxis": {
            "gridcolor": "white",
            "linecolor": "white",
            "ticks": ""
           },
           "baxis": {
            "gridcolor": "white",
            "linecolor": "white",
            "ticks": ""
           },
           "bgcolor": "#E5ECF6",
           "caxis": {
            "gridcolor": "white",
            "linecolor": "white",
            "ticks": ""
           }
          },
          "title": {
           "x": 0.05
          },
          "xaxis": {
           "automargin": true,
           "gridcolor": "white",
           "linecolor": "white",
           "ticks": "",
           "title": {
            "standoff": 15
           },
           "zerolinecolor": "white",
           "zerolinewidth": 2
          },
          "yaxis": {
           "automargin": true,
           "gridcolor": "white",
           "linecolor": "white",
           "ticks": "",
           "title": {
            "standoff": 15
           },
           "zerolinecolor": "white",
           "zerolinewidth": 2
          }
         }
        },
        "title": {
         "text": "Candlestick Chart with Buy and Sell Signal Changes(Logistic Regression for 0 day lag)"
        },
        "xaxis": {
         "rangeslider": {
          "visible": false
         },
         "showgrid": false,
         "title": {
          "text": "Date"
         }
        },
        "yaxis": {
         "showgrid": false,
         "title": {
          "text": "Price"
         }
        }
       }
      }
     },
     "metadata": {},
     "output_type": "display_data"
    }
   ],
   "source": [
    "import plotly.graph_objects as go\n",
    "import pandas as pd\n",
    "\n",
    "# Assuming merged_data is your DataFrame\n",
    "# Ensure the required columns exist in merged_data\n",
    "# Columns: 'Open', 'High', 'Low', 'Close', 'target'\n",
    "\n",
    "# Identify signal changes\n",
    "merged_data['signal_change'] = merged_data['target'].diff().fillna(0)  # Detect changes in the target column\n",
    "\n",
    "# Filter rows where signal changes occur\n",
    "signal_changes = merged_data[merged_data['signal_change'] != 0]\n",
    "\n",
    "# Separate buy and sell signals\n",
    "buy_signals = signal_changes[signal_changes['target'] == 1]  # Buy signals (target changes to 1)\n",
    "sell_signals = signal_changes[signal_changes['target'] == 0]  # Sell signals (target changes to 0)\n",
    "\n",
    "# Create the candlestick chart\n",
    "fig = go.Figure(data=[go.Candlestick(\n",
    "    x=merged_data.index,  # Use the index as the x-axis (Date)\n",
    "    open=merged_data['Open'],  # Opening prices\n",
    "    high=merged_data['High'],  # High prices\n",
    "    low=merged_data['Low'],  # Low prices\n",
    "    close=merged_data['Close'],  # Closing prices\n",
    "    increasing_line_color='lime',  # Bright green for increasing candles\n",
    "    decreasing_line_color='red',  # Bright red for decreasing candles\n",
    "    increasing_fillcolor='lime',  # Fill color for increasing candles\n",
    "    decreasing_fillcolor='red',  # Fill color for decreasing candles\n",
    "    line_width=1.5  # Make the candles thicker\n",
    ")])\n",
    "\n",
    "# Add scatter points for buy signals\n",
    "fig.add_trace(go.Scatter(\n",
    "    x=buy_signals.index,  # Use the index of buy signals\n",
    "    y=buy_signals['Open'],  # Plot buy signals at the Open price\n",
    "    mode='markers',  # Use markers to represent the signals\n",
    "    name='Buy Signal',  # Legend name for buy signals\n",
    "    marker=dict(\n",
    "        size=12,  # Larger marker size\n",
    "        color='yellow',  # Bright green for buy signals\n",
    "        symbol='triangle-up'  # Marker shape for buy signals\n",
    "    )\n",
    "))\n",
    "\n",
    "# Add scatter points for sell signals\n",
    "fig.add_trace(go.Scatter(\n",
    "    x=sell_signals.index,  # Use the index of sell signals\n",
    "    y=sell_signals['Open'],  # Plot sell signals at the Open price\n",
    "    mode='markers',  # Use markers to represent the signals\n",
    "    name='Sell Signal',  # Legend name for sell signals\n",
    "    marker=dict(\n",
    "        size=12,  # Larger marker size\n",
    "        color='yellow',  # Bright red for sell signals\n",
    "        symbol='triangle-down'  # Marker shape for sell signals\n",
    "    )\n",
    "))\n",
    "\n",
    "# Customize the layout for better visuals\n",
    "fig.update_layout(\n",
    "    title='Candlestick Chart with Buy and Sell Signal Changes(Logistic Regression for 0 day lag)',\n",
    "    xaxis_title='Date',\n",
    "    yaxis_title='Price',\n",
    "    xaxis_rangeslider_visible=False,  # Hide the range slider (optional)\n",
    "    plot_bgcolor='black',  # Set the background color to black\n",
    "    paper_bgcolor='black',  # Set the outer background color to black\n",
    "    font=dict(color='white'),  # Set font color to white for better contrast\n",
    "    xaxis=dict(showgrid=False),  # Remove gridlines on the x-axis\n",
    "    yaxis=dict(showgrid=False)  # Remove gridlines on the y-axis\n",
    ")\n",
    "\n",
    "# Show the chart\n",
    "fig.show()\n"
   ]
  },
  {
   "cell_type": "code",
   "execution_count": 13,
   "id": "9d365fa7",
   "metadata": {},
   "outputs": [
    {
     "data": {
      "application/vnd.plotly.v1+json": {
       "config": {
        "plotlyServerURL": "https://plot.ly"
       },
       "data": [
        {
         "close": {
          "bdata": "////PzPzaUD///8fXE9qQAAAAMD1YGpAAQAAIK5vaUABAAAghQNqQAAAAEAKX2lA////f+sBaUAAAABACm9nQAAAAKBHyWdAAAAAAADQaEAAAABguGZoQAEAACCFc2dAAAAAAClUZ0AAAADA9QBoQAAAAAApdGlAAQAAQOH6aUABAAAgrg9rQAEAACCub2pAAQAAwMwUa0AAAABguK5qQAAAAIA9cmtAAAAAgD26a0ABAABA4fJrQAEAACCFu2xA////PzN7bEABAAAghctrQP///z8zG2xAAAAA4Ho8bUABAABA4fpsQAAAAKCZ6WtAAAAAYGbea0AAAABgj8prQAAAAGC4DmtAAAAA4HrEakABAAAgrt9qQAAAAIDCRWpA////36NYakD///9/6ylrQAAAAKBwDWlAAAAAgD2CZ0ABAAAghQNnQAEAACCuX2dAAAAAYGaeZkAAAABgZt5lQP///x9ct2lAAAAAQAoPaUAAAAAAKWRqQAAAAMD1gGpA////vx7ta0AAAADA9QhqQP///9+jeGlAAAAAYLiGaEABAADAzLRoQAEAACCul2dAAQAAIK7nZ0AAAAAA19NoQAAAAKBHAWlAAAAAANdTaUABAAAgrgdoQAAAAKBH6WdAAAAAoEcxaED///8fXIdoQAAAAMD1qGZAAAAAYI/6ZkAAAAAAKfRnQAAAAAApZGhAAAAA4Ho0aEAAAADgepRnQAEAACCF22hAAAAAwPXYZ0AAAAAAAEhoQAEAAMDMdGhAAAAA4HqUaEAAAAAAAABnQAAAAIA98mVAAAAA4FGIZEAAAAAgXHdkQAAAAEAzK2VAAAAAANcbZEAAAAAgrndkQAAAAKCZoWNAAAAAQDN7Y0AAAAAAANhjQAAAAMAeRWVAAAAAIK4vZUAAAACAwhVkQAAAAIAUfmRAAAAAAAAoZEAAAADA9QBkQAAAAIAUBmVAAAAA4KM4ZUAAAACAFIZlQAAAAAApXGVAAAAAAClcZEAAAADgo2hkQAAAACCub2RAAAAAoJnBY0AAAABgZpZkQAAAACBc52RAAAAAwPX4ZUABAABA4eJmQAAAAKBw5WZAAAAA4KMoZUAAAADAzNRkQAAAAMDM5GNAAAAAYI8yZUAAAABAChdkQAAAAEAz42NAAAAAgML9Y0AAAACAFAZkQAAAAKCZGWVAAAAAgD1SZUAAAAAgheNkQAAAAAAASGVAAAAAwPUQZUAAAABA4UpmQAAAACCuL2ZAAAAAAACQZkAAAADgepxmQAAAAEAKb2ZAAAAAQDPbZUAAAADAHtVlQAAAAGC4/mRAAAAAoJlhZEAAAAAghSNkQAAAAOBRaGRAAAAAwPUYZUAAAADA9ThkQAAAAKBw5WNAAAAAwB6lY0AAAACAwl1kQAAAACCFq2RAAAAAgD0KZEAAAACgR9FjQAAAAOB6DGRAAAAAgOtBZEAAAADAzCRlQAAAAGC4HmVAAAAAACkkY0AAAABACu9iQAAAAKCZsWJAAAAAoEdJYkAAAADgo4BiQAAAAEDhQmJAAAAAANfDYUAAAACAPdphQAAAAMAejWFAAAAAANcLYUAAAADAzMxgQAAAACCFs2FAAAAAwB4NYUAAAACAwvVgQAAAACCFU2FAAAAAwPWIYUAAAAAgXF9hQAAAAIA9YmFAAAAAYGauYEAAAACgR7lgQAAAAKBHEWBAAAAAAADgX0AAAACgR0lgQAEAAOCjsF9AAAAAoEfBYEAAAACgmZlgQAAAACBcp2BAAAAAwPVwYEAAAADgUUBgQAAAAEAKN2BAAAAA4FEwYUAAAACAPTpgQP////8ofFhAAQAAwMzMWEAAAACAPUpXQAEAAMDMzFdAAAAAYI+iVkAAAACAPTpWQAAAAGCPslZAAAAAgBQuWEAAAACAFB5YQAAAAIAUXllAAQAAIK73W0AAAACgR0FcQAAAAIAUjlxA////vx5FXUAAAABguE5cQAEAAMDM3FtA////PzMDXEAAAABACndbQP////8o3FtA////H1wPXEAAAACAPdpbQAAAAIDrMVtAAAAAoHBdW0AAAABgZoZdQP////8oHF5A////H1zfXkAAAAAghZteQAEAACCuh1xAAAAAIIV7XED///+/HtVcQAAAAKCZ+VxAAAAAoHCtXEAAAACgmQleQAAAAIDCZV5AAAAAoJkJXUAAAAAghdtdQAAAAGC4nlxAAAAAgMJFXUABAADgo/BdQAEAACCuR11AAAAAYI+CXUD////fUThdQAEAACCu51xAAQAA4KMQXkAAAACAwhVeQP///x9cL19AAQAAIK7XX0D/////KLxfQAAAAOCjQGBAAAAAQAovYEAAAAAgrp9gQAAAAOB6nGBAAAAAYLgWYUAAAAAgXB9hQAAAACCF62BAAAAA4KOgYEAAAADAzARhQAAAAADXa2FAAAAA4KPoYUAAAADgeuRhQAAAAAAAsGFAAAAAoJlpYkAAAAAgrvdiQAAAAIDrYWJAAAAAQAqfYkAAAAAA1yNjQP///9+jmGdAAAAAwPVQZ0D///9/60FnQAAAAADX82dAAAAAgMLtZkAAAACgcD1mQAAAAMDMxGVAAAAAgMJtZkAAAAAgXG9mQAAAAMAeJWZAAAAAgBSOZUAAAAAAKZxlQAAAAGCPgmVAAAAAANdjZUAAAACgR4FlQAAAAOB6TGVAAAAAoEcxZUAAAACAFN5lQAAAAKBwrWVAAAAAwPXQZUAAAAAAAChnQAEAAMDMHGdAAQAA4FEQZ0AAAABACh9nQAAAAIAUtmZAAAAA4FFwZkABAADAzJxmQP///9+jQGhAAAAAAAC4aEAAAACAwp1pQAEAACCFc2hA////f+u5aED///+/HkVpQP///3/r+WhAAAAAwPWIaUABAADgUcBpQAEAAEDhWmlAAAAAgMIVaUD///8/M6tpQAEAAEDh+mlAAAAAgBR+akAAAACAPaJqQAAAAEAK12pA////H1xvakD///8/MwNrQAAAAAAA2GpA////PzO7akAAAAAAAMBqQP///z8zi2tAAQAAIK6va0ABAAAghVtrQAAAAOB6PGtAAAAAYGb2akAAAACAPaJqQAAAAOB6nGpAAAAAoEeZakAAAACgmfFpQAEAAMDMLGpA////f+vRbUAAAACAPQpuQAAAAIDCZW5AAQAAIK7nbUAAAADA9aBtQP///9+jMG1AAAAAwPUYbUD////foyhtQAAAAADXK21AAAAAYI8ibUAAAACgR3ltQP///3/rOW1AAQAAIIXbbUAAAACAPdptQAEAACCuT25A////PzPbbkAAAADgerRuQAAAAIA9Cm9AAQAAIK7XbkAAAABguCZvQAAAAIAUlm9AAAAA4KNgcEAAAADgUWhwQAAAACCFi3BAAAAAgMIJcUAAAACAwglxQAAAAIA99nBAAAAAgOvxcEAAAACgmXlwQAAAAKBHiXBAAAAAQDOPcEAAAADAzPBwQAAAAMAe9XBAAAAAoJkVcUAAAACgR51xQAAAAAAAkHFAAAAAoEfFcUAAAACAPZpxQAAAAIAUznFAAAAAIK4LckAAAAAghWdxQAAAAMDM8HFAAAAA4KPUcUAAAADgephxQAAAACCu73FAAAAA4FHgcUAAAACA62VyQAAAAADXP3JAAAAA4HoockAAAACgmWFyQAAAAOCjpHJAAAAAoHBVc0AAAABgj5ZzQAAAAIDrTXNAAAAAgOtpc0AAAADAzIBzQAAAAAApwHNAAAAA4FHockAAAAAAKWRyQAAAAIDCOXJAAAAAIIVnckAAAADAHqlyQAAAACBce3NAAAAAIK5XdEAAAACgmelzQAAAACBcK3RA////v/Wkc0AAAABACpNzQAAAACCua3NA////v/XIc0AAAACAPYpzQAAAACBcE3NAAAAAANcbc0AAAACAPdpyQAAAAEAKI3NAAAAAQDPfckAAAADgo2RyQAAAAKBw0XFAAAAAAAC0cUAAAABgZh5yQAAAAKCZ+XFAAAAAANdjckAAAAAAAOxxQAAAAAAA2HFAAAAAACkkckAAAAAA159yQAAAAKCZcXJAAAAAgD1+ckAAAACAFIZyQAAAAGBmwnJAAAAAYLiyckAAAABguKpyQAAAAIA9nnJA////v/U4c0AAAABgj9pyQP///7/1EHNAAAAAIIV7c0D///+/9cRyQAAAAMDM6HJAAAAAwB4Rc0AAAABguLpyQAAAACCue3JAAAAAoEexckAAAACgR81yQAAAACBcr3JAAAAAANebckAAAAAgXP9yQAAAACBcw3JAAAAAwB4tc0AAAABACs9yQAAAAKBHGXNAAAAA4KMMc0AAAABA4bZzQAAAAIDC5XNAAAAAoHAddEAAAADAHn10QAAAAGCPQnRAAAAAQAqrc0AAAABgZhJ0QAAAAAAAQHRAAAAAIIXPc0D///+/9YxzQAAAAGBmSnNAAAAAACmgc0AAAADAzIhzQAAAAOB6uHJAAAAAoJkFckAAAAAgrotyQAAAAGCP6nJAAAAA4FHUckAAAACgmX1zQAAAAIDrbXNAAAAAoJmpc0AAAADAzLxzQAAAAMAe7XNAAAAA4Hr8c0AAAADAzAh0QAAAAOBRjHRAAAAAQAqTdED///+/9QR1QAAAACBcy3RAAAAAQArjdEAAAADgo/B0QAAAACCFP3VAAAAAIK4PdUAAAAAA11d1QAAAACCuI3VAAAAAQDPrdEAAAAAA1y91QAAAAEAzw3RAAAAAYGZydEAAAADAHk10QAAAAOBRAHRAAAAA4KPkc0AAAABAM9dzQAAAAKBwaXRAAAAAAADMdEAAAADgelR0QAAAACCF43RAAAAAANfrdEAAAABguNJ0QAAAAGC47nRAAAAAgOuJdUAAAACAwuV1QAAAAOB61HVAAAAAoHAhdkAAAACAPRZ2QAAAAKBHLXZAAAAAoEdddkAAAADAHmV2QAAAACBcH3ZAAAAA4KOkdUAAAAAghYd1QAAAAIDrsXVAAAAAQDP/dUAAAABgj2p2QAAAAEDhVnZAAAAAIIUnd0AAAABguBp3QAAAAADXZ3dAAAAAIFz3dkAAAACA6wV3QAAAAIAUgndAAQAAQDP3d0AAAADgetx3QAEAAEAzE3hAAQAAQDNreEABAABA4ZJ4QAAAAIA9onhAAAAA4FEQeUAAAADA9QB5QAAAAIA9YnhAAAAA4HqseEAAAAAA1699QAAAAGCPtnxAAAAAIIVrfEAAAACgcFl9QAAAAAAAYH1AAAAAgMJBfUAAAABgZk59QAAAAIDrwXxAAAAA4HqUfUAAAADgekB+QAEAAMAelX1AAAAAAAB8fUAAAADgekB9QAAAAIAUYn5AAAAA4HpAfkAAAAAA1xt+QAEAAMDMcH5AAAAA4FFAfkAAAACAFKJ+QAEAAMDMZH9AAQAAQAojf0AAAAAghaN+QAAAAKBwAX9AAAAAIIUBgEABAABAM59/QAAAAKBwOX5AAAAAAAA8f0ABAADAHvl+QAAAAKBHvX5AAAAAoJlBfkAAAAAgrg9/QAAAAADXA39AAAAA4FGYf0AAAAAAKbx/QAAAAKBH2X9AAAAA4FFwf0AAAACAPf5+QAAAAIDC3X5AAAAAoEdZfkAAAACgmbV+QAAAAIDrFX9AAAAAANerf0AAAABguO5/QAAAAGC4eoBAAAAAAAA6gEAAAABAMyeAQAAAAOCjPoBAAAAAoEdZgEAAAABgZv5/QAAAACCuQ39AAAAAACk8f0AAAABguOJ+QAEAAMDMXH9AAQAAwB4RfkAAAAAgrht+QAAAAKCZAX9AAAAAAADYfkAAAACAFJZ7QAAAAOCjtHtAAAAAgOsJe0AAAABguOJ6QAEAAEAKc3tAAQAAQOGae0AAAAAgXD98QAEAAEDhGn1AAAAAANdDfUAAAACgmYl9QAAAAGC4tn1AAQAAQDPDfUAAAAAAKUB9QAAAAKCZfX1AAAAA4KMYfkAAAAAgrpN9QAAAAGCPfn1AAAAAoHBNfUAAAACAFAp9QAAAAOB6PH1AAAAA4HocfUAAAAAgheN9QAAAAGC4/n1AAAAAgMKlfUABAADAzDB9QAAAAKBHLX1AAAAAANfXfUAAAAAA1899QAAAAMD18H5AAAAAACncfkAAAAAgXM9+QAAAAKCZaX9AAAAAIIW3f0AAAACgcM1/QAAAAKCZgX9AAAAAYI+Cf0AAAACAFKp/QAAAAADXN39AAQAAQDNbf0AAAADgeux+QAAAAGCPLn9AAAAAoJnpf0AAAADA9QiAQAAAAOB6PIBAAAAAIIWDf0ABAABA4Yp/QAAAAAAA2H9AAAAAIFzff0AAAACgR9+AQAAAAGCPioBAAAAAAACQgEAAAAAghbWAQAAAAKCZBYBAAAAAgOstf0AAAABgjwJ/QAAAAOCjnH5AAAAAANfffEAAAACgmb19QAAAAOCjzH1AAAAAYGZ2fkABAABACot+QAAAAOBR1HxAAAAAYI9WfEABAABAMxt9QAAAACBcG31AAQAAQArzfEAAAACgR619QAAAAADXG39AAAAAgD2CfkAAAAAgrrt9QAAAAKBw4X5AAAAAYLiOfkAAAACAFNp/QAAAAAApLoBAAAAAoJkfgEAAAADgUYSAQAAAAIAUdoBAAAAA4KPKgEAAAAAgXHuAQAAAAIA9ioBAAAAAANd1gEAAAACgR7mAQAAAAKBwn4BAAAAAAACAgEAAAADA9UiAQAAAAMDMOIBAAAAAgD0mgEAAAACAwjGAQAAAAOB6SoBAAAAAACn8f0AAAACA6wWAQAAAAEDhJoBAAAAA4FFEf0AAAADgo4x/QAAAAOCjjH9AAAAAoEf9f0AAAADAzGyAQAAAAMD1ZIBAAAAAgD2qgEAAAABgj8KAQAAAAKCZz4BAAAAAwMx4gUAAAADAzIqBQAAAAKBHo4FAAAAA4KOagUAAAADgesKBQAAAAGC4voFAAAAAQOG6gUAAAAAgheOBQAAAAIDCA4JAAAAA4HrmgUAAAAAAKTaCQAAAACCFn4JAAAAAgD1GgkAAAADAHoeCQAAAAIAUdIJAAAAA4KM+gkAAAACgmW+CQAAAACBcc4JAAAAAAClSgkAAAADgUQaCQAAAAKBwB4JAAAAAgMIDgkAAAACgR/mBQAAAAIAUMIJAAAAAIIWdgUAAAACAPb6BQAAAAAAA6oFAAAAAoEcRgkAAAACAPYqCQAAAAGBmfoJAAAAA4KO8gUAAAACgR7mBQAAAAKBwhYFAAAAAoHDjgUAAAABgZuCBQAAAAKCZfYJAAAAAYLhqgkAAAAAgXDmCQAAAAGCPRoJAAAAAAAAggkAAAACgRwmCQAAAAOCjUIFAAAAAQDNTgUAAAABguIiBQAAAAAAprIFAAAAAYLiYgUAAAADAHnmBQAAAAEDhqIFAAAAA4FHsgUAAAACgmcmBQAAAAGCP8oFAAAAA4KOGgkAAAABAMy2DQAAAAIA9LoNAAAAAoHAHg0AAAAAAKX6DQAAAAGCPLINAAAAAYI9ag0AAAACgcMWDQAAAAOBRtoNAAAAAwMxig0AAAACA64GDQAAAACCFW4NAAAAAIIWpgkAAAABgj5yCQAAAAAAASoJAAAAAwMy+gkAAAAAAAP6CQAAAAMDM2oJAAAAA4Hq+gkAAAACA63mCQAAAAIAUTIJAAAAAgOu5gkAAAABACuWCQAAAAKCZsYNAAAAAwB5Pg0AAAACAwhWDQAAAAEDhPoNAAAAA4KMCg0AAAAAAAJKCQAAAAMD1SINAAAAAYGYag0AAAAAAKSaDQAAAACCuQ4NAAAAAAAB8g0AAAACgmeODQAAAAIDrO4RAAAAAQAqfhEAAAADgoxKFQAAAAIDrI4VAAAAAAAB4hUAAAACgcImFQAAAACCuy4VAAAAAIIUBhkAAAADA9QaGQAAAAIDrP4ZAAAAAAClUhkAAAABAM2uGQAAAAGBmfoZAAAAAQAqrhkAAAADgesSGQAAAACBcBYdAAAAAwPVihkAAAAAAKf6FQAAAAGC4toVAAAAAYGZchUAAAABACuGEQAAAAAAAjIRAAAAAoJkNhUAAAACA65GEQA==",
          "dtype": "f8"
         },
         "decreasing": {
          "fillcolor": "red",
          "line": {
           "color": "red"
          }
         },
         "high": {
          "bdata": "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",
          "dtype": "f8"
         },
         "increasing": {
          "fillcolor": "lime",
          "line": {
           "color": "lime"
          }
         },
         "line": {
          "width": 1.5
         },
         "low": {
          "bdata": "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",
          "dtype": "f8"
         },
         "open": {
          "bdata": "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",
          "dtype": "f8"
         },
         "type": "candlestick",
         "x": [
          "2022-02-24T00:00:00.000000000",
          "2022-02-25T00:00:00.000000000",
          "2022-02-28T00:00:00.000000000",
          "2022-03-01T00:00:00.000000000",
          "2022-03-02T00:00:00.000000000",
          "2022-03-03T00:00:00.000000000",
          "2022-03-04T00:00:00.000000000",
          "2022-03-07T00:00:00.000000000",
          "2022-03-08T00:00:00.000000000",
          "2022-03-09T00:00:00.000000000",
          "2022-03-10T00:00:00.000000000",
          "2022-03-11T00:00:00.000000000",
          "2022-03-14T00:00:00.000000000",
          "2022-03-15T00:00:00.000000000",
          "2022-03-16T00:00:00.000000000",
          "2022-03-17T00:00:00.000000000",
          "2022-03-18T00:00:00.000000000",
          "2022-03-21T00:00:00.000000000",
          "2022-03-22T00:00:00.000000000",
          "2022-03-23T00:00:00.000000000",
          "2022-03-24T00:00:00.000000000",
          "2022-03-25T00:00:00.000000000",
          "2022-03-28T00:00:00.000000000",
          "2022-03-29T00:00:00.000000000",
          "2022-03-30T00:00:00.000000000",
          "2022-03-31T00:00:00.000000000",
          "2022-04-01T00:00:00.000000000",
          "2022-04-04T00:00:00.000000000",
          "2022-04-05T00:00:00.000000000",
          "2022-04-06T00:00:00.000000000",
          "2022-04-07T00:00:00.000000000",
          "2022-04-08T00:00:00.000000000",
          "2022-04-11T00:00:00.000000000",
          "2022-04-12T00:00:00.000000000",
          "2022-04-13T00:00:00.000000000",
          "2022-04-14T00:00:00.000000000",
          "2022-04-18T00:00:00.000000000",
          "2022-04-19T00:00:00.000000000",
          "2022-04-20T00:00:00.000000000",
          "2022-04-21T00:00:00.000000000",
          "2022-04-22T00:00:00.000000000",
          "2022-04-25T00:00:00.000000000",
          "2022-04-26T00:00:00.000000000",
          "2022-04-27T00:00:00.000000000",
          "2022-04-28T00:00:00.000000000",
          "2022-04-29T00:00:00.000000000",
          "2022-05-02T00:00:00.000000000",
          "2022-05-03T00:00:00.000000000",
          "2022-05-04T00:00:00.000000000",
          "2022-05-05T00:00:00.000000000",
          "2022-05-06T00:00:00.000000000",
          "2022-05-09T00:00:00.000000000",
          "2022-05-10T00:00:00.000000000",
          "2022-05-11T00:00:00.000000000",
          "2022-05-12T00:00:00.000000000",
          "2022-05-13T00:00:00.000000000",
          "2022-05-16T00:00:00.000000000",
          "2022-05-17T00:00:00.000000000",
          "2022-05-18T00:00:00.000000000",
          "2022-05-19T00:00:00.000000000",
          "2022-05-20T00:00:00.000000000",
          "2022-05-23T00:00:00.000000000",
          "2022-05-24T00:00:00.000000000",
          "2022-05-25T00:00:00.000000000",
          "2022-05-26T00:00:00.000000000",
          "2022-05-27T00:00:00.000000000",
          "2022-05-31T00:00:00.000000000",
          "2022-06-01T00:00:00.000000000",
          "2022-06-02T00:00:00.000000000",
          "2022-06-03T00:00:00.000000000",
          "2022-06-06T00:00:00.000000000",
          "2022-06-07T00:00:00.000000000",
          "2022-06-08T00:00:00.000000000",
          "2022-06-09T00:00:00.000000000",
          "2022-06-10T00:00:00.000000000",
          "2022-06-13T00:00:00.000000000",
          "2022-06-14T00:00:00.000000000",
          "2022-06-15T00:00:00.000000000",
          "2022-06-16T00:00:00.000000000",
          "2022-06-17T00:00:00.000000000",
          "2022-06-21T00:00:00.000000000",
          "2022-06-22T00:00:00.000000000",
          "2022-06-23T00:00:00.000000000",
          "2022-06-24T00:00:00.000000000",
          "2022-06-27T00:00:00.000000000",
          "2022-06-28T00:00:00.000000000",
          "2022-06-29T00:00:00.000000000",
          "2022-06-30T00:00:00.000000000",
          "2022-07-01T00:00:00.000000000",
          "2022-07-05T00:00:00.000000000",
          "2022-07-06T00:00:00.000000000",
          "2022-07-07T00:00:00.000000000",
          "2022-07-08T00:00:00.000000000",
          "2022-07-11T00:00:00.000000000",
          "2022-07-12T00:00:00.000000000",
          "2022-07-13T00:00:00.000000000",
          "2022-07-14T00:00:00.000000000",
          "2022-07-15T00:00:00.000000000",
          "2022-07-18T00:00:00.000000000",
          "2022-07-19T00:00:00.000000000",
          "2022-07-20T00:00:00.000000000",
          "2022-07-21T00:00:00.000000000",
          "2022-07-22T00:00:00.000000000",
          "2022-07-25T00:00:00.000000000",
          "2022-07-26T00:00:00.000000000",
          "2022-07-27T00:00:00.000000000",
          "2022-07-28T00:00:00.000000000",
          "2022-07-29T00:00:00.000000000",
          "2022-08-01T00:00:00.000000000",
          "2022-08-02T00:00:00.000000000",
          "2022-08-03T00:00:00.000000000",
          "2022-08-04T00:00:00.000000000",
          "2022-08-05T00:00:00.000000000",
          "2022-08-08T00:00:00.000000000",
          "2022-08-09T00:00:00.000000000",
          "2022-08-10T00:00:00.000000000",
          "2022-08-11T00:00:00.000000000",
          "2022-08-12T00:00:00.000000000",
          "2022-08-15T00:00:00.000000000",
          "2022-08-16T00:00:00.000000000",
          "2022-08-17T00:00:00.000000000",
          "2022-08-18T00:00:00.000000000",
          "2022-08-19T00:00:00.000000000",
          "2022-08-22T00:00:00.000000000",
          "2022-08-23T00:00:00.000000000",
          "2022-08-24T00:00:00.000000000",
          "2022-08-25T00:00:00.000000000",
          "2022-08-26T00:00:00.000000000",
          "2022-08-29T00:00:00.000000000",
          "2022-08-30T00:00:00.000000000",
          "2022-08-31T00:00:00.000000000",
          "2022-09-01T00:00:00.000000000",
          "2022-09-02T00:00:00.000000000",
          "2022-09-06T00:00:00.000000000",
          "2022-09-07T00:00:00.000000000",
          "2022-09-08T00:00:00.000000000",
          "2022-09-09T00:00:00.000000000",
          "2022-09-12T00:00:00.000000000",
          "2022-09-13T00:00:00.000000000",
          "2022-09-14T00:00:00.000000000",
          "2022-09-15T00:00:00.000000000",
          "2022-09-16T00:00:00.000000000",
          "2022-09-19T00:00:00.000000000",
          "2022-09-20T00:00:00.000000000",
          "2022-09-21T00:00:00.000000000",
          "2022-09-22T00:00:00.000000000",
          "2022-09-23T00:00:00.000000000",
          "2022-09-26T00:00:00.000000000",
          "2022-09-27T00:00:00.000000000",
          "2022-09-28T00:00:00.000000000",
          "2022-09-29T00:00:00.000000000",
          "2022-09-30T00:00:00.000000000",
          "2022-10-03T00:00:00.000000000",
          "2022-10-04T00:00:00.000000000",
          "2022-10-05T00:00:00.000000000",
          "2022-10-06T00:00:00.000000000",
          "2022-10-07T00:00:00.000000000",
          "2022-10-10T00:00:00.000000000",
          "2022-10-11T00:00:00.000000000",
          "2022-10-12T00:00:00.000000000",
          "2022-10-13T00:00:00.000000000",
          "2022-10-14T00:00:00.000000000",
          "2022-10-17T00:00:00.000000000",
          "2022-10-18T00:00:00.000000000",
          "2022-10-19T00:00:00.000000000",
          "2022-10-20T00:00:00.000000000",
          "2022-10-21T00:00:00.000000000",
          "2022-10-24T00:00:00.000000000",
          "2022-10-25T00:00:00.000000000",
          "2022-10-26T00:00:00.000000000",
          "2022-10-27T00:00:00.000000000",
          "2022-10-28T00:00:00.000000000",
          "2022-10-31T00:00:00.000000000",
          "2022-11-01T00:00:00.000000000",
          "2022-11-02T00:00:00.000000000",
          "2022-11-03T00:00:00.000000000",
          "2022-11-04T00:00:00.000000000",
          "2022-11-07T00:00:00.000000000",
          "2022-11-08T00:00:00.000000000",
          "2022-11-09T00:00:00.000000000",
          "2022-11-10T00:00:00.000000000",
          "2022-11-11T00:00:00.000000000",
          "2022-11-14T00:00:00.000000000",
          "2022-11-15T00:00:00.000000000",
          "2022-11-16T00:00:00.000000000",
          "2022-11-17T00:00:00.000000000",
          "2022-11-18T00:00:00.000000000",
          "2022-11-21T00:00:00.000000000",
          "2022-11-22T00:00:00.000000000",
          "2022-11-23T00:00:00.000000000",
          "2022-11-25T00:00:00.000000000",
          "2022-11-28T00:00:00.000000000",
          "2022-11-29T00:00:00.000000000",
          "2022-11-30T00:00:00.000000000",
          "2022-12-01T00:00:00.000000000",
          "2022-12-02T00:00:00.000000000",
          "2022-12-05T00:00:00.000000000",
          "2022-12-06T00:00:00.000000000",
          "2022-12-07T00:00:00.000000000",
          "2022-12-08T00:00:00.000000000",
          "2022-12-09T00:00:00.000000000",
          "2022-12-12T00:00:00.000000000",
          "2022-12-13T00:00:00.000000000",
          "2022-12-14T00:00:00.000000000",
          "2022-12-15T00:00:00.000000000",
          "2022-12-16T00:00:00.000000000",
          "2022-12-19T00:00:00.000000000",
          "2022-12-20T00:00:00.000000000",
          "2022-12-21T00:00:00.000000000",
          "2022-12-22T00:00:00.000000000",
          "2022-12-23T00:00:00.000000000",
          "2022-12-27T00:00:00.000000000",
          "2022-12-28T00:00:00.000000000",
          "2022-12-29T00:00:00.000000000",
          "2022-12-30T00:00:00.000000000",
          "2023-01-03T00:00:00.000000000",
          "2023-01-04T00:00:00.000000000",
          "2023-01-05T00:00:00.000000000",
          "2023-01-06T00:00:00.000000000",
          "2023-01-09T00:00:00.000000000",
          "2023-01-10T00:00:00.000000000",
          "2023-01-11T00:00:00.000000000",
          "2023-01-12T00:00:00.000000000",
          "2023-01-13T00:00:00.000000000",
          "2023-01-17T00:00:00.000000000",
          "2023-01-18T00:00:00.000000000",
          "2023-01-19T00:00:00.000000000",
          "2023-01-20T00:00:00.000000000",
          "2023-01-23T00:00:00.000000000",
          "2023-01-24T00:00:00.000000000",
          "2023-01-25T00:00:00.000000000",
          "2023-01-26T00:00:00.000000000",
          "2023-01-27T00:00:00.000000000",
          "2023-01-30T00:00:00.000000000",
          "2023-01-31T00:00:00.000000000",
          "2023-02-01T00:00:00.000000000",
          "2023-02-02T00:00:00.000000000",
          "2023-02-03T00:00:00.000000000",
          "2023-02-06T00:00:00.000000000",
          "2023-02-07T00:00:00.000000000",
          "2023-02-08T00:00:00.000000000",
          "2023-02-09T00:00:00.000000000",
          "2023-02-10T00:00:00.000000000",
          "2023-02-13T00:00:00.000000000",
          "2023-02-14T00:00:00.000000000",
          "2023-02-15T00:00:00.000000000",
          "2023-02-16T00:00:00.000000000",
          "2023-02-17T00:00:00.000000000",
          "2023-02-21T00:00:00.000000000",
          "2023-02-22T00:00:00.000000000",
          "2023-02-23T00:00:00.000000000",
          "2023-02-24T00:00:00.000000000",
          "2023-02-27T00:00:00.000000000",
          "2023-02-28T00:00:00.000000000",
          "2023-03-01T00:00:00.000000000",
          "2023-03-02T00:00:00.000000000",
          "2023-03-03T00:00:00.000000000",
          "2023-03-06T00:00:00.000000000",
          "2023-03-07T00:00:00.000000000",
          "2023-03-08T00:00:00.000000000",
          "2023-03-09T00:00:00.000000000",
          "2023-03-10T00:00:00.000000000",
          "2023-03-13T00:00:00.000000000",
          "2023-03-14T00:00:00.000000000",
          "2023-03-15T00:00:00.000000000",
          "2023-03-16T00:00:00.000000000",
          "2023-03-17T00:00:00.000000000",
          "2023-03-20T00:00:00.000000000",
          "2023-03-21T00:00:00.000000000",
          "2023-03-22T00:00:00.000000000",
          "2023-03-23T00:00:00.000000000",
          "2023-03-24T00:00:00.000000000",
          "2023-03-27T00:00:00.000000000",
          "2023-03-28T00:00:00.000000000",
          "2023-03-29T00:00:00.000000000",
          "2023-03-30T00:00:00.000000000",
          "2023-03-31T00:00:00.000000000",
          "2023-04-03T00:00:00.000000000",
          "2023-04-04T00:00:00.000000000",
          "2023-04-05T00:00:00.000000000",
          "2023-04-06T00:00:00.000000000",
          "2023-04-10T00:00:00.000000000",
          "2023-04-11T00:00:00.000000000",
          "2023-04-12T00:00:00.000000000",
          "2023-04-13T00:00:00.000000000",
          "2023-04-14T00:00:00.000000000",
          "2023-04-17T00:00:00.000000000",
          "2023-04-18T00:00:00.000000000",
          "2023-04-19T00:00:00.000000000",
          "2023-04-20T00:00:00.000000000",
          "2023-04-21T00:00:00.000000000",
          "2023-04-24T00:00:00.000000000",
          "2023-04-25T00:00:00.000000000",
          "2023-04-26T00:00:00.000000000",
          "2023-04-27T00:00:00.000000000",
          "2023-04-28T00:00:00.000000000",
          "2023-05-01T00:00:00.000000000",
          "2023-05-02T00:00:00.000000000",
          "2023-05-03T00:00:00.000000000",
          "2023-05-04T00:00:00.000000000",
          "2023-05-05T00:00:00.000000000",
          "2023-05-08T00:00:00.000000000",
          "2023-05-09T00:00:00.000000000",
          "2023-05-10T00:00:00.000000000",
          "2023-05-11T00:00:00.000000000",
          "2023-05-12T00:00:00.000000000",
          "2023-05-15T00:00:00.000000000",
          "2023-05-16T00:00:00.000000000",
          "2023-05-17T00:00:00.000000000",
          "2023-05-18T00:00:00.000000000",
          "2023-05-19T00:00:00.000000000",
          "2023-05-22T00:00:00.000000000",
          "2023-05-23T00:00:00.000000000",
          "2023-05-24T00:00:00.000000000",
          "2023-05-25T00:00:00.000000000",
          "2023-05-26T00:00:00.000000000",
          "2023-05-30T00:00:00.000000000",
          "2023-05-31T00:00:00.000000000",
          "2023-06-01T00:00:00.000000000",
          "2023-06-02T00:00:00.000000000",
          "2023-06-05T00:00:00.000000000",
          "2023-06-06T00:00:00.000000000",
          "2023-06-07T00:00:00.000000000",
          "2023-06-08T00:00:00.000000000",
          "2023-06-09T00:00:00.000000000",
          "2023-06-12T00:00:00.000000000",
          "2023-06-13T00:00:00.000000000",
          "2023-06-14T00:00:00.000000000",
          "2023-06-15T00:00:00.000000000",
          "2023-06-16T00:00:00.000000000",
          "2023-06-20T00:00:00.000000000",
          "2023-06-21T00:00:00.000000000",
          "2023-06-22T00:00:00.000000000",
          "2023-06-23T00:00:00.000000000",
          "2023-06-26T00:00:00.000000000",
          "2023-06-27T00:00:00.000000000",
          "2023-06-28T00:00:00.000000000",
          "2023-06-29T00:00:00.000000000",
          "2023-06-30T00:00:00.000000000",
          "2023-07-03T00:00:00.000000000",
          "2023-07-05T00:00:00.000000000",
          "2023-07-06T00:00:00.000000000",
          "2023-07-07T00:00:00.000000000",
          "2023-07-10T00:00:00.000000000",
          "2023-07-11T00:00:00.000000000",
          "2023-07-12T00:00:00.000000000",
          "2023-07-13T00:00:00.000000000",
          "2023-07-14T00:00:00.000000000",
          "2023-07-17T00:00:00.000000000",
          "2023-07-18T00:00:00.000000000",
          "2023-07-19T00:00:00.000000000",
          "2023-07-20T00:00:00.000000000",
          "2023-07-21T00:00:00.000000000",
          "2023-07-24T00:00:00.000000000",
          "2023-07-25T00:00:00.000000000",
          "2023-07-26T00:00:00.000000000",
          "2023-07-27T00:00:00.000000000",
          "2023-07-28T00:00:00.000000000",
          "2023-07-31T00:00:00.000000000",
          "2023-08-01T00:00:00.000000000",
          "2023-08-02T00:00:00.000000000",
          "2023-08-03T00:00:00.000000000",
          "2023-08-04T00:00:00.000000000",
          "2023-08-07T00:00:00.000000000",
          "2023-08-08T00:00:00.000000000",
          "2023-08-09T00:00:00.000000000",
          "2023-08-10T00:00:00.000000000",
          "2023-08-11T00:00:00.000000000",
          "2023-08-14T00:00:00.000000000",
          "2023-08-15T00:00:00.000000000",
          "2023-08-16T00:00:00.000000000",
          "2023-08-17T00:00:00.000000000",
          "2023-08-18T00:00:00.000000000",
          "2023-08-21T00:00:00.000000000",
          "2023-08-22T00:00:00.000000000",
          "2023-08-23T00:00:00.000000000",
          "2023-08-24T00:00:00.000000000",
          "2023-08-25T00:00:00.000000000",
          "2023-08-28T00:00:00.000000000",
          "2023-08-29T00:00:00.000000000",
          "2023-08-30T00:00:00.000000000",
          "2023-08-31T00:00:00.000000000",
          "2023-09-01T00:00:00.000000000",
          "2023-09-05T00:00:00.000000000",
          "2023-09-06T00:00:00.000000000",
          "2023-09-07T00:00:00.000000000",
          "2023-09-08T00:00:00.000000000",
          "2023-09-11T00:00:00.000000000",
          "2023-09-12T00:00:00.000000000",
          "2023-09-13T00:00:00.000000000",
          "2023-09-14T00:00:00.000000000",
          "2023-09-15T00:00:00.000000000",
          "2023-09-18T00:00:00.000000000",
          "2023-09-19T00:00:00.000000000",
          "2023-09-20T00:00:00.000000000",
          "2023-09-21T00:00:00.000000000",
          "2023-09-22T00:00:00.000000000",
          "2023-09-25T00:00:00.000000000",
          "2023-09-26T00:00:00.000000000",
          "2023-09-27T00:00:00.000000000",
          "2023-09-28T00:00:00.000000000",
          "2023-09-29T00:00:00.000000000",
          "2023-10-02T00:00:00.000000000",
          "2023-10-03T00:00:00.000000000",
          "2023-10-04T00:00:00.000000000",
          "2023-10-05T00:00:00.000000000",
          "2023-10-06T00:00:00.000000000",
          "2023-10-09T00:00:00.000000000",
          "2023-10-10T00:00:00.000000000",
          "2023-10-11T00:00:00.000000000",
          "2023-10-12T00:00:00.000000000",
          "2023-10-13T00:00:00.000000000",
          "2023-10-16T00:00:00.000000000",
          "2023-10-17T00:00:00.000000000",
          "2023-10-18T00:00:00.000000000",
          "2023-10-19T00:00:00.000000000",
          "2023-10-20T00:00:00.000000000",
          "2023-10-23T00:00:00.000000000",
          "2023-10-24T00:00:00.000000000",
          "2023-10-25T00:00:00.000000000",
          "2023-10-26T00:00:00.000000000",
          "2023-10-27T00:00:00.000000000",
          "2023-10-30T00:00:00.000000000",
          "2023-10-31T00:00:00.000000000",
          "2023-11-01T00:00:00.000000000",
          "2023-11-02T00:00:00.000000000",
          "2023-11-03T00:00:00.000000000",
          "2023-11-06T00:00:00.000000000",
          "2023-11-07T00:00:00.000000000",
          "2023-11-08T00:00:00.000000000",
          "2023-11-09T00:00:00.000000000",
          "2023-11-10T00:00:00.000000000",
          "2023-11-13T00:00:00.000000000",
          "2023-11-14T00:00:00.000000000",
          "2023-11-15T00:00:00.000000000",
          "2023-11-16T00:00:00.000000000",
          "2023-11-17T00:00:00.000000000",
          "2023-11-20T00:00:00.000000000",
          "2023-11-21T00:00:00.000000000",
          "2023-11-22T00:00:00.000000000",
          "2023-11-24T00:00:00.000000000",
          "2023-11-27T00:00:00.000000000",
          "2023-11-28T00:00:00.000000000",
          "2023-11-29T00:00:00.000000000",
          "2023-11-30T00:00:00.000000000",
          "2023-12-01T00:00:00.000000000",
          "2023-12-04T00:00:00.000000000",
          "2023-12-05T00:00:00.000000000",
          "2023-12-06T00:00:00.000000000",
          "2023-12-07T00:00:00.000000000",
          "2023-12-08T00:00:00.000000000",
          "2023-12-11T00:00:00.000000000",
          "2023-12-12T00:00:00.000000000",
          "2023-12-13T00:00:00.000000000",
          "2023-12-14T00:00:00.000000000",
          "2023-12-15T00:00:00.000000000",
          "2023-12-18T00:00:00.000000000",
          "2023-12-19T00:00:00.000000000",
          "2023-12-20T00:00:00.000000000",
          "2023-12-21T00:00:00.000000000",
          "2023-12-22T00:00:00.000000000",
          "2023-12-26T00:00:00.000000000",
          "2023-12-27T00:00:00.000000000",
          "2023-12-28T00:00:00.000000000",
          "2023-12-29T00:00:00.000000000",
          "2024-01-02T00:00:00.000000000",
          "2024-01-03T00:00:00.000000000",
          "2024-01-04T00:00:00.000000000",
          "2024-01-05T00:00:00.000000000",
          "2024-01-08T00:00:00.000000000",
          "2024-01-09T00:00:00.000000000",
          "2024-01-10T00:00:00.000000000",
          "2024-01-11T00:00:00.000000000",
          "2024-01-12T00:00:00.000000000",
          "2024-01-16T00:00:00.000000000",
          "2024-01-17T00:00:00.000000000",
          "2024-01-18T00:00:00.000000000",
          "2024-01-19T00:00:00.000000000",
          "2024-01-22T00:00:00.000000000",
          "2024-01-23T00:00:00.000000000",
          "2024-01-24T00:00:00.000000000",
          "2024-01-25T00:00:00.000000000",
          "2024-01-26T00:00:00.000000000",
          "2024-01-29T00:00:00.000000000",
          "2024-01-30T00:00:00.000000000",
          "2024-01-31T00:00:00.000000000",
          "2024-02-01T00:00:00.000000000",
          "2024-02-02T00:00:00.000000000",
          "2024-02-05T00:00:00.000000000",
          "2024-02-06T00:00:00.000000000",
          "2024-02-07T00:00:00.000000000",
          "2024-02-08T00:00:00.000000000",
          "2024-02-09T00:00:00.000000000",
          "2024-02-12T00:00:00.000000000",
          "2024-02-13T00:00:00.000000000",
          "2024-02-14T00:00:00.000000000",
          "2024-02-15T00:00:00.000000000",
          "2024-02-16T00:00:00.000000000",
          "2024-02-20T00:00:00.000000000",
          "2024-02-21T00:00:00.000000000",
          "2024-02-22T00:00:00.000000000",
          "2024-02-23T00:00:00.000000000",
          "2024-02-26T00:00:00.000000000",
          "2024-02-27T00:00:00.000000000",
          "2024-02-28T00:00:00.000000000",
          "2024-02-29T00:00:00.000000000",
          "2024-03-01T00:00:00.000000000",
          "2024-03-04T00:00:00.000000000",
          "2024-03-05T00:00:00.000000000",
          "2024-03-06T00:00:00.000000000",
          "2024-03-07T00:00:00.000000000",
          "2024-03-08T00:00:00.000000000",
          "2024-03-11T00:00:00.000000000",
          "2024-03-12T00:00:00.000000000",
          "2024-03-13T00:00:00.000000000",
          "2024-03-14T00:00:00.000000000",
          "2024-03-15T00:00:00.000000000",
          "2024-03-18T00:00:00.000000000",
          "2024-03-19T00:00:00.000000000",
          "2024-03-20T00:00:00.000000000",
          "2024-03-21T00:00:00.000000000",
          "2024-03-22T00:00:00.000000000",
          "2024-03-25T00:00:00.000000000",
          "2024-03-26T00:00:00.000000000",
          "2024-03-27T00:00:00.000000000",
          "2024-03-28T00:00:00.000000000",
          "2024-04-01T00:00:00.000000000",
          "2024-04-02T00:00:00.000000000",
          "2024-04-03T00:00:00.000000000",
          "2024-04-04T00:00:00.000000000",
          "2024-04-05T00:00:00.000000000",
          "2024-04-08T00:00:00.000000000",
          "2024-04-09T00:00:00.000000000",
          "2024-04-10T00:00:00.000000000",
          "2024-04-11T00:00:00.000000000",
          "2024-04-12T00:00:00.000000000",
          "2024-04-15T00:00:00.000000000",
          "2024-04-16T00:00:00.000000000",
          "2024-04-17T00:00:00.000000000",
          "2024-04-18T00:00:00.000000000",
          "2024-04-19T00:00:00.000000000",
          "2024-04-22T00:00:00.000000000",
          "2024-04-23T00:00:00.000000000",
          "2024-04-24T00:00:00.000000000",
          "2024-04-25T00:00:00.000000000",
          "2024-04-26T00:00:00.000000000",
          "2024-04-29T00:00:00.000000000",
          "2024-04-30T00:00:00.000000000",
          "2024-05-01T00:00:00.000000000",
          "2024-05-02T00:00:00.000000000",
          "2024-05-03T00:00:00.000000000",
          "2024-05-06T00:00:00.000000000",
          "2024-05-07T00:00:00.000000000",
          "2024-05-08T00:00:00.000000000",
          "2024-05-09T00:00:00.000000000",
          "2024-05-10T00:00:00.000000000",
          "2024-05-13T00:00:00.000000000",
          "2024-05-14T00:00:00.000000000",
          "2024-05-15T00:00:00.000000000",
          "2024-05-16T00:00:00.000000000",
          "2024-05-17T00:00:00.000000000",
          "2024-05-20T00:00:00.000000000",
          "2024-05-21T00:00:00.000000000",
          "2024-05-22T00:00:00.000000000",
          "2024-05-23T00:00:00.000000000",
          "2024-05-24T00:00:00.000000000",
          "2024-05-28T00:00:00.000000000",
          "2024-05-29T00:00:00.000000000",
          "2024-05-30T00:00:00.000000000",
          "2024-05-31T00:00:00.000000000",
          "2024-06-03T00:00:00.000000000",
          "2024-06-04T00:00:00.000000000",
          "2024-06-05T00:00:00.000000000",
          "2024-06-06T00:00:00.000000000",
          "2024-06-07T00:00:00.000000000",
          "2024-06-10T00:00:00.000000000",
          "2024-06-11T00:00:00.000000000",
          "2024-06-12T00:00:00.000000000",
          "2024-06-13T00:00:00.000000000",
          "2024-06-14T00:00:00.000000000",
          "2024-06-17T00:00:00.000000000",
          "2024-06-18T00:00:00.000000000",
          "2024-06-20T00:00:00.000000000",
          "2024-06-21T00:00:00.000000000",
          "2024-06-24T00:00:00.000000000",
          "2024-06-25T00:00:00.000000000",
          "2024-06-26T00:00:00.000000000",
          "2024-06-27T00:00:00.000000000",
          "2024-06-28T00:00:00.000000000",
          "2024-07-01T00:00:00.000000000",
          "2024-07-02T00:00:00.000000000",
          "2024-07-03T00:00:00.000000000",
          "2024-07-05T00:00:00.000000000",
          "2024-07-08T00:00:00.000000000",
          "2024-07-09T00:00:00.000000000",
          "2024-07-10T00:00:00.000000000",
          "2024-07-11T00:00:00.000000000",
          "2024-07-12T00:00:00.000000000",
          "2024-07-15T00:00:00.000000000",
          "2024-07-16T00:00:00.000000000",
          "2024-07-17T00:00:00.000000000",
          "2024-07-18T00:00:00.000000000",
          "2024-07-19T00:00:00.000000000",
          "2024-07-22T00:00:00.000000000",
          "2024-07-23T00:00:00.000000000",
          "2024-07-24T00:00:00.000000000",
          "2024-07-25T00:00:00.000000000",
          "2024-07-26T00:00:00.000000000",
          "2024-07-29T00:00:00.000000000",
          "2024-07-30T00:00:00.000000000",
          "2024-07-31T00:00:00.000000000",
          "2024-08-01T00:00:00.000000000",
          "2024-08-02T00:00:00.000000000",
          "2024-08-05T00:00:00.000000000",
          "2024-08-06T00:00:00.000000000",
          "2024-08-07T00:00:00.000000000",
          "2024-08-08T00:00:00.000000000",
          "2024-08-09T00:00:00.000000000",
          "2024-08-12T00:00:00.000000000",
          "2024-08-13T00:00:00.000000000",
          "2024-08-14T00:00:00.000000000",
          "2024-08-15T00:00:00.000000000",
          "2024-08-16T00:00:00.000000000",
          "2024-08-19T00:00:00.000000000",
          "2024-08-20T00:00:00.000000000",
          "2024-08-21T00:00:00.000000000",
          "2024-08-22T00:00:00.000000000",
          "2024-08-23T00:00:00.000000000",
          "2024-08-26T00:00:00.000000000",
          "2024-08-27T00:00:00.000000000",
          "2024-08-28T00:00:00.000000000",
          "2024-08-29T00:00:00.000000000",
          "2024-08-30T00:00:00.000000000",
          "2024-09-03T00:00:00.000000000",
          "2024-09-04T00:00:00.000000000",
          "2024-09-05T00:00:00.000000000",
          "2024-09-06T00:00:00.000000000",
          "2024-09-09T00:00:00.000000000",
          "2024-09-10T00:00:00.000000000",
          "2024-09-11T00:00:00.000000000",
          "2024-09-12T00:00:00.000000000",
          "2024-09-13T00:00:00.000000000",
          "2024-09-16T00:00:00.000000000",
          "2024-09-17T00:00:00.000000000",
          "2024-09-18T00:00:00.000000000",
          "2024-09-19T00:00:00.000000000",
          "2024-09-20T00:00:00.000000000",
          "2024-09-23T00:00:00.000000000",
          "2024-09-24T00:00:00.000000000",
          "2024-09-25T00:00:00.000000000",
          "2024-09-26T00:00:00.000000000",
          "2024-09-27T00:00:00.000000000",
          "2024-09-30T00:00:00.000000000",
          "2024-10-01T00:00:00.000000000",
          "2024-10-02T00:00:00.000000000",
          "2024-10-03T00:00:00.000000000",
          "2024-10-04T00:00:00.000000000",
          "2024-10-07T00:00:00.000000000",
          "2024-10-08T00:00:00.000000000",
          "2024-10-09T00:00:00.000000000",
          "2024-10-10T00:00:00.000000000",
          "2024-10-11T00:00:00.000000000",
          "2024-10-14T00:00:00.000000000",
          "2024-10-15T00:00:00.000000000",
          "2024-10-16T00:00:00.000000000",
          "2024-10-17T00:00:00.000000000",
          "2024-10-18T00:00:00.000000000",
          "2024-10-21T00:00:00.000000000",
          "2024-10-22T00:00:00.000000000",
          "2024-10-23T00:00:00.000000000",
          "2024-10-24T00:00:00.000000000",
          "2024-10-25T00:00:00.000000000",
          "2024-10-28T00:00:00.000000000",
          "2024-10-29T00:00:00.000000000",
          "2024-10-30T00:00:00.000000000",
          "2024-10-31T00:00:00.000000000",
          "2024-11-01T00:00:00.000000000",
          "2024-11-04T00:00:00.000000000",
          "2024-11-05T00:00:00.000000000",
          "2024-11-06T00:00:00.000000000",
          "2024-11-07T00:00:00.000000000",
          "2024-11-08T00:00:00.000000000",
          "2024-11-11T00:00:00.000000000",
          "2024-11-12T00:00:00.000000000",
          "2024-11-13T00:00:00.000000000",
          "2024-11-14T00:00:00.000000000",
          "2024-11-15T00:00:00.000000000",
          "2024-11-18T00:00:00.000000000",
          "2024-11-19T00:00:00.000000000",
          "2024-11-20T00:00:00.000000000",
          "2024-11-21T00:00:00.000000000",
          "2024-11-22T00:00:00.000000000",
          "2024-11-25T00:00:00.000000000",
          "2024-11-26T00:00:00.000000000",
          "2024-11-27T00:00:00.000000000",
          "2024-11-29T00:00:00.000000000",
          "2024-12-02T00:00:00.000000000",
          "2024-12-03T00:00:00.000000000",
          "2024-12-04T00:00:00.000000000",
          "2024-12-05T00:00:00.000000000",
          "2024-12-06T00:00:00.000000000",
          "2024-12-09T00:00:00.000000000",
          "2024-12-10T00:00:00.000000000",
          "2024-12-11T00:00:00.000000000",
          "2024-12-12T00:00:00.000000000",
          "2024-12-13T00:00:00.000000000",
          "2024-12-16T00:00:00.000000000",
          "2024-12-17T00:00:00.000000000",
          "2024-12-18T00:00:00.000000000",
          "2024-12-19T00:00:00.000000000",
          "2024-12-20T00:00:00.000000000",
          "2024-12-23T00:00:00.000000000",
          "2024-12-24T00:00:00.000000000",
          "2024-12-26T00:00:00.000000000",
          "2024-12-27T00:00:00.000000000",
          "2024-12-30T00:00:00.000000000",
          "2024-12-31T00:00:00.000000000",
          "2025-01-02T00:00:00.000000000",
          "2025-01-03T00:00:00.000000000",
          "2025-01-06T00:00:00.000000000",
          "2025-01-07T00:00:00.000000000",
          "2025-01-08T00:00:00.000000000",
          "2025-01-10T00:00:00.000000000",
          "2025-01-13T00:00:00.000000000",
          "2025-01-14T00:00:00.000000000",
          "2025-01-15T00:00:00.000000000",
          "2025-01-16T00:00:00.000000000",
          "2025-01-17T00:00:00.000000000",
          "2025-01-21T00:00:00.000000000",
          "2025-01-22T00:00:00.000000000",
          "2025-01-23T00:00:00.000000000",
          "2025-01-24T00:00:00.000000000",
          "2025-01-27T00:00:00.000000000",
          "2025-01-28T00:00:00.000000000",
          "2025-01-29T00:00:00.000000000",
          "2025-01-30T00:00:00.000000000",
          "2025-01-31T00:00:00.000000000",
          "2025-02-03T00:00:00.000000000",
          "2025-02-04T00:00:00.000000000",
          "2025-02-05T00:00:00.000000000",
          "2025-02-06T00:00:00.000000000",
          "2025-02-07T00:00:00.000000000",
          "2025-02-10T00:00:00.000000000",
          "2025-02-11T00:00:00.000000000",
          "2025-02-12T00:00:00.000000000",
          "2025-02-13T00:00:00.000000000",
          "2025-02-14T00:00:00.000000000",
          "2025-02-18T00:00:00.000000000",
          "2025-02-19T00:00:00.000000000",
          "2025-02-20T00:00:00.000000000",
          "2025-02-21T00:00:00.000000000",
          "2025-02-24T00:00:00.000000000",
          "2025-02-25T00:00:00.000000000",
          "2025-02-26T00:00:00.000000000",
          "2025-02-27T00:00:00.000000000"
         ]
        },
        {
         "marker": {
          "color": "lime",
          "size": 12,
          "symbol": "triangle-up"
         },
         "mode": "markers",
         "name": "Buy Signal",
         "type": "scatter",
         "x": [
          "2022-03-21T00:00:00.000000000",
          "2022-04-27T00:00:00.000000000",
          "2022-07-19T00:00:00.000000000",
          "2022-11-09T00:00:00.000000000",
          "2023-09-13T00:00:00.000000000",
          "2023-11-06T00:00:00.000000000",
          "2023-12-15T00:00:00.000000000",
          "2024-06-07T00:00:00.000000000",
          "2024-08-07T00:00:00.000000000",
          "2024-12-02T00:00:00.000000000",
          "2025-01-22T00:00:00.000000000"
         ],
         "y": {
          "bdata": "ZmZmdiJga0ApXI/SsRpnQPYoXD+igGZAH4XrQd+/WkD2KFxvLZVzQHsUrjclS3RAcT0KZ+6WdUBSuB4VNs5/QGZmZu7SQoBAhetRuB7zgkCkcD36/TKEQA==",
          "dtype": "f8"
         }
        },
        {
         "marker": {
          "color": "red",
          "size": 12,
          "symbol": "triangle-down"
         },
         "mode": "markers",
         "name": "Sell Signal",
         "type": "scatter",
         "x": [
          "2022-04-13T00:00:00.000000000",
          "2022-06-09T00:00:00.000000000",
          "2022-07-25T00:00:00.000000000",
          "2023-08-16T00:00:00.000000000",
          "2023-10-24T00:00:00.000000000",
          "2023-12-05T00:00:00.000000000",
          "2024-04-18T00:00:00.000000000",
          "2024-07-15T00:00:00.000000000",
          "2024-11-14T00:00:00.000000000",
          "2024-12-19T00:00:00.000000000",
          "2025-02-21T00:00:00.000000000"
         ],
         "y": {
          "bdata": "FK5HEU/jaUDsUbheNIBmQHsUrgdxMGRAUrgedU8GckAK16OwrQZzQAAAAMBQUXNASOF6hPKQfkAUrkehCjh+QClcjwJmjIFAzczMzMw4gkCPwvXIs+WEQA==",
          "dtype": "f8"
         }
        }
       ],
       "layout": {
        "font": {
         "color": "white"
        },
        "paper_bgcolor": "black",
        "plot_bgcolor": "black",
        "template": {
         "data": {
          "bar": [
           {
            "error_x": {
             "color": "#2a3f5f"
            },
            "error_y": {
             "color": "#2a3f5f"
            },
            "marker": {
             "line": {
              "color": "#E5ECF6",
              "width": 0.5
             },
             "pattern": {
              "fillmode": "overlay",
              "size": 10,
              "solidity": 0.2
             }
            },
            "type": "bar"
           }
          ],
          "barpolar": [
           {
            "marker": {
             "line": {
              "color": "#E5ECF6",
              "width": 0.5
             },
             "pattern": {
              "fillmode": "overlay",
              "size": 10,
              "solidity": 0.2
             }
            },
            "type": "barpolar"
           }
          ],
          "carpet": [
           {
            "aaxis": {
             "endlinecolor": "#2a3f5f",
             "gridcolor": "white",
             "linecolor": "white",
             "minorgridcolor": "white",
             "startlinecolor": "#2a3f5f"
            },
            "baxis": {
             "endlinecolor": "#2a3f5f",
             "gridcolor": "white",
             "linecolor": "white",
             "minorgridcolor": "white",
             "startlinecolor": "#2a3f5f"
            },
            "type": "carpet"
           }
          ],
          "choropleth": [
           {
            "colorbar": {
             "outlinewidth": 0,
             "ticks": ""
            },
            "type": "choropleth"
           }
          ],
          "contour": [
           {
            "colorbar": {
             "outlinewidth": 0,
             "ticks": ""
            },
            "colorscale": [
             [
              0,
              "#0d0887"
             ],
             [
              0.1111111111111111,
              "#46039f"
             ],
             [
              0.2222222222222222,
              "#7201a8"
             ],
             [
              0.3333333333333333,
              "#9c179e"
             ],
             [
              0.4444444444444444,
              "#bd3786"
             ],
             [
              0.5555555555555556,
              "#d8576b"
             ],
             [
              0.6666666666666666,
              "#ed7953"
             ],
             [
              0.7777777777777778,
              "#fb9f3a"
             ],
             [
              0.8888888888888888,
              "#fdca26"
             ],
             [
              1,
              "#f0f921"
             ]
            ],
            "type": "contour"
           }
          ],
          "contourcarpet": [
           {
            "colorbar": {
             "outlinewidth": 0,
             "ticks": ""
            },
            "type": "contourcarpet"
           }
          ],
          "heatmap": [
           {
            "colorbar": {
             "outlinewidth": 0,
             "ticks": ""
            },
            "colorscale": [
             [
              0,
              "#0d0887"
             ],
             [
              0.1111111111111111,
              "#46039f"
             ],
             [
              0.2222222222222222,
              "#7201a8"
             ],
             [
              0.3333333333333333,
              "#9c179e"
             ],
             [
              0.4444444444444444,
              "#bd3786"
             ],
             [
              0.5555555555555556,
              "#d8576b"
             ],
             [
              0.6666666666666666,
              "#ed7953"
             ],
             [
              0.7777777777777778,
              "#fb9f3a"
             ],
             [
              0.8888888888888888,
              "#fdca26"
             ],
             [
              1,
              "#f0f921"
             ]
            ],
            "type": "heatmap"
           }
          ],
          "histogram": [
           {
            "marker": {
             "pattern": {
              "fillmode": "overlay",
              "size": 10,
              "solidity": 0.2
             }
            },
            "type": "histogram"
           }
          ],
          "histogram2d": [
           {
            "colorbar": {
             "outlinewidth": 0,
             "ticks": ""
            },
            "colorscale": [
             [
              0,
              "#0d0887"
             ],
             [
              0.1111111111111111,
              "#46039f"
             ],
             [
              0.2222222222222222,
              "#7201a8"
             ],
             [
              0.3333333333333333,
              "#9c179e"
             ],
             [
              0.4444444444444444,
              "#bd3786"
             ],
             [
              0.5555555555555556,
              "#d8576b"
             ],
             [
              0.6666666666666666,
              "#ed7953"
             ],
             [
              0.7777777777777778,
              "#fb9f3a"
             ],
             [
              0.8888888888888888,
              "#fdca26"
             ],
             [
              1,
              "#f0f921"
             ]
            ],
            "type": "histogram2d"
           }
          ],
          "histogram2dcontour": [
           {
            "colorbar": {
             "outlinewidth": 0,
             "ticks": ""
            },
            "colorscale": [
             [
              0,
              "#0d0887"
             ],
             [
              0.1111111111111111,
              "#46039f"
             ],
             [
              0.2222222222222222,
              "#7201a8"
             ],
             [
              0.3333333333333333,
              "#9c179e"
             ],
             [
              0.4444444444444444,
              "#bd3786"
             ],
             [
              0.5555555555555556,
              "#d8576b"
             ],
             [
              0.6666666666666666,
              "#ed7953"
             ],
             [
              0.7777777777777778,
              "#fb9f3a"
             ],
             [
              0.8888888888888888,
              "#fdca26"
             ],
             [
              1,
              "#f0f921"
             ]
            ],
            "type": "histogram2dcontour"
           }
          ],
          "mesh3d": [
           {
            "colorbar": {
             "outlinewidth": 0,
             "ticks": ""
            },
            "type": "mesh3d"
           }
          ],
          "parcoords": [
           {
            "line": {
             "colorbar": {
              "outlinewidth": 0,
              "ticks": ""
             }
            },
            "type": "parcoords"
           }
          ],
          "pie": [
           {
            "automargin": true,
            "type": "pie"
           }
          ],
          "scatter": [
           {
            "fillpattern": {
             "fillmode": "overlay",
             "size": 10,
             "solidity": 0.2
            },
            "type": "scatter"
           }
          ],
          "scatter3d": [
           {
            "line": {
             "colorbar": {
              "outlinewidth": 0,
              "ticks": ""
             }
            },
            "marker": {
             "colorbar": {
              "outlinewidth": 0,
              "ticks": ""
             }
            },
            "type": "scatter3d"
           }
          ],
          "scattercarpet": [
           {
            "marker": {
             "colorbar": {
              "outlinewidth": 0,
              "ticks": ""
             }
            },
            "type": "scattercarpet"
           }
          ],
          "scattergeo": [
           {
            "marker": {
             "colorbar": {
              "outlinewidth": 0,
              "ticks": ""
             }
            },
            "type": "scattergeo"
           }
          ],
          "scattergl": [
           {
            "marker": {
             "colorbar": {
              "outlinewidth": 0,
              "ticks": ""
             }
            },
            "type": "scattergl"
           }
          ],
          "scattermap": [
           {
            "marker": {
             "colorbar": {
              "outlinewidth": 0,
              "ticks": ""
             }
            },
            "type": "scattermap"
           }
          ],
          "scattermapbox": [
           {
            "marker": {
             "colorbar": {
              "outlinewidth": 0,
              "ticks": ""
             }
            },
            "type": "scattermapbox"
           }
          ],
          "scatterpolar": [
           {
            "marker": {
             "colorbar": {
              "outlinewidth": 0,
              "ticks": ""
             }
            },
            "type": "scatterpolar"
           }
          ],
          "scatterpolargl": [
           {
            "marker": {
             "colorbar": {
              "outlinewidth": 0,
              "ticks": ""
             }
            },
            "type": "scatterpolargl"
           }
          ],
          "scatterternary": [
           {
            "marker": {
             "colorbar": {
              "outlinewidth": 0,
              "ticks": ""
             }
            },
            "type": "scatterternary"
           }
          ],
          "surface": [
           {
            "colorbar": {
             "outlinewidth": 0,
             "ticks": ""
            },
            "colorscale": [
             [
              0,
              "#0d0887"
             ],
             [
              0.1111111111111111,
              "#46039f"
             ],
             [
              0.2222222222222222,
              "#7201a8"
             ],
             [
              0.3333333333333333,
              "#9c179e"
             ],
             [
              0.4444444444444444,
              "#bd3786"
             ],
             [
              0.5555555555555556,
              "#d8576b"
             ],
             [
              0.6666666666666666,
              "#ed7953"
             ],
             [
              0.7777777777777778,
              "#fb9f3a"
             ],
             [
              0.8888888888888888,
              "#fdca26"
             ],
             [
              1,
              "#f0f921"
             ]
            ],
            "type": "surface"
           }
          ],
          "table": [
           {
            "cells": {
             "fill": {
              "color": "#EBF0F8"
             },
             "line": {
              "color": "white"
             }
            },
            "header": {
             "fill": {
              "color": "#C8D4E3"
             },
             "line": {
              "color": "white"
             }
            },
            "type": "table"
           }
          ]
         },
         "layout": {
          "annotationdefaults": {
           "arrowcolor": "#2a3f5f",
           "arrowhead": 0,
           "arrowwidth": 1
          },
          "autotypenumbers": "strict",
          "coloraxis": {
           "colorbar": {
            "outlinewidth": 0,
            "ticks": ""
           }
          },
          "colorscale": {
           "diverging": [
            [
             0,
             "#8e0152"
            ],
            [
             0.1,
             "#c51b7d"
            ],
            [
             0.2,
             "#de77ae"
            ],
            [
             0.3,
             "#f1b6da"
            ],
            [
             0.4,
             "#fde0ef"
            ],
            [
             0.5,
             "#f7f7f7"
            ],
            [
             0.6,
             "#e6f5d0"
            ],
            [
             0.7,
             "#b8e186"
            ],
            [
             0.8,
             "#7fbc41"
            ],
            [
             0.9,
             "#4d9221"
            ],
            [
             1,
             "#276419"
            ]
           ],
           "sequential": [
            [
             0,
             "#0d0887"
            ],
            [
             0.1111111111111111,
             "#46039f"
            ],
            [
             0.2222222222222222,
             "#7201a8"
            ],
            [
             0.3333333333333333,
             "#9c179e"
            ],
            [
             0.4444444444444444,
             "#bd3786"
            ],
            [
             0.5555555555555556,
             "#d8576b"
            ],
            [
             0.6666666666666666,
             "#ed7953"
            ],
            [
             0.7777777777777778,
             "#fb9f3a"
            ],
            [
             0.8888888888888888,
             "#fdca26"
            ],
            [
             1,
             "#f0f921"
            ]
           ],
           "sequentialminus": [
            [
             0,
             "#0d0887"
            ],
            [
             0.1111111111111111,
             "#46039f"
            ],
            [
             0.2222222222222222,
             "#7201a8"
            ],
            [
             0.3333333333333333,
             "#9c179e"
            ],
            [
             0.4444444444444444,
             "#bd3786"
            ],
            [
             0.5555555555555556,
             "#d8576b"
            ],
            [
             0.6666666666666666,
             "#ed7953"
            ],
            [
             0.7777777777777778,
             "#fb9f3a"
            ],
            [
             0.8888888888888888,
             "#fdca26"
            ],
            [
             1,
             "#f0f921"
            ]
           ]
          },
          "colorway": [
           "#636efa",
           "#EF553B",
           "#00cc96",
           "#ab63fa",
           "#FFA15A",
           "#19d3f3",
           "#FF6692",
           "#B6E880",
           "#FF97FF",
           "#FECB52"
          ],
          "font": {
           "color": "#2a3f5f"
          },
          "geo": {
           "bgcolor": "white",
           "lakecolor": "white",
           "landcolor": "#E5ECF6",
           "showlakes": true,
           "showland": true,
           "subunitcolor": "white"
          },
          "hoverlabel": {
           "align": "left"
          },
          "hovermode": "closest",
          "mapbox": {
           "style": "light"
          },
          "paper_bgcolor": "white",
          "plot_bgcolor": "#E5ECF6",
          "polar": {
           "angularaxis": {
            "gridcolor": "white",
            "linecolor": "white",
            "ticks": ""
           },
           "bgcolor": "#E5ECF6",
           "radialaxis": {
            "gridcolor": "white",
            "linecolor": "white",
            "ticks": ""
           }
          },
          "scene": {
           "xaxis": {
            "backgroundcolor": "#E5ECF6",
            "gridcolor": "white",
            "gridwidth": 2,
            "linecolor": "white",
            "showbackground": true,
            "ticks": "",
            "zerolinecolor": "white"
           },
           "yaxis": {
            "backgroundcolor": "#E5ECF6",
            "gridcolor": "white",
            "gridwidth": 2,
            "linecolor": "white",
            "showbackground": true,
            "ticks": "",
            "zerolinecolor": "white"
           },
           "zaxis": {
            "backgroundcolor": "#E5ECF6",
            "gridcolor": "white",
            "gridwidth": 2,
            "linecolor": "white",
            "showbackground": true,
            "ticks": "",
            "zerolinecolor": "white"
           }
          },
          "shapedefaults": {
           "line": {
            "color": "#2a3f5f"
           }
          },
          "ternary": {
           "aaxis": {
            "gridcolor": "white",
            "linecolor": "white",
            "ticks": ""
           },
           "baxis": {
            "gridcolor": "white",
            "linecolor": "white",
            "ticks": ""
           },
           "bgcolor": "#E5ECF6",
           "caxis": {
            "gridcolor": "white",
            "linecolor": "white",
            "ticks": ""
           }
          },
          "title": {
           "x": 0.05
          },
          "xaxis": {
           "automargin": true,
           "gridcolor": "white",
           "linecolor": "white",
           "ticks": "",
           "title": {
            "standoff": 15
           },
           "zerolinecolor": "white",
           "zerolinewidth": 2
          },
          "yaxis": {
           "automargin": true,
           "gridcolor": "white",
           "linecolor": "white",
           "ticks": "",
           "title": {
            "standoff": 15
           },
           "zerolinecolor": "white",
           "zerolinewidth": 2
          }
         }
        },
        "title": {
         "text": "Candlestick Chart with Buy and Sell Signal Changes"
        },
        "xaxis": {
         "rangeslider": {
          "visible": false
         },
         "showgrid": false,
         "title": {
          "text": "Date"
         }
        },
        "yaxis": {
         "showgrid": false,
         "title": {
          "text": "Price"
         }
        }
       }
      }
     },
     "metadata": {},
     "output_type": "display_data"
    }
   ],
   "source": [
    "import plotly.graph_objects as go\n",
    "import pandas as pd\n",
    "\n",
    "# Assuming merged_data is your DataFrame\n",
    "# Ensure the required columns exist in merged_data\n",
    "# Columns: 'Open', 'High', 'Low', 'Close', 'target'\n",
    "\n",
    "# Identify signal changes\n",
    "merged_data['signal_change'] = merged_data['target'].diff().fillna(0)  # Detect changes in the target column\n",
    "\n",
    "# Filter rows where signal changes occur\n",
    "signal_changes = merged_data[merged_data['signal_change'] != 0]\n",
    "\n",
    "# Separate buy and sell signals\n",
    "buy_signals = signal_changes[signal_changes['target'] == 1]  # Buy signals (target changes to 1)\n",
    "sell_signals = signal_changes[signal_changes['target'] == 0]  # Sell signals (target changes to 0)\n",
    "\n",
    "# Create the candlestick chart\n",
    "fig = go.Figure(data=[go.Candlestick(\n",
    "    x=merged_data.index,  # Use the index as the x-axis (Date)\n",
    "    open=merged_data['Open'],  # Opening prices\n",
    "    high=merged_data['High'],  # High prices\n",
    "    low=merged_data['Low'],  # Low prices\n",
    "    close=merged_data['Close'],  # Closing prices\n",
    "    increasing_line_color='lime',  # Bright green for increasing candles\n",
    "    decreasing_line_color='red',  # Bright red for decreasing candles\n",
    "    increasing_fillcolor='lime',  # Fill color for increasing candles\n",
    "    decreasing_fillcolor='red',  # Fill color for decreasing candles\n",
    "    line_width=1.5  # Make the candles thicker\n",
    ")])\n",
    "\n",
    "# Add scatter points for buy signals\n",
    "fig.add_trace(go.Scatter(\n",
    "    x=buy_signals.index,  # Use the index of buy signals\n",
    "    y=buy_signals['High'] + (buy_signals['High'] * 0.02),  # Plot buy signals slightly above the High price\n",
    "    mode='markers',  # Use markers to represent the signals\n",
    "    name='Buy Signal',  # Legend name for buy signals\n",
    "    marker=dict(\n",
    "        size=12,  # Larger marker size\n",
    "        color='lime',  # Bright green for buy signals\n",
    "        symbol='triangle-up'  # Marker shape for buy signals\n",
    "    )\n",
    "))\n",
    "\n",
    "# Add scatter points for sell signals\n",
    "fig.add_trace(go.Scatter(\n",
    "    x=sell_signals.index,  # Use the index of sell signals\n",
    "    y=sell_signals['Low'] - (sell_signals['Low'] * 0.02),  # Plot sell signals slightly below the Low price\n",
    "    mode='markers',  # Use markers to represent the signals\n",
    "    name='Sell Signal',  # Legend name for sell signals\n",
    "    marker=dict(\n",
    "        size=12,  # Larger marker size\n",
    "        color='red',  # Bright red for sell signals\n",
    "        symbol='triangle-down'  # Marker shape for sell signals\n",
    "    )\n",
    "))\n",
    "\n",
    "# Customize the layout for better visuals\n",
    "fig.update_layout(\n",
    "    title='Candlestick Chart with Buy and Sell Signal Changes',\n",
    "    xaxis_title='Date',\n",
    "    yaxis_title='Price',\n",
    "    xaxis_rangeslider_visible=False,  # Hide the range slider (optional)\n",
    "    plot_bgcolor='black',  # Set the background color to black\n",
    "    paper_bgcolor='black',  # Set the outer background color to black\n",
    "    font=dict(color='white'),  # Set font color to white for better contrast\n",
    "    xaxis=dict(showgrid=False),  # Remove gridlines on the x-axis\n",
    "    yaxis=dict(showgrid=False)  # Remove gridlines on the y-axis\n",
    ")\n",
    "\n",
    "# Show the chart\n",
    "fig.show()\n"
   ]
  },
  {
   "cell_type": "code",
   "execution_count": 14,
   "id": "61110551",
   "metadata": {},
   "outputs": [
    {
     "data": {
      "text/plain": [
       "Index(['Date', 'Close', 'High', 'Low', 'Open', 'Volume', 'sentiment_score',\n",
       "       'shifted_direction', 'RSI_14', 'MACD_12_26_9', 'MACDh_12_26_9',\n",
       "       'MACDs_12_26_9', 'ADX_14', 'DMP_14', 'DMN_14', 'EMA_20', 'BBL_20_2.0',\n",
       "       'BBU_20_2.0', 'BBB_20_2.0', 'BBP_20_2.0', 'OBV', 'STOCHk_14_3_3',\n",
       "       'STOCHd_14_3_3'],\n",
       "      dtype='object')"
      ]
     },
     "execution_count": 14,
     "metadata": {},
     "output_type": "execute_result"
    }
   ],
   "source": [
    "df.columns"
   ]
  },
  {
   "cell_type": "code",
   "execution_count": null,
   "id": "ef335721",
   "metadata": {},
   "outputs": [],
   "source": []
  }
 ],
 "metadata": {
  "kernelspec": {
   "display_name": "Python 3",
   "language": "python",
   "name": "python3"
  },
  "language_info": {
   "codemirror_mode": {
    "name": "ipython",
    "version": 3
   },
   "file_extension": ".py",
   "mimetype": "text/x-python",
   "name": "python",
   "nbconvert_exporter": "python",
   "pygments_lexer": "ipython3",
   "version": "3.10.16"
  }
 },
 "nbformat": 4,
 "nbformat_minor": 5
}
